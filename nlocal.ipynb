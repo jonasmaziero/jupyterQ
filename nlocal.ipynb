{
 "cells": [
  {
   "cell_type": "code",
   "execution_count": 9,
   "metadata": {},
   "outputs": [],
   "source": [
    "import platform\n",
    "if platform.system() == 'Linux':\n",
    "    %run '/home/jonasmaziero/Dropbox/GitHub/jupyterQ/jupyterQ.ipynb'\n",
    "    %run '/home/jonasmaziero/Dropbox/GitHub/jupyterQ/gellmann.ipynb'\n",
    "else:\n",
    "    %run '/Users/jonasmaziero/Dropbox/GitHub/jupyterQ/jupyterQ.ipynb'\n",
    "    %run '/Users/jonasmaziero/Dropbox/GitHub/jupyterQ/gellmann.ipynb'"
   ]
  },
  {
   "cell_type": "code",
   "execution_count": 10,
   "metadata": {},
   "outputs": [],
   "source": [
    "def chsh(rho):  # arXiv:1510.08030\n",
    "    cm = zeros(3,3)\n",
    "    cm = corr_mat(2,2,rho)\n",
    "    evals = zeros(3,1)\n",
    "    W = zeros(3,1)\n",
    "    W = eVals(3,cm)\n",
    "    return max(0,(sqrt(W[0]**2+W[1]**2+W[2]**2-min(W[0],W[1],W[2])**2)-0.8)/(sqrt(2)-0.8))\n",
    "    #return (2*sqrt(abs(W[1])+abs(W[2]))-2)/(2*sqrt(2)-2)"
   ]
  },
  {
   "cell_type": "code",
   "execution_count": 2,
   "metadata": {},
   "outputs": [],
   "source": [
    "def steer(rho):  # arXiv:1510.08030\n",
    "    cm = zeros(3,3)\n",
    "    cm = corr_mat(2,2,rho)\n",
    "    evals = zeros(3,1)\n",
    "    W = zeros(3,1)\n",
    "    W = eVals(3,cm)\n",
    "    return max(0,(sqrt((W[0]**2)+(W[1]**2)+(W[2]**2))-0.8)/(sqrt(3)-0.8))\n",
    "    #return (2*sqrt(abs(W[0])+abs(W[1])+abs(W[2]))-2)/(2*sqrt(3)-2)"
   ]
  },
  {
   "cell_type": "code",
   "execution_count": null,
   "metadata": {},
   "outputs": [],
   "source": []
  }
 ],
 "metadata": {
  "kernelspec": {
   "display_name": "Python 3",
   "language": "python",
   "name": "python3"
  },
  "language_info": {
   "codemirror_mode": {
    "name": "ipython",
    "version": 3
   },
   "file_extension": ".py",
   "mimetype": "text/x-python",
   "name": "python",
   "nbconvert_exporter": "python",
   "pygments_lexer": "ipython3",
   "version": "3.6.4"
  }
 },
 "nbformat": 4,
 "nbformat_minor": 2
}
