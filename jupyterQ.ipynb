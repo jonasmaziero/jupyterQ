{
 "cells": [
  {
   "cell_type": "code",
   "execution_count": 1,
   "metadata": {},
   "outputs": [],
   "source": [
    "#%run init.ipynb"
   ]
  },
  {
   "cell_type": "markdown",
   "metadata": {},
   "source": [
    "## Trace\n",
    "\\begin{equation}\n",
    "Tr(A) := \\sum_{j}A_{j,j}\n",
    "\\end{equation}"
   ]
  },
  {
   "cell_type": "code",
   "execution_count": 2,
   "metadata": {},
   "outputs": [],
   "source": [
    "def trace(A):\n",
    "    d = A.shape[0]; tr = 0.0\n",
    "    for j in range(0,d):\n",
    "        tr += A[j,j]\n",
    "    return tr"
   ]
  },
  {
   "cell_type": "code",
   "execution_count": 3,
   "metadata": {},
   "outputs": [
    {
     "data": {
      "image/png": "[encoded data removed]",
      "text/latex": [
       "$\\displaystyle 2.0$"
      ],
      "text/plain": [
       "2.00000000000000"
      ]
     },
     "execution_count": 3,
     "metadata": {},
     "output_type": "execute_result"
    }
   ],
   "source": [
    "#trace(pauli(1)**2)"
   ]
  },
  {
   "cell_type": "markdown",
   "metadata": {},
   "source": [
    "### Eigenvalues"
   ]
  },
  {
   "cell_type": "code",
   "execution_count": 4,
   "metadata": {},
   "outputs": [],
   "source": [
    "# Outside this function, initialize: evals = zeros(d,1)\n",
    "def eVals(A):\n",
    "    d = A.shape[0]; evals = zeros(d,1)\n",
    "    eig = A.eigenvects()\n",
    "    ne = 0\n",
    "    j = 0\n",
    "    lk = 0\n",
    "    while ne < d:\n",
    "        mult = eig[j][1]\n",
    "        ne += mult\n",
    "        nk = lk + mult\n",
    "        for k in range(lk,nk):\n",
    "            evals[k] = eig[j][0]\n",
    "        lk = nk\n",
    "        j += 1\n",
    "    return evals"
   ]
  },
  {
   "cell_type": "code",
   "execution_count": 7,
   "metadata": {},
   "outputs": [],
   "source": [
    "#eVals(pauli(1))"
   ]
  },
  {
   "cell_type": "markdown",
   "metadata": {},
   "source": [
    "### Square root of an Hermitian matrix\n",
    "\\begin{equation}\n",
    "\\sqrt{A}=\\sum_{j=1}^{d}\\sqrt{a_{j}}|a_{j}\\rangle\\langle a_{j}|\n",
    "\\end{equation}"
   ]
  },
  {
   "cell_type": "code",
   "execution_count": 8,
   "metadata": {},
   "outputs": [],
   "source": [
    "def mat_sqrt(A):\n",
    "    d = A.shape[0]; eig = A.eigenvects()\n",
    "    Asqrt = zeros(d,d)\n",
    "    ne = 0\n",
    "    j = 0\n",
    "    lk = 0\n",
    "    while ne < d:\n",
    "        mult = eig[j][1]\n",
    "        ne += mult\n",
    "        for k in range(0,mult):\n",
    "            Proj = proj(eig[j][2][k])\n",
    "            Asqrt += sqrt(eig[j][0])*(Proj/trace(Proj))\n",
    "        j += 1\n",
    "    return Asqrt"
   ]
  },
  {
   "cell_type": "code",
   "execution_count": 9,
   "metadata": {},
   "outputs": [
    {
     "data": {
      "image/png": "[encoded data removed]",
      "text/latex": [
       "$\\displaystyle \\left[\\begin{matrix}1.0 & 0\\\\0 & i\\end{matrix}\\right]$"
      ],
      "text/plain": [
       "⎡1.0  0⎤\n",
       "⎢      ⎥\n",
       "⎣ 0   ⅈ⎦"
      ]
     },
     "execution_count": 9,
     "metadata": {},
     "output_type": "execute_result"
    }
   ],
   "source": [
    "#mat_sqrt(pauli(3))"
   ]
  },
  {
   "cell_type": "markdown",
   "metadata": {},
   "source": [
    "### Trace norm\n",
    "\\begin{equation}\n",
    "||A||_{tr} = \\mathrm{Tr}\\sqrt{A^{\\dagger}A} = \\sum_{j}|a_{j}|,\n",
    "\\end{equation}\n",
    "for $A=\\sum_{j}a_{j}|a_{j}\\rangle\\langle a_{j}|$."
   ]
  },
  {
   "cell_type": "code",
   "execution_count": 10,
   "metadata": {},
   "outputs": [],
   "source": [
    "def norm_tr(A):\n",
    "    d = A.shape[0]; eva = eVals(A)\n",
    "    TrNorm = 0\n",
    "    for j in range(0,d):\n",
    "        TrNorm += abs(eva[j])\n",
    "    return TrNorm"
   ]
  },
  {
   "cell_type": "code",
   "execution_count": 12,
   "metadata": {},
   "outputs": [],
   "source": [
    "#norm_tr(pauli(3))"
   ]
  },
  {
   "cell_type": "code",
   "execution_count": null,
   "metadata": {},
   "outputs": [],
   "source": []
  }
 ],
 "metadata": {
  "kernelspec": {
   "display_name": "Python 3",
   "language": "python",
   "name": "python3"
  },
  "language_info": {
   "codemirror_mode": {
    "name": "ipython",
    "version": 3
   },
   "file_extension": ".py",
   "mimetype": "text/x-python",
   "name": "python",
   "nbconvert_exporter": "python",
   "pygments_lexer": "ipython3",
   "version": "3.8.8"
  }
 },
 "nbformat": 4,
 "nbformat_minor": 2
}
