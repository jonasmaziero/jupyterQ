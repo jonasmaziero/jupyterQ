{
 "cells": [
  {
   "cell_type": "code",
   "execution_count": 5,
   "metadata": {},
   "outputs": [],
   "source": [
    "%run init.ipynb"
   ]
  },
  {
   "cell_type": "markdown",
   "metadata": {},
   "source": [
    "## Trace\n",
    "\\begin{equation}\n",
    "Tr(A) := \\sum_{j}A_{j,j}\n",
    "\\end{equation}"
   ]
  },
  {
   "cell_type": "code",
   "execution_count": 6,
   "metadata": {},
   "outputs": [],
   "source": [
    "def trace(A):\n",
    "    d = A.shape[0]; tr = 0.0\n",
    "    for j in range(0,d):\n",
    "        tr += A[j,j]\n",
    "    return tr"
   ]
  },
  {
   "cell_type": "code",
   "execution_count": 8,
   "metadata": {},
   "outputs": [],
   "source": [
    "#trace(pauli(1)**2)"
   ]
  },
  {
   "cell_type": "markdown",
   "metadata": {},
   "source": [
    "### Eigenvalues"
   ]
  },
  {
   "cell_type": "code",
   "execution_count": 18,
   "metadata": {},
   "outputs": [],
   "source": [
    "# Outside this function, initialize: evals = zeros(d,1)\n",
    "def eVals(A):\n",
    "    d = A.shape[0]; evals = zeros(d,1)\n",
    "    eig = A.eigenvects()\n",
    "    ne = 0\n",
    "    j = 0\n",
    "    lk = 0\n",
    "    while ne < d:\n",
    "        mult = eig[j][1]\n",
    "        ne += mult\n",
    "        nk = lk + mult\n",
    "        for k in range(lk,nk):\n",
    "            evals[k] = eig[j][0]\n",
    "        lk = nk\n",
    "        j += 1\n",
    "    return evals"
   ]
  },
  {
   "cell_type": "code",
   "execution_count": 20,
   "metadata": {},
   "outputs": [],
   "source": [
    "#eVals(pauli(1))"
   ]
  },
  {
   "cell_type": "markdown",
   "metadata": {},
   "source": [
    "### Square root of an Hermitian matrix\n",
    "\\begin{equation}\n",
    "\\sqrt{A}=\\sum_{j=1}^{d}\\sqrt{a_{j}}|a_{j}\\rangle\\langle a_{j}|\n",
    "\\end{equation}"
   ]
  },
  {
   "cell_type": "code",
   "execution_count": 11,
   "metadata": {},
   "outputs": [],
   "source": [
    "def mat_sqrt(A):\n",
    "    d = A.shape[0]; eig = A.eigenvects()\n",
    "    Asqrt = zeros(d,d)\n",
    "    ne = 0\n",
    "    j = 0\n",
    "    lk = 0\n",
    "    while ne < d:\n",
    "        mult = eig[j][1]\n",
    "        ne += mult\n",
    "        for k in range(0,mult):\n",
    "            Proj = proj(eig[j][2][k])\n",
    "            Asqrt += sqrt(eig[j][0])*(Proj/trace(Proj))\n",
    "        j += 1\n",
    "    return Asqrt"
   ]
  },
  {
   "cell_type": "code",
   "execution_count": 26,
   "metadata": {},
   "outputs": [],
   "source": [
    "#mat_sqrt(pauli(3))"
   ]
  },
  {
   "cell_type": "markdown",
   "metadata": {},
   "source": [
    "### Trace norm\n",
    "\\begin{equation}\n",
    "||A||_{tr} = \\mathrm{Tr}\\sqrt{A^{\\dagger}A} = \\sum_{j}|a_{j}|,\n",
    "\\end{equation}\n",
    "for $A=\\sum_{j}a_{j}|a_{j}\\rangle\\langle a_{j}|$."
   ]
  },
  {
   "cell_type": "code",
   "execution_count": 21,
   "metadata": {},
   "outputs": [],
   "source": [
    "def norm_tr(A):\n",
    "    d = A.shape[0]; eva = eVals(A)\n",
    "    TrNorm = 0\n",
    "    for j in range(0,d):\n",
    "        TrNorm += abs(eva[j])\n",
    "    return TrNorm"
   ]
  },
  {
   "cell_type": "code",
   "execution_count": 23,
   "metadata": {},
   "outputs": [],
   "source": [
    "#norm_tr(pauli(3))"
   ]
  },
  {
   "cell_type": "code",
   "execution_count": null,
   "metadata": {},
   "outputs": [],
   "source": []
  }
 ],
 "metadata": {
  "kernelspec": {
   "display_name": "Python 3",
   "language": "python",
   "name": "python3"
  },
  "language_info": {
   "codemirror_mode": {
    "name": "ipython",
    "version": 3
   },
   "file_extension": ".py",
   "mimetype": "text/x-python",
   "name": "python",
   "nbconvert_exporter": "python",
   "pygments_lexer": "ipython3",
   "version": "3.8.3"
  }
 },
 "nbformat": 4,
 "nbformat_minor": 2
}
