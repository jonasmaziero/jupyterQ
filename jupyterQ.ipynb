{
 "cells": [
  {
   "cell_type": "code",
   "execution_count": 55,
   "metadata": {},
   "outputs": [],
   "source": [
    "import math\n",
    "import numpy as np\n",
    "from matplotlib import pyplot as plt\n",
    "from sympy import *\n",
    "init_printing(use_unicode=True)\n",
    "from ipywidgets import interactive, interact, fixed, interact_manual\n",
    "from sympy.physics.quantum.dagger import Dagger\n",
    "from sympy.physics.quantum import TensorProduct"
   ]
  },
  {
   "cell_type": "markdown",
   "metadata": {},
   "source": [
    "### Pauli basis\n",
    "\\begin{equation}\n",
    "\\sigma_{0} = \\begin{bmatrix} 1 & 0 \\\\ 0 & 1 \\end{bmatrix}\\text{, }\n",
    "\\sigma_{1} = \\begin{bmatrix} 0 & 1 \\\\ 1 & 0 \\end{bmatrix}\\text{, }\n",
    "\\sigma_{2} = \\begin{bmatrix} 0 & -i \\\\ i & 0 \\end{bmatrix}\\text{, }\n",
    "\\sigma_{3} = \\begin{bmatrix} 1 & 0 \\\\ 0 & -1 \\end{bmatrix}.\n",
    "\\end{equation}"
   ]
  },
  {
   "cell_type": "code",
   "execution_count": 2,
   "metadata": {},
   "outputs": [],
   "source": [
    "def pauli(j):\n",
    "    if j == 0:\n",
    "        return Matrix([[1,0],[0,1]])\n",
    "    elif j == 1:\n",
    "        return Matrix([[0,1],[1,0]])\n",
    "    elif j == 2:\n",
    "        return Matrix([[0,-1j],[1j,0]])\n",
    "    elif j == 3:\n",
    "        return Matrix([[1,0],[0,-1]])"
   ]
  },
  {
   "cell_type": "code",
   "execution_count": 23,
   "metadata": {},
   "outputs": [],
   "source": [
    "#pauli(0),pauli(1),pauli(2),pauli(3)"
   ]
  },
  {
   "cell_type": "markdown",
   "metadata": {},
   "source": [
    "## Trace\n",
    "\\begin{equation}\n",
    "Tr(A) := \\sum_{j}A_{j,j}\n",
    "\\end{equation}"
   ]
  },
  {
   "cell_type": "code",
   "execution_count": 17,
   "metadata": {},
   "outputs": [],
   "source": [
    "def trace(d,A):\n",
    "    tr = 0.0\n",
    "    for j in range(0,d):\n",
    "        tr += A[j,j]\n",
    "    return tr"
   ]
  },
  {
   "cell_type": "code",
   "execution_count": 21,
   "metadata": {},
   "outputs": [],
   "source": [
    "#trace(2,pauli(1)**2)"
   ]
  },
  {
   "cell_type": "markdown",
   "metadata": {},
   "source": [
    "### Projector\n",
    "\\begin{equation}\n",
    "P_{\\psi} = |\\psi\\rangle\\langle\\psi|\n",
    "\\end{equation}"
   ]
  },
  {
   "cell_type": "code",
   "execution_count": 6,
   "metadata": {},
   "outputs": [],
   "source": [
    "def proj(psi):\n",
    "    return psi*Dagger(psi)"
   ]
  },
  {
   "cell_type": "markdown",
   "metadata": {},
   "source": [
    "### Tensor product\n",
    "\\begin{equation}\n",
    "x\\otimes y\n",
    "\\end{equation}"
   ]
  },
  {
   "cell_type": "code",
   "execution_count": 7,
   "metadata": {},
   "outputs": [],
   "source": [
    "def tp(x,y):\n",
    "    return TensorProduct(x,y)"
   ]
  },
  {
   "cell_type": "markdown",
   "metadata": {},
   "source": [
    "### Eigenvalues"
   ]
  },
  {
   "cell_type": "code",
   "execution_count": 44,
   "metadata": {},
   "outputs": [],
   "source": [
    "# Outside this function, initialize: evals = zeros(d,1)\n",
    "def eVals(d,A):\n",
    "    evals = zeros(d,1)\n",
    "    eig = A.eigenvects()\n",
    "    ne = 0\n",
    "    j = 0\n",
    "    lk = 0\n",
    "    while ne < d:\n",
    "        mult = eig[j][1]\n",
    "        ne += mult\n",
    "        nk = lk + mult\n",
    "        for k in range(lk,nk):\n",
    "            evals[k] = eig[j][0]\n",
    "        lk = nk\n",
    "        j += 1\n",
    "    return evals"
   ]
  },
  {
   "cell_type": "code",
   "execution_count": 49,
   "metadata": {},
   "outputs": [],
   "source": [
    "#eVals(2,pauli(3))"
   ]
  },
  {
   "cell_type": "markdown",
   "metadata": {},
   "source": [
    "### Square root of an Hermitian matrix\n",
    "\\begin{equation}\n",
    "\\sqrt{A}=\\sum_{j=1}^{d}\\sqrt{a_{j}}|a_{j}\\rangle\\langle a_{j}|\n",
    "\\end{equation}"
   ]
  },
  {
   "cell_type": "code",
   "execution_count": 10,
   "metadata": {},
   "outputs": [],
   "source": [
    "def mat_sqrt(d,A):\n",
    "    eig = A.eigenvects()\n",
    "    Asqrt = zeros(d,d)\n",
    "    ne = 0\n",
    "    j = 0\n",
    "    lk = 0\n",
    "    while ne < d:\n",
    "        mult = eig[j][1]\n",
    "        ne += mult\n",
    "        for k in range(0,mult):\n",
    "            Proj = proj(eig[j][2][k])\n",
    "            Asqrt += sqrt(eig[j][0])*(Proj/trace(d,Proj))\n",
    "        j += 1\n",
    "    return Asqrt"
   ]
  },
  {
   "cell_type": "code",
   "execution_count": 38,
   "metadata": {},
   "outputs": [],
   "source": [
    "#mat_sqrt(2,pauli(1))"
   ]
  },
  {
   "cell_type": "markdown",
   "metadata": {},
   "source": [
    "### Trace norm\n",
    "\\begin{equation}\n",
    "||A||_{tr} = \\mathrm{Tr}\\sqrt{A^{\\dagger}A} = \\sum_{j}|a_{j}|,\n",
    "\\end{equation}\n",
    "for $A=\\sum_{j}a_{j}|a_{j}\\rangle\\langle a_{j}|$."
   ]
  },
  {
   "cell_type": "code",
   "execution_count": 50,
   "metadata": {},
   "outputs": [],
   "source": [
    "def norm_tr(d, A):\n",
    "    eva = eVals(d, A)\n",
    "    TrNorm = 0\n",
    "    for j in range(0,d):\n",
    "        TrNorm += abs(eva[j])\n",
    "    return TrNorm"
   ]
  },
  {
   "cell_type": "code",
   "execution_count": 56,
   "metadata": {},
   "outputs": [],
   "source": [
    "#norm_tr(2,pauli(3))"
   ]
  },
  {
   "cell_type": "code",
   "execution_count": null,
   "metadata": {},
   "outputs": [],
   "source": []
  }
 ],
 "metadata": {
  "kernelspec": {
   "display_name": "Python 3",
   "language": "python",
   "name": "python3"
  },
  "language_info": {
   "codemirror_mode": {
    "name": "ipython",
    "version": 3
   },
   "file_extension": ".py",
   "mimetype": "text/x-python",
   "name": "python",
   "nbconvert_exporter": "python",
   "pygments_lexer": "ipython3",
   "version": "3.6.4"
  }
 },
 "nbformat": 4,
 "nbformat_minor": 2
}
