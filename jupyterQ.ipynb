{
 "cells": [
  {
   "cell_type": "code",
   "execution_count": 1,
   "metadata": {},
   "outputs": [],
   "source": [
    "from sympy import *\n",
    "import numpy as np\n",
    "init_printing(use_unicode=True)\n",
    "from matplotlib import pyplot as plt\n",
    "%matplotlib inline\n",
    "from sympy.physics.quantum.dagger import Dagger\n",
    "from sympy.physics.quantum import TensorProduct\n",
    "nx, ny, nz, th, ph, lbd = symbols('n_{x} n_{y} n_{z} theta phi lambda', real = True)\n",
    "r1, r2, r3 = symbols('r1 r2 r3')\n",
    "a1,a2,a3,b1,b2,b3,c11,c12,c13,c21,c22,c23,c31,c32,c33 = symbols('a1 a2 a3 b1 b2 b3 c11 c12 c13 c21 c22 c23 c31 c32 c33', real = True)\n",
    "w = symbols('w', real = True)\n",
    "p, g = symbols('p \\gamma', real = True)"
   ]
  },
  {
   "cell_type": "markdown",
   "metadata": {},
   "source": [
    "# List of functions\n",
    "* Pauli(j), cb(d, j), proj(psi), tp(x,y)\n",
    "* CU12(U), CU21(U), Rn(nx, ny, nz, th)\n",
    "* U1(lbd), U2(lbd,ph), U3(lbd, ph, th), H(), S(), Sd(), T(), Td(), CNOT12(), CNOT21()\n",
    "* SWAP(), Toffoli(), Fredkin() <br>\n",
    "* rho1qb(r1, r2, r3), rho2qb(a1, a2, a3, b1, b2, b3, c11, c12, c13, c21, c22, c23, c31, c32, c33)\n",
    "* Bell(j,k), Werner(w) <br>\n",
    "* pTraceA(da, db, rho), pTraceB(da, db, rho), pTransposeB(da, db, rho), pTransposeA(da, db, rho)\n",
    "* eVals(d, A), normTr(d, A), negativity(da, db, rho), concurrence(rho), Cl1(rho,d)\n",
    "* Kbf(j, p), BFC(rho, p), Kpf(j, p), PFC(rho, p), Kbpf(j, p), BPFC(rho, p), Kd(j, p), DC(rho, p)\n",
    "* Kad(j, g), ADC(rho, g), Kgad(j, g, p), GADC(rho, g, p), Kpd(j, g), PDC(rho, g)"
   ]
  },
  {
   "cell_type": "markdown",
   "metadata": {},
   "source": [
    "# Bases for matrix and vector spaces"
   ]
  },
  {
   "cell_type": "markdown",
   "metadata": {},
   "source": [
    "## Pauli matrices\n",
    "\\begin{equation}\n",
    "\\sigma_{0} = \\begin{bmatrix} 1 & 0 \\\\ 0 & 1 \\end{bmatrix}\\text{, }\n",
    "\\sigma_{1} = \\begin{bmatrix} 0 & 1 \\\\ 1 & 0 \\end{bmatrix}\\text{, }\n",
    "\\sigma_{2} = \\begin{bmatrix} 0 & -i \\\\ i & 0 \\end{bmatrix}\\text{, }\n",
    "\\sigma_{3} = \\begin{bmatrix} 1 & 0 \\\\ 0 & -1 \\end{bmatrix}.\n",
    "\\end{equation}"
   ]
  },
  {
   "cell_type": "code",
   "execution_count": 13,
   "metadata": {},
   "outputs": [],
   "source": [
    "def Pauli(j):\n",
    "    if j == 0:\n",
    "        return Matrix([[1,0],[0,1]])\n",
    "    elif j == 1:\n",
    "        return Matrix([[0,1],[1,0]])\n",
    "    elif j == 2:\n",
    "        return Matrix([[0,-1j],[1j,0]])\n",
    "    elif j == 3:\n",
    "        return Matrix([[1,0],[0,-1]])"
   ]
  },
  {
   "cell_type": "markdown",
   "metadata": {},
   "source": [
    "## Computational-base states"
   ]
  },
  {
   "cell_type": "code",
   "execution_count": null,
   "metadata": {},
   "outputs": [],
   "source": [
    "def cb(d, j):\n",
    "    cbs = zeros(d,1); cbs[j] = 1\n",
    "    return cbs"
   ]
  },
  {
   "cell_type": "markdown",
   "metadata": {},
   "source": [
    "## Projector\n",
    "\\begin{equation}\n",
    "P_{\\psi} = |\\psi\\rangle\\langle\\psi|\n",
    "\\end{equation}"
   ]
  },
  {
   "cell_type": "code",
   "execution_count": null,
   "metadata": {},
   "outputs": [],
   "source": [
    "def proj(psi):\n",
    "    return psi*Dagger(psi)"
   ]
  },
  {
   "cell_type": "markdown",
   "metadata": {},
   "source": [
    "## Tensor product\n",
    "\\begin{equation}\n",
    "x\\otimes y\n",
    "\\end{equation}"
   ]
  },
  {
   "cell_type": "code",
   "execution_count": 20,
   "metadata": {},
   "outputs": [],
   "source": [
    "def tp(x,y):\n",
    "    return TensorProduct(x,y)"
   ]
  },
  {
   "cell_type": "markdown",
   "metadata": {},
   "source": [
    "# Unitaries and other transformations"
   ]
  },
  {
   "cell_type": "markdown",
   "metadata": {},
   "source": [
    "## Controlled unitary\n",
    "\\begin{align}\n",
    "& CU_{1\\rightarrow 2} = |0\\rangle\\langle 0|\\otimes \\sigma_{0} + |1\\rangle\\langle 1|\\otimes U \\\\\n",
    "& CU_{2\\rightarrow 1} = \\sigma_{0}\\otimes|0\\rangle\\langle 0| + U\\otimes|1\\rangle\\langle 1|\n",
    "\\end{align}"
   ]
  },
  {
   "cell_type": "code",
   "execution_count": null,
   "metadata": {},
   "outputs": [],
   "source": [
    "def CU12(U):\n",
    "    return tp(proj(cb(2,0)),Pauli(0)) + tp(proj(cb(2,1)),U)\n",
    "def CU21(U):\n",
    "    return tp(Pauli(0),proj(cb(2,0))) + tp(U,proj(cb(2,1)))"
   ]
  },
  {
   "cell_type": "markdown",
   "metadata": {},
   "source": [
    "## One-qubit rotations\n",
    "\\begin{equation}\n",
    "R_{n}(\\theta) = e^{-i\\theta\\hat{n}\\cdot\\vec{\\sigma}/2} = \\cos\\frac{\\theta}{2}\\sigma_{0} -i\\sin\\frac{\\theta}{2}\\hat{n}\\cdot\\vec{\\sigma}.\n",
    "\\end{equation}"
   ]
  },
  {
   "cell_type": "code",
   "execution_count": null,
   "metadata": {},
   "outputs": [],
   "source": [
    "def Rn(nx, ny, nz, th):\n",
    "    return cos(th/2)*Pauli(0) - 1j*sin(th/2)*(nx*Pauli(1) + ny*Pauli(2) + nz*Pauli(3))"
   ]
  },
  {
   "cell_type": "markdown",
   "metadata": {},
   "source": [
    "## IBM quantum gates"
   ]
  },
  {
   "cell_type": "markdown",
   "metadata": {},
   "source": [
    "\\begin{equation}\n",
    "U_{1}(\\lambda) = \\begin{bmatrix} 1 & 0 \\\\ 0 & e^{i\\lambda} \\end{bmatrix}\n",
    "\\end{equation}"
   ]
  },
  {
   "cell_type": "code",
   "execution_count": null,
   "metadata": {},
   "outputs": [],
   "source": [
    "def U1(lbd):\n",
    "    return Matrix([[1,0],[0,exp(1j*lbd)]])"
   ]
  },
  {
   "cell_type": "markdown",
   "metadata": {},
   "source": [
    "\\begin{equation}\n",
    "U_{2}(\\lambda,\\phi) = \\begin{bmatrix} 1 & -e^{i\\lambda} \\\\ e^{i\\phi} & e^{i(\\lambda+\\phi)} \\end{bmatrix}\n",
    "\\end{equation}"
   ]
  },
  {
   "cell_type": "code",
   "execution_count": null,
   "metadata": {},
   "outputs": [],
   "source": [
    "def U2(lbd,ph):\n",
    "    return (1/sqrt(2))*Matrix([[1,-exp(1j*lbd)],[exp(1j*ph),exp(1j*(lbd+ph))]])                                                              "
   ]
  },
  {
   "cell_type": "markdown",
   "metadata": {},
   "source": [
    "\\begin{equation}\n",
    "U_{3}(\\lambda,\\phi,\\theta) = \\begin{bmatrix} \\cos(\\theta/2) & -e^{i\\lambda}\\sin(\\theta/2) \\\\ e^{i\\phi}\\sin(\\theta/2) & e^{i(\\lambda+\\phi)}\\cos(\\theta/2) \\end{bmatrix}\n",
    "\\end{equation}"
   ]
  },
  {
   "cell_type": "code",
   "execution_count": null,
   "metadata": {},
   "outputs": [],
   "source": [
    "def U3(lbd, ph, th):\n",
    "    return Matrix([[cos(th/2),-exp(1j*lbd)*sin(th/2)],[exp(1j*ph)*sin(th/2),exp(1j*(lbd+ph))*cos(th/2)]])"
   ]
  },
  {
   "cell_type": "markdown",
   "metadata": {},
   "source": [
    "\\begin{equation}\n",
    "H = \\frac{1}{\\sqrt{2}}\\begin{bmatrix} 1 & 1 \\\\ 1 & -1 \\end{bmatrix}\n",
    "\\end{equation}"
   ]
  },
  {
   "cell_type": "code",
   "execution_count": null,
   "metadata": {},
   "outputs": [],
   "source": [
    "def H():\n",
    "    return (1/sqrt(2))*Matrix([[1,1],[1,-1]])"
   ]
  },
  {
   "cell_type": "markdown",
   "metadata": {},
   "source": [
    "\\begin{equation}\n",
    "S = \\begin{bmatrix} 1 & 0 \\\\ 0 & i \\end{bmatrix}\\text{, } S^{\\dagger} = \\begin{bmatrix} 1 & 0 \\\\ 0 & -i \\end{bmatrix}\n",
    "\\end{equation}"
   ]
  },
  {
   "cell_type": "code",
   "execution_count": null,
   "metadata": {},
   "outputs": [],
   "source": [
    "def S():\n",
    "    return Matrix([[1,0],[0,1j]])\n",
    "def Sd():\n",
    "    return Matrix([[1,0],[0,-1j]])"
   ]
  },
  {
   "cell_type": "markdown",
   "metadata": {},
   "source": [
    "\\begin{equation}\n",
    "T = \\begin{bmatrix} 1 & 0 \\\\ 0 & (1+i)/\\sqrt{2} \\end{bmatrix}\\text{, } T^{\\dagger} = \\begin{bmatrix} 1 & 0 \\\\ 0 & (1-i)/\\sqrt{2} \\end{bmatrix}\n",
    "\\end{equation}"
   ]
  },
  {
   "cell_type": "code",
   "execution_count": null,
   "metadata": {},
   "outputs": [],
   "source": [
    "def T():\n",
    "    return Matrix([[1,0],[0,(1+1j)/sqrt(2)]])\n",
    "def Td():\n",
    "    return Matrix([[1,0],[0,(1-1j)/sqrt(2)]])"
   ]
  },
  {
   "cell_type": "markdown",
   "metadata": {},
   "source": [
    "\\begin{align}\n",
    "& CNOT_{1\\rightarrow 2} = |0\\rangle\\langle 0|\\otimes \\sigma_{0} + |1\\rangle\\langle 1|\\otimes \\sigma_{1} \\\\\n",
    "& CNOT_{2\\rightarrow 1} = \\sigma_{0}\\otimes|0\\rangle\\langle 0| + \\sigma_{1}\\otimes|1\\rangle\\langle 1|\n",
    "\\end{align}"
   ]
  },
  {
   "cell_type": "code",
   "execution_count": null,
   "metadata": {},
   "outputs": [],
   "source": [
    "def CNOT12():\n",
    "    return tp(proj(cb(2,0)),Pauli(0)) + tp(proj(cb(2,1)),Pauli(1))\n",
    "def CNOT21():\n",
    "    return tp(Pauli(0),proj(cb(2,0))) + tp(Pauli(1),proj(cb(2,1)))"
   ]
  },
  {
   "cell_type": "markdown",
   "metadata": {},
   "source": [
    "### SWAP\n",
    "\\begin{equation}\n",
    "SWAP = CNOT_{1\\rightarrow 2}CNOT_{2\\rightarrow 1}CNOT_{1\\rightarrow 2} = CNOT_{2\\rightarrow 1}CNOT_{1\\rightarrow 2}CNOT_{2\\rightarrow 1}\n",
    "\\end{equation}"
   ]
  },
  {
   "cell_type": "code",
   "execution_count": null,
   "metadata": {},
   "outputs": [],
   "source": [
    "def SWAP():\n",
    "    return CNOT12()*CNOT21()*CNOT12()"
   ]
  },
  {
   "cell_type": "markdown",
   "metadata": {},
   "source": [
    "### Toffolli\n",
    "\\begin{equation}\n",
    "Toffoli = |0\\rangle\\langle 0|\\otimes|0\\rangle\\langle 0|\\otimes\\sigma_{0} + |0\\rangle\\langle 0|\\otimes|1\\rangle\\langle 1|\\otimes\\sigma_{0} + |1\\rangle\\langle 1|\\otimes|0\\rangle\\langle 0|\\otimes\\sigma_{0} + |1\\rangle\\langle 1|\\otimes|1\\rangle\\langle 1|\\otimes\\sigma_{1}\n",
    "\\end{equation}"
   ]
  },
  {
   "cell_type": "code",
   "execution_count": null,
   "metadata": {},
   "outputs": [],
   "source": [
    "def Toffoli():\n",
    "    return tp(tp(proj(cb(2,0)),proj(cb(2,0))),Pauli(0)) + tp(tp(proj(cb(2,0)),proj(cb(2,1))),Pauli(0)) \\\n",
    "           + tp(tp(proj(cb(2,1)),proj(cb(2,0))),Pauli(0)) + tp(tp(proj(cb(2,1)),proj(cb(2,1))),Pauli(1))"
   ]
  },
  {
   "cell_type": "markdown",
   "metadata": {},
   "source": [
    "### Fredkin\n",
    "\\begin{equation}\n",
    "Fredkin = |0\\rangle\\langle 0|\\otimes\\sigma_{0}\\otimes\\sigma_{0} + |1\\rangle\\langle 1|\\otimes SWAP\n",
    "\\end{equation}"
   ]
  },
  {
   "cell_type": "code",
   "execution_count": null,
   "metadata": {},
   "outputs": [],
   "source": [
    "def Fredkin():\n",
    "    return tp(tp(proj(cb(2,0)),Pauli(0)),Pauli(0)) + tp(proj(cb(2,1)),SWAP())"
   ]
  },
  {
   "cell_type": "markdown",
   "metadata": {},
   "source": [
    "# States"
   ]
  },
  {
   "cell_type": "markdown",
   "metadata": {},
   "source": [
    "## One-qubit states\n",
    "\\begin{equation}\n",
    "\\rho_{qb} = \\frac{1}{2}\\left(\\sigma_{0}+\\sum_{j=1}r_{j}\\sigma_{j}\\right)\n",
    "= \n",
    "\\frac{1}{2}\n",
    "\\begin{bmatrix}\n",
    "1+r_{3} & r_{1}-ir_{2} \\\\\n",
    "r_{1}+ir_{2} & 1-r_{3}\n",
    "\\end{bmatrix}.\n",
    "\\end{equation}"
   ]
  },
  {
   "cell_type": "code",
   "execution_count": 28,
   "metadata": {},
   "outputs": [],
   "source": [
    "def rho1qb(r1, r2, r3):\n",
    "    return (1/2)*Pauli(0) + (r1/2)*Pauli(1) + (r2/2)*Pauli(2) + (r3/2)*Pauli(3)"
   ]
  },
  {
   "cell_type": "markdown",
   "metadata": {},
   "source": [
    "## Two-qubit states\n",
    "\\begin{align}\n",
    "\\rho & = \\frac{1}{4}\\left(\\sigma_{0}\\otimes\\sigma_{0} + \\sigma_{0}\\otimes\\sum_{k=1}^{3}b_{k}\\sigma_{k} + \\sum_{j=1}^{3}a_{j}\\sigma_{j}\\otimes\\sigma_{0} + \\sum_{j,k=1}^{3}c_{jk}\\sigma_{j}\\otimes\\sigma_{k}\\right) \\\\\n",
    "& = \\frac{1}{4}\n",
    "\\begin{bmatrix}\n",
    "1+a_{3}+b_{3}+c_{33} & b_{1}-ib_{2}+c_{31}-ic_{32} & a_{1}-ia_{2}+c_{13}-ic_{23} & c_{11}-c_{22}-i(c_{12}+c_{21}) \\\\\n",
    "b_{1}+ib_{2}+c_{31}+ic_{32} & 1+a_{3}-b_{3}-c_{33} & c_{11}+c_{22}+i(c_{12}-c_{21}) & a_{1}-ia_{2}-c_{13}+ic_{23} \\\\\n",
    "a_{1}+ia_{2}+c_{13}+ic_{23} & c_{11}+c_{22}-i(c_{12}-c_{21}) & 1-a_{3}+b_{3}-c_{33} & b_{1}-ib_{2}-c_{31}+ic_{32} \\\\\n",
    "c_{11}-c_{22}+i(c_{12}+c_{21}) & a_{1}+ia_{2}-c_{13}-ic_{23} & b_{1}+ib_{2}-c_{31}-ic_{32} & 1-a_{3}-b_{3}+c_{33}\n",
    "\\end{bmatrix}.\n",
    "\\end{align}"
   ]
  },
  {
   "cell_type": "code",
   "execution_count": null,
   "metadata": {},
   "outputs": [],
   "source": [
    "def rho2qb(a1, a2, a3, b1, b2, b3, c11, c12, c13, c21, c22, c23, c31, c32, c33):\n",
    "    return (1/4)*(tp(Pauli(0),Pauli(0)) + b1*tp(Pauli(0),Pauli(1)) + b2*tp(Pauli(0),Pauli(2)) + b3*tp(Pauli(0),Pauli(3))\n",
    "           + a1*tp(Pauli(1),Pauli(0)) + c11*tp(Pauli(1),Pauli(1)) + c12*tp(Pauli(1),Pauli(2)) + c13*tp(Pauli(1),Pauli(3))\n",
    "           + a2*tp(Pauli(2),Pauli(0)) + c21*tp(Pauli(2),Pauli(1)) + c22*tp(Pauli(2),Pauli(2)) + c23*tp(Pauli(2),Pauli(3))\n",
    "           + a3*tp(Pauli(3),Pauli(0)) + c31*tp(Pauli(3),Pauli(1)) + c32*tp(Pauli(3),Pauli(2)) + c33*tp(Pauli(3),Pauli(3)))"
   ]
  },
  {
   "cell_type": "markdown",
   "metadata": {},
   "source": [
    "## Bell basis\n",
    "\\begin{align}\n",
    "|\\Phi_{+}\\rangle & = |B_{00}\\rangle = (|00\\rangle+|11\\rangle)/\\sqrt{2}, \\\\\n",
    "|\\Psi_{+}\\rangle & = |B_{01}\\rangle = (|01\\rangle+|10\\rangle)/\\sqrt{2}, \\\\\n",
    "|\\Phi_{-}\\rangle & = |B_{10}\\rangle = (|00\\rangle-|11\\rangle)/\\sqrt{2}, \\\\\n",
    "|\\Psi_{-}\\rangle & = |B_{11}\\rangle = (|01\\rangle-|10\\rangle)/\\sqrt{2}.\n",
    "\\end{align}"
   ]
  },
  {
   "cell_type": "code",
   "execution_count": 7,
   "metadata": {},
   "outputs": [],
   "source": [
    "def Bell(j,k):\n",
    "    if j == 0 and k == 0:\n",
    "        return Matrix([[1/sqrt(2)],[0],[0],[1/sqrt(2)]]) # phi+\n",
    "    elif j == 0 and k == 1:\n",
    "        return Matrix([[0],[1/sqrt(2)],[1/sqrt(2)],[0]]) # psi+\n",
    "    elif j == 1 and k == 0:\n",
    "        return Matrix([[1/sqrt(2)],[0],[0],[-1/sqrt(2)]]) # phi-\n",
    "    elif j == 1 and k == 1:\n",
    "        return Matrix([[0],[1/sqrt(2)],[-1/sqrt(2)],[0]]) # psi-"
   ]
  },
  {
   "cell_type": "markdown",
   "metadata": {},
   "source": [
    "## Werner state\n",
    "\\begin{equation}\n",
    "\\rho_{w} = (1-w)\\frac{\\mathbb{I}_{4}}{4} + w|\\Psi_{-}\\rangle\\langle\\Psi_{-}|\n",
    "\\end{equation}"
   ]
  },
  {
   "cell_type": "code",
   "execution_count": null,
   "metadata": {},
   "outputs": [],
   "source": [
    "def Werner(w):\n",
    "    return ((1-w)/4)*eye(4) + w*proj(Bell(1,1))"
   ]
  },
  {
   "cell_type": "markdown",
   "metadata": {},
   "source": [
    "# Frequently used functions"
   ]
  },
  {
   "cell_type": "markdown",
   "metadata": {},
   "source": [
    "## Partial trace\n",
    "\\begin{align}\n",
    "\\rho_{b}[j,k] & = \\sum_{l=0}^{d_{a}-1}\\rho[ld_{b}+j,ld_{b}+k], \\\\\n",
    "\\rho_{a}[j,k] & = \\sum_{l=0}^{d_{b}-1}\\rho[jd_{b}+l,k d_{b}+l].\n",
    "\\end{align}"
   ]
  },
  {
   "cell_type": "code",
   "execution_count": null,
   "metadata": {},
   "outputs": [],
   "source": [
    "# Outside these functions, initialize: rhos = zeros(ds,ds), s=A,B\n",
    "def pTraceA(da, db, rho):\n",
    "    for j in range(0, db):\n",
    "        for k in range(0, db):\n",
    "            for l in range(0, da):\n",
    "                rhoB[j,k] += rho[l*db+j,l*db+k]\n",
    "    return rhoB\n",
    "def pTraceB(da, db, rho):\n",
    "    for j in range(0, da):\n",
    "        for k in range(0, da):\n",
    "            for l in range(0, db):\n",
    "                rhoA[j,k] += rho[j*db+l,k*db+l]\n",
    "    return rhoA"
   ]
  },
  {
   "cell_type": "markdown",
   "metadata": {},
   "source": [
    "## Partial transpose\n",
    "\\begin{align}\n",
    "\\langle j_{a}j_{b}|T_{a}(\\rho)|k_{a}k_{b}\\rangle & = \\langle k_{a}j_{b}|\\rho|j_{a}k_{b}\\rangle, \\\\\n",
    "\\langle j_{a}j_{b}|T_{b}(\\rho)|k_{a}k_{b}\\rangle & = \\langle j_{a}k_{b}|\\rho|k_{a}j_{b}\\rangle,\n",
    "\\end{align}\n",
    "and $|j\\otimes k\\rangle = |jd_{b}+k\\rangle$."
   ]
  },
  {
   "cell_type": "code",
   "execution_count": null,
   "metadata": {},
   "outputs": [],
   "source": [
    "# Outside these functions, initialize: rhoTs = zeros(da,db)\n",
    "def pTransposeB(da, db, rho):\n",
    "    for ja in range(0,da):\n",
    "        for ka in range(0,da):\n",
    "            for jb in range(0,db):\n",
    "                for kb in range(0,db):\n",
    "                    rhoTb[ja*db+kb,ka*db+jb] = rho[ja*db+jb,ka*db+kb]\n",
    "    return rhoTb\n",
    "def pTransposeA(da, db, rho):\n",
    "    for ja in range(0,da):\n",
    "        for ka in range(0,da):\n",
    "            for jb in range(0,db):\n",
    "                for kb in range(0,db):\n",
    "                    rhoTa[ka*db+jb,ja*db+kb] = rho[ja*db+jb,ka*db+kb]\n",
    "    return rhoTa"
   ]
  },
  {
   "cell_type": "markdown",
   "metadata": {},
   "source": [
    "## Eigenvalues"
   ]
  },
  {
   "cell_type": "code",
   "execution_count": null,
   "metadata": {},
   "outputs": [],
   "source": [
    "# Outside this function, initialize: evals = zeros(d,1)\n",
    "def eVals(d, A):\n",
    "    eig = A.eigenvects()\n",
    "    ne = 0;  j = 0;  lk = 0\n",
    "    while ne < d:\n",
    "        mult = eig[j][1];  ne += mult;  nk = lk + mult\n",
    "        for k in range(lk,nk):\n",
    "            evals[k] = eig[j][0]\n",
    "        lk = nk;  j += 1\n",
    "    return evals"
   ]
  },
  {
   "cell_type": "markdown",
   "metadata": {},
   "source": [
    "## Trace norm\n",
    "\\begin{equation}\n",
    "||A||_{tr} = \\mathrm{Tr}\\sqrt{A^{\\dagger}A} = \\sum_{j}|a_{j}|,\n",
    "\\end{equation}\n",
    "for $A=\\sum_{j}a_{j}|a_{j}\\rangle\\langle a_{j}|$."
   ]
  },
  {
   "cell_type": "code",
   "execution_count": null,
   "metadata": {},
   "outputs": [],
   "source": [
    "def normTr(d, A):\n",
    "    eva = eVals(d, A)\n",
    "    TrNorm = 0\n",
    "    for j in range(0,d):\n",
    "        TrNorm += abs(eva[j])\n",
    "    return TrNorm"
   ]
  },
  {
   "cell_type": "markdown",
   "metadata": {},
   "source": [
    "# Entanglement functions"
   ]
  },
  {
   "cell_type": "markdown",
   "metadata": {},
   "source": [
    "## Negativity\n",
    "\\begin{equation}\n",
    "E_{n}(\\rho) = \\frac{||T_{s}(\\rho)||_{tr}-1}{2},\n",
    "\\end{equation}\n",
    "where $T_{s} (s= a,b)$ is the partial tranpose of the state $\\rho$."
   ]
  },
  {
   "cell_type": "code",
   "execution_count": null,
   "metadata": {},
   "outputs": [],
   "source": [
    "# outside this function, initialize: rhoTb = zeros(4,4); evals = zeros(4,1)\n",
    "def negativity(da, db, rho):\n",
    "    d = da*db\n",
    "    rhoTb = pTransposeB(da, db, rho)\n",
    "    En = (normTr(d,rhoTb) - 1)/2\n",
    "    return En"
   ]
  },
  {
   "cell_type": "markdown",
   "metadata": {},
   "source": [
    "## Concurrence\n",
    "\\begin{equation}\n",
    "C(\\rho) = \\max\\left(0,2\\sqrt{\\lambda_{\\max}} - \\sum_{j=0}^{3}\\sqrt{\\lambda_{j}}\\right),\n",
    "\\end{equation}\n",
    "with $\\lambda_{j}$ being the eigenvalues of \n",
    "\\begin{equation}\n",
    "\\rho\\tilde{\\rho} = \\rho\\sigma_{2}\\otimes\\sigma_{2}\\rho^{*}\\sigma_{2}\\otimes\\sigma_{2}\n",
    "\\end{equation}\n",
    "and $\\rho^{*}$ is the complex conjugate of rho when represented in the standard basis."
   ]
  },
  {
   "cell_type": "code",
   "execution_count": null,
   "metadata": {},
   "outputs": [],
   "source": [
    "def concurrence(rho):\n",
    "    R = rho*tp(Pauli(2),Pauli(2))*conjugate(rho)*tp(Pauli(2),Pauli(2))\n",
    "    ev = eVals(4, R)\n",
    "    evm = max(abs(ev[0]), abs(ev[1]), abs(ev[2]), abs(ev[3]))\n",
    "    C = 2.0*sqrt(abs(evm)) - sqrt(abs(ev[0])) - sqrt(abs(ev[1])) - sqrt(abs(ev[2])) - sqrt(abs(ev[3]))\n",
    "    if C < 0.0:\n",
    "        C = 0.0\n",
    "    return C"
   ]
  },
  {
   "cell_type": "markdown",
   "metadata": {},
   "source": [
    "# Coherence functions"
   ]
  },
  {
   "cell_type": "markdown",
   "metadata": {},
   "source": [
    "## $l_{1}$-norm coherence\n",
    "\\begin{equation}\n",
    "C_{l_{1}}(\\rho) = \\sum_{j\\ne k}|\\langle j|\\rho|k\\rangle|\n",
    "\\end{equation}"
   ]
  },
  {
   "cell_type": "code",
   "execution_count": 2,
   "metadata": {},
   "outputs": [],
   "source": [
    "def Cl1(rho, d):\n",
    "    Cl1 = 0\n",
    "    for j in range(0,d-1):\n",
    "        for k in range(j+1,d):\n",
    "            Cl1 += abs(rho[j,k])\n",
    "    return 2*Cl1"
   ]
  },
  {
   "cell_type": "markdown",
   "metadata": {},
   "source": [
    "# Decoherence channels"
   ]
  },
  {
   "cell_type": "markdown",
   "metadata": {},
   "source": [
    "## One-qubit decoherence channels\n",
    "#### Kraus operators and the associated quantum operation"
   ]
  },
  {
   "cell_type": "markdown",
   "metadata": {},
   "source": [
    "### Bit flip channel\n",
    "Kraus operators\n",
    "\\begin{equation} K_{0}^{bf}=\\sqrt{1-p}\\sigma_{0}\\text{, }K_{1}^{bf}=\\sqrt{p}\\sigma_{1}.\\end{equation}\n",
    "Bloch vector\n",
    "\\begin{equation}\\vec{r}_{bf}(p)=\\left(r_{1},r_{2}(1-2p),r_{3}(1-2p)\\right).\\end{equation}"
   ]
  },
  {
   "cell_type": "code",
   "execution_count": null,
   "metadata": {},
   "outputs": [],
   "source": [
    "def Kbf(j, p):\n",
    "    if j == 0:\n",
    "        return sqrt(1-p)*Pauli(0)\n",
    "    elif j == 1:\n",
    "        return sqrt(p)*Pauli(1)\n",
    "def BFC(rho, p):\n",
    "    return Kbf(0, p)*rho*Kbf(0, p) + Kbf(1, p)*rho*Kbf(1, p)"
   ]
  },
  {
   "cell_type": "markdown",
   "metadata": {},
   "source": [
    "### Phase flip channel\n",
    "Kraus operators\n",
    "\\begin{equation} K_{0}^{pf}=\\sqrt{1-p}\\sigma_{0}\\text{, }K_{1}^{pf}=\\sqrt{p}\\sigma_{3}.\\end{equation}\n",
    "Bloch vector\n",
    "\\begin{equation}\\vec{r}_{pf}(p)=\\left(r_{1}(1-2p),r_{2}(1-2p),r_{3}\\right).\\end{equation}"
   ]
  },
  {
   "cell_type": "code",
   "execution_count": null,
   "metadata": {},
   "outputs": [],
   "source": [
    "def Kpf(j, p):\n",
    "    if j == 0:\n",
    "        return sqrt(1-p)*Pauli(0)\n",
    "    elif j == 1:\n",
    "        return sqrt(p)*Pauli(3)\n",
    "def PFC(rho, p):\n",
    "    return Kpf(0, p)*rho*Kpf(0, p) + Kpf(1, p)*rho*Kpf(1, p)"
   ]
  },
  {
   "cell_type": "markdown",
   "metadata": {},
   "source": [
    "### Bit-phase flip channel\n",
    "Kraus operators\n",
    "\\begin{equation} K_{0}^{bpf}=\\sqrt{1-p}\\sigma_{0}\\text{, }K_{1}^{bpf}=\\sqrt{p}\\sigma_{2}.\\end{equation}\n",
    "Bloch vector\n",
    "\\begin{equation}\\vec{r}_{bpf}(p)=\\left(r_{1}(1-2p),r_{2},r_{3}(1-2p)\\right).\\end{equation}"
   ]
  },
  {
   "cell_type": "code",
   "execution_count": null,
   "metadata": {},
   "outputs": [],
   "source": [
    "def Kbpf(j, p):\n",
    "    if j == 0:\n",
    "        return sqrt(1-p)*Pauli(0)\n",
    "    elif j == 1:\n",
    "        return sqrt(p)*Pauli(2)\n",
    "def BPFC(rho, p):\n",
    "    return Kbpf(0, p)*rho*Kbpf(0, p) + Kbpf(1, p)*rho*Kbpf(1, p)"
   ]
  },
  {
   "cell_type": "markdown",
   "metadata": {},
   "source": [
    "### Depolarizing channel\n",
    "Kraus operators\n",
    "\\begin{equation} K_{0}^{d}=\\sqrt{1-3p/4}\\sigma_{0}\\text{, }K_{1}^{d}=\\sqrt{p/4}\\sigma_{1}\\text{, }K_{2}^{d}=\\sqrt{p/4}\\sigma_{2}\\text{, }K_{3}^{d}=\\sqrt{p/4}\\sigma_{3}.\\end{equation}\n",
    "Bloch vector\n",
    "\\begin{equation}\\vec{r}_{d}(p)=\\left(r_{1}(1-p),r_{2}(1-p),r_{3}(1-p)\\right).\\end{equation}"
   ]
  },
  {
   "cell_type": "code",
   "execution_count": null,
   "metadata": {},
   "outputs": [],
   "source": [
    "def Kd(j, p):\n",
    "    if j == 0:\n",
    "        return sqrt(1-3*p/4)*Pauli(0)\n",
    "    elif j == 1:\n",
    "        return sqrt(p/4)*Pauli(1)\n",
    "    elif j == 2:\n",
    "        return sqrt(p/4)*Pauli(2)\n",
    "    elif j == 3:\n",
    "        return sqrt(p/4)*Pauli(3)\n",
    "def DC(rho, p):\n",
    "    return Kd(0, p)*rho*Kd(0, p) + Kd(1, p)*rho*Kd(1, p) + Kd(2, p)*rho*Kd(2, p) + Kd(3, p)*rho*Kd(3, p)"
   ]
  },
  {
   "cell_type": "markdown",
   "metadata": {},
   "source": [
    "### Amplitude damping channel\n",
    "Kraus operators\n",
    "\\begin{equation}K_{0}^{ad} = \\begin{bmatrix} 0 & \\sqrt{\\gamma} \\\\ 0 & 0 \\end{bmatrix}\\text{, } K_{1}^{ad} = \\begin{bmatrix} 1 & 0 \\\\ 0 & \\sqrt{1-\\gamma} \\end{bmatrix}.\\end{equation}\n",
    "Bloch vector\n",
    "\\begin{equation}\\vec{r}_{ad}(\\gamma)=\\left(r_{1}\\sqrt{1-\\gamma},r_{2}\\sqrt{1-\\gamma},r_{3}(1-\\gamma)+\\gamma\\right).\\end{equation}"
   ]
  },
  {
   "cell_type": "code",
   "execution_count": null,
   "metadata": {},
   "outputs": [],
   "source": [
    "def Kad(j, g):\n",
    "    if j == 0:\n",
    "        return Matrix([[0,sqrt(g)],[0,0]])\n",
    "    elif j == 1:\n",
    "        return Matrix([[1,0],[0,sqrt(1-g)]])\n",
    "def ADC(rho, g):\n",
    "    return Kad(0, g)*rho*(Kad(0, g).T) + Kad(1, g)*rho*Kad(1, g)"
   ]
  },
  {
   "cell_type": "markdown",
   "metadata": {},
   "source": [
    "### Generalized amplitude damping channel\n",
    "Kraus operators\n",
    "\\begin{equation}K_{0}^{gad} = \\sqrt{p}\\begin{bmatrix} 0 & \\sqrt{\\gamma} \\\\ 0 & 0 \\end{bmatrix}\\text{, } K_{1}^{gad} = \\sqrt{p}\\begin{bmatrix} 1 & 0 \\\\ 0 & \\sqrt{1-\\gamma} \\end{bmatrix}\\text{, }K_{2}^{gad} = \\sqrt{1-p}\\begin{bmatrix} 0 & 0 \\\\ \\sqrt{\\gamma} & 0 \\end{bmatrix}\\text{, } K_{3}^{gad} = \\sqrt{1-p}\\begin{bmatrix} \\sqrt{1-\\gamma} & 0 \\\\ 0 & 1 \\end{bmatrix}.\\end{equation}\n",
    "Bloch vector\n",
    "\\begin{equation}\\vec{r}_{gad}(\\gamma)=\\left(r_{1}\\sqrt{1-\\gamma},r_{2}\\sqrt{1-\\gamma},r_{3}(1-\\gamma)+\\gamma(2p-1)\\right).\\end{equation}"
   ]
  },
  {
   "cell_type": "code",
   "execution_count": null,
   "metadata": {},
   "outputs": [],
   "source": [
    "def Kgad(j, g, p):\n",
    "    if j == 0:\n",
    "        return sqrt(p)*Matrix([[0,sqrt(g)],[0,0]])\n",
    "    elif j == 1:\n",
    "        return sqrt(p)*Matrix([[1,0],[0,sqrt(1-g)]])\n",
    "    elif j == 2:\n",
    "        return sqrt(1-p)*Matrix([[0,0],[sqrt(g),0]])\n",
    "    elif j == 3:\n",
    "        return sqrt(1-p)*Matrix([[sqrt(1-g),0],[0,1]])\n",
    "def GADC(rho, g, p):\n",
    "    return Kgad(0, g, p)*rho*(Kgad(0, g, p).T) + Kgad(1, g, p)*rho*Kgad(1, g, p) \\\n",
    "           + Kgad(2, g, p)*rho*(Kgad(2, g, p).T) + Kgad(3, g, p)*rho*Kgad(3, g, p)"
   ]
  },
  {
   "cell_type": "markdown",
   "metadata": {},
   "source": [
    "### Phase damping channel\n",
    "Kraus operators\n",
    "\\begin{equation}K_{0}^{pd} = \\sqrt{1-\\gamma}\\sigma_{0}\\text{, } K_{1}^{pd} = \\sqrt{\\gamma}|0\\rangle\\langle 0|\\text{, } K_{2}^{pd} = \\sqrt{\\gamma}|1\\rangle\\langle 1|.\\end{equation}\n",
    "Bloch vector\n",
    "\\begin{equation}\\vec{r}_{pd}(\\gamma)=\\left(r_{1}(1-\\gamma),r_{2}(1-\\gamma),r_{3}\\right).\\end{equation}"
   ]
  },
  {
   "cell_type": "code",
   "execution_count": null,
   "metadata": {},
   "outputs": [],
   "source": [
    "def Kpd(j, g):\n",
    "    if j == 0:\n",
    "        return sqrt(1-g)*Pauli(0)\n",
    "    elif j == 1:\n",
    "        return sqrt(g)*Matrix([[1,0],[0,0]])\n",
    "    elif j == 2:\n",
    "        return sqrt(g)*Matrix([[0,0],[0,1]])\n",
    "def PDC(rho, g):\n",
    "    return Kpd(0, g)*rho*Kpd(0, g) + Kpd(1, g)*rho*Kpd(1, g) + Kpd(2, g)*rho*Kpd(2, g)"
   ]
  },
  {
   "cell_type": "markdown",
   "metadata": {},
   "source": [
    "## Two-qubit decoherence channels"
   ]
  },
  {
   "cell_type": "code",
   "execution_count": null,
   "metadata": {},
   "outputs": [],
   "source": []
  }
 ],
 "metadata": {
  "kernelspec": {
   "display_name": "Python 3",
   "language": "python",
   "name": "python3"
  },
  "language_info": {
   "codemirror_mode": {
    "name": "ipython",
    "version": 3
   },
   "file_extension": ".py",
   "mimetype": "text/x-python",
   "name": "python",
   "nbconvert_exporter": "python",
   "pygments_lexer": "ipython3",
   "version": "3.6.4"
  }
 },
 "nbformat": 4,
 "nbformat_minor": 2
}
