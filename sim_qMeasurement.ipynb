{
 "cells": [
  {
   "cell_type": "code",
   "execution_count": 27,
   "metadata": {},
   "outputs": [],
   "source": [
    "%run init.ipynb"
   ]
  },
  {
   "cell_type": "markdown",
   "metadata": {},
   "source": [
    "# Simulating non-selective von Neuman measurements\n",
    "\n",
    "## Quantum channel-based algorithm\n",
    "Let's consider and observable $O$. If, for a system prepared in the state $\\rho$, we measure $O$ non-selectively, or in a non-revealing form, the post-measurement state is\n",
    "$$\\Phi_{O}(\\rho)=\\sum_{j}|o_{j}\\rangle\\langle o_{j}|\\rho|o_{j}\\rangle\\langle o_{j}|,$$\n",
    "which is quivalent to the quantum operations described above if we set the Kraus' operator to $$E_{j}=|o_{j}\\rangle\\langle o_{j}|.$$ \n",
    "It's worth observing that these Kraus' operators must satisfy the restrictions $E_{j}E_{k}=E_{j}\\delta_{j,k}\\ \\forall j,k$ and $\\sum_{j=0}^{d_{S}}E_{j}=\\mathbb{I}_{S}.$\n",
    "\n",
    "### One qubit systems\n",
    "In what follows, let's consider the measurent of a general observable $\\hat{n}\\cdot\\vec{\\sigma}$ of a qubit. The eigenvectors are\n",
    "\\begin{align}\n",
    "& |o_{0}\\rangle = |n_{+}\\rangle = \\cos(\\theta/2)|0\\rangle + e^{i\\phi}\\sin(\\theta/2)|1\\rangle, \\\\\n",
    "& |o_{1}\\rangle = |n_{-}\\rangle = \\sin(\\theta/2)|0\\rangle - e^{i\\phi}\\cos(\\theta/2)|1\\rangle.\n",
    "\\end{align}\n",
    "The associated projectors are\n",
    "\\begin{align}\n",
    "E_{0} &= |o_{0}\\rangle\\langle o_{0}| = \\big(\\cos(\\theta/2)|0\\rangle + e^{i\\phi}\\sin(\\theta/2)|1\\rangle\\big)\\big(\\cos(\\theta/2)\\langle 0| + e^{-i\\phi}\\sin(\\theta/2)\\langle 1|\\big) \\\\\n",
    "& = \\cos^{2}(\\theta/2)|0\\rangle\\langle 0| + e^{-i\\phi}\\sin(\\theta/2)\\cos(\\theta/2)|0\\rangle\\langle 1| + e^{i\\phi}\\sin(\\theta/2)\\cos(\\theta/2)|1\\rangle\\langle 0| + \\sin^{2}(\\theta/2)|1\\rangle\\langle 1| \\\\\n",
    "& \\doteq \\begin{bmatrix} \\cos^{2}(\\theta/2) & e^{-i\\phi}\\sin(\\theta/2)\\cos(\\theta/2) \\\\ e^{i\\phi}\\sin(\\theta/2)\\cos(\\theta/2) & \\sin^{2}(\\theta/2) \\end{bmatrix}, \\\\\n",
    "E_{1} &= |o_{1}\\rangle\\langle o_{1}| = \\big(\\sin(\\theta/2)|0\\rangle - e^{i\\phi}\\cos(\\theta/2)|1\\rangle\\big)\\big(\\sin(\\theta/2)\\langle 0| - e^{-i\\phi}\\cos(\\theta/2)\\langle 1|\\big) \\\\\n",
    "& = \\sin^{2}(\\theta/2)|0\\rangle\\langle 0| - e^{-i\\phi}\\sin(\\theta/2)\\cos(\\theta/2)|0\\rangle\\langle 1| - e^{i\\phi}\\sin(\\theta/2)\\cos(\\theta/2)|1\\rangle\\langle 0| + \\cos^{2}(\\theta/2)|1\\rangle\\langle 1| \\\\\n",
    "& \\doteq \\begin{bmatrix} \\sin^{2}(\\theta/2) & -e^{-i\\phi}\\sin(\\theta/2)\\cos(\\theta/2) \\\\ -e^{i\\phi}\\sin(\\theta/2)\\cos(\\theta/2) & \\cos^{2}(\\theta/2) \\end{bmatrix}.\n",
    "\\end{align}"
   ]
  },
  {
   "cell_type": "code",
   "execution_count": null,
   "metadata": {},
   "outputs": [],
   "source": [
    "th, ph = symbols('theta phi', real=True) \n",
    "E0 = Matrix([[cos(th/2)**2, (cos(ph)-1j*sin(ph))*sin(th/2)*cos(th/2)], \n",
    "             [(cos(ph)+1j*sin(ph))*sin(th/2)*cos(th/2),sin(th/2)**2]])\n",
    "E0"
   ]
  },
  {
   "cell_type": "code",
   "execution_count": null,
   "metadata": {},
   "outputs": [],
   "source": [
    "# coefficients for E0\n",
    "c0 = trace((id(2)/sqrt(2))*E0); c1 = trace((pauli(1)/sqrt(2))*E0)\n",
    "c2 = trace((pauli(2)/sqrt(2))*E0); c3 = trace((pauli(3)/sqrt(2))*E0)\n",
    "simplify(c0), factor(c1), factor(c2), simplify(c3)"
   ]
  },
  {
   "cell_type": "markdown",
   "metadata": {},
   "source": [
    "So\n",
    "\\begin{align}\n",
    "E_{0} & = \\frac{1}{2}\\sigma_{0} + \\frac{\\sin\\theta\\cos\\phi}{2}\\sigma_{1} + \\frac{\\sin\\theta\\sin\\phi}{2}\\sigma_{2} +  \\frac{\\cos\\theta}{2}\\sigma_{1} \\\\\n",
    "& = W_{0,0}^{A}V_{0,0}^{A}\\sigma_{0} + W_{0,1}^{A}V_{1,0}^{A}\\sigma_{1} + W_{0,2}^{A}V_{2,0}^{A}\\sigma_{2}+ W_{0,3}^{A}V_{3,0}^{A}\\sigma_{3}.\n",
    "\\end{align}"
   ]
  },
  {
   "cell_type": "code",
   "execution_count": null,
   "metadata": {},
   "outputs": [],
   "source": [
    "E1 = Matrix([[sin(th/2)**2, -(cos(ph)-1j*sin(ph))*sin(th/2)*cos(th/2)], \n",
    "             [-(cos(ph)+1j*sin(ph))*sin(th/2)*cos(th/2),cos(th/2)**2]])\n",
    "E1"
   ]
  },
  {
   "cell_type": "code",
   "execution_count": null,
   "metadata": {},
   "outputs": [],
   "source": [
    "# coefficients for E1\n",
    "c0 = trace((id(2)/sqrt(2))*E1); c1 = trace((pauli(1)/sqrt(2))*E1)\n",
    "c2 = trace((pauli(2)/sqrt(2))*E1); c3 = trace((pauli(3)/sqrt(2))*E1)\n",
    "simplify(c0), factor(c1), factor(c2), simplify(c3)"
   ]
  },
  {
   "cell_type": "markdown",
   "metadata": {},
   "source": [
    "So\n",
    "\\begin{align}\n",
    "E_{1} &= \\frac{1}{2}\\sigma_{0} - \\frac{\\sin\\theta\\cos\\phi}{2}\\sigma_{1} - \\frac{\\sin\\theta\\sin\\phi}{2}\\sigma_{2} -  \\frac{\\cos\\theta}{2}\\sigma_{1} \\\\\n",
    "& = W_{1,0}^{A}V_{0,0}^{A}\\sigma_{0} + W_{1,1}^{A}V_{1,0}^{A}\\sigma_{1} + W_{1,2}^{A}V_{2,0}^{A}\\sigma_{2}+ W_{1,3}^{A}V_{3,0}^{A}\\sigma_{3}\n",
    "\\end{align}"
   ]
  },
  {
   "cell_type": "code",
   "execution_count": null,
   "metadata": {},
   "outputs": [],
   "source": [
    "# tests for the properties of the Kraus' operators\n",
    "simplify(E0*E0), simplify(E1*E1), simplify(E0*E1), simplify(E1*E0), simplify(E0+E1) # ok!"
   ]
  },
  {
   "cell_type": "markdown",
   "metadata": {},
   "source": [
    "Solving the system of nonlinear equations with Sympy\n",
    "\\begin{equation}\n",
    "\\begin{cases}\n",
    "|V_{0,0}^{A}|^{2}+|V_{1,0}^{A}|^{2}+|V_{2,0}^{A}|^{2}+|V_{3,0}^{A}|^{2}=1, \\\\\n",
    "|W_{0,0}^{A}|^{2}+|W_{0,1}^{A}|^{2}+|W_{0,2}^{A}|^{2}+|W_{0,3}^{A}|^{2}=1, \\\\\n",
    "|W_{1,0}^{A}|^{2}+|W_{1,1}^{A}|^{2}+|W_{1,2}^{A}|^{2}+|W_{1,3}^{A}|^{2}=1, \\\\\n",
    "(W_{1,0}^{A})^{*}W_{0,0}^{A}+(W_{1,1}^{A})^{*}W_{0,1}^{A}+(W_{1,2}^{A})^{*}W_{0,2}^{A}+(W_{1,3}^{A})^{*}W_{0,3}^{A}=0, \\\\\n",
    "W_{0,0}^{A}V_{0,0}^{A} =\\frac{1}{2}, \\ W_{0,1}^{A}V_{1,0}^{A} = \\frac{\\sin\\theta\\cos\\phi}{2}, \\ W_{0,2}^{A}V_{2,0}^{A} = \\frac{\\sin\\theta\\sin\\phi}{2}, \\ W_{0,3}^{A}V_{3,0}^{A} = \\frac{\\cos\\theta}{2}, \\\\\n",
    "W_{1,0}^{A}V_{0,0}^{A} = \\frac{1}{2}, \\ W_{1,1}^{A}V_{1,0}^{A} = -\\frac{\\sin\\theta\\cos\\phi}{2}, \\ W_{1,2}^{A}V_{2,0}^{A} = -\\frac{\\sin\\theta\\sin\\phi}{2}, \\ W_{1,3}^{A}V_{3,0}^{A} = -\\frac{\\cos\\theta}{2}.\n",
    "\\end{cases}\n",
    "\\end{equation}"
   ]
  },
  {
   "cell_type": "code",
   "execution_count": null,
   "metadata": {},
   "outputs": [],
   "source": [
    "#V00 = 1/sqrt(2); W00 = 1/sqrt(2); W10 = 1/sqrt(2) \n",
    "#nonlinsolve([V00**2+V10**2+V20**2+V30**2-1, W00**2+W01**2+W02**2+W03**2-1, \n",
    "#             W10**2+W11**2+W12**2+W13**2-1, W10*W00+W11*W01+W12*W02+W13*W03,\n",
    "#             W00*V00-1/2, W01*V10-sin(th)*cos(ph)/2, W02*V20-sin(th)*sin(ph)/2, W03*V30-cos(th)/2, \n",
    "#             W10*V00-1/2, W11*V10+sin(th)*cos(ph)/2, W12*V20+sin(th)*sin(ph)/2, W13*V30+cos(th)/2],\n",
    "#            [V00,V10,V20,V30,W00,W01,W02,W03,W10,W11,W12,W13])"
   ]
  },
  {
   "cell_type": "markdown",
   "metadata": {},
   "source": [
    "## Controll-NOT-based algorithm qubits\n",
    "Let's consider two qubits prepared in the state $|\\Psi_{0}\\rangle=|\\psi\\rangle\\otimes|0\\rangle$ and apply a $CNOT=|0\\rangle\\langle 0|\\otimes\\sigma_{0}+|1\\rangle\\langle 1|\\otimes\\sigma_{1}$:\n",
    "\\begin{align}\n",
    "|\\Psi\\rangle &= CNOT|\\Psi_{0}\\rangle = |0\\rangle\\langle 0||\\psi\\rangle\\otimes\\sigma_{0}|0\\rangle + |1\\rangle\\langle 1||\\psi\\rangle\\otimes\\sigma_{1}|0\\rangle \\\\\n",
    "& = \\langle 0|\\psi\\rangle|0\\rangle\\otimes|0\\rangle + \\langle 1|\\psi\\rangle|1\\rangle\\otimes|1\\rangle.\n",
    "\\end{align}\n",
    "Tracing out the 2nd system:\n",
    "\\begin{align}\n",
    "Tr_{p}(\\Psi) &= |\\langle 0|\\psi\\rangle|^{2}|0\\rangle\\langle 0| + |\\langle 1|\\psi\\rangle|^{2}|1\\rangle\\langle 1| \\\\\n",
    "&  = \\langle 0|\\psi\\rangle\\langle\\psi|0\\rangle|0\\rangle\\langle 0| + \\langle 1|\\psi\\rangle\\langle\\psi|1\\rangle|1\\rangle\\langle 1|  = |0\\rangle\\langle 0|\\psi\\rangle\\langle\\psi|0\\rangle\\langle 0| + |1\\rangle\\langle 1|\\psi\\rangle\\langle\\psi|1\\rangle\\langle 1| \\\\\n",
    "&= P_{0}|\\psi\\rangle\\langle\\psi|P_{0} + P_{1}|\\psi\\rangle\\langle\\psi|P_{1} =: \\Pi_{0,1}(\\psi).\n",
    "\\end{align}\n",
    "So, the control-NOT can be used to perform a non-selective measurement in the computational basis.\n",
    "\n",
    "Following, let's consider a general basis\n",
    "\\begin{align}\n",
    "|n_{0}\\rangle = \\cos(\\theta/2)|0\\rangle + e^{i\\phi}\\sin(\\theta/2)|1\\rangle = U|0\\rangle, \\\\\n",
    "|n_{1}\\rangle = -\\sin(\\theta/2)|0\\rangle + e^{i\\phi}\\cos(\\theta/2)|1\\rangle = U|1\\rangle,\n",
    "\\end{align}\n",
    "with\n",
    "\\begin{equation}\n",
    "U_{c\\rightarrow g} = \\begin{bmatrix} \\cos(\\theta/2) & -\\sin(\\theta/2) \\\\ e^{i\\phi}\\sin(\\theta/2) & e^{i\\phi}\\cos(\\theta/2) \\end{bmatrix} \\ \\therefore\\  U_{c\\rightarrow g}^{\\dagger} = \\begin{bmatrix} \\cos(\\theta/2) & e^{-i\\phi}\\sin(\\theta/2) \\\\ -\\sin(\\theta/2) & e^{-i\\phi}\\cos(\\theta/2) \\end{bmatrix}.\n",
    "\\end{equation}"
   ]
  },
  {
   "cell_type": "markdown",
   "metadata": {},
   "source": [
    "Non-selective measure of the general observable $\\hat{n}\\cdot\\vec{\\sigma}$:\n",
    "\\begin{align}\n",
    "\\Pi_{n_{0},n_{1}}(\\psi) &= P_{n_{0}}|\\psi\\rangle\\langle\\psi|P_{n_{0}}  + P_{n_{1}}|\\psi\\rangle\\langle\\psi|P_{n_{1}} \\\\ \n",
    "&= |n_{0}\\rangle\\langle n_{0}||\\psi\\rangle\\langle\\psi||n_{0}\\rangle\\langle n_{0}|  + |n_{1}\\rangle\\langle n_{1}||\\psi\\rangle\\langle\\psi||n_{1}\\rangle\\langle n_{1}| \\\\\n",
    "&= U|0\\rangle\\langle 0|U^{\\dagger}|\\psi\\rangle\\langle\\psi|U|0\\rangle\\langle 0|U^{\\dagger}  + U|1\\rangle\\langle 1|U^{\\dagger}|\\psi\\rangle\\langle\\psi|U|1\\rangle\\langle 1|U^{\\dagger} \\\\\n",
    "&= U\\big(|0\\rangle\\langle 0||\\psi'\\rangle\\langle\\psi'||0\\rangle\\langle 0|  + |1\\rangle\\langle 1||\\psi'\\rangle\\langle\\psi'||1\\rangle\\langle 1|\\big)U^{\\dagger} \\\\\n",
    "&= U\\Pi_{0,1}(\\psi')U^{\\dagger},\n",
    "\\end{align}\n",
    "where we defined $$|\\psi'\\rangle:=U^{\\dagger}|\\psi\\rangle.$$ So, a non-selective measurement of an arbitrary one-qubit observable may be implemented using the quantum circuit below\n",
    "<img src='fig_measure_sim.png' width='400'>\n",
    "\n",
    "IBMQE gates: $U(\\theta,\\phi,\\lambda)=\\begin{bmatrix}\\cos(\\theta/2) & -e^{i\\lambda}\\sin(\\theta/2) \\\\ e^{i\\phi}\\sin(\\theta/2) & e^{i(\\phi+\\lambda)}\\cos(\\theta/2) \\end{bmatrix}$. We shall also need $U^{\\dagger}(\\theta,\\phi,\\lambda)=\\begin{bmatrix}\\cos(\\theta/2) & e^{-i\\phi}\\sin(\\theta/2) \\\\ -e^{-i\\lambda}\\sin(\\theta/2) & e^{-i(\\phi+\\lambda)}\\cos(\\theta/2) \\end{bmatrix} = U(\\theta,\\pi-\\lambda,-\\pi-\\phi)$"
   ]
  },
  {
   "cell_type": "code",
   "execution_count": 3,
   "metadata": {},
   "outputs": [
    {
     "data": {
      "image/png": "[encoded data removed]",
      "text/latex": [
       "$\\displaystyle \\left( \\left[\\begin{matrix}\\cos{\\left(\\frac{\\theta}{2} \\right)} & - e^{1.0 i \\phi} \\sin{\\left(\\frac{\\theta}{2} \\right)}\\\\e^{1.0 i \\phi} \\sin{\\left(\\frac{\\theta}{2} \\right)} & e^{1.0 i \\left(\\lambda + \\phi\\right)} \\cos{\\left(\\frac{\\theta}{2} \\right)}\\end{matrix}\\right], \\  \\left[\\begin{matrix}\\cos{\\left(\\frac{\\theta}{2} \\right)} & - e^{- 1.0 i \\left(\\lambda - \\pi\\right)} \\sin{\\left(\\frac{\\theta}{2} \\right)}\\\\e^{- 1.0 i \\left(\\lambda - \\pi\\right)} \\sin{\\left(\\frac{\\theta}{2} \\right)} & e^{- 1.0 i \\left(\\lambda + \\phi\\right)} \\cos{\\left(\\frac{\\theta}{2} \\right)}\\end{matrix}\\right]\\right)$"
      ],
      "text/plain": [
       "⎛⎡       ⎛θ⎞           1.0⋅ⅈ⋅φ    ⎛θ⎞   ⎤  ⎡           ⎛θ⎞            -1.0⋅ⅈ⋅(\n",
       "⎜⎢    cos⎜─⎟         -ℯ       ⋅sin⎜─⎟   ⎥  ⎢        cos⎜─⎟          -ℯ        \n",
       "⎜⎢       ⎝2⎠                      ⎝2⎠   ⎥  ⎢           ⎝2⎠                    \n",
       "⎜⎢                                      ⎥, ⎢                                  \n",
       "⎜⎢ 1.0⋅ⅈ⋅φ    ⎛θ⎞   1.0⋅ⅈ⋅(λ + φ)    ⎛θ⎞⎥  ⎢ -1.0⋅ⅈ⋅(λ - π)    ⎛θ⎞   -1.0⋅ⅈ⋅(λ\n",
       "⎜⎢ℯ       ⋅sin⎜─⎟  ℯ             ⋅cos⎜─⎟⎥  ⎢ℯ              ⋅sin⎜─⎟  ℯ         \n",
       "⎝⎣            ⎝2⎠                    ⎝2⎠⎦  ⎣                   ⎝2⎠            \n",
       "\n",
       "λ - π)    ⎛θ⎞⎤⎞\n",
       "      ⋅sin⎜─⎟⎥⎟\n",
       "          ⎝2⎠⎥⎟\n",
       "             ⎥⎟\n",
       " + φ)    ⎛θ⎞ ⎥⎟\n",
       "     ⋅cos⎜─⎟ ⎥⎟\n",
       "         ⎝2⎠ ⎦⎠"
      ]
     },
     "execution_count": 3,
     "metadata": {},
     "output_type": "execute_result"
    }
   ],
   "source": [
    "def U(th,ph,lb):\n",
    "    return Matrix([[cos(th/2),-exp(1j*ph)*sin(th/2)],\n",
    "                   [exp(1j*ph)*sin(th/2),exp(1j*(ph+lb))*cos(th/2)]])\n",
    "th,ph,lb = symbols('theta phi lambda', real=True)\n",
    "U(th,ph,lb), simplify(U(th,pi-lb,-pi-ph)) # ok!"
   ]
  },
  {
   "cell_type": "code",
   "execution_count": 4,
   "metadata": {},
   "outputs": [
    {
     "data": {
      "image/png": "[encoded data removed]",
      "text/latex": [
       "$\\displaystyle \\left( \\left[\\begin{matrix}\\cos{\\left(\\frac{\\theta}{2} \\right)} & - e^{1.0 i \\phi} \\sin{\\left(\\frac{\\theta}{2} \\right)}\\\\e^{1.0 i \\phi} \\sin{\\left(\\frac{\\theta}{2} \\right)} & e^{1.0 i \\phi} \\cos{\\left(\\frac{\\theta}{2} \\right)}\\end{matrix}\\right], \\  \\left[\\begin{matrix}\\cos{\\left(\\frac{\\theta}{2} \\right)} & - e^{1.0 i \\pi} \\sin{\\left(\\frac{\\theta}{2} \\right)}\\\\e^{1.0 i \\pi} \\sin{\\left(\\frac{\\theta}{2} \\right)} & e^{- 1.0 i \\phi} \\cos{\\left(\\frac{\\theta}{2} \\right)}\\end{matrix}\\right]\\right)$"
      ],
      "text/plain": [
       "⎛⎡       ⎛θ⎞         1.0⋅ⅈ⋅φ    ⎛θ⎞⎤  ⎡       ⎛θ⎞         1.0⋅ⅈ⋅π    ⎛θ⎞⎤⎞\n",
       "⎜⎢    cos⎜─⎟       -ℯ       ⋅sin⎜─⎟⎥  ⎢    cos⎜─⎟       -ℯ       ⋅sin⎜─⎟⎥⎟\n",
       "⎜⎢       ⎝2⎠                    ⎝2⎠⎥  ⎢       ⎝2⎠                    ⎝2⎠⎥⎟\n",
       "⎜⎢                                 ⎥, ⎢                                 ⎥⎟\n",
       "⎜⎢ 1.0⋅ⅈ⋅φ    ⎛θ⎞   1.0⋅ⅈ⋅φ    ⎛θ⎞ ⎥  ⎢ 1.0⋅ⅈ⋅π    ⎛θ⎞   -1.0⋅ⅈ⋅φ    ⎛θ⎞⎥⎟\n",
       "⎜⎢ℯ       ⋅sin⎜─⎟  ℯ       ⋅cos⎜─⎟ ⎥  ⎢ℯ       ⋅sin⎜─⎟  ℯ        ⋅cos⎜─⎟⎥⎟\n",
       "⎝⎣            ⎝2⎠              ⎝2⎠ ⎦  ⎣            ⎝2⎠               ⎝2⎠⎦⎠"
      ]
     },
     "execution_count": 4,
     "metadata": {},
     "output_type": "execute_result"
    }
   ],
   "source": [
    "U(th,ph,0), U(th,pi-0,-pi-ph) # ok!"
   ]
  },
  {
   "cell_type": "markdown",
   "metadata": {},
   "source": [
    "# Implementation on IBMQ\n",
    "## Representation of a qubit state $\\rho$ in a basis $\\{|n_{0}\\rangle,|n_{1}\\rangle\\}$"
   ]
  },
  {
   "cell_type": "code",
   "execution_count": 28,
   "metadata": {},
   "outputs": [],
   "source": [
    "def n_basis(th, ph, typ): # general one-qubit basis\n",
    "    if typ == 's': # for symbols\n",
    "        ket_n0 = Matrix([[cos(th/2)],[(cos(ph)+1j*sin(ph))*sin(th/2)]])\n",
    "        bra_n0 = Matrix([[cos(th/2),(cos(ph)-1j*sin(ph))*sin(th/2)]])\n",
    "        ket_n1 = Matrix([[-sin(th/2)],[(cos(ph)+1j*sin(ph))*cos(th/2)]])\n",
    "        bra_n1 = Matrix([[-sin(th/2),(cos(ph)-1j*sin(ph))*cos(th/2)]])\n",
    "    elif typ == 'n': # for numbers\n",
    "        ket_n0 = np.array([[math.cos(th/2)],[(math.cos(ph)+1j*math.sin(ph))*math.sin(th/2)]])\n",
    "        bra_n0 = np.array([[math.cos(th/2),(math.cos(ph)-1j*math.sin(ph))*math.sin(th/2)]])\n",
    "        ket_n1 = np.array([[-math.sin(th/2)],[(math.cos(ph)+1j*math.sin(ph))*math.cos(th/2)]])\n",
    "        bra_n1 = np.array([[-math.sin(th/2),(math.cos(ph)-1j*math.sin(ph))*math.cos(th/2)]])\n",
    "    return ket_n0, bra_n0, ket_n1, bra_n1"
   ]
  },
  {
   "cell_type": "code",
   "execution_count": 21,
   "metadata": {},
   "outputs": [
    {
     "data": {
      "image/png": "[encoded data removed]",
      "text/latex": [
       "$\\displaystyle \\left( \\left[\\begin{matrix}\\cos{\\left(\\frac{\\theta}{2} \\right)}\\\\\\left(1.0 i \\sin{\\left(\\phi \\right)} + \\cos{\\left(\\phi \\right)}\\right) \\sin{\\left(\\frac{\\theta}{2} \\right)}\\end{matrix}\\right], \\  \\left[\\begin{matrix}\\cos{\\left(\\frac{\\theta}{2} \\right)} & \\left(- 1.0 i \\sin{\\left(\\phi \\right)} + \\cos{\\left(\\phi \\right)}\\right) \\sin{\\left(\\frac{\\theta}{2} \\right)}\\end{matrix}\\right], \\  \\left[\\begin{matrix}- \\sin{\\left(\\frac{\\theta}{2} \\right)}\\\\\\left(1.0 i \\sin{\\left(\\phi \\right)} + \\cos{\\left(\\phi \\right)}\\right) \\cos{\\left(\\frac{\\theta}{2} \\right)}\\end{matrix}\\right], \\  \\left[\\begin{matrix}- \\sin{\\left(\\frac{\\theta}{2} \\right)} & \\left(- 1.0 i \\sin{\\left(\\phi \\right)} + \\cos{\\left(\\phi \\right)}\\right) \\cos{\\left(\\frac{\\theta}{2} \\right)}\\end{matrix}\\right]\\right)$"
      ],
      "text/plain": [
       "⎛⎡               ⎛θ⎞            ⎤                                         ⎡   \n",
       "⎜⎢            cos⎜─⎟            ⎥                                         ⎢   \n",
       "⎜⎢               ⎝2⎠            ⎥  ⎡   ⎛θ⎞                          ⎛θ⎞⎤  ⎢   \n",
       "⎜⎢                              ⎥, ⎢cos⎜─⎟  (-ⅈ⋅sin(φ) + cos(φ))⋅sin⎜─⎟⎥, ⎢   \n",
       "⎜⎢                           ⎛θ⎞⎥  ⎣   ⎝2⎠                          ⎝2⎠⎦  ⎢   \n",
       "⎜⎢(1.0⋅ⅈ⋅sin(φ) + cos(φ))⋅sin⎜─⎟⎥                                         ⎢(1.\n",
       "⎝⎣                           ⎝2⎠⎦                                         ⎣   \n",
       "\n",
       "            ⎛θ⎞            ⎤                                        ⎞\n",
       "        -sin⎜─⎟            ⎥                                        ⎟\n",
       "            ⎝2⎠            ⎥  ⎡    ⎛θ⎞                          ⎛θ⎞⎤⎟\n",
       "                           ⎥, ⎢-sin⎜─⎟  (-ⅈ⋅sin(φ) + cos(φ))⋅cos⎜─⎟⎥⎟\n",
       "                        ⎛θ⎞⎥  ⎣    ⎝2⎠                          ⎝2⎠⎦⎟\n",
       "0⋅ⅈ⋅sin(φ) + cos(φ))⋅cos⎜─⎟⎥                                        ⎟\n",
       "                        ⎝2⎠⎦                                        ⎠"
      ]
     },
     "execution_count": 21,
     "metadata": {},
     "output_type": "execute_result"
    }
   ],
   "source": [
    "typ = 's' # choose to use symbols (s) or numbers (any other symbol)\n",
    "if typ == 's':\n",
    "    th, ph = symbols('theta phi'); ket_n0, bra_n0, ket_n1, bra_n1 = n_basis(th, ph, typ)\n",
    "elif typ == 'n':\n",
    "    th = math.pi/4; ph = 0; ket_n0, bra_n0, ket_n1, bra_n1 = n_basis(th, ph, typ)\n",
    "ket_n0, bra_n0, ket_n1, bra_n1"
   ]
  },
  {
   "cell_type": "code",
   "execution_count": 29,
   "metadata": {},
   "outputs": [],
   "source": [
    "def rho_basis_n(th, ph, rho, typ): # representation of rho in a given basis\n",
    "    ket_n0, bra_n0, ket_n1, bra_n1 = n_basis(th, ph, typ)\n",
    "    if typ == 's':\n",
    "        rhon = Matrix([[bra_n0*rho*ket_n0, bra_n0*rho*ket_n1],[bra_n1*rho*ket_n0, bra_n1*rho*ket_n1]])\n",
    "    elif typ == 'n':\n",
    "        rho00 = bra_n0.dot(rho.dot(ket_n0)); rho01 = bra_n0.dot(rho.dot(ket_n1))\n",
    "        rho10 = bra_n1.dot(rho.dot(ket_n0)); rho11 = bra_n1.dot(rho.dot(ket_n1))\n",
    "        rhon = np.array([[rho00.item(), rho01.item()],[rho10.item(), rho11.item()]])\n",
    "    return rhon"
   ]
  },
  {
   "cell_type": "code",
   "execution_count": 23,
   "metadata": {},
   "outputs": [
    {
     "data": {
      "text/plain": [
       "array([[0.5+0.j, 0.5+0.j],\n",
       "       [0.5+0.j, 0.5+0.j]])"
      ]
     },
     "execution_count": 23,
     "metadata": {},
     "output_type": "execute_result"
    }
   ],
   "source": [
    "typ = 'n'\n",
    "if typ == 's':\n",
    "    th, ph = symbols('theta phi'); rho00,rho01,rho10,rho11 = symbols('r_{00} r_{01} r_{10} r_{11}') \n",
    "    rho = Matrix([[rho00,rho01],[rho10,rho11]]); rhon = rho_basis_n(th, ph, rho, typ)\n",
    "elif typ == 'n':\n",
    "    th = -math.pi/2; ph = 0; rho00,rho01,rho10,rho11 = 1,0,0,0\n",
    "    rho = np.array([[rho00,rho01],[rho10,rho11]]); rhon = rho_basis_n(th, ph, rho, typ)\n",
    "rhon"
   ]
  },
  {
   "cell_type": "markdown",
   "metadata": {},
   "source": [
    "## Functions\n",
    "von Neumann predictability in relation to the observable $X$: \n",
    "$$P_{vn}^{X}(\\rho) = \\log_{2}(d)-S_{vn}(\\Phi_{X}(\\rho)).$$ \n",
    "We have the equality \n",
    "$$P_{vn}^{X}(\\rho) = C_{re}^{Y}(\\Phi_{X}(\\rho)),$$ \n",
    "where\n",
    "$$C_{re}^{Y}(\\Phi_{X}(\\rho)) = S_{vn}(\\Phi_{X}(\\rho)_{diag})-S_{vn}(\\Phi_{X}(\\rho)).$$"
   ]
  },
  {
   "cell_type": "code",
   "execution_count": 44,
   "metadata": {},
   "outputs": [],
   "source": [
    "%run entropy.ipynb"
   ]
  },
  {
   "cell_type": "markdown",
   "metadata": {},
   "source": [
    "### Predictability"
   ]
  },
  {
   "cell_type": "code",
   "execution_count": 45,
   "metadata": {},
   "outputs": [],
   "source": [
    "def predictability_vn(rho, th, ph): # th,ph define the reference basis\n",
    "    d = rho.shape[0]; \n",
    "    # matrix rep. of rho in the basis def. by (th,ph)\n",
    "    rhon = rho_basis_n(th, ph, rho, 'n');# print('rhon = ',rhon)\n",
    "    pv = np.zeros(d); \n",
    "    for j in range(0,d):\n",
    "        pv[j] = rhon[j,j].real\n",
    "    return log(d, 2) - shannon_num(pv)"
   ]
  },
  {
   "cell_type": "code",
   "execution_count": 46,
   "metadata": {},
   "outputs": [
    {
     "data": {
      "image/png": "[encoded data removed]",
      "text/latex": [
       "$\\displaystyle 0$"
      ],
      "text/plain": [
       "0"
      ]
     },
     "execution_count": 46,
     "metadata": {},
     "output_type": "execute_result"
    }
   ],
   "source": [
    "rho = np.array([[1/2,0],[0,1/2]]); predictability_vn(rho, 0, 0)"
   ]
  },
  {
   "cell_type": "markdown",
   "metadata": {},
   "source": [
    "### Coherence"
   ]
  },
  {
   "cell_type": "code",
   "execution_count": 47,
   "metadata": {},
   "outputs": [],
   "source": [
    "def coherence_re(rho, th, ph): # th,ph defines the reference basis\n",
    "    d = rho.shape[0]; pv = np.zeros(d)\n",
    "    # to deal with numerical issues in computing eigenvalues of rho for Svn\n",
    "    for j in range(0, d):\n",
    "        if abs(1 - rho[j,j].real) < 10**-15:\n",
    "            rho[j,j] = 1-10**-15\n",
    "            if j < d-1:\n",
    "                rho[j+1,j+1] = 1+10**-15\n",
    "        elif abs(rho[j,j].real) < 10**-15:\n",
    "            rho[j,j] = 10**-15\n",
    "    # matrix rep. of rho in the basis def. by (th,ph)\n",
    "    rhon = rho_basis_n(th, ph, rho, 'n'); #print(rhon)\n",
    "    # to deal with numerical issues in computing eigenvalues of rho for Svn\n",
    "    for j in range(0, d):\n",
    "        if abs(1 - rhon[j,j].real) < 10**-15:\n",
    "            rhon[j,j] = 1-10**-15\n",
    "            if j < d-1:\n",
    "                rhon[j+1,j+1] = 1+10**-15\n",
    "        elif abs(rhon[j,j].real) < 10**-15:\n",
    "            rhon[j,j] = 10**-15\n",
    "    for j in range(0,d):\n",
    "        pv[j] = rhon[j,j].real\n",
    "    # we use the same state to compute S_vn because of its basis invariance\n",
    "    #print(shannon_num(pv),von_neumann_num(rho))\n",
    "    return shannon_num(pv) - von_neumann_num(rho)"
   ]
  },
  {
   "cell_type": "code",
   "execution_count": 48,
   "metadata": {},
   "outputs": [
    {
     "data": {
      "image/png": "[encoded data removed]",
      "text/latex": [
       "$\\displaystyle \\frac{1.11022302462517 \\cdot 10^{-16}}{\\log{\\left(2 \\right)}}$"
      ],
      "text/plain": [
       "1.11022302462517e-16\n",
       "────────────────────\n",
       "       log(2)       "
      ]
     },
     "execution_count": 48,
     "metadata": {},
     "output_type": "execute_result"
    }
   ],
   "source": [
    "rho = np.array([[0.99999999999999999,0],[0,1-0.99999999999999999]]); coherence_re(rho, 0, 0)"
   ]
  },
  {
   "cell_type": "markdown",
   "metadata": {},
   "source": [
    "### Purity"
   ]
  },
  {
   "cell_type": "code",
   "execution_count": 29,
   "metadata": {},
   "outputs": [],
   "source": [
    "def purity(rho):\n",
    "    return np.trace(rho.dot(rho))"
   ]
  },
  {
   "cell_type": "code",
   "execution_count": 30,
   "metadata": {},
   "outputs": [
    {
     "name": "stdout",
     "output_type": "stream",
     "text": [
      "rho =  [[9.9999e-01 0.0000e+00]\n",
      " [0.0000e+00 1.0000e-05]]\n",
      "P =  0.9999800002000001\n",
      "P_vn =  0.9998194767169818\n",
      "C_re =  0.9998194767169818\n"
     ]
    }
   ],
   "source": [
    "rho = np.array([[0.99999,0],[0,0.00001]]); print('rho = ',rho); # ok for some examples\n",
    "print('P = ', purity(rho))\n",
    "th = -0*math.pi/2; ph = 0\n",
    "print('P_vn = ', float(predictability_vn(rho, th, ph)))\n",
    "th = -1*math.pi/2; ph = 0\n",
    "print('C_re = ', float(coherence_re(rho, th, ph)))"
   ]
  },
  {
   "cell_type": "markdown",
   "metadata": {},
   "source": [
    "## Implementation"
   ]
  },
  {
   "cell_type": "code",
   "execution_count": 32,
   "metadata": {},
   "outputs": [],
   "source": [
    "from qiskit import *\n",
    "from qiskit.ignis.verification.tomography import state_tomography_circuits, StateTomographyFitter"
   ]
  },
  {
   "cell_type": "code",
   "execution_count": 33,
   "metadata": {},
   "outputs": [],
   "source": [
    "nshots = 8192\n",
    "qr = QuantumRegister(2); \n",
    "qc = qiskit.QuantumCircuit(qr); "
   ]
  },
  {
   "cell_type": "code",
   "execution_count": 34,
   "metadata": {},
   "outputs": [
    {
     "data": {
      "text/html": [
       "<pre style=\"word-wrap: normal;white-space: pre;background: #fff0;line-height: 1.1;font-family: &quot;Courier New&quot;,Courier,monospace\">      ┌──────────┐\n",
       "q0_0: ┤ U(π,π,0) ├\n",
       "      └──────────┘\n",
       "q0_1: ────────────\n",
       "                  </pre>"
      ],
      "text/plain": [
       "      ┌──────────┐\n",
       "q0_0: ┤ U(π,π,0) ├\n",
       "      └──────────┘\n",
       "q0_1: ────────────\n",
       "                  "
      ]
     },
     "execution_count": 34,
     "metadata": {},
     "output_type": "execute_result"
    }
   ],
   "source": [
    "# Verification that the circuit is right\n",
    "import math\n",
    "# State preparation\n",
    "th1, ph1, lb1 = math.pi, math.pi, 0; \n",
    "qc.u(th1, ph1, lb1, qr[0]); #print('prep = ',th1, ph1, lb1)\n",
    "qc.draw()"
   ]
  },
  {
   "cell_type": "code",
   "execution_count": 61,
   "metadata": {},
   "outputs": [
    {
     "data": {
      "text/html": [
       "<pre style=\"word-wrap: normal;white-space: pre;background: #fff0;line-height: 1.1;font-family: &quot;Courier New&quot;,Courier,monospace\">      ┌──────────┐┌──────────────┐     ┌────────────┐\n",
       "q4_0: ┤ U(π,π,0) ├┤ U(π,π,-3π/2) ├──■──┤ U(π,π/2,0) ├\n",
       "      └──────────┘└──────────────┘┌─┴─┐└────────────┘\n",
       "q4_1: ────────────────────────────┤ X ├──────────────\n",
       "                                  └───┘              </pre>"
      ],
      "text/plain": [
       "      ┌──────────┐┌──────────────┐     ┌────────────┐\n",
       "q4_0: ┤ U(π,π,0) ├┤ U(π,π,-3π/2) ├──■──┤ U(π,π/2,0) ├\n",
       "      └──────────┘└──────────────┘┌─┴─┐└────────────┘\n",
       "q4_1: ────────────────────────────┤ X ├──────────────\n",
       "                                  └───┘              "
      ]
     },
     "execution_count": 61,
     "metadata": {},
     "output_type": "execute_result"
    }
   ],
   "source": [
    "qc.barrier()\n",
    "# Non-revealing measurement\n",
    "th2 = math.pi; ph2 = math.pi/2; lb2 = 0\n",
    "th3 = th2; ph3 = math.pi-lb2; lb3 = -math.pi-ph2; qc.u(th3, ph3, lb3, qr[0]); # Uˆdagger\n",
    "qc.cx(qr[0], qr[1]); #print('meas = ',th2, ph2, lb2)\n",
    "qc.u(th2, ph2, lb2, qr[0]);\n",
    "# qstate tomography for Pi(rho)\n",
    "qst_qc = state_tomography_circuits(qc, [qr[0],qr[1]]) # defines the qcircuit to make qst\n",
    "job = qiskit.execute(qst_qc, Aer.get_backend('qasm_simulator'), shots=shots) # executes the qst\n",
    "qstf_qc = StateTomographyFitter(job.result(), qst_qc) # fits the data to extract rho\n",
    "rho10_meas = qstf_qc.fit(method='lstsq'); \n",
    "rho0_meas = pTraceL_num(2, 2, rho10_meas); #print('Pi(rho) = ', rho0_meas)\n",
    "qc.draw()"
   ]
  },
  {
   "cell_type": "markdown",
   "metadata": {},
   "source": [
    "### IBMQ-related stuff"
   ]
  },
  {
   "cell_type": "code",
   "execution_count": 74,
   "metadata": {},
   "outputs": [],
   "source": [
    "from qiskit import IBMQ"
   ]
  },
  {
   "cell_type": "code",
   "execution_count": 75,
   "metadata": {},
   "outputs": [],
   "source": [
    "#IBMQ.save_account('', overwrite = True)"
   ]
  },
  {
   "cell_type": "code",
   "execution_count": 76,
   "metadata": {},
   "outputs": [
    {
     "name": "stderr",
     "output_type": "stream",
     "text": [
      "ibmqfactory.load_account:WARNING:2021-07-08 18:35:54,265: Credentials are already in use. The existing account in the session will be replaced.\n"
     ]
    },
    {
     "data": {
      "text/plain": [
       "<AccountProvider for IBMQ(hub='ibm-q', group='open', project='main')>"
      ]
     },
     "execution_count": 76,
     "metadata": {},
     "output_type": "execute_result"
    }
   ],
   "source": [
    "IBMQ.load_account()"
   ]
  },
  {
   "cell_type": "code",
   "execution_count": 79,
   "metadata": {},
   "outputs": [],
   "source": [
    "provider = IBMQ.get_provider(hub = 'ibm-q-research-2', group = 'federal-uni-sant-1', project = 'main')\n",
    "#provider.backends()"
   ]
  },
  {
   "cell_type": "code",
   "execution_count": 80,
   "metadata": {},
   "outputs": [],
   "source": [
    "device = provider.get_backend('ibmq_belem')\n",
    "simulator = Aer.get_backend('qasm_simulator')\n",
    "from qiskit.tools.monitor import job_monitor\n",
    "nshots = 8192"
   ]
  },
  {
   "cell_type": "markdown",
   "metadata": {},
   "source": [
    "### 1st app:\n",
    "\n",
    "$$|\\psi\\rangle = \\cos(\\theta/2)|0\\rangle+\\sin(\\theta/2)|1\\rangle \\text{ for } \\theta\\in[0,\\pi/2]$$"
   ]
  },
  {
   "cell_type": "code",
   "execution_count": 81,
   "metadata": {},
   "outputs": [
    {
     "name": "stdout",
     "output_type": "stream",
     "text": [
      "/Users/jonasmaziero/Dropbox/Research/predictability/data_psi/round1/\n"
     ]
    }
   ],
   "source": [
    "import platform\n",
    "if platform.system() == 'Linux':\n",
    "    path = '/home/jonasmaziero/Dropbox/Research/predictability/data_psi/round1/'\n",
    "else:\n",
    "    path = '/Users/jonasmaziero/Dropbox/Research/predictability/data_psi/round1/'\n",
    "print(path) # ok!"
   ]
  },
  {
   "cell_type": "code",
   "execution_count": 82,
   "metadata": {},
   "outputs": [
    {
     "name": "stdout",
     "output_type": "stream",
     "text": [
      "60e76fd1b58808dc276cbd54\n",
      "Job Status: job has successfully run\n"
     ]
    }
   ],
   "source": [
    "# Measurement error mitigation of the chosen device\n",
    "qr = QuantumRegister(2)\n",
    "qc_cal = qiskit.QuantumCircuit(qr)\n",
    "from qiskit.ignis.mitigation.measurement import (complete_meas_cal, CompleteMeasFitter)\n",
    "cal_circuits, state_labels = complete_meas_cal(qr = qc.qregs[0], circlabel = 'mmc')\n",
    "cal_job = execute(cal_circuits, backend = device, shots = nshots, optimization_level = 0)\n",
    "print(cal_job.job_id())\n",
    "job_monitor(cal_job)\n",
    "cal_results = cal_job.result()\n",
    "meas_fitter = CompleteMeasFitter(cal_results, state_labels)\n",
    "meas_filter = meas_fitter.filter\n",
    "# using\n",
    "#mitigated_result = meas_filter.apply(job.result());"
   ]
  },
  {
   "cell_type": "code",
   "execution_count": 72,
   "metadata": {},
   "outputs": [],
   "source": [
    "%run ptr.ipynb"
   ]
  },
  {
   "cell_type": "code",
   "execution_count": 73,
   "metadata": {},
   "outputs": [
    {
     "ename": "IBMQBackendApiError",
     "evalue": "'Error submitting job: \"HTTPSConnectionPool(host=\\'api-qcon.quantum-computing.ibm.com\\', port=443): Read timed out. (read timeout=None)\"'",
     "output_type": "error",
     "traceback": [
      "\u001b[0;31m---------------------------------------------------------------------------\u001b[0m",
      "\u001b[0;31mTimeoutError\u001b[0m                              Traceback (most recent call last)",
      "\u001b[0;32m~/opt/anaconda3/lib/python3.8/site-packages/urllib3/connectionpool.py\u001b[0m in \u001b[0;36m_make_request\u001b[0;34m(self, conn, method, url, timeout, chunked, **httplib_request_kw)\u001b[0m\n\u001b[1;32m    444\u001b[0m                     \u001b[0;31m# Otherwise it looks like a bug in the code.\u001b[0m\u001b[0;34m\u001b[0m\u001b[0;34m\u001b[0m\u001b[0;34m\u001b[0m\u001b[0m\n\u001b[0;32m--> 445\u001b[0;31m                     \u001b[0msix\u001b[0m\u001b[0;34m.\u001b[0m\u001b[0mraise_from\u001b[0m\u001b[0;34m(\u001b[0m\u001b[0me\u001b[0m\u001b[0;34m,\u001b[0m \u001b[0;32mNone\u001b[0m\u001b[0;34m)\u001b[0m\u001b[0;34m\u001b[0m\u001b[0;34m\u001b[0m\u001b[0m\n\u001b[0m\u001b[1;32m    446\u001b[0m         \u001b[0;32mexcept\u001b[0m \u001b[0;34m(\u001b[0m\u001b[0mSocketTimeout\u001b[0m\u001b[0;34m,\u001b[0m \u001b[0mBaseSSLError\u001b[0m\u001b[0;34m,\u001b[0m \u001b[0mSocketError\u001b[0m\u001b[0;34m)\u001b[0m \u001b[0;32mas\u001b[0m \u001b[0me\u001b[0m\u001b[0;34m:\u001b[0m\u001b[0;34m\u001b[0m\u001b[0;34m\u001b[0m\u001b[0m\n",
      "\u001b[0;32m~/opt/anaconda3/lib/python3.8/site-packages/urllib3/packages/six.py\u001b[0m in \u001b[0;36mraise_from\u001b[0;34m(value, from_value)\u001b[0m\n",
      "\u001b[0;32m~/opt/anaconda3/lib/python3.8/site-packages/urllib3/connectionpool.py\u001b[0m in \u001b[0;36m_make_request\u001b[0;34m(self, conn, method, url, timeout, chunked, **httplib_request_kw)\u001b[0m\n\u001b[1;32m    439\u001b[0m                 \u001b[0;32mtry\u001b[0m\u001b[0;34m:\u001b[0m\u001b[0;34m\u001b[0m\u001b[0;34m\u001b[0m\u001b[0m\n\u001b[0;32m--> 440\u001b[0;31m                     \u001b[0mhttplib_response\u001b[0m \u001b[0;34m=\u001b[0m \u001b[0mconn\u001b[0m\u001b[0;34m.\u001b[0m\u001b[0mgetresponse\u001b[0m\u001b[0;34m(\u001b[0m\u001b[0;34m)\u001b[0m\u001b[0;34m\u001b[0m\u001b[0;34m\u001b[0m\u001b[0m\n\u001b[0m\u001b[1;32m    441\u001b[0m                 \u001b[0;32mexcept\u001b[0m \u001b[0mBaseException\u001b[0m \u001b[0;32mas\u001b[0m \u001b[0me\u001b[0m\u001b[0;34m:\u001b[0m\u001b[0;34m\u001b[0m\u001b[0;34m\u001b[0m\u001b[0m\n",
      "\u001b[0;32m~/opt/anaconda3/lib/python3.8/http/client.py\u001b[0m in \u001b[0;36mgetresponse\u001b[0;34m(self)\u001b[0m\n\u001b[1;32m   1346\u001b[0m             \u001b[0;32mtry\u001b[0m\u001b[0;34m:\u001b[0m\u001b[0;34m\u001b[0m\u001b[0;34m\u001b[0m\u001b[0m\n\u001b[0;32m-> 1347\u001b[0;31m                 \u001b[0mresponse\u001b[0m\u001b[0;34m.\u001b[0m\u001b[0mbegin\u001b[0m\u001b[0;34m(\u001b[0m\u001b[0;34m)\u001b[0m\u001b[0;34m\u001b[0m\u001b[0;34m\u001b[0m\u001b[0m\n\u001b[0m\u001b[1;32m   1348\u001b[0m             \u001b[0;32mexcept\u001b[0m \u001b[0mConnectionError\u001b[0m\u001b[0;34m:\u001b[0m\u001b[0;34m\u001b[0m\u001b[0;34m\u001b[0m\u001b[0m\n",
      "\u001b[0;32m~/opt/anaconda3/lib/python3.8/http/client.py\u001b[0m in \u001b[0;36mbegin\u001b[0;34m(self)\u001b[0m\n\u001b[1;32m    306\u001b[0m         \u001b[0;32mwhile\u001b[0m \u001b[0;32mTrue\u001b[0m\u001b[0;34m:\u001b[0m\u001b[0;34m\u001b[0m\u001b[0;34m\u001b[0m\u001b[0m\n\u001b[0;32m--> 307\u001b[0;31m             \u001b[0mversion\u001b[0m\u001b[0;34m,\u001b[0m \u001b[0mstatus\u001b[0m\u001b[0;34m,\u001b[0m \u001b[0mreason\u001b[0m \u001b[0;34m=\u001b[0m \u001b[0mself\u001b[0m\u001b[0;34m.\u001b[0m\u001b[0m_read_status\u001b[0m\u001b[0;34m(\u001b[0m\u001b[0;34m)\u001b[0m\u001b[0;34m\u001b[0m\u001b[0;34m\u001b[0m\u001b[0m\n\u001b[0m\u001b[1;32m    308\u001b[0m             \u001b[0;32mif\u001b[0m \u001b[0mstatus\u001b[0m \u001b[0;34m!=\u001b[0m \u001b[0mCONTINUE\u001b[0m\u001b[0;34m:\u001b[0m\u001b[0;34m\u001b[0m\u001b[0;34m\u001b[0m\u001b[0m\n",
      "\u001b[0;32m~/opt/anaconda3/lib/python3.8/http/client.py\u001b[0m in \u001b[0;36m_read_status\u001b[0;34m(self)\u001b[0m\n\u001b[1;32m    267\u001b[0m     \u001b[0;32mdef\u001b[0m \u001b[0m_read_status\u001b[0m\u001b[0;34m(\u001b[0m\u001b[0mself\u001b[0m\u001b[0;34m)\u001b[0m\u001b[0;34m:\u001b[0m\u001b[0;34m\u001b[0m\u001b[0;34m\u001b[0m\u001b[0m\n\u001b[0;32m--> 268\u001b[0;31m         \u001b[0mline\u001b[0m \u001b[0;34m=\u001b[0m \u001b[0mstr\u001b[0m\u001b[0;34m(\u001b[0m\u001b[0mself\u001b[0m\u001b[0;34m.\u001b[0m\u001b[0mfp\u001b[0m\u001b[0;34m.\u001b[0m\u001b[0mreadline\u001b[0m\u001b[0;34m(\u001b[0m\u001b[0m_MAXLINE\u001b[0m \u001b[0;34m+\u001b[0m \u001b[0;36m1\u001b[0m\u001b[0;34m)\u001b[0m\u001b[0;34m,\u001b[0m \u001b[0;34m\"iso-8859-1\"\u001b[0m\u001b[0;34m)\u001b[0m\u001b[0;34m\u001b[0m\u001b[0;34m\u001b[0m\u001b[0m\n\u001b[0m\u001b[1;32m    269\u001b[0m         \u001b[0;32mif\u001b[0m \u001b[0mlen\u001b[0m\u001b[0;34m(\u001b[0m\u001b[0mline\u001b[0m\u001b[0;34m)\u001b[0m \u001b[0;34m>\u001b[0m \u001b[0m_MAXLINE\u001b[0m\u001b[0;34m:\u001b[0m\u001b[0;34m\u001b[0m\u001b[0;34m\u001b[0m\u001b[0m\n",
      "\u001b[0;32m~/opt/anaconda3/lib/python3.8/socket.py\u001b[0m in \u001b[0;36mreadinto\u001b[0;34m(self, b)\u001b[0m\n\u001b[1;32m    668\u001b[0m             \u001b[0;32mtry\u001b[0m\u001b[0;34m:\u001b[0m\u001b[0;34m\u001b[0m\u001b[0;34m\u001b[0m\u001b[0m\n\u001b[0;32m--> 669\u001b[0;31m                 \u001b[0;32mreturn\u001b[0m \u001b[0mself\u001b[0m\u001b[0;34m.\u001b[0m\u001b[0m_sock\u001b[0m\u001b[0;34m.\u001b[0m\u001b[0mrecv_into\u001b[0m\u001b[0;34m(\u001b[0m\u001b[0mb\u001b[0m\u001b[0;34m)\u001b[0m\u001b[0;34m\u001b[0m\u001b[0;34m\u001b[0m\u001b[0m\n\u001b[0m\u001b[1;32m    670\u001b[0m             \u001b[0;32mexcept\u001b[0m \u001b[0mtimeout\u001b[0m\u001b[0;34m:\u001b[0m\u001b[0;34m\u001b[0m\u001b[0;34m\u001b[0m\u001b[0m\n",
      "\u001b[0;32m~/opt/anaconda3/lib/python3.8/ssl.py\u001b[0m in \u001b[0;36mrecv_into\u001b[0;34m(self, buffer, nbytes, flags)\u001b[0m\n\u001b[1;32m   1240\u001b[0m                   self.__class__)\n\u001b[0;32m-> 1241\u001b[0;31m             \u001b[0;32mreturn\u001b[0m \u001b[0mself\u001b[0m\u001b[0;34m.\u001b[0m\u001b[0mread\u001b[0m\u001b[0;34m(\u001b[0m\u001b[0mnbytes\u001b[0m\u001b[0;34m,\u001b[0m \u001b[0mbuffer\u001b[0m\u001b[0;34m)\u001b[0m\u001b[0;34m\u001b[0m\u001b[0;34m\u001b[0m\u001b[0m\n\u001b[0m\u001b[1;32m   1242\u001b[0m         \u001b[0;32melse\u001b[0m\u001b[0;34m:\u001b[0m\u001b[0;34m\u001b[0m\u001b[0;34m\u001b[0m\u001b[0m\n",
      "\u001b[0;32m~/opt/anaconda3/lib/python3.8/ssl.py\u001b[0m in \u001b[0;36mread\u001b[0;34m(self, len, buffer)\u001b[0m\n\u001b[1;32m   1098\u001b[0m             \u001b[0;32mif\u001b[0m \u001b[0mbuffer\u001b[0m \u001b[0;32mis\u001b[0m \u001b[0;32mnot\u001b[0m \u001b[0;32mNone\u001b[0m\u001b[0;34m:\u001b[0m\u001b[0;34m\u001b[0m\u001b[0;34m\u001b[0m\u001b[0m\n\u001b[0;32m-> 1099\u001b[0;31m                 \u001b[0;32mreturn\u001b[0m \u001b[0mself\u001b[0m\u001b[0;34m.\u001b[0m\u001b[0m_sslobj\u001b[0m\u001b[0;34m.\u001b[0m\u001b[0mread\u001b[0m\u001b[0;34m(\u001b[0m\u001b[0mlen\u001b[0m\u001b[0;34m,\u001b[0m \u001b[0mbuffer\u001b[0m\u001b[0;34m)\u001b[0m\u001b[0;34m\u001b[0m\u001b[0;34m\u001b[0m\u001b[0m\n\u001b[0m\u001b[1;32m   1100\u001b[0m             \u001b[0;32melse\u001b[0m\u001b[0;34m:\u001b[0m\u001b[0;34m\u001b[0m\u001b[0;34m\u001b[0m\u001b[0m\n",
      "\u001b[0;31mTimeoutError\u001b[0m: [Errno 60] Operation timed out",
      "\nDuring handling of the above exception, another exception occurred:\n",
      "\u001b[0;31mReadTimeoutError\u001b[0m                          Traceback (most recent call last)",
      "\u001b[0;32m~/opt/anaconda3/lib/python3.8/site-packages/requests/adapters.py\u001b[0m in \u001b[0;36msend\u001b[0;34m(self, request, stream, timeout, verify, cert, proxies)\u001b[0m\n\u001b[1;32m    438\u001b[0m             \u001b[0;32mif\u001b[0m \u001b[0;32mnot\u001b[0m \u001b[0mchunked\u001b[0m\u001b[0;34m:\u001b[0m\u001b[0;34m\u001b[0m\u001b[0;34m\u001b[0m\u001b[0m\n\u001b[0;32m--> 439\u001b[0;31m                 resp = conn.urlopen(\n\u001b[0m\u001b[1;32m    440\u001b[0m                     \u001b[0mmethod\u001b[0m\u001b[0;34m=\u001b[0m\u001b[0mrequest\u001b[0m\u001b[0;34m.\u001b[0m\u001b[0mmethod\u001b[0m\u001b[0;34m,\u001b[0m\u001b[0;34m\u001b[0m\u001b[0;34m\u001b[0m\u001b[0m\n",
      "\u001b[0;32m~/opt/anaconda3/lib/python3.8/site-packages/urllib3/connectionpool.py\u001b[0m in \u001b[0;36murlopen\u001b[0;34m(self, method, url, body, headers, retries, redirect, assert_same_host, timeout, pool_timeout, release_conn, chunked, body_pos, **response_kw)\u001b[0m\n\u001b[1;32m    754\u001b[0m \u001b[0;34m\u001b[0m\u001b[0m\n\u001b[0;32m--> 755\u001b[0;31m             retries = retries.increment(\n\u001b[0m\u001b[1;32m    756\u001b[0m                 \u001b[0mmethod\u001b[0m\u001b[0;34m,\u001b[0m \u001b[0murl\u001b[0m\u001b[0;34m,\u001b[0m \u001b[0merror\u001b[0m\u001b[0;34m=\u001b[0m\u001b[0me\u001b[0m\u001b[0;34m,\u001b[0m \u001b[0m_pool\u001b[0m\u001b[0;34m=\u001b[0m\u001b[0mself\u001b[0m\u001b[0;34m,\u001b[0m \u001b[0m_stacktrace\u001b[0m\u001b[0;34m=\u001b[0m\u001b[0msys\u001b[0m\u001b[0;34m.\u001b[0m\u001b[0mexc_info\u001b[0m\u001b[0;34m(\u001b[0m\u001b[0;34m)\u001b[0m\u001b[0;34m[\u001b[0m\u001b[0;36m2\u001b[0m\u001b[0;34m]\u001b[0m\u001b[0;34m\u001b[0m\u001b[0;34m\u001b[0m\u001b[0m\n",
      "\u001b[0;32m~/opt/anaconda3/lib/python3.8/site-packages/qiskit/providers/ibmq/api/session.py\u001b[0m in \u001b[0;36mincrement\u001b[0;34m(self, method, url, response, error, _pool, _stacktrace)\u001b[0m\n\u001b[1;32m     96\u001b[0m                          method, url, status, error, data, headers)\n\u001b[0;32m---> 97\u001b[0;31m         return super().increment(method=method, url=url, response=response,\n\u001b[0m\u001b[1;32m     98\u001b[0m                                  error=error, _pool=_pool, _stacktrace=_stacktrace)\n",
      "\u001b[0;32m~/opt/anaconda3/lib/python3.8/site-packages/urllib3/util/retry.py\u001b[0m in \u001b[0;36mincrement\u001b[0;34m(self, method, url, response, error, _pool, _stacktrace)\u001b[0m\n\u001b[1;32m    531\u001b[0m             \u001b[0;32mif\u001b[0m \u001b[0mread\u001b[0m \u001b[0;32mis\u001b[0m \u001b[0;32mFalse\u001b[0m \u001b[0;32mor\u001b[0m \u001b[0;32mnot\u001b[0m \u001b[0mself\u001b[0m\u001b[0;34m.\u001b[0m\u001b[0m_is_method_retryable\u001b[0m\u001b[0;34m(\u001b[0m\u001b[0mmethod\u001b[0m\u001b[0;34m)\u001b[0m\u001b[0;34m:\u001b[0m\u001b[0;34m\u001b[0m\u001b[0;34m\u001b[0m\u001b[0m\n\u001b[0;32m--> 532\u001b[0;31m                 \u001b[0;32mraise\u001b[0m \u001b[0msix\u001b[0m\u001b[0;34m.\u001b[0m\u001b[0mreraise\u001b[0m\u001b[0;34m(\u001b[0m\u001b[0mtype\u001b[0m\u001b[0;34m(\u001b[0m\u001b[0merror\u001b[0m\u001b[0;34m)\u001b[0m\u001b[0;34m,\u001b[0m \u001b[0merror\u001b[0m\u001b[0;34m,\u001b[0m \u001b[0m_stacktrace\u001b[0m\u001b[0;34m)\u001b[0m\u001b[0;34m\u001b[0m\u001b[0;34m\u001b[0m\u001b[0m\n\u001b[0m\u001b[1;32m    533\u001b[0m             \u001b[0;32melif\u001b[0m \u001b[0mread\u001b[0m \u001b[0;32mis\u001b[0m \u001b[0;32mnot\u001b[0m \u001b[0;32mNone\u001b[0m\u001b[0;34m:\u001b[0m\u001b[0;34m\u001b[0m\u001b[0;34m\u001b[0m\u001b[0m\n",
      "\u001b[0;32m~/opt/anaconda3/lib/python3.8/site-packages/urllib3/packages/six.py\u001b[0m in \u001b[0;36mreraise\u001b[0;34m(tp, value, tb)\u001b[0m\n\u001b[1;32m    734\u001b[0m                 \u001b[0;32mraise\u001b[0m \u001b[0mvalue\u001b[0m\u001b[0;34m.\u001b[0m\u001b[0mwith_traceback\u001b[0m\u001b[0;34m(\u001b[0m\u001b[0mtb\u001b[0m\u001b[0;34m)\u001b[0m\u001b[0;34m\u001b[0m\u001b[0;34m\u001b[0m\u001b[0m\n\u001b[0;32m--> 735\u001b[0;31m             \u001b[0;32mraise\u001b[0m \u001b[0mvalue\u001b[0m\u001b[0;34m\u001b[0m\u001b[0;34m\u001b[0m\u001b[0m\n\u001b[0m\u001b[1;32m    736\u001b[0m         \u001b[0;32mfinally\u001b[0m\u001b[0;34m:\u001b[0m\u001b[0;34m\u001b[0m\u001b[0;34m\u001b[0m\u001b[0m\n",
      "\u001b[0;32m~/opt/anaconda3/lib/python3.8/site-packages/urllib3/connectionpool.py\u001b[0m in \u001b[0;36murlopen\u001b[0;34m(self, method, url, body, headers, retries, redirect, assert_same_host, timeout, pool_timeout, release_conn, chunked, body_pos, **response_kw)\u001b[0m\n\u001b[1;32m    698\u001b[0m             \u001b[0;31m# Make the request on the httplib connection object.\u001b[0m\u001b[0;34m\u001b[0m\u001b[0;34m\u001b[0m\u001b[0;34m\u001b[0m\u001b[0m\n\u001b[0;32m--> 699\u001b[0;31m             httplib_response = self._make_request(\n\u001b[0m\u001b[1;32m    700\u001b[0m                 \u001b[0mconn\u001b[0m\u001b[0;34m,\u001b[0m\u001b[0;34m\u001b[0m\u001b[0;34m\u001b[0m\u001b[0m\n",
      "\u001b[0;32m~/opt/anaconda3/lib/python3.8/site-packages/urllib3/connectionpool.py\u001b[0m in \u001b[0;36m_make_request\u001b[0;34m(self, conn, method, url, timeout, chunked, **httplib_request_kw)\u001b[0m\n\u001b[1;32m    446\u001b[0m         \u001b[0;32mexcept\u001b[0m \u001b[0;34m(\u001b[0m\u001b[0mSocketTimeout\u001b[0m\u001b[0;34m,\u001b[0m \u001b[0mBaseSSLError\u001b[0m\u001b[0;34m,\u001b[0m \u001b[0mSocketError\u001b[0m\u001b[0;34m)\u001b[0m \u001b[0;32mas\u001b[0m \u001b[0me\u001b[0m\u001b[0;34m:\u001b[0m\u001b[0;34m\u001b[0m\u001b[0;34m\u001b[0m\u001b[0m\n\u001b[0;32m--> 447\u001b[0;31m             \u001b[0mself\u001b[0m\u001b[0;34m.\u001b[0m\u001b[0m_raise_timeout\u001b[0m\u001b[0;34m(\u001b[0m\u001b[0merr\u001b[0m\u001b[0;34m=\u001b[0m\u001b[0me\u001b[0m\u001b[0;34m,\u001b[0m \u001b[0murl\u001b[0m\u001b[0;34m=\u001b[0m\u001b[0murl\u001b[0m\u001b[0;34m,\u001b[0m \u001b[0mtimeout_value\u001b[0m\u001b[0;34m=\u001b[0m\u001b[0mread_timeout\u001b[0m\u001b[0;34m)\u001b[0m\u001b[0;34m\u001b[0m\u001b[0;34m\u001b[0m\u001b[0m\n\u001b[0m\u001b[1;32m    448\u001b[0m             \u001b[0;32mraise\u001b[0m\u001b[0;34m\u001b[0m\u001b[0;34m\u001b[0m\u001b[0m\n",
      "\u001b[0;32m~/opt/anaconda3/lib/python3.8/site-packages/urllib3/connectionpool.py\u001b[0m in \u001b[0;36m_raise_timeout\u001b[0;34m(self, err, url, timeout_value)\u001b[0m\n\u001b[1;32m    352\u001b[0m         ):  # Python < 2.7.4\n\u001b[0;32m--> 353\u001b[0;31m             raise ReadTimeoutError(\n\u001b[0m\u001b[1;32m    354\u001b[0m                 \u001b[0mself\u001b[0m\u001b[0;34m,\u001b[0m \u001b[0murl\u001b[0m\u001b[0;34m,\u001b[0m \u001b[0;34m\"Read timed out. (read timeout=%s)\"\u001b[0m \u001b[0;34m%\u001b[0m \u001b[0mtimeout_value\u001b[0m\u001b[0;34m\u001b[0m\u001b[0;34m\u001b[0m\u001b[0m\n",
      "\u001b[0;31mReadTimeoutError\u001b[0m: HTTPSConnectionPool(host='api-qcon.quantum-computing.ibm.com', port=443): Read timed out. (read timeout=None)",
      "\nDuring handling of the above exception, another exception occurred:\n",
      "\u001b[0;31mReadTimeout\u001b[0m                               Traceback (most recent call last)",
      "\u001b[0;32m~/opt/anaconda3/lib/python3.8/site-packages/qiskit/providers/ibmq/api/session.py\u001b[0m in \u001b[0;36mrequest\u001b[0;34m(self, method, url, bare, **kwargs)\u001b[0m\n\u001b[1;32m    276\u001b[0m             \u001b[0mself\u001b[0m\u001b[0;34m.\u001b[0m\u001b[0m_log_request_info\u001b[0m\u001b[0;34m(\u001b[0m\u001b[0murl\u001b[0m\u001b[0;34m,\u001b[0m \u001b[0mmethod\u001b[0m\u001b[0;34m,\u001b[0m \u001b[0mkwargs\u001b[0m\u001b[0;34m)\u001b[0m\u001b[0;34m\u001b[0m\u001b[0;34m\u001b[0m\u001b[0m\n\u001b[0;32m--> 277\u001b[0;31m             \u001b[0mresponse\u001b[0m \u001b[0;34m=\u001b[0m \u001b[0msuper\u001b[0m\u001b[0;34m(\u001b[0m\u001b[0;34m)\u001b[0m\u001b[0;34m.\u001b[0m\u001b[0mrequest\u001b[0m\u001b[0;34m(\u001b[0m\u001b[0mmethod\u001b[0m\u001b[0;34m,\u001b[0m \u001b[0mfinal_url\u001b[0m\u001b[0;34m,\u001b[0m \u001b[0mheaders\u001b[0m\u001b[0;34m=\u001b[0m\u001b[0mheaders\u001b[0m\u001b[0;34m,\u001b[0m \u001b[0;34m**\u001b[0m\u001b[0mkwargs\u001b[0m\u001b[0;34m)\u001b[0m\u001b[0;34m\u001b[0m\u001b[0;34m\u001b[0m\u001b[0m\n\u001b[0m\u001b[1;32m    278\u001b[0m             \u001b[0mresponse\u001b[0m\u001b[0;34m.\u001b[0m\u001b[0mraise_for_status\u001b[0m\u001b[0;34m(\u001b[0m\u001b[0;34m)\u001b[0m\u001b[0;34m\u001b[0m\u001b[0;34m\u001b[0m\u001b[0m\n",
      "\u001b[0;32m~/opt/anaconda3/lib/python3.8/site-packages/requests/sessions.py\u001b[0m in \u001b[0;36mrequest\u001b[0;34m(self, method, url, params, data, headers, cookies, files, auth, timeout, allow_redirects, proxies, hooks, stream, verify, cert, json)\u001b[0m\n\u001b[1;32m    541\u001b[0m         \u001b[0msend_kwargs\u001b[0m\u001b[0;34m.\u001b[0m\u001b[0mupdate\u001b[0m\u001b[0;34m(\u001b[0m\u001b[0msettings\u001b[0m\u001b[0;34m)\u001b[0m\u001b[0;34m\u001b[0m\u001b[0;34m\u001b[0m\u001b[0m\n\u001b[0;32m--> 542\u001b[0;31m         \u001b[0mresp\u001b[0m \u001b[0;34m=\u001b[0m \u001b[0mself\u001b[0m\u001b[0;34m.\u001b[0m\u001b[0msend\u001b[0m\u001b[0;34m(\u001b[0m\u001b[0mprep\u001b[0m\u001b[0;34m,\u001b[0m \u001b[0;34m**\u001b[0m\u001b[0msend_kwargs\u001b[0m\u001b[0;34m)\u001b[0m\u001b[0;34m\u001b[0m\u001b[0;34m\u001b[0m\u001b[0m\n\u001b[0m\u001b[1;32m    543\u001b[0m \u001b[0;34m\u001b[0m\u001b[0m\n",
      "\u001b[0;32m~/opt/anaconda3/lib/python3.8/site-packages/requests/sessions.py\u001b[0m in \u001b[0;36msend\u001b[0;34m(self, request, **kwargs)\u001b[0m\n\u001b[1;32m    654\u001b[0m         \u001b[0;31m# Send the request\u001b[0m\u001b[0;34m\u001b[0m\u001b[0;34m\u001b[0m\u001b[0;34m\u001b[0m\u001b[0m\n\u001b[0;32m--> 655\u001b[0;31m         \u001b[0mr\u001b[0m \u001b[0;34m=\u001b[0m \u001b[0madapter\u001b[0m\u001b[0;34m.\u001b[0m\u001b[0msend\u001b[0m\u001b[0;34m(\u001b[0m\u001b[0mrequest\u001b[0m\u001b[0;34m,\u001b[0m \u001b[0;34m**\u001b[0m\u001b[0mkwargs\u001b[0m\u001b[0;34m)\u001b[0m\u001b[0;34m\u001b[0m\u001b[0;34m\u001b[0m\u001b[0m\n\u001b[0m\u001b[1;32m    656\u001b[0m \u001b[0;34m\u001b[0m\u001b[0m\n",
      "\u001b[0;32m~/opt/anaconda3/lib/python3.8/site-packages/requests/adapters.py\u001b[0m in \u001b[0;36msend\u001b[0;34m(self, request, stream, timeout, verify, cert, proxies)\u001b[0m\n\u001b[1;32m    528\u001b[0m             \u001b[0;32melif\u001b[0m \u001b[0misinstance\u001b[0m\u001b[0;34m(\u001b[0m\u001b[0me\u001b[0m\u001b[0;34m,\u001b[0m \u001b[0mReadTimeoutError\u001b[0m\u001b[0;34m)\u001b[0m\u001b[0;34m:\u001b[0m\u001b[0;34m\u001b[0m\u001b[0;34m\u001b[0m\u001b[0m\n\u001b[0;32m--> 529\u001b[0;31m                 \u001b[0;32mraise\u001b[0m \u001b[0mReadTimeout\u001b[0m\u001b[0;34m(\u001b[0m\u001b[0me\u001b[0m\u001b[0;34m,\u001b[0m \u001b[0mrequest\u001b[0m\u001b[0;34m=\u001b[0m\u001b[0mrequest\u001b[0m\u001b[0;34m)\u001b[0m\u001b[0;34m\u001b[0m\u001b[0;34m\u001b[0m\u001b[0m\n\u001b[0m\u001b[1;32m    530\u001b[0m             \u001b[0;32melse\u001b[0m\u001b[0;34m:\u001b[0m\u001b[0;34m\u001b[0m\u001b[0;34m\u001b[0m\u001b[0m\n",
      "\u001b[0;31mReadTimeout\u001b[0m: HTTPSConnectionPool(host='api-qcon.quantum-computing.ibm.com', port=443): Read timed out. (read timeout=None)",
      "\nThe above exception was the direct cause of the following exception:\n",
      "\u001b[0;31mRequestsApiError\u001b[0m                          Traceback (most recent call last)",
      "\u001b[0;32m~/opt/anaconda3/lib/python3.8/site-packages/qiskit/providers/ibmq/ibmqbackend.py\u001b[0m in \u001b[0;36m_submit_job\u001b[0;34m(self, qobj, job_name, job_share_level, job_tags, experiment_id)\u001b[0m\n\u001b[1;32m    368\u001b[0m             \u001b[0mqobj_dict\u001b[0m \u001b[0;34m=\u001b[0m \u001b[0mqobj\u001b[0m\u001b[0;34m.\u001b[0m\u001b[0mto_dict\u001b[0m\u001b[0;34m(\u001b[0m\u001b[0;34m)\u001b[0m\u001b[0;34m\u001b[0m\u001b[0;34m\u001b[0m\u001b[0m\n\u001b[0;32m--> 369\u001b[0;31m             submit_info = self._api_client.job_submit(\n\u001b[0m\u001b[1;32m    370\u001b[0m                 \u001b[0mbackend_name\u001b[0m\u001b[0;34m=\u001b[0m\u001b[0mself\u001b[0m\u001b[0;34m.\u001b[0m\u001b[0mname\u001b[0m\u001b[0;34m(\u001b[0m\u001b[0;34m)\u001b[0m\u001b[0;34m,\u001b[0m\u001b[0;34m\u001b[0m\u001b[0;34m\u001b[0m\u001b[0m\n",
      "\u001b[0;32m~/opt/anaconda3/lib/python3.8/site-packages/qiskit/providers/ibmq/api/clients/account.py\u001b[0m in \u001b[0;36mjob_submit\u001b[0;34m(self, backend_name, qobj_dict, job_name, job_share_level, job_tags, experiment_id)\u001b[0m\n\u001b[1;32m    207\u001b[0m         \u001b[0;31m# Create a remote job instance on the server.\u001b[0m\u001b[0;34m\u001b[0m\u001b[0;34m\u001b[0m\u001b[0;34m\u001b[0m\u001b[0m\n\u001b[0;32m--> 208\u001b[0;31m         job_info = self.account_api.create_remote_job(\n\u001b[0m\u001b[1;32m    209\u001b[0m             \u001b[0mbackend_name\u001b[0m\u001b[0;34m,\u001b[0m\u001b[0;34m\u001b[0m\u001b[0;34m\u001b[0m\u001b[0m\n",
      "\u001b[0;32m~/opt/anaconda3/lib/python3.8/site-packages/qiskit/providers/ibmq/api/rest/account.py\u001b[0m in \u001b[0;36mcreate_remote_job\u001b[0;34m(self, backend_name, job_name, job_share_level, job_tags, experiment_id)\u001b[0m\n\u001b[1;32m    170\u001b[0m \u001b[0;34m\u001b[0m\u001b[0m\n\u001b[0;32m--> 171\u001b[0;31m         \u001b[0;32mreturn\u001b[0m \u001b[0mself\u001b[0m\u001b[0;34m.\u001b[0m\u001b[0msession\u001b[0m\u001b[0;34m.\u001b[0m\u001b[0mpost\u001b[0m\u001b[0;34m(\u001b[0m\u001b[0murl\u001b[0m\u001b[0;34m,\u001b[0m \u001b[0mjson\u001b[0m\u001b[0;34m=\u001b[0m\u001b[0mpayload\u001b[0m\u001b[0;34m)\u001b[0m\u001b[0;34m.\u001b[0m\u001b[0mjson\u001b[0m\u001b[0;34m(\u001b[0m\u001b[0;34m)\u001b[0m\u001b[0;34m\u001b[0m\u001b[0;34m\u001b[0m\u001b[0m\n\u001b[0m\u001b[1;32m    172\u001b[0m \u001b[0;34m\u001b[0m\u001b[0m\n",
      "\u001b[0;32m~/opt/anaconda3/lib/python3.8/site-packages/requests/sessions.py\u001b[0m in \u001b[0;36mpost\u001b[0;34m(self, url, data, json, **kwargs)\u001b[0m\n\u001b[1;32m    589\u001b[0m \u001b[0;34m\u001b[0m\u001b[0m\n\u001b[0;32m--> 590\u001b[0;31m         \u001b[0;32mreturn\u001b[0m \u001b[0mself\u001b[0m\u001b[0;34m.\u001b[0m\u001b[0mrequest\u001b[0m\u001b[0;34m(\u001b[0m\u001b[0;34m'POST'\u001b[0m\u001b[0;34m,\u001b[0m \u001b[0murl\u001b[0m\u001b[0;34m,\u001b[0m \u001b[0mdata\u001b[0m\u001b[0;34m=\u001b[0m\u001b[0mdata\u001b[0m\u001b[0;34m,\u001b[0m \u001b[0mjson\u001b[0m\u001b[0;34m=\u001b[0m\u001b[0mjson\u001b[0m\u001b[0;34m,\u001b[0m \u001b[0;34m**\u001b[0m\u001b[0mkwargs\u001b[0m\u001b[0;34m)\u001b[0m\u001b[0;34m\u001b[0m\u001b[0;34m\u001b[0m\u001b[0m\n\u001b[0m\u001b[1;32m    591\u001b[0m \u001b[0;34m\u001b[0m\u001b[0m\n",
      "\u001b[0;32m~/opt/anaconda3/lib/python3.8/site-packages/qiskit/providers/ibmq/api/session.py\u001b[0m in \u001b[0;36mrequest\u001b[0;34m(self, method, url, bare, **kwargs)\u001b[0m\n\u001b[1;32m    299\u001b[0m \u001b[0;34m\u001b[0m\u001b[0m\n\u001b[0;32m--> 300\u001b[0;31m             \u001b[0;32mraise\u001b[0m \u001b[0mRequestsApiError\u001b[0m\u001b[0;34m(\u001b[0m\u001b[0mmessage\u001b[0m\u001b[0;34m,\u001b[0m \u001b[0mstatus_code\u001b[0m\u001b[0;34m)\u001b[0m \u001b[0;32mfrom\u001b[0m \u001b[0mex\u001b[0m\u001b[0;34m\u001b[0m\u001b[0;34m\u001b[0m\u001b[0m\n\u001b[0m\u001b[1;32m    301\u001b[0m \u001b[0;34m\u001b[0m\u001b[0m\n",
      "\u001b[0;31mRequestsApiError\u001b[0m: \"HTTPSConnectionPool(host='api-qcon.quantum-computing.ibm.com', port=443): Read timed out. (read timeout=None)\"",
      "\nThe above exception was the direct cause of the following exception:\n",
      "\u001b[0;31mIBMQBackendApiError\u001b[0m                       Traceback (most recent call last)",
      "\u001b[0;32m<ipython-input-73-c25ea1f5e944>\u001b[0m in \u001b[0;36m<module>\u001b[0;34m\u001b[0m\n\u001b[1;32m     18\u001b[0m     \u001b[0mfile\u001b[0m \u001b[0;34m=\u001b[0m \u001b[0mopen\u001b[0m\u001b[0;34m(\u001b[0m\u001b[0mpath\u001b[0m\u001b[0;34m+\u001b[0m\u001b[0mstr\u001b[0m\u001b[0;34m(\u001b[0m\u001b[0mj\u001b[0m\u001b[0;34m)\u001b[0m\u001b[0;34m+\u001b[0m\u001b[0;34m'prep'\u001b[0m\u001b[0;34m+\u001b[0m\u001b[0;34m'sim'\u001b[0m\u001b[0;34m,\u001b[0m \u001b[0;34m\"wb\"\u001b[0m\u001b[0;34m)\u001b[0m\u001b[0;34m;\u001b[0m \u001b[0mnp\u001b[0m\u001b[0;34m.\u001b[0m\u001b[0msave\u001b[0m\u001b[0;34m(\u001b[0m\u001b[0mfile\u001b[0m\u001b[0;34m,\u001b[0m \u001b[0mrho0_prep_sim\u001b[0m\u001b[0;34m)\u001b[0m\u001b[0;34m;\u001b[0m \u001b[0mfile\u001b[0m\u001b[0;34m.\u001b[0m\u001b[0mclose\u001b[0m\u001b[0;34m;\u001b[0m\u001b[0;34m\u001b[0m\u001b[0;34m\u001b[0m\u001b[0m\n\u001b[1;32m     19\u001b[0m     \u001b[0;31m# device\u001b[0m\u001b[0;34m\u001b[0m\u001b[0;34m\u001b[0m\u001b[0;34m\u001b[0m\u001b[0m\n\u001b[0;32m---> 20\u001b[0;31m     \u001b[0mjob_dev1\u001b[0m \u001b[0;34m=\u001b[0m \u001b[0mqiskit\u001b[0m\u001b[0;34m.\u001b[0m\u001b[0mexecute\u001b[0m\u001b[0;34m(\u001b[0m\u001b[0mqst_qc1\u001b[0m\u001b[0;34m,\u001b[0m \u001b[0mbackend\u001b[0m \u001b[0;34m=\u001b[0m \u001b[0mdevice\u001b[0m\u001b[0;34m,\u001b[0m \u001b[0mshots\u001b[0m \u001b[0;34m=\u001b[0m \u001b[0mnshots\u001b[0m\u001b[0;34m)\u001b[0m\u001b[0;34m;\u001b[0m \u001b[0;31m# executes the qst\u001b[0m\u001b[0;34m\u001b[0m\u001b[0;34m\u001b[0m\u001b[0m\n\u001b[0m\u001b[1;32m     21\u001b[0m     \u001b[0mprint\u001b[0m\u001b[0;34m(\u001b[0m\u001b[0mjob_dev1\u001b[0m\u001b[0;34m.\u001b[0m\u001b[0mjob_id\u001b[0m\u001b[0;34m(\u001b[0m\u001b[0;34m)\u001b[0m\u001b[0;34m)\u001b[0m\u001b[0;34m;\u001b[0m\u001b[0;34m\u001b[0m\u001b[0;34m\u001b[0m\u001b[0m\n\u001b[1;32m     22\u001b[0m     \u001b[0mjob_monitor\u001b[0m\u001b[0;34m(\u001b[0m\u001b[0mjob_dev1\u001b[0m\u001b[0;34m)\u001b[0m\u001b[0;34m;\u001b[0m\u001b[0;34m\u001b[0m\u001b[0;34m\u001b[0m\u001b[0m\n",
      "\u001b[0;32m~/opt/anaconda3/lib/python3.8/site-packages/qiskit/execute_function.py\u001b[0m in \u001b[0;36mexecute\u001b[0;34m(experiments, backend, basis_gates, coupling_map, backend_properties, initial_layout, seed_transpiler, optimization_level, pass_manager, qobj_id, qobj_header, shots, memory, max_credits, seed_simulator, default_qubit_los, default_meas_los, schedule_los, meas_level, meas_return, memory_slots, memory_slot_size, rep_time, rep_delay, parameter_binds, schedule_circuit, inst_map, meas_map, scheduling_method, init_qubits, **run_config)\u001b[0m\n\u001b[1;32m    341\u001b[0m         \u001b[0mrun_kwargs\u001b[0m\u001b[0;34m[\u001b[0m\u001b[0;34m'parameter_binds'\u001b[0m\u001b[0;34m]\u001b[0m \u001b[0;34m=\u001b[0m \u001b[0mparameter_binds\u001b[0m\u001b[0;34m\u001b[0m\u001b[0;34m\u001b[0m\u001b[0m\n\u001b[1;32m    342\u001b[0m         \u001b[0mrun_kwargs\u001b[0m\u001b[0;34m.\u001b[0m\u001b[0mupdate\u001b[0m\u001b[0;34m(\u001b[0m\u001b[0mrun_config\u001b[0m\u001b[0;34m)\u001b[0m\u001b[0;34m\u001b[0m\u001b[0;34m\u001b[0m\u001b[0m\n\u001b[0;32m--> 343\u001b[0;31m         \u001b[0mjob\u001b[0m \u001b[0;34m=\u001b[0m \u001b[0mbackend\u001b[0m\u001b[0;34m.\u001b[0m\u001b[0mrun\u001b[0m\u001b[0;34m(\u001b[0m\u001b[0mexperiments\u001b[0m\u001b[0;34m,\u001b[0m \u001b[0;34m**\u001b[0m\u001b[0mrun_kwargs\u001b[0m\u001b[0;34m)\u001b[0m\u001b[0;34m\u001b[0m\u001b[0;34m\u001b[0m\u001b[0m\n\u001b[0m\u001b[1;32m    344\u001b[0m         \u001b[0mend_time\u001b[0m \u001b[0;34m=\u001b[0m \u001b[0mtime\u001b[0m\u001b[0;34m(\u001b[0m\u001b[0;34m)\u001b[0m\u001b[0;34m\u001b[0m\u001b[0;34m\u001b[0m\u001b[0m\n\u001b[1;32m    345\u001b[0m         \u001b[0m_log_submission_time\u001b[0m\u001b[0;34m(\u001b[0m\u001b[0mstart_time\u001b[0m\u001b[0;34m,\u001b[0m \u001b[0mend_time\u001b[0m\u001b[0;34m)\u001b[0m\u001b[0;34m\u001b[0m\u001b[0;34m\u001b[0m\u001b[0m\n",
      "\u001b[0;32m~/opt/anaconda3/lib/python3.8/site-packages/qiskit/utils/deprecation.py\u001b[0m in \u001b[0;36mwrapper\u001b[0;34m(*args, **kwargs)\u001b[0m\n\u001b[1;32m     54\u001b[0m             \u001b[0;32mif\u001b[0m \u001b[0mkwargs\u001b[0m\u001b[0;34m:\u001b[0m\u001b[0;34m\u001b[0m\u001b[0;34m\u001b[0m\u001b[0m\n\u001b[1;32m     55\u001b[0m                 \u001b[0m_rename_kwargs\u001b[0m\u001b[0;34m(\u001b[0m\u001b[0mfunc\u001b[0m\u001b[0;34m.\u001b[0m\u001b[0m__name__\u001b[0m\u001b[0;34m,\u001b[0m \u001b[0mkwargs\u001b[0m\u001b[0;34m,\u001b[0m \u001b[0mkwarg_map\u001b[0m\u001b[0;34m)\u001b[0m\u001b[0;34m\u001b[0m\u001b[0;34m\u001b[0m\u001b[0m\n\u001b[0;32m---> 56\u001b[0;31m             \u001b[0;32mreturn\u001b[0m \u001b[0mfunc\u001b[0m\u001b[0;34m(\u001b[0m\u001b[0;34m*\u001b[0m\u001b[0margs\u001b[0m\u001b[0;34m,\u001b[0m \u001b[0;34m**\u001b[0m\u001b[0mkwargs\u001b[0m\u001b[0;34m)\u001b[0m\u001b[0;34m\u001b[0m\u001b[0;34m\u001b[0m\u001b[0m\n\u001b[0m\u001b[1;32m     57\u001b[0m         \u001b[0;32mreturn\u001b[0m \u001b[0mwrapper\u001b[0m\u001b[0;34m\u001b[0m\u001b[0;34m\u001b[0m\u001b[0m\n\u001b[1;32m     58\u001b[0m     \u001b[0;32mreturn\u001b[0m \u001b[0mdecorator\u001b[0m\u001b[0;34m\u001b[0m\u001b[0;34m\u001b[0m\u001b[0m\n",
      "\u001b[0;32m~/opt/anaconda3/lib/python3.8/site-packages/qiskit/providers/ibmq/ibmqbackend.py\u001b[0m in \u001b[0;36mrun\u001b[0;34m(self, circuits, job_name, job_share_level, job_tags, experiment_id, validate_qobj, header, shots, memory, qubit_lo_freq, meas_lo_freq, schedule_los, meas_level, meas_return, memory_slots, memory_slot_size, rep_time, rep_delay, init_qubits, parameter_binds, **run_config)\u001b[0m\n\u001b[1;32m    316\u001b[0m             \u001b[0;32mif\u001b[0m \u001b[0mvalidate_qobj\u001b[0m\u001b[0;34m:\u001b[0m\u001b[0;34m\u001b[0m\u001b[0;34m\u001b[0m\u001b[0m\n\u001b[1;32m    317\u001b[0m                 \u001b[0mvalidate_qobj_against_schema\u001b[0m\u001b[0;34m(\u001b[0m\u001b[0mqobj\u001b[0m\u001b[0;34m)\u001b[0m\u001b[0;34m\u001b[0m\u001b[0;34m\u001b[0m\u001b[0m\n\u001b[0;32m--> 318\u001b[0;31m         \u001b[0;32mreturn\u001b[0m \u001b[0mself\u001b[0m\u001b[0;34m.\u001b[0m\u001b[0m_submit_job\u001b[0m\u001b[0;34m(\u001b[0m\u001b[0mqobj\u001b[0m\u001b[0;34m,\u001b[0m \u001b[0mjob_name\u001b[0m\u001b[0;34m,\u001b[0m \u001b[0mapi_job_share_level\u001b[0m\u001b[0;34m,\u001b[0m \u001b[0mjob_tags\u001b[0m\u001b[0;34m,\u001b[0m \u001b[0mexperiment_id\u001b[0m\u001b[0;34m)\u001b[0m\u001b[0;34m\u001b[0m\u001b[0;34m\u001b[0m\u001b[0m\n\u001b[0m\u001b[1;32m    319\u001b[0m \u001b[0;34m\u001b[0m\u001b[0m\n\u001b[1;32m    320\u001b[0m     \u001b[0;32mdef\u001b[0m \u001b[0m_get_run_config\u001b[0m\u001b[0;34m(\u001b[0m\u001b[0mself\u001b[0m\u001b[0;34m,\u001b[0m \u001b[0;34m**\u001b[0m\u001b[0mkwargs\u001b[0m\u001b[0;34m:\u001b[0m \u001b[0mAny\u001b[0m\u001b[0;34m)\u001b[0m \u001b[0;34m->\u001b[0m \u001b[0mDict\u001b[0m\u001b[0;34m:\u001b[0m\u001b[0;34m\u001b[0m\u001b[0;34m\u001b[0m\u001b[0m\n",
      "\u001b[0;32m~/opt/anaconda3/lib/python3.8/site-packages/qiskit/providers/ibmq/ibmqbackend.py\u001b[0m in \u001b[0;36m_submit_job\u001b[0;34m(self, qobj, job_name, job_share_level, job_tags, experiment_id)\u001b[0m\n\u001b[1;32m    377\u001b[0m             \u001b[0;32mif\u001b[0m \u001b[0;34m'Error code: 3458'\u001b[0m \u001b[0;32min\u001b[0m \u001b[0mstr\u001b[0m\u001b[0;34m(\u001b[0m\u001b[0mex\u001b[0m\u001b[0;34m)\u001b[0m\u001b[0;34m:\u001b[0m\u001b[0;34m\u001b[0m\u001b[0;34m\u001b[0m\u001b[0m\n\u001b[1;32m    378\u001b[0m                 \u001b[0;32mraise\u001b[0m \u001b[0mIBMQBackendJobLimitError\u001b[0m\u001b[0;34m(\u001b[0m\u001b[0;34m'Error submitting job: {}'\u001b[0m\u001b[0;34m.\u001b[0m\u001b[0mformat\u001b[0m\u001b[0;34m(\u001b[0m\u001b[0mstr\u001b[0m\u001b[0;34m(\u001b[0m\u001b[0mex\u001b[0m\u001b[0;34m)\u001b[0m\u001b[0;34m)\u001b[0m\u001b[0;34m)\u001b[0m \u001b[0;32mfrom\u001b[0m \u001b[0mex\u001b[0m\u001b[0;34m\u001b[0m\u001b[0;34m\u001b[0m\u001b[0m\n\u001b[0;32m--> 379\u001b[0;31m             \u001b[0;32mraise\u001b[0m \u001b[0mIBMQBackendApiError\u001b[0m\u001b[0;34m(\u001b[0m\u001b[0;34m'Error submitting job: {}'\u001b[0m\u001b[0;34m.\u001b[0m\u001b[0mformat\u001b[0m\u001b[0;34m(\u001b[0m\u001b[0mstr\u001b[0m\u001b[0;34m(\u001b[0m\u001b[0mex\u001b[0m\u001b[0;34m)\u001b[0m\u001b[0;34m)\u001b[0m\u001b[0;34m)\u001b[0m \u001b[0;32mfrom\u001b[0m \u001b[0mex\u001b[0m\u001b[0;34m\u001b[0m\u001b[0;34m\u001b[0m\u001b[0m\n\u001b[0m\u001b[1;32m    380\u001b[0m \u001b[0;34m\u001b[0m\u001b[0m\n\u001b[1;32m    381\u001b[0m         \u001b[0;31m# Error in the job after submission:\u001b[0m\u001b[0;34m\u001b[0m\u001b[0;34m\u001b[0m\u001b[0;34m\u001b[0m\u001b[0m\n",
      "\u001b[0;31mIBMQBackendApiError\u001b[0m: 'Error submitting job: \"HTTPSConnectionPool(host=\\'api-qcon.quantum-computing.ibm.com\\', port=443): Read timed out. (read timeout=None)\"'"
     ]
    }
   ],
   "source": [
    "th_min = 0; th_max = math.pi/2; N = 10; dth = (th_max-th_min)/N; th = -dth + 10**-1; thv = np.zeros(N+1)\n",
    "for j in range(0, N+1):\n",
    "    qr = QuantumRegister(2)\n",
    "    qc = qiskit.QuantumCircuit(qr)\n",
    "    th += dth\n",
    "    thv[j] = th \n",
    "    \n",
    "    # State preparation\n",
    "    th1 = th; ph1 = 0; lb1 = 0 # angles for the state preparation\n",
    "    qc.u(th1, ph1, lb1, qr[0]); #print('prep = ',th1, ph1, lb1)\n",
    "    # qstate tomography for rho\n",
    "    qst_qc1 = state_tomography_circuits(qc, [qr[0],qr[1]]); # defines the qcircuit to make qst\n",
    "    # simulator\n",
    "    job_sim1 = qiskit.execute(qst_qc1, backend = simulator, shots = nshots); # executes the qst\n",
    "    qstf_qc_sim1 = StateTomographyFitter(job_sim1.result(), qst_qc1); # fits the data to extract rho\n",
    "    rho10_prep_sim = qstf_qc_sim1.fit(method = 'lstsq');\n",
    "    rho0_prep_sim = pTraceL_num(2, 2, rho10_prep_sim)\n",
    "    file = open(path+str(j)+'prep'+'sim', \"wb\"); np.save(file, rho0_prep_sim); file.close;\n",
    "    # device\n",
    "    job_dev1 = qiskit.execute(qst_qc1, backend = device, shots = nshots); # executes the qst\n",
    "    print(job_dev1.job_id());\n",
    "    job_monitor(job_dev1);\n",
    "    job_dev_mit1 = meas_filter.apply(job_dev1.result(), method='least_squares'); # error mitigation\n",
    "    qstf_qc_dev1 = StateTomographyFitter(job_dev_mit1, qst_qc1); # fits the data to extract rho\n",
    "    rho10_prepE = qstf_qc_dev1.fit(method = 'lstsq');\n",
    "    rho0_prepE = pTraceL_num(2, 2, rho10_prepE)\n",
    "    file = open(path+str(j)+'prep'+'dev', \"wb\"); np.save(file, rho0_prepE); file.close;\n",
    "    '''\n",
    "    # Non-revealing measurement\n",
    "    th3 = th2; ph3 = math.pi-lb2; lb3 = -math.pi-ph2; # angles for Uˆdagger\n",
    "    qc.u(th3, ph3, lb3, qr[0]); # Uˆdagger\n",
    "    qc.cx(qr[0], qr[1]) # CNOT\n",
    "    qc.u(th2, ph2, lb2, qr[0]); # Final U\n",
    "    # qstate tomography for Pi(rho)\n",
    "    qst_qc2 = state_tomography_circuits(qc, [qr[0]]); # defines the qcircuit to make qst\n",
    "    # simulator\n",
    "    job_sim2 = qiskit.execute(qst_qc2, backend = simulator, shots = nshots); # executes the qst\n",
    "    qstf_qc_sim2 = StateTomographyFitter(job_sim2.result(), qst_qc2); # fits the data to extract rho\n",
    "    rho0_meas = qstf_qc_sim2.fit(method='lstsq');\n",
    "    file = open(path+str(j)+'meas'+'sim', \"wb\"); np.save(file, rho0_meas); file.close;\n",
    "    # device\n",
    "    job_dev2 = qiskit.execute(qst_qc2, backend = device, shots = nshots); # executes the qst\n",
    "    print(job_dev2.job_id());\n",
    "    job_monitor(job_dev2);\n",
    "    job_dev_mit2 = meas_filter.apply(job_dev2.result(), method='least_squares'); # error mitigation\n",
    "    qstf_qc_dev2 = StateTomographyFitter(job_dev_mit2.result(), qst_qc2); # fits the data to extract rho\n",
    "    rho0_measE = qstf_qc_dev2.fit(method='lstsq');\n",
    "    file = open(path+str(j)+'meas'+'dev', \"wb\"); np.save(file, rho0_measE); file.close;\n",
    "    '''"
   ]
  },
  {
   "cell_type": "code",
   "execution_count": 44,
   "metadata": {},
   "outputs": [
    {
     "name": "stdout",
     "output_type": "stream",
     "text": [
      "th =  0.1 , P =  0.9752953993927822 , C =  0.9784408880152994 , S =  3.072619438193591e-05 , PE =  0.9021718949493143 , CE =  0.8913686845033462 , SE =  -2.220446049250313e-16\n",
      "th =  0.25707963267948963 , P =  0.8829837997294774 , C =  0.8746663758118112 , S =  2.220446049250313e-16 , PE =  0.830440814555092 , CE =  0.8116626764474815 , SE =  0.0\n",
      "th =  0.4141592653589793 , P =  0.7497376383505936 , C =  0.7559840866692327 , S =  -2.220446049250313e-16 , PE =  0.7057631035509262 , CE =  0.702765150865797 , SE =  0.0\n",
      "th =  0.571238898038469 , P =  0.5894290353630852 , C =  0.6071995751862327 , S =  0.012796342372893843 , PE =  0.5610797256138276 , CE =  0.5820181910233337 , SE =  0.0\n",
      "th =  0.7283185307179586 , P =  0.45030809694740204 , C =  0.45177003636587254 , S =  0.0 , PE =  0.4520417867526365 , CE =  0.44793352261692715 , SE =  2.220446049250313e-16\n",
      "th =  0.8853981633974483 , P =  0.3043044961271205 , C =  0.31749544057555007 , S =  0.006593048572540061 , PE =  0.30356417780619327 , CE =  0.3103926839740821 , SE =  0.0\n",
      "th =  1.042477796076938 , P =  0.18506646786271197 , C =  0.18957251950524037 , S =  0.0010444223880768932 , PE =  0.20192942841944428 , CE =  0.20171549770525096 , SE =  1.1102230246251565e-16\n",
      "th =  1.1995574287564277 , P =  0.10630731891543743 , C =  0.10371380725047413 , S =  2.220446049250313e-16 , PE =  0.1227582633342732 , CE =  0.12692873709621322 , SE =  0.0\n",
      "th =  1.3566370614359173 , P =  0.03145650714744308 , C =  0.03190908807804514 , S =  2.220446049250313e-16 , PE =  0.054461055654960955 , CE =  0.052755757490665134 , SE =  2.220446049250313e-16\n",
      "th =  1.513716694115407 , P =  0.002060787139830933 , C =  0.002507971817096205 , S =  0.0 , PE =  0.010184974234026978 , CE =  0.009392061571921104 , SE =  0.0\n",
      "th =  1.6707963267948966 , P =  0.006349288308959644 , C =  0.008010181700110646 , S =  0.0021390318870546654 , PE =  1.3930639558012992e-05 , CE =  0.0037047732319369316 , SE =  0.007689327001572321\n"
     ]
    }
   ],
   "source": [
    "Pv = np.zeros(N+1); Cv = np.zeros(N+1); Sv = np.zeros(N+1)\n",
    "PvE = np.zeros(N+1); CvE = np.zeros(N+1); SvE = np.zeros(N+1)\n",
    "for j in range(0, N+1):\n",
    "    file = open(path+str(j)+'prep'+'sim', \"rb\"); rho0_prep = np.load(file)\n",
    "    th2, ph2, lb2 = 0, 0, 0 # P in relation to sigma_z, & we measure in this basis\n",
    "    Pv[j] = predictability_vn(rho0_prep, th2, ph2)\n",
    "    Sv[j] = linear_entropy(rho0_prep)\n",
    "    file = open(path+str(j)+'prep'+'dev', \"rb\"); rho0_prepE = np.load(file)\n",
    "    th2, ph2, lb2 = 0, 0, 0 # P in relation to sigma_z, & we measure in this basis\n",
    "    PvE[j] = predictability_vn(rho0_prepE, th2, ph2)\n",
    "    SvE[j] = linear_entropy(rho0_prepE)\n",
    "    file = open(path+str(j)+'meas'+'sim', \"rb\"); rho0_meas = np.load(file)\n",
    "    Cv[j] = coherence_re(rho0_meas, -math.pi/2, 0) # C with reference to sigma_x\n",
    "    file = open(path+str(j)+'meas'+'dev', \"rb\"); rho0_measE = np.load(file)\n",
    "    CvE[j] = coherence_re(rho0_measE, -math.pi/2, 0) # C with reference to sigma_x\n",
    "    print('th = ', thv[j], ', P = ', Pv[j], ', C = ', Cv[j], ', S = ', Sv[j],\n",
    "          ', PE = ', PvE[j], ', CE = ', CvE[j], ', SE = ', SvE[j])"
   ]
  },
  {
   "cell_type": "code",
   "execution_count": 48,
   "metadata": {},
   "outputs": [
    {
     "data": {
      "image/png": "[encoded data removed]",
      "text/plain": [
       "<Figure size 500x400 with 1 Axes>"
      ]
     },
     "metadata": {
      "needs_background": "light"
     },
     "output_type": "display_data"
    }
   ],
   "source": [
    "import matplotlib\n",
    "matplotlib.rcParams.update({'font.size':12}); plt.figure(figsize = (5,4), dpi = 100)\n",
    "plt.plot(thv, Pv, label = r'$P_{vn}^{\\sigma_{z}}(\\rho_{sim})$')\n",
    "plt.plot(thv, Cv, 'o', label = r'$C_{re}^{\\sigma_{x}}(\\Phi_{\\sigma_{z}}(\\rho)_{sim})$') \n",
    "#plt.plot(thv, Sv, label = r'$S_{L}(\\rho_{sim})$')\n",
    "plt.plot(thv, PvE, '-.', label = r'$P_{vn}^{\\sigma_{z}}(\\rho_{exp})$')\n",
    "plt.plot(thv, CvE, '*', label = r'$C_{re}^{\\sigma_{x}}(\\Phi_{\\sigma_{z}}(\\rho)_{exp})$') \n",
    "#plt.plot(thv, SvE, 'D', label = r'$S_{L}(\\rho_{exp})$')\n",
    "plt.xlabel(r'$\\theta$'); \n",
    "#plt.legend(loc = 'center right', bbox_to_anchor=(th_max-0.05, 0.5))\n",
    "plt.legend(loc = 'upper right')\n",
    "plt.savefig(path+'psi_plot1.png', format = 'png', dpi = 200)\n",
    "plt.show()"
   ]
  },
  {
   "cell_type": "markdown",
   "metadata": {},
   "source": [
    "### 2nd app: \n",
    "$$|\\psi\\rangle = \\cos(\\theta/2)|00\\rangle+\\sin(\\theta/2)|11\\rangle$ for $\\theta\\in[0,\\pi/2]$$\n",
    "\n",
    "Nesse caso, o estado reduzido é $$\\rho =  \\cos^{2}(\\theta/2)|0\\rangle\\langle 0| + \\sin^{2}(\\theta/2)|1\\rangle\\langle 1|$$"
   ]
  },
  {
   "cell_type": "code",
   "execution_count": 78,
   "metadata": {},
   "outputs": [],
   "source": [
    "import platform\n",
    "if platform.system() == 'Linux':\n",
    "    path = '/home/jonasmaziero/Dropbox/Research/predictability/data_rho/round1/'\n",
    "else:\n",
    "    path = '/Users/jonasmaziero/Dropbox/Research/predictability/data_rho/round1/'\n",
    "print(path) # ok!"
   ]
  },
  {
   "cell_type": "code",
   "execution_count": 79,
   "metadata": {},
   "outputs": [],
   "source": [
    "shots = 8192\n",
    "th_min = 0; th_max = math.pi/2; N = 10; dth = (th_max-th_min)/N; th = -dth + 10**-1; thv = np.zeros(N+1)\n",
    "for j in range(0, N+1):\n",
    "    qr = QuantumRegister(3); qc = qiskit.QuantumCircuit(qr)\n",
    "    th += dth; thv[j] = th; #print(thv[j]); \n",
    "    \n",
    "    # State preparation\n",
    "    th1 = th; ph1 = 0; lb1 = 0 # angles for the two-qubit state preparation\n",
    "    qc.u(th1, ph1, lb1, qr[0])\n",
    "    qc.cx(qr[0], qr[1])\n",
    "    # qstate tomography for rho\n",
    "    qst_qc = state_tomography_circuits(qc, [qr[1]]) # defines the qcircuit to make qst\n",
    "    # simulator\n",
    "    job = qiskit.execute(qst_qc, backend = simulator, shots = nshots) # executes the qst\n",
    "    qstf_qc = StateTomographyFitter(job.result(), qst_qc) # fits the data to extract rho\n",
    "    rho0_prep = qstf_qc.fit(method = 'lstsq')\n",
    "    file = open(path+str(j)+'prep'+'sim', \"wb\"); np.save(file, rho0_prep); file.close\n",
    "    # device\n",
    "    job = qiskit.execute(qst_qc, backend = device, shots = nshots) # executes the qst\n",
    "    qstf_qc = StateTomographyFitter(job.result(), qst_qc) # fits the data to extract rho\n",
    "    rho0_prepE = qstf_qc.fit(method = 'lstsq')\n",
    "    file = open(path+str(j)+'prep'+'dev', \"wb\"); np.save(file, rho0_prepE); file.close\n",
    "    \n",
    "    # Non-revealing measurement\n",
    "    th3 = th2; ph3 = math.pi-lb2; lb3 = -math.pi-ph2; # angles for U^dagger\n",
    "    qc.u(th3, ph3, lb3, qr[1]); # Uˆdagger\n",
    "    qc.cx(qr[1], qr[2]); # CNOT\n",
    "    qc.u(th2, ph2, lb2, qr[1]); # the last U\n",
    "    # qstate tomography for Pi(rho)\n",
    "    qst_qc = state_tomography_circuits(qc, [qr[1]]) # defines the qcircuit to make qst\n",
    "    # simulator\n",
    "    job = qiskit.execute(qst_qc, backend = simulator, shots = nshots) # executes the qst\n",
    "    qstf_qc = StateTomographyFitter(job.result(), qst_qc) # fits the data to extract rho\n",
    "    rho0_meas = qstf_qc.fit(method='lstsq') \n",
    "    file = open(path+str(j)+'meas'+'sim', \"wb\"); np.save(file, rho0_meas); file.close\n",
    "    # device\n",
    "    job = qiskit.execute(qst_qc, backend = device, shots = nshots) # executes the qst\n",
    "    qstf_qc = StateTomographyFitter(job.result(), qst_qc) # fits the data to extract rho\n",
    "    rho0_measE = qstf_qc.fit(method='lstsq') \n",
    "    file = open(path+str(j)+'meas'+'dev', \"wb\"); np.save(file, rho0_measE); file.close"
   ]
  },
  {
   "cell_type": "code",
   "execution_count": 80,
   "metadata": {},
   "outputs": [
    {
     "name": "stdout",
     "output_type": "stream",
     "text": [
      "\r",
      "Job Status: job has successfully run\n"
     ]
    }
   ],
   "source": [
    "job_monitor(job)"
   ]
  },
  {
   "cell_type": "code",
   "execution_count": 82,
   "metadata": {},
   "outputs": [
    {
     "name": "stdout",
     "output_type": "stream",
     "text": [
      "th =  0.1 , P =  0.9763587926611335 , C =  0.9651140581686878 , S =  0.004533112049102561 , PE =  0.7514076254138233 , CE =  0.5797833959219881 , SE =  0.07449975609779402\n",
      "th =  0.25707963267948963 , P =  0.8868148164620783 , C =  0.8797941344841596 , S =  0.02977296710014321 , PE =  0.6885192690938824 , CE =  0.5425106052880965 , SE =  0.10252657532691867\n",
      "th =  0.4141592653589793 , P =  0.7642835945489004 , C =  0.7444061788481758 , S =  0.0740714073181159 , PE =  0.5839349086365273 , CE =  0.4817028472280118 , SE =  0.14860293269157387\n",
      "th =  0.571238898038469 , P =  0.5945431698787081 , C =  0.6076804323124576 , S =  0.148688465356827 , PE =  0.4745253775289242 , CE =  0.3902125162517966 , SE =  0.20472806692123435\n",
      "th =  0.7283185307179586 , P =  0.4475914534573774 , C =  0.45613573929711426 , S =  0.22341474890708946 , PE =  0.37741714060514486 , CE =  0.3036224359677458 , SE =  0.2567662298679352\n",
      "th =  0.8853981633974483 , P =  0.3102879477694489 , C =  0.306713594724637 , S =  0.30083197355270364 , PE =  0.25141932815899426 , CE =  0.23165077001284715 , SE =  0.3333402276039126\n",
      "th =  1.042477796076938 , P =  0.2057889365881278 , C =  0.1904017171957188 , S =  0.3640630841255189 , PE =  0.16740161568000755 , CE =  0.14396283185589737 , SE =  0.38577815890312184\n",
      "th =  1.1995574287564277 , P =  0.09687607808564735 , C =  0.10303892112991753 , S =  0.4343327879905702 , PE =  0.0843717600086189 , CE =  0.07897352625259312 , SE =  0.44056567549705494\n",
      "th =  1.3566370614359173 , P =  0.027555701348791373 , C =  0.036724278757682326 , S =  0.4809506833553314 , PE =  0.03211256602646362 , CE =  0.031001095730401645 , SE =  0.47621360421180703\n",
      "th =  1.513716694115407 , P =  0.002255911634244878 , C =  0.00319568746633999 , S =  0.4983787238597869 , PE =  0.00548671325853789 , CE =  0.004208304406800285 , SE =  0.4948422312736509\n",
      "th =  1.6707963267948966 , P =  0.007597781902998202 , C =  0.006331826316653229 , S =  0.4944828450679779 , PE =  0.004189426574454869 , CE =  0.0026169375709316255 , SE =  0.49545201659202576\n"
     ]
    }
   ],
   "source": [
    "Pv = np.zeros(N+1); Cv = np.zeros(N+1); Sv = np.zeros(N+1)\n",
    "PvE = np.zeros(N+1); CvE = np.zeros(N+1); SvE = np.zeros(N+1)\n",
    "for j in range(0, N+1):\n",
    "    file = open(path+str(j)+'prep'+'sim', \"rb\"); rho0_prep = np.load(file)\n",
    "    th2, ph2, lb2 = 0, 0, 0 # P in relation to sigma_z, & we measure in this basis\n",
    "    Pv[j] = predictability_vn(rho0_prep, th2, ph2)\n",
    "    Sv[j] = linear_entropy(rho0_prep)\n",
    "    file = open(path+str(j)+'prep'+'dev', \"rb\"); rho0_prepE = np.load(file)\n",
    "    th2, ph2, lb2 = 0, 0, 0 # P in relation to sigma_z, & we measure in this basis\n",
    "    PvE[j] = predictability_vn(rho0_prepE, th2, ph2)\n",
    "    SvE[j] = linear_entropy(rho0_prepE)\n",
    "    file = open(path+str(j)+'meas'+'sim', \"rb\"); rho0_meas = np.load(file)\n",
    "    Cv[j] = coherence_re(rho0_meas, -math.pi/2, 0) # C with reference to sigma_x\n",
    "    file = open(path+str(j)+'meas'+'dev', \"rb\"); rho0_measE = np.load(file)\n",
    "    CvE[j] = coherence_re(rho0_measE, -math.pi/2, 0) # C with reference to sigma_x\n",
    "    print('th = ', thv[j], ', P = ', Pv[j], ', C = ', Cv[j], ', S = ', Sv[j],\n",
    "          ', PE = ', PvE[j], ', CE = ', CvE[j], ', SE = ', SvE[j])"
   ]
  },
  {
   "cell_type": "code",
   "execution_count": 88,
   "metadata": {},
   "outputs": [
    {
     "data": {
      "image/png": "[encoded data removed]",
      "text/plain": [
       "<Figure size 500x400 with 1 Axes>"
      ]
     },
     "metadata": {
      "needs_background": "light"
     },
     "output_type": "display_data"
    }
   ],
   "source": [
    "matplotlib.rcParams.update({'font.size':12}); plt.figure(figsize = (5,4), dpi = 100)\n",
    "plt.plot(thv, Pv, label = r'$P_{vn}^{\\sigma_{z}}(\\rho_{sim})$')\n",
    "plt.plot(thv, Cv, 'o', label = r'$C_{re}^{\\sigma_{x}}(\\Phi_{\\sigma_{z}}(\\rho)_{sim})$') \n",
    "plt.plot(thv, Sv, label = r'$S_{L}(\\rho_{sim})$')\n",
    "plt.plot(thv, PvE, label = r'$P_{vn}^{\\sigma_{z}}(\\rho_{exp})$')\n",
    "plt.plot(thv, CvE, '*', label = r'$C_{re}^{\\sigma_{x}}(\\Phi_{\\sigma_{z}}(\\rho)_{exp})$') \n",
    "plt.plot(thv, SvE, 'D', label = r'$S_{L}(\\rho_{exp})$')\n",
    "plt.xlabel(r'$\\theta$'); \n",
    "#plt.legend(loc = 'center right', bbox_to_anchor=(th_max-0.05, 0.5))\n",
    "#plt.legend(loc = 'upper right')\n",
    "plt.savefig(path+'rho1.eps', format = 'eps', dpi = 200)\n",
    "plt.show()"
   ]
  },
  {
   "cell_type": "markdown",
   "metadata": {},
   "source": [
    "### 3rd app: \n",
    "Random states"
   ]
  },
  {
   "cell_type": "code",
   "execution_count": 96,
   "metadata": {},
   "outputs": [],
   "source": [
    "from qiskit.circuit.random import random_circuit\n",
    "#nq = 2 # number of qubits\n",
    "#de = 3 # depth = layers of operations \n",
    "#circ = random_circuit(nq, de, measure=False)\n",
    "#circ.draw(output = 'mpl')"
   ]
  },
  {
   "cell_type": "code",
   "execution_count": 98,
   "metadata": {},
   "outputs": [
    {
     "name": "stdout",
     "output_type": "stream",
     "text": [
      "P =  0.1717138844502002 , C =  0.17657930179897097\n",
      "P =  0.9996508830637357 , C =  0.9999947976565453\n"
     ]
    },
    {
     "ename": "TypeError",
     "evalue": "can't convert complex to float",
     "output_type": "error",
     "traceback": [
      "\u001b[0;31m---------------------------------------------------------------------------\u001b[0m",
      "\u001b[0;31mTypeError\u001b[0m                                 Traceback (most recent call last)",
      "\u001b[0;32m<ipython-input-98-61a46b944be3>\u001b[0m in \u001b[0;36m<module>\u001b[0;34m\u001b[0m\n\u001b[1;32m     26\u001b[0m     \u001b[0mrho1_meas\u001b[0m \u001b[0;34m=\u001b[0m \u001b[0mqstf_qc\u001b[0m\u001b[0;34m.\u001b[0m\u001b[0mfit\u001b[0m\u001b[0;34m(\u001b[0m\u001b[0mmethod\u001b[0m\u001b[0;34m=\u001b[0m\u001b[0;34m'lstsq'\u001b[0m\u001b[0;34m)\u001b[0m\u001b[0;34m;\u001b[0m \u001b[0;31m#print('Phi(rho) = ', rho1_meas)\u001b[0m\u001b[0;34m\u001b[0m\u001b[0;34m\u001b[0m\u001b[0m\n\u001b[1;32m     27\u001b[0m     \u001b[0mthc\u001b[0m\u001b[0;34m,\u001b[0m \u001b[0mphc\u001b[0m \u001b[0;34m=\u001b[0m \u001b[0;34m-\u001b[0m\u001b[0mmath\u001b[0m\u001b[0;34m.\u001b[0m\u001b[0mpi\u001b[0m\u001b[0;34m/\u001b[0m\u001b[0;36m2\u001b[0m\u001b[0;34m,\u001b[0m \u001b[0;36m0\u001b[0m\u001b[0;34m;\u001b[0m \u001b[0;31m# C with reference to sigma_x\u001b[0m\u001b[0;34m\u001b[0m\u001b[0;34m\u001b[0m\u001b[0m\n\u001b[0;32m---> 28\u001b[0;31m     \u001b[0mCv\u001b[0m\u001b[0;34m[\u001b[0m\u001b[0mj\u001b[0m\u001b[0;34m]\u001b[0m \u001b[0;34m=\u001b[0m \u001b[0mcoherence_re\u001b[0m\u001b[0;34m(\u001b[0m\u001b[0mrho1_meas\u001b[0m\u001b[0;34m,\u001b[0m \u001b[0mthc\u001b[0m\u001b[0;34m,\u001b[0m \u001b[0mphc\u001b[0m\u001b[0;34m)\u001b[0m\u001b[0;34m\u001b[0m\u001b[0;34m\u001b[0m\u001b[0m\n\u001b[0m\u001b[1;32m     29\u001b[0m \u001b[0;34m\u001b[0m\u001b[0m\n\u001b[1;32m     30\u001b[0m     \u001b[0mprint\u001b[0m\u001b[0;34m(\u001b[0m\u001b[0;34m'P = '\u001b[0m\u001b[0;34m,\u001b[0m \u001b[0mPv\u001b[0m\u001b[0;34m[\u001b[0m\u001b[0mj\u001b[0m\u001b[0;34m]\u001b[0m\u001b[0;34m,\u001b[0m \u001b[0;34m', C = '\u001b[0m\u001b[0;34m,\u001b[0m \u001b[0mCv\u001b[0m\u001b[0;34m[\u001b[0m\u001b[0mj\u001b[0m\u001b[0;34m]\u001b[0m\u001b[0;34m)\u001b[0m\u001b[0;34m\u001b[0m\u001b[0;34m\u001b[0m\u001b[0m\n",
      "\u001b[0;32m~/anaconda3/lib/python3.8/site-packages/sympy/core/expr.py\u001b[0m in \u001b[0;36m__float__\u001b[0;34m(self)\u001b[0m\n\u001b[1;32m    355\u001b[0m             \u001b[0;32mreturn\u001b[0m \u001b[0mfloat\u001b[0m\u001b[0;34m(\u001b[0m\u001b[0mresult\u001b[0m\u001b[0;34m)\u001b[0m\u001b[0;34m\u001b[0m\u001b[0;34m\u001b[0m\u001b[0m\n\u001b[1;32m    356\u001b[0m         \u001b[0;32mif\u001b[0m \u001b[0mresult\u001b[0m\u001b[0;34m.\u001b[0m\u001b[0mis_number\u001b[0m \u001b[0;32mand\u001b[0m \u001b[0mresult\u001b[0m\u001b[0;34m.\u001b[0m\u001b[0mas_real_imag\u001b[0m\u001b[0;34m(\u001b[0m\u001b[0;34m)\u001b[0m\u001b[0;34m[\u001b[0m\u001b[0;36m1\u001b[0m\u001b[0;34m]\u001b[0m\u001b[0;34m:\u001b[0m\u001b[0;34m\u001b[0m\u001b[0;34m\u001b[0m\u001b[0m\n\u001b[0;32m--> 357\u001b[0;31m             \u001b[0;32mraise\u001b[0m \u001b[0mTypeError\u001b[0m\u001b[0;34m(\u001b[0m\u001b[0;34m\"can't convert complex to float\"\u001b[0m\u001b[0;34m)\u001b[0m\u001b[0;34m\u001b[0m\u001b[0;34m\u001b[0m\u001b[0m\n\u001b[0m\u001b[1;32m    358\u001b[0m         \u001b[0;32mraise\u001b[0m \u001b[0mTypeError\u001b[0m\u001b[0;34m(\u001b[0m\u001b[0;34m\"can't convert expression to float\"\u001b[0m\u001b[0;34m)\u001b[0m\u001b[0;34m\u001b[0m\u001b[0;34m\u001b[0m\u001b[0m\n\u001b[1;32m    359\u001b[0m \u001b[0;34m\u001b[0m\u001b[0m\n",
      "\u001b[0;31mTypeError\u001b[0m: can't convert complex to float"
     ]
    }
   ],
   "source": [
    "shots = 8192; N = 100; Pv = np.zeros(N+1); Cv = np.zeros(N+1)\n",
    "for j in range(0, N+1):\n",
    "    qr = QuantumRegister(3)\n",
    "    qc = qiskit.QuantumCircuit(qr)\n",
    "    \n",
    "    # State preparation\n",
    "    rcirc = random_circuit(2, 2, measure=False)\n",
    "    qc.append(rcirc, [qr[0], qr[1]])\n",
    "    # qstate tomography for rho\n",
    "    qst_qc = state_tomography_circuits(qc, [qr[1]]) # defines the qcircuit to make qst\n",
    "    job = qiskit.execute(qst_qc, Aer.get_backend('qasm_simulator'), shots=shots) # executes the qst\n",
    "    qstf_qc = StateTomographyFitter(job.result(), qst_qc) # fits the data to extract rho\n",
    "    rho1_prep = qstf_qc.fit(method = 'lstsq')#; print('rho = ', rho1_prep)\n",
    "    th2, ph2 = 0, 0 # P with reference to sigma_z\n",
    "    Pv[j] = predictability_vn(rho1_prep, th2, ph2)\n",
    "    \n",
    "    # Non-revealing measurement\n",
    "    th3 = th2; ph3 = math.pi-lb2; lb3 = -math.pi-ph2; # angles for U^dagger\n",
    "    qc.u(th3, ph3, lb3, qr[1]); # Uˆdagger\n",
    "    qc.cx(qr[1], qr[2]); # CNOT\n",
    "    qc.u(th2, ph2, lb2, qr[1]); # the last U\n",
    "    # qstate tomography for Pi(rho)\n",
    "    qst_qc = state_tomography_circuits(qc, [qr[1]]) # defines the qcircuit to make qst\n",
    "    job = qiskit.execute(qst_qc, Aer.get_backend('qasm_simulator'), shots=shots) # executes the qst\n",
    "    qstf_qc = StateTomographyFitter(job.result(), qst_qc) # fits the data to extract rho\n",
    "    rho1_meas = qstf_qc.fit(method='lstsq'); #print('Phi(rho) = ', rho1_meas)\n",
    "    thc, phc = -math.pi/2, 0; # C with reference to sigma_x\n",
    "    Cv[j] = coherence_re(rho1_meas, thc, phc) \n",
    "    \n",
    "    print('P = ', Pv[j], ', C = ', Cv[j])"
   ]
  },
  {
   "cell_type": "code",
   "execution_count": null,
   "metadata": {},
   "outputs": [],
   "source": [
    "matplotlib.rcParams.update({'font.size':13}); plt.figure(figsize = (5,4), dpi = 100)\n",
    "plt.plot(Pv, Cv, '.', label = r'$P_{vn}^{\\sigma_{z}}(\\rho_{sim})$')\n",
    "plt.xlabel(r'$P_{vn}^{\\sigma_{z}}(\\rho_{sim})$');\n",
    "plt.ylabel(r'$C_{re}^{\\sigma_{x}}(\\Phi_{\\sigma_{z}}(\\rho)_{sim})$')\n",
    "plt.show()"
   ]
  },
  {
   "cell_type": "markdown",
   "metadata": {},
   "source": [
    "# Two qubits\n",
    "\n",
    "## Non-selective measurements in the computational basis\n"
   ]
  },
  {
   "cell_type": "markdown",
   "metadata": {},
   "source": [
    "# Random observables\n",
    "Here we experimentally test the inequality $$C^{Y}_{re}(\\Phi_{X}(\\rho)) \\le P^{X}_{vn}(\\rho).$$\n",
    "For doing that, we can fix $\\rho$ and choose $X$ randomly or vice versa, or we can choose both $\\rho$ and $X$ randomly.\n",
    "\n",
    "Let's start with $\\rho=|0\\rangle\\langle 0|$ and $Y=\\sigma_{z}$"
   ]
  },
  {
   "cell_type": "code",
   "execution_count": 25,
   "metadata": {},
   "outputs": [],
   "source": [
    "import platform\n",
    "if platform.system() == 'Linux':\n",
    "    path = '/home/jonasmaziero/Dropbox/Research/predictability/randX/'\n",
    "else:\n",
    "    path = '/Users/jonasmaziero/Dropbox/Research/predictability/randX/'"
   ]
  },
  {
   "cell_type": "code",
   "execution_count": 134,
   "metadata": {},
   "outputs": [
    {
     "name": "stderr",
     "output_type": "stream",
     "text": [
      "ibmqfactory.load_account:WARNING:2021-07-17 00:04:55,687: Credentials are already in use. The existing account in the session will be replaced.\n"
     ]
    }
   ],
   "source": [
    "from qiskit import IBMQ\n",
    "IBMQ.load_account()\n",
    "provider = IBMQ.get_provider(hub = 'ibm-q-research-2', group = 'federal-uni-sant-1', project = 'main')\n",
    "device = provider.get_backend('ibmq_belem')\n",
    "simulator = Aer.get_backend('qasm_simulator')\n",
    "from qiskit.tools.monitor import job_monitor\n",
    "nshots = 8192\n",
    "from qiskit import *\n",
    "from qiskit.ignis.verification.tomography import state_tomography_circuits, StateTomographyFitter"
   ]
  },
  {
   "cell_type": "code",
   "execution_count": 136,
   "metadata": {},
   "outputs": [
    {
     "name": "stdout",
     "output_type": "stream",
     "text": [
      "60f249d176776b74c9ad5d67\n",
      "Job Status: job has successfully run\n",
      "60f249f35a912a9ea2603ba3\n",
      "Job Status: job has successfully run\n",
      "60f24a0865c2eb01470ec6d3\n",
      "Job Status: job has successfully run\n",
      "60f24a475a912a13e4603ba9\n",
      "Job Status: job has successfully run\n",
      "60f24a5cc50bbc2aa0d21d4d\n",
      "Job Status: job has successfully run\n",
      "60f24a6f65c2eb6d6b0ec6d9\n",
      "Job Status: job has successfully run\n",
      "60f24a8d5a912a51d4603bae\n",
      "Job Status: job has successfully run\n",
      "60f24aa98bc549f67ed963c4\n",
      "Job Status: job has successfully run\n",
      "60f24aca666099fc8987be88\n",
      "Job Status: job has successfully run\n",
      "60f24aed24ebb727931fd2d9\n",
      "Job Status: job has successfully run\n",
      "60f24b0165c2eb8bf90ec6e2\n",
      "Job Status: job has successfully run\n",
      "60f24b1865c2eb06110ec6e5\n",
      "Job Status: job has successfully run\n",
      "60f24b3976776b74f1ad5d81\n",
      "Job Status: job has successfully run\n",
      "60f24b4e811f3d7de807d3f2\n",
      "Job Status: job has successfully run\n",
      "60f24b645a912a7ba6603bbd\n",
      "Job Status: job has successfully run\n",
      "60f24b7a811f3dff0f07d3f5\n",
      "Job Status: job has successfully run\n",
      "60f24b90666099065087be93\n",
      "Job Status: job has successfully run\n",
      "60f24ba85a912a0f89603bc2\n",
      "Job Status: job has successfully run\n",
      "60f24bbd76776bfaa3ad5d86\n",
      "Job Status: job has successfully run\n",
      "60f24bd95a912a6a29603bc4\n",
      "Job Status: job has successfully run\n",
      "60f24bf0c50bbc8daad21d67\n",
      "Job Status: job has successfully run\n",
      "60f24c24811f3d2a6c07d3ff\n",
      "Job Status: job has successfully run\n",
      "60f24c3b8bc5490aa0d963d6\n",
      "Job Status: job has successfully run\n",
      "60f24c50c50bbcae3cd21d6b\n",
      "Job Status: job has successfully run\n",
      "60f24c676660995b6087bea0\n",
      "Job Status: job has successfully run\n",
      "60f24c9f76776bf000ad5d99\n",
      "Job Status: job has successfully run\n",
      "60f24cb5811f3da00207d407\n",
      "Job Status: job has successfully run\n",
      "60f24cca76776bb59aad5d9c\n",
      "Job Status: job has successfully run\n",
      "60f24ce08bc54923e6d963e2\n",
      "Job Status: job has successfully run\n",
      "60f24cf666609941c987bea6\n",
      "Job Status: job has successfully run\n",
      "60f24d0c5a912a9b32603bd6\n",
      "Job Status: job has successfully run\n",
      "60f24d228bc549d0a1d963e9\n",
      "Job Status: job has successfully run\n",
      "60f24d388bc549571ad963ec\n",
      "Job Status: job has successfully run\n",
      "60f24d4e811f3df08807d411\n",
      "Job Status: job has successfully run\n",
      "60f24d7051939cb47da3645f\n",
      "Job Status: job has successfully run\n",
      "60f24d865a912a115a603bde\n",
      "Job Status: job has successfully run\n",
      "60f24d9b666099dbd487beae\n",
      "Job Status: job has successfully run\n",
      "60f24db276776b2acaad5da8\n",
      "Job Status: job has successfully run\n",
      "60f24dc87c3f4e14c2325198\n",
      "Job Status: job has successfully run\n",
      "60f24ddc5a912a7f4d603be3\n",
      "Job Status: job has successfully run\n",
      "60f24df26660994d9187beb3\n",
      "Job Status: job has successfully run\n",
      "60f24e28811f3d2d4d07d41b\n",
      "Job Status: job has successfully run\n",
      "60f24e3ec50bbcd7bdd21d86\n",
      "Job Status: job has successfully run\n",
      "60f24e5576776b1a6aad5db3\n",
      "Job Status: job has successfully run\n",
      "60f24e687c3f4e5c9c32519f\n",
      "Job Status: job has successfully run\n",
      "60f24e807c3f4eaf5a3251a1\n",
      "Job Status: job has successfully run\n",
      "60f24e977c3f4e58453251a2\n",
      "Job Status: job has successfully run\n",
      "60f24eaa7c3f4e806b3251a4\n",
      "Job Status: job has successfully run\n",
      "60f24ec151939c1c97a36473\n",
      "Job Status: job has successfully run\n",
      "60f24ee676776b33d9ad5dbb\n",
      "Job Status: job has successfully run\n",
      "60f24efa811f3d97a307d428\n",
      "Job Status: job has successfully run\n",
      "60f24f0f5a912a812c603bf2\n",
      "Job Status: job has successfully run\n",
      "60f24f2576776b5220ad5dbe\n",
      "Job Status: job has successfully run\n",
      "60f24f3e5a912a656c603bf6\n",
      "Job Status: job has successfully run\n",
      "60f24f545a912a7d9e603bf7\n",
      "Job Status: job has successfully run\n",
      "60f24f677c3f4e12943251ab\n",
      "Job Status: job has successfully run\n",
      "60f24f7d7c3f4e06a03251ad\n",
      "Job Status: job has successfully run\n",
      "60f24f946660992daf87becf\n",
      "Job Status: job has successfully run\n",
      "60f24fab51939c574da3647f\n",
      "Job Status: job has successfully run\n",
      "60f24fc051939cf718a36481\n",
      "Job Status: job has successfully run\n",
      "60f24fd67c3f4e35523251b0\n",
      "Job Status: job has successfully run\n",
      "60f24ff46660994cc387bed5\n",
      "Job Status: job has successfully run\n",
      "60f2501a51939c897fa36483\n",
      "Job Status: job has successfully run\n",
      "60f2503e5a912a32e4603bff\n",
      "Job Status: job has successfully run\n",
      "60f2505365c2ebe9280ec722\n",
      "Job Status: job has successfully run\n",
      "60f2506724ebb7c4fa1fd31b\n",
      "Job Status: job has successfully run\n",
      "60f2507fc50bbcc2ecd21d9c\n",
      "Job Status: job has successfully run\n",
      "60f25093666099be1287bedc\n",
      "Job Status: job has successfully run\n",
      "60f250a95a912abdc1603c07\n",
      "Job Status: job has successfully run\n",
      "60f250bf5a912abbf1603c08\n",
      "Job Status: job has successfully run\n",
      "60f250d5811f3d143a07d43b\n",
      "Job Status: job has successfully run\n",
      "60f250eb24ebb73b891fd320\n",
      "Job Status: job has successfully run\n",
      "60f250fd8bc549983fd96418\n",
      "Job Status: job has successfully run\n",
      "60f2511451939cd7d6a36492\n",
      "Job Status: job has successfully run\n",
      "60f2512b76776b8d7dad5dd7\n",
      "Job Status: job has successfully run\n",
      "60f25140c50bbc38a0d21da2\n",
      "Job Status: job has successfully run\n",
      "60f2515524ebb770491fd328\n",
      "Job Status: job has successfully run\n",
      "60f2516851939c3f25a36496\n",
      "Job Status: job has successfully run\n",
      "60f2517f76776b5eadad5ddb\n",
      "Job Status: job has successfully run\n",
      "60f2519b666099e37987bee9\n",
      "Job Status: job has successfully run\n",
      "60f251b17c3f4e3fc93251c3\n",
      "Job Status: job has successfully run\n",
      "60f251c7c50bbc0a1fd21daa\n",
      "Job Status: job has successfully run\n",
      "60f251db5a912ab2f7603c1c\n",
      "Job Status: job has successfully run\n",
      "60f251ee24ebb740d11fd330\n",
      "Job Status: job has successfully run\n",
      "60f25204811f3d3acb07d44a\n",
      "Job Status: job has successfully run\n",
      "60f25218c50bbc9a33d21daf\n",
      "Job Status: job has successfully run\n",
      "60f2522b65c2eba9980ec735\n",
      "Job Status: job has successfully run\n",
      "60f2524224ebb7a42c1fd333\n",
      "Job Status: job has successfully run\n",
      "60f2525cc50bbc5f16d21db3\n",
      "Job Status: job has successfully run\n",
      "60f2527224ebb74a051fd336\n",
      "Job Status: job has successfully run\n",
      "60f2528824ebb7b52e1fd339\n",
      "Job Status: job has successfully run\n",
      "60f2529b76776b80cdad5deb\n",
      "Job Status: job has successfully run\n",
      "60f252af76776b7917ad5dec\n",
      "Job Status: job has successfully run\n",
      "60f252c5811f3d650b07d454\n",
      "Job Status: job has successfully run\n",
      "60f252da76776b1252ad5dee\n",
      "Job Status: job has successfully run\n",
      "60f252eec50bbc5b36d21dbd\n",
      "Job Status: job has successfully run\n",
      "60f2530466609904e387bef8\n",
      "Job Status: job has successfully run\n",
      "60f2531851939cb390a364aa\n",
      "Job Status: job has successfully run\n",
      "60f2532e811f3d390707d45b\n",
      "Job Status: job has successfully run\n",
      "60f2534465c2ebfbe80ec748\n",
      "Job Status: job has successfully run\n",
      "60f253566660997a8887beff\n",
      "Job Status: job has successfully run\n",
      "60f2536c811f3d387707d45f\n",
      "Job Status: job has successfully run\n",
      "60f2538251939cb2dba364b1\n",
      "Job Status: job has successfully run\n",
      "60f253977c3f4e3ef03251dc\n",
      "Job Status: job has successfully run\n",
      "60f253ab811f3de83107d463\n",
      "Job Status: job has successfully run\n",
      "60f253c151939c0421a364b5\n",
      "Job Status: job has successfully run\n",
      "60f253e576776b2d3ead5e04\n",
      "Job Status: job has successfully run\n",
      "60f253f9c50bbc8901d21dca\n",
      "Job Status: job has successfully run\n",
      "60f2540c51939cb55da364b8\n",
      "Job Status: job has successfully run\n",
      "60f2542251939c54f2a364ba\n",
      "Job Status: job has successfully run\n",
      "60f254447c3f4e12b13251e6\n",
      "Job Status: job has successfully run\n",
      "60f2545a24ebb70bd11fd355\n",
      "Job Status: job has successfully run\n",
      "60f2546e65c2eb4c940ec75c\n",
      "Job Status: job has successfully run\n",
      "60f254828bc54909b1d9644a\n",
      "Job Status: job has successfully run\n",
      "60f2549566609924bb87bf10\n",
      "Job Status: job has successfully run\n",
      "60f254a98bc549604ed9644e\n",
      "Job Status: job has successfully run\n",
      "60f254bc811f3d9a0607d46e\n",
      "Job Status: job has successfully run\n",
      "60f254d724ebb7005e1fd35e\n",
      "Job Status: job has successfully run\n",
      "60f254ea65c2ebc1110ec762\n",
      "Job Status: job has successfully run\n",
      "60f2550b24ebb738e71fd361\n",
      "Job Status: job has successfully run\n",
      "60f2551c65c2eb4e0e0ec766\n",
      "Job Status: job has successfully run\n",
      "60f25530c50bbc4db9d21dd7\n",
      "Job Status: job has successfully run\n",
      "60f2555351939c67f8a364c8\n",
      "Job Status: job has successfully run\n",
      "60f25572c50bbc5f8fd21ddc\n",
      "Job Status: job has successfully run\n",
      "60f2558a65c2eb73950ec76b\n",
      "Job Status: job has successfully run\n",
      "60f2559e666099997387bf19\n",
      "Job Status: job has successfully run\n",
      "60f255b2c50bbc60ccd21de1\n",
      "Job Status: job has successfully run\n",
      "60f255d524ebb73ba41fd36b\n",
      "Job Status: job has successfully run\n",
      "60f2562351939c0fb9a364d3\n",
      "Job Status: job has successfully run\n",
      "60f2565a76776b695fad5e1b\n",
      "Job Status: job has successfully run\n",
      "60f2568966609981d787bf1f\n",
      "Job Status: job has successfully run\n",
      "60f256b476776b1297ad5e1e\n",
      "Job Status: job has successfully run\n",
      "60f256d651939c3e00a364d9\n"
     ]
    },
    {
     "name": "stdout",
     "output_type": "stream",
     "text": [
      "Job Status: job has successfully run\n",
      "60f256fd7c3f4eb869325206\n",
      "Job Status: job has successfully run\n",
      "60f2572665c2eb28140ec778\n",
      "Job Status: job has successfully run\n",
      "60f2575176776b40fbad5e26\n",
      "Job Status: job has successfully run\n",
      "60f2577a5a912a9e04603c55\n",
      "Job Status: job has successfully run\n",
      "60f257a38bc549c01cd96471\n",
      "Job Status: job has successfully run\n",
      "60f257c6c50bbce0bdd21df3\n",
      "Job Status: job has successfully run\n",
      "60f257e751939c20a9a364e7\n",
      "Job Status: job has successfully run\n",
      "60f2580a51939c7c9fa364e8\n",
      "Job Status: job has successfully run\n",
      "60f2583fc50bbc433fd21df8\n",
      "Job Status: job has successfully run\n",
      "60f2587b8bc5492ebcd9647a\n",
      "Job Status: job has successfully run\n",
      "60f258b576776b0141ad5e36\n",
      "Job Status: job has successfully run\n",
      "60f258d665c2ebe46a0ec78c\n",
      "Job Status: job has successfully run\n",
      "60f2592d811f3d243207d4a0\n",
      "Job Status: job has successfully run\n",
      "60f25996666099cab987bf3b\n",
      "Job Status: job has successfully run\n",
      "60f259a9811f3d568407d4a5\n",
      "Job Status: job has successfully run\n",
      "60f259c751939c374ea364f6\n",
      "Job Status: job has successfully run\n",
      "60f25a2676776b5e0bad5e43\n",
      "Job Status: job has successfully run\n",
      "60f25a5366609900c487bf42\n",
      "Job Status: job has successfully run\n",
      "60f25b4e8bc549f460d96491\n",
      "Job Status: job has successfully run\n",
      "60f25b608bc549e9d0d96493\n",
      "Job Status: job has successfully run\n",
      "60f25b808bc5497f87d96495\n",
      "Job Status: job has successfully run\n",
      "60f25c8076776b8b95ad5e58\n",
      "Job Status: job has successfully run\n",
      "60f25c9424ebb7a6671fd3b0\n",
      "Job Status: job has successfully run\n",
      "60f25cb476776b29a0ad5e5a\n",
      "Job Status: job has successfully run\n",
      "60f25dab8bc5498286d964af\n",
      "Job Status: job has successfully run\n",
      "60f25dc251939cd46ea3651b\n",
      "Job Status: job has successfully run\n",
      "60f25de265c2eb0a3c0ec7bc\n",
      "Job Status: job has successfully run\n",
      "60f25eecc50bbcdf71d21e39\n",
      "Job Status: job has successfully run\n",
      "60f25f0065c2eb6fcd0ec7c9\n",
      "Job Status: job has successfully run\n",
      "60f25f1424ebb71e811fd3c5\n",
      "Job Status: job has successfully run\n",
      "60f25f5b76776bba8cad5e72\n",
      "Job Status: job has successfully run\n",
      "60f25f7d811f3d45e707d4d6\n",
      "Job Status: job has successfully run\n",
      "60f25fa08bc5491a92d964c8\n",
      "Job Status: job has successfully run\n",
      "60f25fc051939c2e9ba3652c\n",
      "Job Status: job has successfully run\n",
      "60f25fe0666099b74287bf70\n",
      "Job Status: job has successfully run\n",
      "60f25ff365c2ebdf300ec7d2\n",
      "Job Status: job has successfully run\n",
      "60f260065a912a0b3a603c96\n",
      "Job Status: job has successfully run\n",
      "60f2601b65c2eb1c0f0ec7d4\n",
      "Job Status: job has successfully run\n",
      "60f2602f8bc549374dd964d0\n",
      "Job Status: job has successfully run\n",
      "60f26041811f3d430807d4dd\n",
      "Job Status: job has successfully run\n",
      "60f26054c50bbcf6e0d21e46\n",
      "Job Status: job has successfully run\n",
      "60f2606665c2ebcd940ec7d9\n",
      "Job Status: job has successfully run\n",
      "60f260796660997fbb87bf74\n",
      "Job Status: job has successfully run\n",
      "60f2608c811f3dbd2307d4e2\n",
      "Job Status: job has successfully run\n",
      "60f260aec50bbc6d84d21e4d\n",
      "Job Status: job has successfully run\n",
      "60f260cb24ebb726731fd3d5\n",
      "Job Status: job has successfully run\n",
      "60f260e0666099730b87bf78\n",
      "Job Status: job has successfully run\n",
      "60f260f35a912a22a2603ca1\n",
      "Job Status: job has successfully run\n",
      "60f261155a912ad6b7603ca4\n",
      "Job Status: job has successfully run\n",
      "60f2612965c2ebaf940ec7e1\n",
      "Job Status: job has successfully run\n",
      "60f2613c24ebb74a321fd3dc\n",
      "Job Status: job has successfully run\n",
      "60f2615b666099593a87bf7b\n",
      "Job Status: job has successfully run\n",
      "60f2616e24ebb7845b1fd3de\n",
      "Job Status: job has successfully run\n",
      "60f261826660993a3d87bf7d\n",
      "Job Status: job has successfully run\n",
      "60f2619766609910c387bf7e\n",
      "Job Status: job has successfully run\n",
      "60f261ab811f3de05007d4ef\n",
      "Job Status: job has successfully run\n",
      "60f261bfc50bbcab91d21e59\n",
      "Job Status: job has successfully run\n",
      "60f261d26660996a6f87bf82\n",
      "Job Status: job has successfully run\n",
      "60f261e67c3f4e16ea32525b\n",
      "Job Status: job has successfully run\n",
      "60f261f95a912a722d603cb1\n",
      "Job Status: job has successfully run\n",
      "60f2620d24ebb78e051fd3e8\n",
      "Job Status: job has successfully run\n",
      "60f262255a912a581b603cb2\n",
      "Job Status: job has successfully run\n",
      "60f262387c3f4eea67325262\n",
      "Job Status: job has successfully run\n",
      "60f2624c811f3d137007d4f7\n",
      "Job Status: job has successfully run\n",
      "60f2626076776b9db8ad5e90\n",
      "Job Status: job has successfully run\n",
      "60f2627476776bd7a3ad5e92\n",
      "Job Status: job has successfully run\n",
      "60f262868bc549fcc8d964e5\n",
      "Job Status: job has successfully run\n"
     ]
    }
   ],
   "source": [
    "N = 100 # number of samples\n",
    "dth = math.pi/N; th = 0\n",
    "thv = np.zeros(N); phv = np.zeros(N); jv = np.zeros(N)\n",
    "for j in range(0, N):\n",
    "    jv[j] = j\n",
    "    qr = QuantumRegister(2); qc = qiskit.QuantumCircuit(qr)\n",
    "    # State preparation\n",
    "    th = math.acos(-1 + 2*random.random()); ph = 2*math.pi*random.random(); lb = 0\n",
    "    qc.u(th, ph, lb, qr[0])\n",
    "    qst_qc1 = state_tomography_circuits(qc, [qr[0]]); # defines the qcircuit to make qst\n",
    "    # simulator\n",
    "    job = qiskit.execute(qst_qc1, backend = simulator, shots = nshots) # executes the qst\n",
    "    qstf_qc1 = StateTomographyFitter(job.result(), qst_qc1) # fits the data to extract rho\n",
    "    rho0_prep = qstf_qc1.fit(method = 'lstsq'); #print(predictability_vn(rho0_prep, 0, 0)) # ok\n",
    "    file = open(path+str(j)+'prep'+'sim', \"wb\"); np.save(file, rho0_prep); file.close\n",
    "    # device\n",
    "    job1E = qiskit.execute(qst_qc1, backend = device, shots = nshots) # executes the qst\n",
    "    print(job1E.job_id()); job_monitor(job1E)\n",
    "    qstf_qc1E = StateTomographyFitter(job1E.result(), qst_qc1) # fits the data to extract rho\n",
    "    rho0_prepE = qstf_qc1E.fit(method = 'lstsq')\n",
    "    file = open(path+str(j)+'prep'+'dev', \"wb\"); np.save(file, rho0_prepE); file.close\n",
    "    \n",
    "    # Non-revealing measurement\n",
    "    th = math.acos(-1 + 2*random.random()); ph = 2*math.pi*random.random(); lb = 0\n",
    "    #th += dth; ph = 0; lb = 0\n",
    "    thv[j] = th; phv[j] = ph; #print(thv[j],phv[j])\n",
    "    th1 = th; ph1 = math.pi-lb; lb1 = -math.pi-ph; # angles for U^dagger\n",
    "    qc.u(th1, ph1, lb1, qr[0]); # Uˆdagger\n",
    "    qc.cx(qr[0], qr[1]); # CNOT\n",
    "    qc.u(th, ph, lb, qr[0]); # the last U\n",
    "    qst_qc2 = state_tomography_circuits(qc, [qr[0]]) # defines the qcircuit to make qst\n",
    "    # simulator\n",
    "    job2 = qiskit.execute(qst_qc2, backend = simulator, shots = nshots) # executes the qst\n",
    "    qstf_qc2 = StateTomographyFitter(job2.result(), qst_qc2) # fits the data to extract rho\n",
    "    rho0_meas = qstf_qc2.fit(method='lstsq') \n",
    "    file = open(path+str(j)+'meas'+'sim', \"wb\"); np.save(file, rho0_meas); file.close\n",
    "    # device\n",
    "    job2E = qiskit.execute(qst_qc2, backend = device, shots = nshots) # executes the qst\n",
    "    print(job2E.job_id()); job_monitor(job2E)\n",
    "    qstf_qc2E = StateTomographyFitter(job2E.result(), qst_qc2) # fits the data to extract rho\n",
    "    rho0_measE = qstf_qc2E.fit(method='lstsq') \n",
    "    file = open(path+str(j)+'meas'+'dev', \"wb\"); np.save(file, rho0_measE); file.close"
   ]
  },
  {
   "cell_type": "code",
   "execution_count": 148,
   "metadata": {},
   "outputs": [],
   "source": [
    "Pv = np.zeros(N); Cv = np.zeros(N); PvE = np.zeros(N); CvE = np.zeros(N)\n",
    "for j in range(0, N):\n",
    "    file = open(path+str(j)+'prep'+'sim', \"rb\"); rho0_prep = np.load(file)\n",
    "    Pv[j] = predictability_vn(rho0_prep, thv[j], phv[j]) # P with reference to X\n",
    "    file = open(path+str(j)+'prep'+'dev', \"rb\"); rho0_prepE = np.load(file)\n",
    "    PvE[j] = predictability_vn(rho0_prepE, thv[j], phv[j])\n",
    "    th = math.acos(-1 + 2*random.random()); ph = 2*math.pi*random.random()\n",
    "    file = open(path+str(j)+'meas'+'sim', \"rb\"); rho0_meas = np.load(file)\n",
    "    Cv[j] = coherence_re(rho0_meas, th, ph) # C with reference to sigma_z\n",
    "    file = open(path+str(j)+'meas'+'dev', \"rb\"); rho0_measE = np.load(file)\n",
    "    CvE[j] = coherence_re(rho0_measE, th, ph)"
   ]
  },
  {
   "cell_type": "code",
   "execution_count": 149,
   "metadata": {},
   "outputs": [
    {
     "data": {
      "image/png": "[encoded data removed]",
      "text/plain": [
       "<Figure size 432x288 with 1 Axes>"
      ]
     },
     "metadata": {
      "needs_background": "light"
     },
     "output_type": "display_data"
    }
   ],
   "source": [
    "plt.plot(Pv, Cv, 'v'); plt.xlim(0,1); plt.ylim(0,1); \n",
    "plt.plot([0,1],[0,1]); plt.xlabel(r'$C_{re}$'); plt.ylabel(r'$P_{vn}$'); plt.show()"
   ]
  },
  {
   "cell_type": "code",
   "execution_count": 150,
   "metadata": {},
   "outputs": [
    {
     "data": {
      "image/png": "[encoded data removed]",
      "text/plain": [
       "<Figure size 432x288 with 1 Axes>"
      ]
     },
     "metadata": {
      "needs_background": "light"
     },
     "output_type": "display_data"
    }
   ],
   "source": [
    "plt.plot(jv, Pv, '*', label = r'$P_{vn}$'); plt.plot(jv, Cv, 'o', label = r'$C_{re}$'); plt.ylim(0, 1)\n",
    "plt.legend(loc = 'upper right'); plt.show()"
   ]
  },
  {
   "cell_type": "code",
   "execution_count": 151,
   "metadata": {},
   "outputs": [
    {
     "data": {
      "image/png": "[encoded data removed]",
      "text/plain": [
       "<Figure size 432x288 with 1 Axes>"
      ]
     },
     "metadata": {
      "needs_background": "light"
     },
     "output_type": "display_data"
    }
   ],
   "source": [
    "plt.plot(PvE, CvE, 'v'); plt.xlim(0,1); plt.ylim(0,1); \n",
    "plt.plot([0,1],[0,1]); plt.xlabel(r'$C_{re}$'); plt.ylabel(r'$P_{vn}$'); plt.show()"
   ]
  },
  {
   "cell_type": "code",
   "execution_count": 152,
   "metadata": {},
   "outputs": [
    {
     "data": {
      "image/png": "[encoded data removed]",
      "text/plain": [
       "<Figure size 432x288 with 1 Axes>"
      ]
     },
     "metadata": {
      "needs_background": "light"
     },
     "output_type": "display_data"
    }
   ],
   "source": [
    "plt.plot(jv, PvE, '*', label = r'$P_{vn}$'); plt.plot(jv, CvE, 'o', label = r'$C_{re}$'); plt.ylim(0, 1)\n",
    "plt.legend(loc = 'upper right'); plt.show()"
   ]
  },
  {
   "cell_type": "code",
   "execution_count": null,
   "metadata": {},
   "outputs": [],
   "source": [
    "print()"
   ]
  }
 ],
 "metadata": {
  "kernelspec": {
   "display_name": "Python 3",
   "language": "python",
   "name": "python3"
  },
  "language_info": {
   "codemirror_mode": {
    "name": "ipython",
    "version": 3
   },
   "file_extension": ".py",
   "mimetype": "text/x-python",
   "name": "python",
   "nbconvert_exporter": "python",
   "pygments_lexer": "ipython3",
   "version": "3.8.8"
  }
 },
 "nbformat": 4,
 "nbformat_minor": 4
}
