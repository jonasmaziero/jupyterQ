{
 "cells": [
  {
   "cell_type": "code",
   "execution_count": 1,
   "metadata": {
    "slideshow": {
     "slide_type": "skip"
    }
   },
   "outputs": [],
   "source": [
    "%run init.ipynb"
   ]
  },
  {
   "cell_type": "markdown",
   "metadata": {
    "slideshow": {
     "slide_type": "slide"
    }
   },
   "source": [
    "# Ciência da Informação Quântica\n",
    "\n",
    "## Jonas Maziero\n",
    "https://sites.google.com/site/jonasmaziero/\n",
    "\n",
    "jonas.maziero@ufsm.br\n",
    "\n",
    "Sala 2045 - INPE/UFSM"
   ]
  },
  {
   "cell_type": "markdown",
   "metadata": {
    "slideshow": {
     "slide_type": "subslide"
    }
   },
   "source": [
    "### Educação e Trabalho (http://lattes.cnpq.br/1270437648097538)\n",
    "* Até 2002: Ensino Infantil, Fundamental e Médio - Faxinal do Soturno/RS\n",
    "* Mar. 2002 - Dez. 2002: Técnico em Eletrotécnica - CTISM/UFSM\n",
    "* Mar. 2003 - Set. 2007: Bacharelado em Física - UFSM\n",
    "* Out. 2007- Ago. 2009: Mestrado em Física - UFABC\n",
    "* Set. 2009 - Fev. 2012: Doutorado em Física - UFABC\n",
    "* Mar. 2012 - Set. 2012: Pós Doutorado em Física - UFSM\n",
    "* Out. 2012 - Set. 2013: Professor Adjunto de Física - Unipampa\n",
    "* Ago. 2015 - Jul. 2016: Pós Doutorado em Física - Udelar/Uruguai\n",
    "* Out. 2013 - Set. 2020: Professor Adjunto de Física - UFSM\n",
    "* Out. 2020 - hoje: Professor Associado de Física - UFSM"
   ]
  },
  {
   "cell_type": "markdown",
   "metadata": {
    "slideshow": {
     "slide_type": "subslide"
    }
   },
   "source": [
    "### Prêmios e Honrarias\n",
    "* 2018 Publons Peer Review Awards\n",
    "* 2017 Outstanding Reviewer, Journal of Physics A: Math. Theor.\n",
    "* 2017 Publons Peer Review Awards\n",
    "* 2016 Publons Sentinel of Science Award\n",
    "* 2014 Outstanding Reviewing Contribution from Annals of Physics\n",
    "* Grande Prêmio CAPES para a melhor Tese de Doutorado Brasileira de 2012.\n",
    "* Prêmio CAPES de melhor tese de doutorado de 2012 em Atronomia/Física.\n",
    "* Menção honorífica no Prêmio Prof. José Leite Lopes de Melhor Tese de Doutorado de 2012 da SBF."
   ]
  },
  {
   "cell_type": "markdown",
   "metadata": {
    "slideshow": {
     "slide_type": "subslide"
    }
   },
   "source": [
    "### Material de pesquisa, de ensino, códigos, etc\n",
    "* https://arxiv.org/search/?searchtype=author&query=Maziero%2C+J\n",
    "* https://github.com/jonasmaziero\n",
    "* https://www.overleaf.com/project\n",
    "* https://app.slack.com/client/T6QL5J1KL/C6Q1177CG"
   ]
  },
  {
   "cell_type": "markdown",
   "metadata": {
    "slideshow": {
     "slide_type": "slide"
    }
   },
   "source": [
    "# Grupo de Informação Quântica e <br> Fenômenos Emergentes\n",
    "\n",
    "https://sites.google.com/site/qiepufsm\n",
    "\n",
    "Sala 2040 - INPE/UFSM"
   ]
  },
  {
   "cell_type": "markdown",
   "metadata": {
    "slideshow": {
     "slide_type": "subslide"
    }
   },
   "source": [
    "## Temas de pesquisa\n",
    "- __Fundamentos de Mecânica Quântica__ (Complementaridade; MQ de de Broglie-Bohm; Relações de incerteza; ...).\n",
    "- __Computação e Comunicação Quânticas__ (recursos quânticos: coerência, emaranhamento, ...; Experimentos no IBMQE; Internet Quântica; ...).\n",
    "- __Sistemas Quânticos Abertos__ (Formalismo; Decoerência; Embaralhamento; ...).\n",
    "- __MQ & Relatividade__ (Teoria Unificada; Efeitos da gravidade em MQ; ...).\n",
    "- __Redes neurais artificiais__ (Aspectos fundamentais; App em previsão do tempo; Implementação em CQ; ...).\n",
    "- __Fenômenos Emergentes__ (Transições de fase; Teorias de campo médio melhoradas; Método de Monte Carlo; Computação Paralela; ...)."
   ]
  },
  {
   "cell_type": "markdown",
   "metadata": {
    "slideshow": {
     "slide_type": "subslide"
    }
   },
   "source": [
    "### Pessoas\n",
    "<img src='zfig_qiep_pessoas.png' width='700'>"
   ]
  },
  {
   "cell_type": "markdown",
   "metadata": {
    "slideshow": {
     "slide_type": "slide"
    }
   },
   "source": [
    "# Física Clássica\n",
    "\n",
    "## Mecânica Clássica - Newtoniana\n",
    "\\begin{align}\n",
    "& \\vec{F}=\\vec{0}\\Rightarrow \\vec{v}=\\text{constante}, \\ \\text{(1ª lei, lei da inércia)} \\\\\n",
    "& \\vec{a}=\\vec{F}/m, \\ \\text{(2ª lei)} \\\\\n",
    "& \\vec{F}_{a\\rightarrow b}=-\\vec{F}_{b\\rightarrow a}, \\ \\text{(3ª lei, lei a ação e reação)},\n",
    "\\end{align}\n",
    "com $\\vec{v}=\\frac{d\\vec{r}}{dt}$ e $\\vec{a}=\\frac{d\\vec{v}}{dt}$."
   ]
  },
  {
   "cell_type": "markdown",
   "metadata": {
    "slideshow": {
     "slide_type": "subslide"
    }
   },
   "source": [
    "## Mecânica Clássica - Lagrangeana\n",
    "\n",
    "## Mecânica Clássica - Hamiltoniana"
   ]
  },
  {
   "cell_type": "markdown",
   "metadata": {
    "slideshow": {
     "slide_type": "subslide"
    }
   },
   "source": [
    "## Eletrodinâmica Clássica\n",
    "\n",
    "### Equações de Maxwell\n",
    "\\begin{align}\n",
    "& \\vec{\\nabla}\\cdot\\vec{E} = \\rho/\\epsilon_{0} \\text{, } \\vec{\\nabla}\\mathrm{x}\\vec{E} = - \\partial_{t}\\vec{B} \\text{, } \\\\ \n",
    "& \\vec{\\nabla}\\cdot\\vec{B} = 0 \\text{, } \\vec{\\nabla}\\mathrm{x}\\vec{B} = \\mu_{0}\\left(\\vec{j}+\\epsilon_{0}\\partial_{t}\\vec{E}\\right),\n",
    "\\end{align}\n",
    "#### Luz como uma onda eletromagnética\n",
    "\\begin{equation}\n",
    "\\nabla^{2}\\vec{E}-\\frac{1}{c}\\partial_{tt}\\vec{E}=0\\text{, } \\nabla^{2}\\vec{B}-\\frac{1}{c}\\partial_{tt}\\vec{B}=0\n",
    "\\end{equation}\n",
    "No vácuo $\\rho=0$, $\\vec{j}=0$ e $c = \\sqrt{1/\\mu_{0}\\epsilon_{0}}\\approx 299.792.458,00\\text{ m/s}$."
   ]
  },
  {
   "cell_type": "markdown",
   "metadata": {
    "slideshow": {
     "slide_type": "subslide"
    }
   },
   "source": [
    "## Termodinâmica Clássica\n",
    "* Lei 0\n",
    "$$\\text{equilíbrio térmico} \\Rightarrow \\text{temperaturas }=$$\n",
    "* 1ª lei\n",
    "$$\\Delta U = Q-W \\text{ (conservação de energia)}$$\n",
    "* 2ª lei\n",
    "$$dS\\ge \\frac{\\delta Q}{T} \\text{ (irreversibilidade)}$$\n",
    "* 3ª lei\n",
    "$$T=0\\text{ K} \\text{ não pode ser obtida}$$"
   ]
  },
  {
   "cell_type": "markdown",
   "metadata": {
    "slideshow": {
     "slide_type": "subslide"
    }
   },
   "source": [
    "## Teoria Cinética dos Gases\n",
    "$$PV=\\frac{Nm\\langle v^{2}\\rangle}{3} \\text{ (microscópico}\\rightarrow\\text{macroscópico)}$$"
   ]
  },
  {
   "cell_type": "markdown",
   "metadata": {
    "slideshow": {
     "slide_type": "subslide"
    }
   },
   "source": [
    "## Óptica"
   ]
  },
  {
   "cell_type": "markdown",
   "metadata": {
    "slideshow": {
     "slide_type": "subslide"
    }
   },
   "source": [
    "## Ondas sonoras"
   ]
  },
  {
   "cell_type": "markdown",
   "metadata": {
    "slideshow": {
     "slide_type": "subslide"
    }
   },
   "source": [
    "## Fluidos"
   ]
  },
  {
   "cell_type": "markdown",
   "metadata": {
    "slideshow": {
     "slide_type": "slide"
    }
   },
   "source": [
    "# Velha Mecânica Quântica\n",
    "\n",
    "## Quantização da energia"
   ]
  },
  {
   "cell_type": "markdown",
   "metadata": {
    "slideshow": {
     "slide_type": "subslide"
    }
   },
   "source": [
    "## Quantização da radiação eletromagnética\n",
    "$$RE = N \\text{ fótons, com }N\\in\\mathbb{N} \\text{ e } E_{fóton}=h\\nu$$"
   ]
  },
  {
   "cell_type": "markdown",
   "metadata": {
    "slideshow": {
     "slide_type": "subslide"
    }
   },
   "source": [
    "## Dualidade onda-partícula"
   ]
  },
  {
   "cell_type": "markdown",
   "metadata": {
    "slideshow": {
     "slide_type": "slide"
    }
   },
   "source": [
    "# Mecânica Quântica\n",
    "## Eq. de Schrödinger\n",
    "$$-\\frac{\\hbar^{2}}{2m}\\nabla^{2}\\Psi(\\vec{r},t) + U(\\vec{r},t)\\Psi(\\vec{r},t) = i\\hbar\\frac{\\partial \\Psi(\\vec{r},t)}{\\partial t}$$\n",
    "### Interpretação de Born\n",
    "\\begin{equation}\n",
    "|\\Psi(\\vec{r},t)|^{2}d^{3}r = \\begin{cases} \\text{Probabilidade de, em uma medida de posição} \\\\ \\text{no instante de tempo $t$, encontrarmos o quanton} \\\\ \\text{no volume $d^{3}r$ em torno da posição $\\vec{r}$} \\end{cases}\n",
    "\\end{equation}"
   ]
  },
  {
   "cell_type": "markdown",
   "metadata": {
    "slideshow": {
     "slide_type": "subslide"
    }
   },
   "source": [
    "# Formalismo Quântico - Sistemas Fechados\n",
    "* Estados: $$|\\psi\\rangle\\in\\mathcal{H} \\text{ , com } ||\\psi||=\\sqrt{\\langle\\psi|\\psi\\rangle}=1$$\n",
    "* Observáveis e probabilidades: $$O^{\\dagger}=O=\\sum_{o}o|o\\rangle\\langle o|\\text{ e }Pr(o|\\psi)=|\\langle o|\\psi\\rangle|^{2}$$\n",
    "* Dinâmica: $$|\\psi_{t}\\rangle=U_{t}|\\psi_{0}\\rangle\\text{, }UU^{\\dagger}=U^{\\dagger}U=\\mathbb{I}\\text{, }i\\hbar\\partial_{t}U_{t}=H_{t}U_{t}$$"
   ]
  },
  {
   "cell_type": "markdown",
   "metadata": {
    "slideshow": {
     "slide_type": "subslide"
    }
   },
   "source": [
    "# Formalismo Quântico - Sistemas Abertos\n",
    "* Estados: $$\\rho\\in L(\\mathcal{H}) \\text{, }\\rho\\ge\\mathbb{O}\\text{, }Tr(\\rho)=1$$\n",
    "* Medidas: $$Pr(j)=Tr(M_{j}\\rho) \\text{, }M_{j}\\ge\\mathbb{O} \\text{, }\\sum_{j}M_{j}=\\mathbb{I}$$\n",
    "* Dinâmica: $$\\rho_{t}=\\sum_{j}K_{j}\\rho_{0}K_{j}^{\\dagger}\\text{, }\\sum_{j}K_{j}^{\\dagger}K_{j}=\\mathbb{I}$$"
   ]
  },
  {
   "cell_type": "markdown",
   "metadata": {
    "slideshow": {
     "slide_type": "slide"
    }
   },
   "source": [
    "# Computação Clássica"
   ]
  },
  {
   "cell_type": "markdown",
   "metadata": {
    "slideshow": {
     "slide_type": "slide"
    }
   },
   "source": [
    "# Computação Quântica"
   ]
  },
  {
   "cell_type": "markdown",
   "metadata": {
    "slideshow": {
     "slide_type": "subslide"
    }
   },
   "source": [
    "## Investimentos em CIQ"
   ]
  },
  {
   "cell_type": "markdown",
   "metadata": {
    "slideshow": {
     "slide_type": "subslide"
    }
   },
   "source": [
    "## Implementações do CQ\n",
    "<img src='zfig_qubits.png' width='700'>"
   ]
  },
  {
   "cell_type": "markdown",
   "metadata": {
    "slideshow": {
     "slide_type": "subslide"
    }
   },
   "source": [
    "## Aplicações de CQ"
   ]
  },
  {
   "cell_type": "code",
   "execution_count": null,
   "metadata": {
    "slideshow": {
     "slide_type": "subslide"
    }
   },
   "outputs": [],
   "source": []
  }
 ],
 "metadata": {
  "celltoolbar": "Slideshow",
  "kernelspec": {
   "display_name": "Python 3",
   "language": "python",
   "name": "python3"
  },
  "language_info": {
   "codemirror_mode": {
    "name": "ipython",
    "version": 3
   },
   "file_extension": ".py",
   "mimetype": "text/x-python",
   "name": "python",
   "nbconvert_exporter": "python",
   "pygments_lexer": "ipython3",
   "version": "3.6.6"
  }
 },
 "nbformat": 4,
 "nbformat_minor": 4
}
