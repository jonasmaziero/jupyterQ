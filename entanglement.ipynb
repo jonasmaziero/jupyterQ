{
 "cells": [
  {
   "cell_type": "code",
   "execution_count": 3,
   "metadata": {},
   "outputs": [],
   "source": [
    "%run '/Users/jonasmaziero/Dropbox/GitHub/jupyterQ/ptr.ipynb'\n",
    "%run '/Users/jonasmaziero/Dropbox/GitHub/jupyterQ/jupyterQ.ipynb'"
   ]
  },
  {
   "cell_type": "markdown",
   "metadata": {},
   "source": [
    "# Entanglement functions"
   ]
  },
  {
   "cell_type": "markdown",
   "metadata": {},
   "source": [
    "## Negativity\n",
    "\\begin{equation}\n",
    "E_{n}(\\rho) = \\frac{||T_{s}(\\rho)||_{tr}-1}{2},\n",
    "\\end{equation}\n",
    "where $T_{s} (s= a,b)$ is the partial tranpose of the state $\\rho$."
   ]
  },
  {
   "cell_type": "code",
   "execution_count": 4,
   "metadata": {},
   "outputs": [],
   "source": [
    "# outside this function, initialize: rhoTb = zeros(4,4); evals = zeros(4,1)\n",
    "def negativity(da, db, rho):\n",
    "    d = da*db\n",
    "    rhoTb = pTransposeB(da, db, rho)\n",
    "    En = (normTr(d,rhoTb) - 1)/2\n",
    "    return En"
   ]
  },
  {
   "cell_type": "markdown",
   "metadata": {},
   "source": [
    "## Concurrence\n",
    "\\begin{equation}\n",
    "C(\\rho) = \\max\\left(0,2\\sqrt{\\lambda_{\\max}} - \\sum_{j=0}^{3}\\sqrt{\\lambda_{j}}\\right),\n",
    "\\end{equation}\n",
    "with $\\lambda_{j}$ being the eigenvalues of \n",
    "\\begin{equation}\n",
    "\\rho\\tilde{\\rho} = \\rho\\sigma_{2}\\otimes\\sigma_{2}\\rho^{*}\\sigma_{2}\\otimes\\sigma_{2}\n",
    "\\end{equation}\n",
    "and $\\rho^{*}$ is the complex conjugate of rho when represented in the standard basis."
   ]
  },
  {
   "cell_type": "code",
   "execution_count": 6,
   "metadata": {},
   "outputs": [],
   "source": [
    "def concurrence(rho):\n",
    "    R = rho*tp(Pauli(2),Pauli(2))*conjugate(rho)*tp(Pauli(2),Pauli(2))\n",
    "    evals = zeros(4,1)  #####\n",
    "    ev = eVals(4, R)\n",
    "    evm = max(abs(ev[0]), abs(ev[1]), abs(ev[2]), abs(ev[3]))\n",
    "    C = 2.0*sqrt(abs(evm)) - sqrt(abs(ev[0])) - sqrt(abs(ev[1])) - sqrt(abs(ev[2])) - sqrt(abs(ev[3]))\n",
    "    if C < 0.0:\n",
    "        C = 0.0\n",
    "    return C"
   ]
  },
  {
   "cell_type": "code",
   "execution_count": null,
   "metadata": {},
   "outputs": [],
   "source": []
  }
 ],
 "metadata": {
  "kernelspec": {
   "display_name": "Python 3",
   "language": "python",
   "name": "python3"
  },
  "language_info": {
   "codemirror_mode": {
    "name": "ipython",
    "version": 3
   },
   "file_extension": ".py",
   "mimetype": "text/x-python",
   "name": "python",
   "nbconvert_exporter": "python",
   "pygments_lexer": "ipython3",
   "version": "3.6.4"
  }
 },
 "nbformat": 4,
 "nbformat_minor": 2
}
