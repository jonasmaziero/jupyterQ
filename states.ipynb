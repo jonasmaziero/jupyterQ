{
 "cells": [
  {
   "cell_type": "code",
   "execution_count": 28,
   "metadata": {},
   "outputs": [],
   "source": [
    "import platform\n",
    "if platform.system() == 'Linux':\n",
    "    %run '/home/jonasmaziero/Dropbox/GitHub/jupyterQ/jupyterQ.ipynb'\n",
    "else:\n",
    "    %run '/Users/jonasmaziero/Dropbox/GitHub/jupyterQ/jupyterQ.ipynb'"
   ]
  },
  {
   "cell_type": "code",
   "execution_count": 18,
   "metadata": {},
   "outputs": [],
   "source": [
    "r1, r2, r3 = symbols('r_{1} r_{2} r_{3}', real=True)\n",
    "c1, c2, c3 = symbols('c_{1} c_{2} c_{3}', real=True)\n",
    "a1,a2,a3,b1,b2,b3 = symbols('a_{1} a_{2} a_{3} b_{1} b_{2} b_{3}', real=True)\n",
    "c11,c12,c13,c21,c22,c23,c31,c32,c33 = symbols('c_{11} c_{12} c_{13} c_{21} c_{22} c_{23} c_{31} c_{32} c_{33}', real=True)\n",
    "w = symbols('w', real = True)"
   ]
  },
  {
   "cell_type": "markdown",
   "metadata": {},
   "source": [
    "## Computational basis"
   ]
  },
  {
   "cell_type": "code",
   "execution_count": 19,
   "metadata": {},
   "outputs": [],
   "source": [
    "def cb(d, j):\n",
    "    cbs = zeros(d,1); cbs[j] = 1\n",
    "    return cbs"
   ]
  },
  {
   "cell_type": "markdown",
   "metadata": {},
   "source": [
    "## Bell basis\n",
    "\\begin{align}\n",
    "& |\\Phi_{+}\\rangle = |B_{00}\\rangle = (|00\\rangle+|11\\rangle)/\\sqrt{2}\\text{, }\n",
    "|\\Psi_{+}\\rangle = |B_{01}\\rangle = (|01\\rangle+|10\\rangle)/\\sqrt{2},  \\\\\n",
    "& |\\Phi_{-}\\rangle = |B_{10}\\rangle = (|00\\rangle-|11\\rangle)/\\sqrt{2},\n",
    "|\\Psi_{-}\\rangle = |B_{11}\\rangle = (|01\\rangle-|10\\rangle)/\\sqrt{2}.\n",
    "\\end{align}"
   ]
  },
  {
   "cell_type": "code",
   "execution_count": 20,
   "metadata": {},
   "outputs": [],
   "source": [
    "def Bell(j,k):\n",
    "    if j == 0 and k == 0:\n",
    "        return Matrix([[1/sqrt(2)],[0],[0],[1/sqrt(2)]]) # phi+\n",
    "    elif j == 0 and k == 1:\n",
    "        return Matrix([[0],[1/sqrt(2)],[1/sqrt(2)],[0]]) # psi+\n",
    "    elif j == 1 and k == 0:\n",
    "        return Matrix([[1/sqrt(2)],[0],[0],[-1/sqrt(2)]]) # phi-\n",
    "    elif j == 1 and k == 1:\n",
    "        return Matrix([[0],[1/sqrt(2)],[-1/sqrt(2)],[0]]) # psi-"
   ]
  },
  {
   "cell_type": "markdown",
   "metadata": {},
   "source": [
    "## One-qubit states\n",
    "\\begin{equation}\n",
    "\\rho_{qb} = \\frac{1}{2}\\left(\\sigma_{0}+\\sum_{j=1}r_{j}\\sigma_{j}\\right)\n",
    "= \n",
    "\\frac{1}{2}\n",
    "\\begin{bmatrix}\n",
    "1+r_{3} & r_{1}-ir_{2} \\\\\n",
    "r_{1}+ir_{2} & 1-r_{3}\n",
    "\\end{bmatrix}\n",
    "\\end{equation}"
   ]
  },
  {
   "cell_type": "code",
   "execution_count": 21,
   "metadata": {},
   "outputs": [],
   "source": [
    "def rho1qb(r1, r2, r3):\n",
    "    return (1/2)*Pauli(0) + (r1/2)*Pauli(1) + (r2/2)*Pauli(2) + (r3/2)*Pauli(3)"
   ]
  },
  {
   "cell_type": "markdown",
   "metadata": {},
   "source": [
    "## Two-qubit states\n",
    "\\begin{align}\n",
    "\\rho & = \\frac{1}{4}\\left(\\sigma_{0}\\otimes\\sigma_{0} + \\sigma_{0}\\otimes\\sum_{k=1}^{3}b_{k}\\sigma_{k} + \\sum_{j=1}^{3}a_{j}\\sigma_{j}\\otimes\\sigma_{0} + \\sum_{j,k=1}^{3}c_{jk}\\sigma_{j}\\otimes\\sigma_{k}\\right) \\\\\n",
    "& = \\frac{1}{4}\n",
    "\\begin{bmatrix}\n",
    "1+a_{3}+b_{3}+c_{33} & b_{1}-ib_{2}+c_{31}-ic_{32} & a_{1}-ia_{2}+c_{13}-ic_{23} & c_{11}-c_{22}-i(c_{12}+c_{21}) \\\\\n",
    "b_{1}+ib_{2}+c_{31}+ic_{32} & 1+a_{3}-b_{3}-c_{33} & c_{11}+c_{22}+i(c_{12}-c_{21}) & a_{1}-ia_{2}-c_{13}+ic_{23} \\\\\n",
    "a_{1}+ia_{2}+c_{13}+ic_{23} & c_{11}+c_{22}-i(c_{12}-c_{21}) & 1-a_{3}+b_{3}-c_{33} & b_{1}-ib_{2}-c_{31}+ic_{32} \\\\\n",
    "c_{11}-c_{22}+i(c_{12}+c_{21}) & a_{1}+ia_{2}-c_{13}-ic_{23} & b_{1}+ib_{2}-c_{31}-ic_{32} & 1-a_{3}-b_{3}+c_{33}\n",
    "\\end{bmatrix}\n",
    "\\end{align}"
   ]
  },
  {
   "cell_type": "code",
   "execution_count": 22,
   "metadata": {},
   "outputs": [],
   "source": [
    "def rho2qb(a1, a2, a3, b1, b2, b3, c11, c12, c13, c21, c22, c23, c31, c32, c33):\n",
    "    return (1/4)*(tp(Pauli(0),Pauli(0)) + b1*tp(Pauli(0),Pauli(1)) + b2*tp(Pauli(0),Pauli(2)) + b3*tp(Pauli(0),Pauli(3))\n",
    "           + a1*tp(Pauli(1),Pauli(0)) + c11*tp(Pauli(1),Pauli(1)) + c12*tp(Pauli(1),Pauli(2)) + c13*tp(Pauli(1),Pauli(3))\n",
    "           + a2*tp(Pauli(2),Pauli(0)) + c21*tp(Pauli(2),Pauli(1)) + c22*tp(Pauli(2),Pauli(2)) + c23*tp(Pauli(2),Pauli(3))\n",
    "           + a3*tp(Pauli(3),Pauli(0)) + c31*tp(Pauli(3),Pauli(1)) + c32*tp(Pauli(3),Pauli(2)) + c33*tp(Pauli(3),Pauli(3)))"
   ]
  },
  {
   "cell_type": "markdown",
   "metadata": {},
   "source": [
    "## Bell-diagonal states\n",
    "\\begin{align}\n",
    "\\rho & = \\frac{1}{4}\\left(\\sigma_{0}\\otimes\\sigma_{0} + \\sum_{j=1}^{3}c_{j}\\sigma_{j}\\otimes\\sigma_{j}\\right) \\\\\n",
    "& = \\frac{1}{4}\n",
    "\\begin{bmatrix}\n",
    "1+c_{3} & 0 & 0 & c_{1}-c_{2} \\\\\n",
    "0 & 1-c_{3} & c_{1}+c_{2} & 0 \\\\\n",
    "0 & c_{1}+c_{2} & 1-c_{3} & 0 \\\\\n",
    "c_{1}-c_{2} & 0 & 0 & 1+c_{3}\n",
    "\\end{bmatrix}\n",
    "\\end{align}"
   ]
  },
  {
   "cell_type": "code",
   "execution_count": 23,
   "metadata": {},
   "outputs": [],
   "source": [
    "def bds(c1,c2,c3):\n",
    "    return (1/4)*(tp(Pauli(0),Pauli(0)) + c1*tp(Pauli(1),Pauli(1)) + c2*tp(Pauli(2),Pauli(2)) + c3*tp(Pauli(3),Pauli(3)))"
   ]
  },
  {
   "cell_type": "markdown",
   "metadata": {},
   "source": [
    "## Werner state\n",
    "\\begin{equation}\n",
    "\\rho_{w} = (1-w)\\frac{\\mathbb{I}_{4}}{4} + w|\\Psi_{-}\\rangle\\langle\\Psi_{-}|\n",
    "\\end{equation}"
   ]
  },
  {
   "cell_type": "code",
   "execution_count": 24,
   "metadata": {},
   "outputs": [],
   "source": [
    "def werner(w):\n",
    "    return ((1-w)/4)*eye(4) + w*proj(Bell(1,1))"
   ]
  },
  {
   "cell_type": "code",
   "execution_count": 25,
   "metadata": {},
   "outputs": [],
   "source": [
    "#bds(-w,-w,-w)-werner(w)"
   ]
  }
 ],
 "metadata": {
  "kernelspec": {
   "display_name": "Python 3",
   "language": "python",
   "name": "python3"
  },
  "language_info": {
   "codemirror_mode": {
    "name": "ipython",
    "version": 3
   },
   "file_extension": ".py",
   "mimetype": "text/x-python",
   "name": "python",
   "nbconvert_exporter": "python",
   "pygments_lexer": "ipython3",
   "version": "3.6.4"
  }
 },
 "nbformat": 4,
 "nbformat_minor": 2
}
