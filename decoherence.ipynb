{
 "cells": [
  {
   "cell_type": "code",
   "execution_count": 6,
   "metadata": {},
   "outputs": [],
   "source": [
    "import platform\n",
    "if platform.system() == 'Linux':\n",
    "    %run '/home/jonasmaziero/Dropbox/GitHub/jupyterQ/jupyterQ.ipynb'\n",
    "else:\n",
    "    %run '/Users/jonasmaziero/Dropbox/GitHub/jupyterQ/jupyterQ.ipynb'\n",
    "p, g = symbols('p \\gamma', real = True, positive=True)"
   ]
  },
  {
   "cell_type": "markdown",
   "metadata": {},
   "source": [
    "## __One-qubit__ decoherence channels"
   ]
  },
  {
   "cell_type": "markdown",
   "metadata": {},
   "source": [
    "### Bit flip channel\n",
    "Kraus operators\n",
    "\\begin{equation} K_{0}^{bf}=\\sqrt{1-p}\\sigma_{0}\\text{, }K_{1}^{bf}=\\sqrt{p}\\sigma_{1}.\\end{equation}\n",
    "Bloch vector\n",
    "\\begin{equation}\\vec{r}_{bf}(p)=\\left(r_{1},r_{2}(1-2p),r_{3}(1-2p)\\right).\\end{equation}"
   ]
  },
  {
   "cell_type": "code",
   "execution_count": 2,
   "metadata": {},
   "outputs": [],
   "source": [
    "def Kbf(j, p):\n",
    "    if j == 0:\n",
    "        return sqrt(1-p)*Pauli(0)\n",
    "    elif j == 1:\n",
    "        return sqrt(p)*Pauli(1)\n",
    "def BFC(rho, p):\n",
    "    return Kbf(0, p)*rho*Kbf(0, p) + Kbf(1, p)*rho*Kbf(1, p)"
   ]
  },
  {
   "cell_type": "markdown",
   "metadata": {},
   "source": [
    "### Phase flip channel\n",
    "Kraus operators\n",
    "\\begin{equation} K_{0}^{pf}=\\sqrt{1-p}\\sigma_{0}\\text{, }K_{1}^{pf}=\\sqrt{p}\\sigma_{3}.\\end{equation}\n",
    "Bloch vector\n",
    "\\begin{equation}\\vec{r}_{pf}(p)=\\left(r_{1}(1-2p),r_{2}(1-2p),r_{3}\\right).\\end{equation}"
   ]
  },
  {
   "cell_type": "code",
   "execution_count": 4,
   "metadata": {},
   "outputs": [],
   "source": [
    "def Kpf(j, p):\n",
    "    if j == 0:\n",
    "        return sqrt(1-p)*Pauli(0)\n",
    "    elif j == 1:\n",
    "        return sqrt(p)*Pauli(3)\n",
    "def PFC(rho, p):\n",
    "    return Kpf(0, p)*rho*Kpf(0, p) + Kpf(1, p)*rho*Kpf(1, p)"
   ]
  },
  {
   "cell_type": "markdown",
   "metadata": {},
   "source": [
    "### Bit-phase flip channel\n",
    "Kraus operators\n",
    "\\begin{equation} K_{0}^{bpf}=\\sqrt{1-p}\\sigma_{0}\\text{, }K_{1}^{bpf}=\\sqrt{p}\\sigma_{2}.\\end{equation}\n",
    "Bloch vector\n",
    "\\begin{equation}\\vec{r}_{bpf}(p)=\\left(r_{1}(1-2p),r_{2},r_{3}(1-2p)\\right).\\end{equation}"
   ]
  },
  {
   "cell_type": "code",
   "execution_count": 5,
   "metadata": {},
   "outputs": [],
   "source": [
    "def Kbpf(j, p):\n",
    "    if j == 0:\n",
    "        return sqrt(1-p)*Pauli(0)\n",
    "    elif j == 1:\n",
    "        return sqrt(p)*Pauli(2)\n",
    "def BPFC(rho, p):\n",
    "    return Kbpf(0, p)*rho*Kbpf(0, p) + Kbpf(1, p)*rho*Kbpf(1, p)"
   ]
  },
  {
   "cell_type": "markdown",
   "metadata": {},
   "source": [
    "### Depolarizing channel\n",
    "Kraus operators\n",
    "\\begin{equation} K_{0}^{d}=\\sqrt{1-3p/4}\\sigma_{0}\\text{, }K_{1}^{d}=\\sqrt{p/4}\\sigma_{1}\\text{, }K_{2}^{d}=\\sqrt{p/4}\\sigma_{2}\\text{, }K_{3}^{d}=\\sqrt{p/4}\\sigma_{3}.\\end{equation}\n",
    "Bloch vector\n",
    "\\begin{equation}\\vec{r}_{d}(p)=\\left(r_{1}(1-p),r_{2}(1-p),r_{3}(1-p)\\right).\\end{equation}"
   ]
  },
  {
   "cell_type": "code",
   "execution_count": 6,
   "metadata": {},
   "outputs": [],
   "source": [
    "def Kd(j, p):\n",
    "    if j == 0:\n",
    "        return sqrt(1-3*p/4)*Pauli(0)\n",
    "    elif j == 1:\n",
    "        return sqrt(p/4)*Pauli(1)\n",
    "    elif j == 2:\n",
    "        return sqrt(p/4)*Pauli(2)\n",
    "    elif j == 3:\n",
    "        return sqrt(p/4)*Pauli(3)\n",
    "def DC(rho, p):\n",
    "    return Kd(0, p)*rho*Kd(0, p) + Kd(1, p)*rho*Kd(1, p) + Kd(2, p)*rho*Kd(2, p) + Kd(3, p)*rho*Kd(3, p)"
   ]
  },
  {
   "cell_type": "markdown",
   "metadata": {},
   "source": [
    "### Amplitude damping channel\n",
    "Kraus operators\n",
    "\\begin{equation}K_{0}^{ad} = \\begin{bmatrix} 0 & \\sqrt{\\gamma} \\\\ 0 & 0 \\end{bmatrix}\\text{, } K_{1}^{ad} = \\begin{bmatrix} 1 & 0 \\\\ 0 & \\sqrt{1-\\gamma} \\end{bmatrix}.\\end{equation}\n",
    "Bloch vector\n",
    "\\begin{equation}\\vec{r}_{ad}(\\gamma)=\\left(r_{1}\\sqrt{1-\\gamma},r_{2}\\sqrt{1-\\gamma},r_{3}(1-\\gamma)+\\gamma\\right).\\end{equation}"
   ]
  },
  {
   "cell_type": "code",
   "execution_count": 7,
   "metadata": {},
   "outputs": [],
   "source": [
    "def Kad(j, g):\n",
    "    if j == 0:\n",
    "        return Matrix([[0,sqrt(g)],[0,0]])\n",
    "    elif j == 1:\n",
    "        return Matrix([[1,0],[0,sqrt(1-g)]])\n",
    "def ADC(rho, g):\n",
    "    return Kad(0, g)*rho*(Kad(0, g).T) + Kad(1, g)*rho*Kad(1, g)"
   ]
  },
  {
   "cell_type": "markdown",
   "metadata": {},
   "source": [
    "### Generalized amplitude damping channel\n",
    "Kraus operators\n",
    "\\begin{equation}K_{0}^{gad} = \\sqrt{p}\\begin{bmatrix} 0 & \\sqrt{\\gamma} \\\\ 0 & 0 \\end{bmatrix}\\text{, } K_{1}^{gad} = \\sqrt{p}\\begin{bmatrix} 1 & 0 \\\\ 0 & \\sqrt{1-\\gamma} \\end{bmatrix}\\text{, }K_{2}^{gad} = \\sqrt{1-p}\\begin{bmatrix} 0 & 0 \\\\ \\sqrt{\\gamma} & 0 \\end{bmatrix}\\text{, } K_{3}^{gad} = \\sqrt{1-p}\\begin{bmatrix} \\sqrt{1-\\gamma} & 0 \\\\ 0 & 1 \\end{bmatrix}.\\end{equation}\n",
    "Bloch vector\n",
    "\\begin{equation}\\vec{r}_{gad}(\\gamma)=\\left(r_{1}\\sqrt{1-\\gamma},r_{2}\\sqrt{1-\\gamma},r_{3}(1-\\gamma)+\\gamma(2p-1)\\right).\\end{equation}"
   ]
  },
  {
   "cell_type": "code",
   "execution_count": 8,
   "metadata": {},
   "outputs": [],
   "source": [
    "def Kgad(j, g, p):\n",
    "    if j == 0:\n",
    "        return sqrt(p)*Matrix([[0,sqrt(g)],[0,0]])\n",
    "    elif j == 1:\n",
    "        return sqrt(p)*Matrix([[1,0],[0,sqrt(1-g)]])\n",
    "    elif j == 2:\n",
    "        return sqrt(1-p)*Matrix([[0,0],[sqrt(g),0]])\n",
    "    elif j == 3:\n",
    "        return sqrt(1-p)*Matrix([[sqrt(1-g),0],[0,1]])\n",
    "def GADC(rho, g, p):\n",
    "    return Kgad(0, g, p)*rho*(Kgad(0, g, p).T) + Kgad(1, g, p)*rho*Kgad(1, g, p) \\\n",
    "           + Kgad(2, g, p)*rho*(Kgad(2, g, p).T) + Kgad(3, g, p)*rho*Kgad(3, g, p)"
   ]
  },
  {
   "cell_type": "markdown",
   "metadata": {},
   "source": [
    "### Phase damping channel\n",
    "Kraus operators\n",
    "\\begin{equation}K_{0}^{pd} = \\begin{bmatrix}1&0\\\\0&\\sqrt{1-\\gamma}\\end{bmatrix}\\text{, } K_{1}^{pd} = \\begin{bmatrix}0&0\\\\0&\\sqrt{\\gamma}\\end{bmatrix}.\\end{equation}\n",
    "Bloch vector\n",
    "\\begin{equation}\\vec{r}_{pd}(\\gamma)=\\left(r_{1}(1-\\gamma),r_{2}(1-\\gamma),r_{3}\\right).\\end{equation}"
   ]
  },
  {
   "cell_type": "code",
   "execution_count": 9,
   "metadata": {},
   "outputs": [],
   "source": [
    "def Kpd(j, g):\n",
    "    if j == 0:\n",
    "        return Matrix([[1,0],[0,sqrt(1-g)]])\n",
    "    elif j == 1:\n",
    "        return Matrix([[0,0],[0,sqrt(g)]])\n",
    "def PDC(rho, g):\n",
    "    return Kpd(0, g)*rho*Kpd(0, g) + Kpd(1, g)*rho*Kpd(1, g)"
   ]
  },
  {
   "cell_type": "markdown",
   "metadata": {},
   "source": [
    "### Composition of phase damping with generalized amplitude damping\n"
   ]
  },
  {
   "cell_type": "code",
   "execution_count": 20,
   "metadata": {},
   "outputs": [],
   "source": [
    "def Kpdgad(j,p,g,h):\n",
    "    if j == 0:\n",
    "        return  Kgad(0, g, p)*Kpd(0,h)\n",
    "    elif j == 1:\n",
    "        return  Kgad(0, g, p)*Kpd(1,h)\n",
    "    elif j == 2:\n",
    "        return  Kgad(1, g, p)*Kpd(0,h)\n",
    "    elif j == 3:\n",
    "        return  Kgad(1, g, p)*Kpd(1,h)\n",
    "    elif j == 4:\n",
    "        return  Kgad(2, g, p)*Kpd(0,h)\n",
    "    elif j == 5:\n",
    "        return  Kgad(2, g, p)*Kpd(1,h)\n",
    "    elif j == 6:\n",
    "        return  Kgad(3, g, p)*Kpd(0,h)\n",
    "    elif j == 7:\n",
    "        return  Kgad(3, g, p)*Kpd(1,h)"
   ]
  },
  {
   "cell_type": "code",
   "execution_count": 18,
   "metadata": {},
   "outputs": [
    {
     "data": {
      "image/png": "[encoded data removed]",
      "text/latex": [
       "$$\\left[\\begin{matrix}0 & 0\\\\0 & \\sqrt{h} \\sqrt{- p + 1}\\end{matrix}\\right]$$"
      ],
      "text/plain": [
       "⎡0        0      ⎤\n",
       "⎢                ⎥\n",
       "⎢        ________⎥\n",
       "⎣0  √h⋅╲╱ -p + 1 ⎦"
      ]
     },
     "execution_count": 18,
     "metadata": {},
     "output_type": "execute_result"
    }
   ],
   "source": [
    "p, g, h = symbols('p g h')\n",
    "Kpdgad(7,p,g,h)"
   ]
  },
  {
   "cell_type": "code",
   "execution_count": null,
   "metadata": {},
   "outputs": [],
   "source": [
    "pa, ga, ha, pb, gb, hb = symbols('p_{a} g_{a} h_{a} p_{b} g_{b} h_{b}', real=True, positive=True)\n",
    "def Kpdgad_ab(rho,pa,ga,ha,pb,gb,hb):\n",
    "    rhot = zeros(4,4)\n",
    "    mat = zeros(4,4)\n",
    "    for j in range(0,8):\n",
    "        for k in range(0,8):\n",
    "            mat = tp(Kpdgad(j,pa,ga,ha),Kpdgad(k,pb,gb,hb))\n",
    "            rhot += mat*rho*Dagger(mat)\n",
    "    return rhot"
   ]
  },
  {
   "cell_type": "markdown",
   "metadata": {},
   "source": [
    "## __Two-qubit__ decoherence channels"
   ]
  },
  {
   "cell_type": "code",
   "execution_count": null,
   "metadata": {},
   "outputs": [],
   "source": [
    "def PDC(rho, g):\n",
    "    return Kpd(0, g)*rho*Kpd(0, g) + Kpd(1, g)*rho*Kpd(1, g) + Kpd(2, g)*rho*Kpd(2, g)"
   ]
  }
 ],
 "metadata": {
  "kernelspec": {
   "display_name": "Python 3",
   "language": "python",
   "name": "python3"
  },
  "language_info": {
   "codemirror_mode": {
    "name": "ipython",
    "version": 3
   },
   "file_extension": ".py",
   "mimetype": "text/x-python",
   "name": "python",
   "nbconvert_exporter": "python",
   "pygments_lexer": "ipython3",
   "version": "3.6.4"
  }
 },
 "nbformat": 4,
 "nbformat_minor": 2
}
