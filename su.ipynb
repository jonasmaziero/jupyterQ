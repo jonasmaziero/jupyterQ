{
 "cells": [
  {
   "cell_type": "markdown",
   "metadata": {},
   "source": [
    "# Generalized Gell-Mann matrices\n",
    "\\begin{align}\n",
    "& \\Gamma_{j}^{d} = \\sqrt{\\frac{2}{j(j+1)}}\\sum_{k=1}^{j+1}(-1)^{\\delta_{k,j+1}}|k\\rangle\\langle k|\\text{, } j=1,\\cdots,d-1, \\\\\n",
    "& \\Gamma_{k,l}^{s} = |k\\rangle\\langle l|+|l\\rangle\\langle k|\\text{, }1\\le k<l\\le d, \\\\\n",
    "& \\Gamma_{k,l}^{a} = -i(|k\\rangle\\langle l|-|l\\rangle\\langle k|)\\text{, }1\\le k<l\\le d.\n",
    "\\end{align}\n",
    "Remark. The last two groups have $d(d-1)/2$ generators each.\n",
    "\n",
    "As $\\{|j\\rangle\\}_{j=1}^{d}$ is an orthonormal basis, we shall have:\n",
    "\\begin{align}\n",
    "& \\mathrm{Tr}(\\Gamma_{g}) = 0, \\\\\n",
    "& \\Gamma_{g}=\\Gamma_{g}^{\\dagger}, \\\\\n",
    "& \\mathrm{Tr}(\\Gamma_{g}\\Gamma_{g'}) = 2\\delta_{gg'},\n",
    "\\end{align}\n",
    "for all generators."
   ]
  },
  {
   "cell_type": "code",
   "execution_count": null,
   "metadata": {},
   "outputs": [],
   "source": [
    "def gell_mann(g,j,k):\n",
    "    if g == 'd':\n",
    "        eeee\n",
    "    el if g == 's':\n",
    "        ddd\n",
    "    else if g == 'a':\n",
    "        ddd\n",
    "    end if"
   ]
  },
  {
   "cell_type": "markdown",
   "metadata": {},
   "source": [
    "# Decomposition of $A\\in\\mathbb{C}^{d\\mathrm{x}d}$ in GGM basis\n",
    "Let's make use of Hilbert-Schmidt inner product,\n",
    "\\begin{equation}\n",
    "\\langle A|B\\rangle := \\mathrm{Tr}(A^{\\dagger}B),\n",
    "\\end{equation}\n",
    "and the $d\\mathrm{x}d$ identity matrix $\\Gamma_{0}^{d}$ to identify the orthonormal basis, the GGMB: \n",
    "\\begin{equation}\n",
    "\\Gamma_{g}':=\\{\\Gamma_{0}^{d}/\\sqrt{d},\\Gamma_{g}/\\sqrt{2}\\}\n",
    "\\end{equation}\n",
    "for $\\mathbb{C}^{d\\mathrm{x}d}$, i.e., $\\mathrm{Tr}(\\Gamma_{g}'\\Gamma_{g'}') = \\delta_{gg'}$, and write\n",
    "\\begin{align}\n",
    "A & = \\sum_{g}c_{g}\\Gamma_{g}' \\\\\n",
    "& = \\sum_{g}\\langle\\Gamma_{g}'|A\\rangle\\Gamma_{g}' \\\\\n",
    "& = \\sum_{g}\\mathrm{Tr}(\\Gamma_{g}'^{\\dagger}A)\\Gamma_{g}' \\\\\n",
    "& = \\sum_{g}\\mathrm{Tr}(\\Gamma_{g}'A)\\Gamma_{g}' \\\\\n",
    "& = \\mathrm{Tr}(d^{-1/2}\\Gamma_{0}A)d^{-1/2}\\Gamma_{0} + \\sum_{g}\\mathrm{Tr}(2^{-1/2}\\Gamma_{g}A)2^{-1/2}\\Gamma_{g} \\\\\n",
    "& = d^{-1}\\mathrm{Tr}(A)\\Gamma_{0} + 2^{-1}\\sum_{g}\\mathrm{Tr}(\\Gamma_{g}A)\\Gamma_{g} \\\\\n",
    "& = \\frac{\\mathrm{Tr}(A)}{d}\\Gamma_{0} +  \\sum_{j=1}^{d-1}\\frac{\\mathrm{Tr}(\\Gamma_{j}^{d}A)}{2}\\Gamma_{j}^{d}  + \\sum_{\\substack{k,l\\\\1\\le k<l\\le d}}\\frac{\\mathrm{Tr}(\\Gamma_{(k,l)}^{s}A)}{2}\\Gamma_{(k,l)}^{s}  +  \\sum_{\\substack{k,l\\\\1\\le k<l\\le d}}\\frac{\\mathrm{Tr}(\\Gamma_{(k,l)}^{a}A)}{2}\\Gamma_{(k,l)}^{a}.\n",
    "\\end{align}"
   ]
  },
  {
   "cell_type": "markdown",
   "metadata": {},
   "source": [
    "Let's consider we're given $A$ and we want to compute the coefficients of its decomposition in GGMB. For the identity we already have $d^{-1}\\mathrm{Tr}(A)=d^{-1}\\sum_{j=1}^{d}A_{jj}$. For the $d-1$ _diagonal_ generators:\n",
    "\\begin{align}\n",
    "2^{-1}\\mathrm{Tr}(\\Gamma_{j}^{d}A) & = \\frac{1}{2}\\sqrt{\\frac{2}{j(j+1)}}\\sum_{k=1}^{j+1}(-1)^{\\delta_{k,j+1}}\\mathrm{Tr}(|k\\rangle\\langle k|A) \\\\\n",
    "& = \\frac{1}{\\sqrt{2j(j+1)}}\\sum_{k=1}^{j+1}(-1)^{\\delta_{k,j+1}}\\langle k|A|k\\rangle \\\\\n",
    "& = \\frac{1}{\\sqrt{2j(j+1)}}\\left(\\sum_{k=1}^{j}A_{k,k} - A_{j+1,j+1}\\right).\n",
    "\\end{align}\n",
    "\n",
    "For the $d(d-1)/2$  _symmetric_ generators ($1\\le k<l\\le d$):\n",
    "\\begin{align}\n",
    "2^{-1}\\mathrm{Tr}(\\Gamma_{(k,l)}^{s}A) & = 2^{-1}\\mathrm{Tr}((|k\\rangle\\langle l|+|l\\rangle\\langle k|)A) \\\\\n",
    "\\end{align}"
   ]
  },
  {
   "cell_type": "markdown",
   "metadata": {},
   "source": [
    "# Decomposition of $A\\in\\mathbb{C}^{d_{a}\\mathrm{x}d_{a}}\\otimes\\mathbb{C}^{d_{b}\\mathrm{x}d_{b}}$ in local GGMB"
   ]
  },
  {
   "cell_type": "code",
   "execution_count": null,
   "metadata": {},
   "outputs": [],
   "source": []
  }
 ],
 "metadata": {
  "kernelspec": {
   "display_name": "Python 3",
   "language": "python",
   "name": "python3"
  },
  "language_info": {
   "codemirror_mode": {
    "name": "ipython",
    "version": 3
   },
   "file_extension": ".py",
   "mimetype": "text/x-python",
   "name": "python",
   "nbconvert_exporter": "python",
   "pygments_lexer": "ipython3",
   "version": "3.6.4"
  }
 },
 "nbformat": 4,
 "nbformat_minor": 2
}
