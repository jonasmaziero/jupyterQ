{
 "cells": [
  {
   "cell_type": "code",
   "execution_count": 4,
   "metadata": {},
   "outputs": [],
   "source": [
    "import platform\n",
    "if platform.system() == 'Linux':\n",
    "    %run '/home/jonasmaziero/Dropbox/GitHub/jupyterQ/ent.ipynb'\n",
    "    %run '/home/jonasmaziero/Dropbox/GitHub/jupyterQ/states.ipynb'\n",
    "    %run '/home/jonasmaziero/Dropbox/GitHub/jupyterQ/coherence.ipynb'\n",
    "    %run '/home/jonasmaziero/Dropbox/GitHub/jupyterQ/discord.ipynb'\n",
    "    %run '/home/jonasmaziero/Dropbox/GitHub/jupyterQ/nlocal.ipynb'\n",
    "    %run '/home/jonasmaziero/Dropbox/GitHub/jupyterQ/tomo.ipynb'\n",
    "else:\n",
    "    %run '/Users/jonasmaziero/Dropbox/GitHub/jupyterQ/ent.ipynb'\n",
    "    %run '/Users/jonasmaziero/Dropbox/GitHub/jupyterQ/states.ipynb'\n",
    "    %run '/Users/jonasmaziero/Dropbox/GitHub/jupyterQ/coherence.ipynb'\n",
    "    %run '/Users/jonasmaziero/Dropbox/GitHub/jupyterQ/discord.ipynb'\n",
    "    %run '/Users/jonasmaziero/Dropbox/GitHub/jupyterQ/nlocal.ipynb'\n",
    "    %run '/Users/jonasmaziero/Dropbox/GitHub/jupyterQ/tomo.ipynb'"
   ]
  },
  {
   "cell_type": "markdown",
   "metadata": {},
   "source": [
    "## Calculations related to experiments with the IBM quantum computers"
   ]
  },
  {
   "cell_type": "markdown",
   "metadata": {},
   "source": [
    "### Bell-diagonal states preparations\n",
    "Correlations of the experimentally prepared Werner states"
   ]
  },
  {
   "cell_type": "code",
   "execution_count": null,
   "metadata": {},
   "outputs": [],
   "source": [
    "evals = zeros(4,1)\n",
    "rhoTb = zeros(4,4)\n",
    "# Theory\n",
    "N = 100\n",
    "x1 = np.zeros(N+1)\n",
    "x2 = np.zeros(N+1)\n",
    "#x3 = np.zeros(N+1)\n",
    "#x4 = np.zeros(N+1)\n",
    "#x5 = np.zeros(N+1)\n",
    "#x6 = np.zeros(N+1)\n",
    "#x7 = np.zeros(N+1)\n",
    "#x8 = np.zeros(N+1)\n",
    "for j in range(0,N+1):\n",
    "    x1[j] = j/N\n",
    "    rho = werner(x1[j])\n",
    "    #x2[j] = concurrence(rho)\n",
    "    x2[j] = negativity(2,2,rho)\n",
    "    #x3[j] = coh_l1(4,rho)\n",
    "    #x5[j] = chsh(rho)\n",
    "    #x6[j] = steering(rho)\n",
    "    #x7[j] = mutual_info(2,2,rho)/2\n",
    "    #x8[j] = coh_nl(2,2,rho)\n",
    "#evals = zeros(3,1)\n",
    "#x4 = np.zeros(N+1)\n",
    "#for j in range(0,N+1):\n",
    "#    x1[j] = j/N\n",
    "#    rho = werner(x1[j])\n",
    "#    x4[j] = hellinger(2,2,rho)\n",
    "plt.plot(x1, x2, label = 'Et', color = 'blue')\n",
    "#plt.plot(x1, x3, label = 'C', color = 'red')\n",
    "#plt.plot(x1, x4, label = 'D', color = 'magenta')\n",
    "#plt.plot(x1, x5, label = 'N', color = 'cyan')\n",
    "#plt.plot(x1, x6, label = 'S', color = 'black')\n",
    "#plt.plot(x1, x7, label = 'I/2', color = 'gray')\n",
    "#plt.plot(x1, x8, label = 'Cnl', color = 'brown')\n",
    "# Experiment\n",
    "N = 15\n",
    "we = np.array([0, 0.1, 0.2, 0.3, 0.32,0.34, 0.36, 0.38, 0.4, 0.5, 0.6, 0.7, 0.8, 0.9, 1.0])\n",
    "Ee = np.zeros(N)\n",
    "#rhoE = zeros(4,4)\n",
    "for j in range(0,N):\n",
    "    sj = str(j)\n",
    "    path1 = '/home/jonasmaziero/Dropbox/Research/ibm/bds/'\n",
    "    path2 = 'werner_qx2/dados_plot/'\n",
    "    path = path1 + path2 + sj + '/'\n",
    "    rhoE = tomo2qb(path)\n",
    "    #Ee[j] = concurrence(rhoE)\n",
    "    Ee[j] = negativity(2,2,rhoE)\n",
    "plt.plot(we, Ee, label='Ee', color = 'cyan')\n",
    "\n",
    "plt.xlabel('w')\n",
    "plt.ylabel('')\n",
    "plt.legend()\n",
    "axes = plt.gca()\n",
    "axes.set_xlim([0,1])\n",
    "axes.set_ylim([0,1])\n",
    "plt.show()\n",
    "if platform.system() == 'Linux':\n",
    "    plt.savefig('/home/jonasmaziero/Dropbox/Research/ibm/bds/calc/qcorr.eps', format='eps', dpi=100)\n",
    "else:\n",
    "    plt.savefig('/Users/jonasmaziero/Dropbox/Research/ibm/bds/calc/qcorr.eps', format='eps', dpi=100)"
   ]
  },
  {
   "cell_type": "code",
   "execution_count": null,
   "metadata": {},
   "outputs": [],
   "source": []
  }
 ],
 "metadata": {
  "kernelspec": {
   "display_name": "Python 3",
   "language": "python",
   "name": "python3"
  },
  "language_info": {
   "codemirror_mode": {
    "name": "ipython",
    "version": 3
   },
   "file_extension": ".py",
   "mimetype": "text/x-python",
   "name": "python",
   "nbconvert_exporter": "python",
   "pygments_lexer": "ipython3",
   "version": "3.6.4"
  }
 },
 "nbformat": 4,
 "nbformat_minor": 2
}
