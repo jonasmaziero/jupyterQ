{
 "cells": [
  {
   "cell_type": "code",
   "execution_count": 26,
   "metadata": {},
   "outputs": [],
   "source": [
    "%run init.ipynb\n",
    "%run gates.ipynb\n",
    "%run states.ipynb\n",
    "%run ptr.ipynb"
   ]
  },
  {
   "cell_type": "markdown",
   "metadata": {},
   "source": [
    "# Complementarity relation\n",
    "For a given coherence measures $C$, it is possible to find one or more predictability measure $P$ such that\n",
    "\\begin{equation}\n",
    "C(\\rho_{A})+P(\\rho_{A}) \\le u(d_{A}),\n",
    "\\end{equation}\n",
    "with $u(d_{A})$ beind a function only of the system dimension $d_{A}$. In principle, for pure states $|\\psi\\rangle_{AB}$, it is possible to find a quantum correlation measure $A$ that completes the above CR such that\n",
    "\\begin{equation}\n",
    "C(\\rho_{A})+P(\\rho_{A})+Q(|\\psi\\rangle_{AB}) = u(d_{A}).\n",
    "\\end{equation}"
   ]
  },
  {
   "cell_type": "markdown",
   "metadata": {},
   "source": [
    "## Werner-like one qubit state\n",
    "We begin with a one-qubit state\n",
    "\\begin{equation}\n",
    "\\rho_{w,x} = w|\\psi\\rangle\\langle\\psi|+(1-w)\\mathbb{I}_{2}/2,\n",
    "\\end{equation}\n",
    "with $|\\psi\\rangle=\\sqrt{x}|0\\rangle+\\sqrt{1-x}|1\\rangle$."
   ]
  },
  {
   "cell_type": "code",
   "execution_count": 27,
   "metadata": {},
   "outputs": [
    {
     "data": {
      "image/png": "[encoded data removed]",
      "text/latex": [
       "$$\\left ( \\left[\\begin{matrix}\\sqrt{x}\\\\\\sqrt{- x + 1}\\end{matrix}\\right], \\quad \\left[\\begin{matrix}w x - \\frac{w}{2} + \\frac{1}{2} & w \\sqrt{x} \\overline{\\sqrt{- x + 1}}\\\\w \\sqrt{x} \\sqrt{- x + 1} & w \\sqrt{- x + 1} \\overline{\\sqrt{- x + 1}} - \\frac{w}{2} + \\frac{1}{2}\\end{matrix}\\right]\\right )$$"
      ],
      "text/plain": [
       "⎛              ⎡                              __________        ⎤⎞\n",
       "⎜              ⎢        w   1                   ________        ⎥⎟\n",
       "⎜⎡    √x    ⎤  ⎢  w⋅x - ─ + ─            w⋅√x⋅╲╱ -x + 1         ⎥⎟\n",
       "⎜⎢          ⎥  ⎢        2   2                                   ⎥⎟\n",
       "⎜⎢  ________⎥, ⎢                                                ⎥⎟\n",
       "⎜⎣╲╱ -x + 1 ⎦  ⎢                              __________        ⎥⎟\n",
       "⎜              ⎢       ________      ________   ________   w   1⎥⎟\n",
       "⎜              ⎢w⋅√x⋅╲╱ -x + 1   w⋅╲╱ -x + 1 ⋅╲╱ -x + 1  - ─ + ─⎥⎟\n",
       "⎝              ⎣                                           2   2⎦⎠"
      ]
     },
     "execution_count": 27,
     "metadata": {},
     "output_type": "execute_result"
    }
   ],
   "source": [
    "x,w=symbols('x w', positive=True, real=True)\n",
    "psi = sqrt(x)*cb(2,0) + sqrt(1-x)*cb(2,1); rho = w*proj(psi)+(1-w)*id(2)/2\n",
    "#psi,rho"
   ]
  },
  {
   "cell_type": "markdown",
   "metadata": {},
   "source": [
    "Purification\n",
    "\\begin{equation}\n",
    "|\\psi\\rangle_{AB} = (-\\sqrt{1-x}|0\\rangle_{A} + \\sqrt{x}|1\\rangle_{A})\\otimes\\sqrt{\\frac{1-w}{2}}|0\\rangle_{B}+ (\\sqrt{x}|0\\rangle_{A} + \\sqrt{1-x}|1\\rangle_{A})\\otimes\\sqrt{\\frac{1+w}{2}}|1\\rangle_{B}.\n",
    "\\end{equation}"
   ]
  },
  {
   "cell_type": "code",
   "execution_count": 11,
   "metadata": {},
   "outputs": [
    {
     "data": {
      "image/png": "[encoded data removed]",
      "text/latex": [
       "$$\\left[\\begin{matrix}- \\frac{\\sqrt{2}}{2} \\sqrt{- w + 1} \\sqrt{- x + 1}\\\\\\frac{\\sqrt{2} \\sqrt{x}}{2} \\sqrt{w + 1}\\\\\\frac{\\sqrt{2} \\sqrt{x}}{2} \\sqrt{- w + 1}\\\\\\frac{\\sqrt{2}}{2} \\sqrt{w + 1} \\sqrt{- x + 1}\\end{matrix}\\right]$$"
      ],
      "text/plain": [
       "⎡      ________   ________ ⎤\n",
       "⎢-√2⋅╲╱ -w + 1 ⋅╲╱ -x + 1  ⎥\n",
       "⎢──────────────────────────⎥\n",
       "⎢            2             ⎥\n",
       "⎢                          ⎥\n",
       "⎢             _______      ⎥\n",
       "⎢     √2⋅√x⋅╲╱ w + 1       ⎥\n",
       "⎢     ───────────────      ⎥\n",
       "⎢            2             ⎥\n",
       "⎢                          ⎥\n",
       "⎢             ________     ⎥\n",
       "⎢     √2⋅√x⋅╲╱ -w + 1      ⎥\n",
       "⎢     ────────────────     ⎥\n",
       "⎢            2             ⎥\n",
       "⎢                          ⎥\n",
       "⎢      _______   ________  ⎥\n",
       "⎢ √2⋅╲╱ w + 1 ⋅╲╱ -x + 1   ⎥\n",
       "⎢ ───────────────────────  ⎥\n",
       "⎣            2             ⎦"
      ]
     },
     "execution_count": 11,
     "metadata": {},
     "output_type": "execute_result"
    }
   ],
   "source": [
    "psiAB_xw = tp((-sqrt(1-x)*cb(2,0)+sqrt(x)*cb(2,1)),(sqrt((1-w)/2)*cb(2,0))) \\\n",
    "        + tp((sqrt(x)*cb(2,0)+sqrt(1-x)*cb(2,1)),(sqrt((1+w)/2)*cb(2,1))) \n",
    "#simplify(psiAB_xw)"
   ]
  },
  {
   "cell_type": "code",
   "execution_count": 12,
   "metadata": {},
   "outputs": [
    {
     "data": {
      "image/png": "[encoded data removed]",
      "text/latex": [
       "$$\\left[\\begin{matrix}\\frac{1}{2} \\sqrt{- w + 1} \\sqrt{- x + 1} \\overline{\\sqrt{- w + 1}} \\overline{\\sqrt{- x + 1}} & - \\frac{\\sqrt{x}}{2} \\sqrt{- w + 1} \\sqrt{w + 1} \\sqrt{- x + 1} & - \\frac{\\sqrt{x}}{2} \\sqrt{- w + 1} \\sqrt{- x + 1} \\overline{\\sqrt{- w + 1}} & - \\frac{1}{2} \\sqrt{- w + 1} \\sqrt{w + 1} \\sqrt{- x + 1} \\overline{\\sqrt{- x + 1}}\\\\- \\frac{\\sqrt{x}}{2} \\sqrt{w + 1} \\overline{\\sqrt{- w + 1}} \\overline{\\sqrt{- x + 1}} & \\frac{x}{2} \\left(w + 1\\right) & \\frac{x}{2} \\sqrt{w + 1} \\overline{\\sqrt{- w + 1}} & \\frac{\\sqrt{x}}{2} \\left(w + 1\\right) \\overline{\\sqrt{- x + 1}}\\\\- \\frac{\\sqrt{x}}{2} \\sqrt{- w + 1} \\overline{\\sqrt{- w + 1}} \\overline{\\sqrt{- x + 1}} & \\frac{x}{2} \\sqrt{- w^{2} + 1} & \\frac{x}{2} \\sqrt{- w + 1} \\overline{\\sqrt{- w + 1}} & \\frac{\\sqrt{x}}{2} \\sqrt{- w^{2} + 1} \\overline{\\sqrt{- x + 1}}\\\\- \\frac{1}{2} \\sqrt{w + 1} \\sqrt{- x + 1} \\overline{\\sqrt{- w + 1}} \\overline{\\sqrt{- x + 1}} & \\frac{\\sqrt{x}}{2} \\left(w + 1\\right) \\sqrt{- x + 1} & \\frac{\\sqrt{x}}{2} \\sqrt{w + 1} \\sqrt{- x + 1} \\overline{\\sqrt{- w + 1}} & \\frac{1}{2} \\left(w + 1\\right) \\sqrt{- x + 1} \\overline{\\sqrt{- x + 1}}\\end{matrix}\\right]$$"
      ],
      "text/plain": [
       "⎡                      __________ __________                                  \n",
       "⎢  ________   ________   ________   ________         ________   _______   ____\n",
       "⎢╲╱ -w + 1 ⋅╲╱ -x + 1 ⋅╲╱ -w + 1 ⋅╲╱ -x + 1    -√x⋅╲╱ -w + 1 ⋅╲╱ w + 1 ⋅╲╱ -x \n",
       "⎢───────────────────────────────────────────   ───────────────────────────────\n",
       "⎢                     2                                         2             \n",
       "⎢                                                                             \n",
       "⎢                  __________ __________                                      \n",
       "⎢          _______   ________   ________                                      \n",
       "⎢    -√x⋅╲╱ w + 1 ⋅╲╱ -w + 1 ⋅╲╱ -x + 1                     x⋅(w + 1)         \n",
       "⎢    ────────────────────────────────────                   ─────────         \n",
       "⎢                     2                                         2             \n",
       "⎢                                                                             \n",
       "⎢                  __________ __________                      __________      \n",
       "⎢         ________   ________   ________                     ╱    2           \n",
       "⎢   -√x⋅╲╱ -w + 1 ⋅╲╱ -w + 1 ⋅╲╱ -x + 1                  x⋅╲╱  - w  + 1       \n",
       "⎢   ─────────────────────────────────────                ───────────────      \n",
       "⎢                     2                                         2             \n",
       "⎢                                                                             \n",
       "⎢                      __________ __________                                  \n",
       "⎢   _______   ________   ________   ________                       ________   \n",
       "⎢-╲╱ w + 1 ⋅╲╱ -x + 1 ⋅╲╱ -w + 1 ⋅╲╱ -x + 1           √x⋅(w + 1)⋅╲╱ -x + 1    \n",
       "⎢────────────────────────────────────────────         ─────────────────────   \n",
       "⎣                     2                                         2             \n",
       "\n",
       "                                 __________                                   \n",
       "____         ________   ________   ________      ________   _______   ________\n",
       "+ 1    -√x⋅╲╱ -w + 1 ⋅╲╱ -x + 1 ⋅╲╱ -w + 1    -╲╱ -w + 1 ⋅╲╱ w + 1 ⋅╲╱ -x + 1 \n",
       "─────  ─────────────────────────────────────  ────────────────────────────────\n",
       "                         2                                         2          \n",
       "                                                                              \n",
       "                          __________                                __________\n",
       "                  _______   ________                                  ________\n",
       "              x⋅╲╱ w + 1 ⋅╲╱ -w + 1                      √x⋅(w + 1)⋅╲╱ -x + 1 \n",
       "              ──────────────────────                     ─────────────────────\n",
       "                        2                                          2          \n",
       "                                                                              \n",
       "                           __________                       __________ _______\n",
       "                  ________   ________                      ╱    2        _____\n",
       "              x⋅╲╱ -w + 1 ⋅╲╱ -w + 1                  √x⋅╲╱  - w  + 1 ⋅╲╱ -x +\n",
       "              ───────────────────────                 ────────────────────────\n",
       "                         2                                         2          \n",
       "                                                                              \n",
       "                                __________                              ______\n",
       "             _______   ________   ________                     ________   ____\n",
       "        √x⋅╲╱ w + 1 ⋅╲╱ -x + 1 ⋅╲╱ -w + 1            (w + 1)⋅╲╱ -x + 1 ⋅╲╱ -x \n",
       "        ──────────────────────────────────           ─────────────────────────\n",
       "                        2                                          2          \n",
       "\n",
       " __________ ⎤\n",
       "   ________ ⎥\n",
       "⋅╲╱ -x + 1  ⎥\n",
       "────────────⎥\n",
       "            ⎥\n",
       "            ⎥\n",
       "            ⎥\n",
       "            ⎥\n",
       "            ⎥\n",
       "            ⎥\n",
       "            ⎥\n",
       "            ⎥\n",
       "___         ⎥\n",
       "___         ⎥\n",
       " 1          ⎥\n",
       "───         ⎥\n",
       "            ⎥\n",
       "            ⎥\n",
       "____        ⎥\n",
       "____        ⎥\n",
       "+ 1         ⎥\n",
       "────        ⎥\n",
       "            ⎦"
      ]
     },
     "execution_count": 12,
     "metadata": {},
     "output_type": "execute_result"
    }
   ],
   "source": [
    "#rhoAB_xw = proj(psi_xw); simplify(rhoAB_xw)"
   ]
  },
  {
   "cell_type": "code",
   "execution_count": 14,
   "metadata": {},
   "outputs": [
    {
     "data": {
      "image/png": "[encoded data removed]",
      "text/latex": [
       "$$\\left[\\begin{matrix}\\frac{x}{2} \\left(w + 1\\right) + \\frac{1}{2} \\sqrt{- w + 1} \\sqrt{- x + 1} \\overline{\\sqrt{- w + 1}} \\overline{\\sqrt{- x + 1}} & \\frac{\\sqrt{x}}{2} \\left(- \\sqrt{- w + 1} \\sqrt{- x + 1} \\overline{\\sqrt{- w + 1}} + \\left(w + 1\\right) \\overline{\\sqrt{- x + 1}}\\right)\\\\\\frac{\\sqrt{x}}{2} \\left(- \\sqrt{- w + 1} \\overline{\\sqrt{- w + 1}} \\overline{\\sqrt{- x + 1}} + \\left(w + 1\\right) \\sqrt{- x + 1}\\right) & \\frac{x}{2} \\sqrt{- w + 1} \\overline{\\sqrt{- w + 1}} + \\frac{1}{2} \\left(w + 1\\right) \\sqrt{- x + 1} \\overline{\\sqrt{- x + 1}}\\end{matrix}\\right]$$"
      ],
      "text/plain": [
       "⎡                                    __________ __________        ⎛           \n",
       "⎢                ________   ________   ________   ________        ⎜    _______\n",
       "⎢  x⋅(w + 1)   ╲╱ -w + 1 ⋅╲╱ -x + 1 ⋅╲╱ -w + 1 ⋅╲╱ -x + 1      √x⋅⎝- ╲╱ -w + 1\n",
       "⎢  ───────── + ───────────────────────────────────────────     ───────────────\n",
       "⎢      2                            2                                         \n",
       "⎢                                                                             \n",
       "⎢   ⎛             __________ __________                     ⎞                 \n",
       "⎢   ⎜    ________   ________   ________             ________⎟        ________ \n",
       "⎢√x⋅⎝- ╲╱ -w + 1 ⋅╲╱ -w + 1 ⋅╲╱ -x + 1  + (w + 1)⋅╲╱ -x + 1 ⎠    x⋅╲╱ -w + 1 ⋅\n",
       "⎢────────────────────────────────────────────────────────────    ─────────────\n",
       "⎣                             2                                             2 \n",
       "\n",
       "             __________           __________⎞⎤\n",
       "_   ________   ________             ________⎟⎥\n",
       " ⋅╲╱ -x + 1 ⋅╲╱ -w + 1  + (w + 1)⋅╲╱ -x + 1 ⎠⎥\n",
       "─────────────────────────────────────────────⎥\n",
       "              2                              ⎥\n",
       "                                             ⎥\n",
       "__________                      __________   ⎥\n",
       "  ________             ________   ________   ⎥\n",
       "╲╱ -w + 1    (w + 1)⋅╲╱ -x + 1 ⋅╲╱ -x + 1    ⎥\n",
       "────────── + ─────────────────────────────   ⎥\n",
       "                           2                 ⎦"
      ]
     },
     "execution_count": 14,
     "metadata": {},
     "output_type": "execute_result"
    }
   ],
   "source": [
    "rhoA_xw = ptraceB(2, 2, rhoAB_xw)\n",
    "#simplify(rhoA_xw)"
   ]
  },
  {
   "cell_type": "markdown",
   "metadata": {},
   "source": [
    "# $l_{1}$-norm complementarity\n",
    "\\begin{equation}\n",
    "C_{l_{1}}(\\rho_{A})+P_{l_{1}}(\\rho_{A})+Q_{l_{1}}(\\rho_{A})=d_{A}-1\n",
    "\\end{equation}\n",
    "with $\\rho_{A}=Tr_{B}(|\\psi\\rangle_{AB}\\langle\\psi|$)\n",
    "## $l_{1}$-norm coherence\n",
    "\\begin{equation}\n",
    "C_{l_{1}}(\\rho_{A}) = \\sum_{j\\ne k}|\\rho^{A}_{j,j}| = 2\\sum_{j<k}|\\rho^{A}_{j,j}|\n",
    "\\end{equation}"
   ]
  },
  {
   "cell_type": "code",
   "execution_count": 15,
   "metadata": {},
   "outputs": [],
   "source": [
    "def coh_l1(d,rho):\n",
    "    C = 0\n",
    "    for j in range(0,d-1):\n",
    "        for k in range(j+1,d):\n",
    "            C += abs(rho[j,k])\n",
    "    return 2*C"
   ]
  },
  {
   "cell_type": "code",
   "execution_count": 18,
   "metadata": {},
   "outputs": [
    {
     "data": {
      "image/png": "[encoded data removed]",
      "text/latex": [
       "$$\\left|{r_{1} - i r_{2}}\\right|$$"
      ],
      "text/plain": [
       "│r_{1} - ⅈ⋅r_{2}│"
      ]
     },
     "execution_count": 18,
     "metadata": {},
     "output_type": "execute_result"
    }
   ],
   "source": [
    "#r1,r2,r3 = symbols('r_{1} r_{2} r_{3}'); simplify(coh_l1(2,rho1qb(r1,r2,r3)))"
   ]
  },
  {
   "cell_type": "markdown",
   "metadata": {},
   "source": [
    "## $l_{1}$-norm predictability\n",
    "\\begin{equation}\n",
    "P_{l_{1}}(\\rho_{A}) = d-1-\\sum_{j\\ne k}\\sqrt{\\rho^{A}_{j,j}\\rho^{A}_{k,k}}= d-1-2\\sum_{j<k}\\sqrt{\\rho^{A}_{j,j}\\rho_{k,k}}\n",
    "\\end{equation}"
   ]
  },
  {
   "cell_type": "code",
   "execution_count": 19,
   "metadata": {},
   "outputs": [],
   "source": [
    "def predict_l1(d,rho):\n",
    "    P = 0\n",
    "    for j in range(0,d-1):\n",
    "        for k in range(j+1,d):\n",
    "            P += sqrt(rho[j,j]*rho[k,k])\n",
    "    return d-1-2*P"
   ]
  },
  {
   "cell_type": "code",
   "execution_count": 20,
   "metadata": {},
   "outputs": [
    {
     "data": {
      "image/png": "[encoded data removed]",
      "text/latex": [
       "$$- 1.0 \\sqrt{- r_{3}^{2} + 1} + 1.0$$"
      ],
      "text/plain": [
       "         ______________      \n",
       "        ╱        2           \n",
       "- 1.0⋅╲╱  - r_{3}  + 1  + 1.0"
      ]
     },
     "execution_count": 20,
     "metadata": {},
     "output_type": "execute_result"
    }
   ],
   "source": [
    "#r1,r2,r3 = symbols('r_{1} r_{2} r_{3}'); simplify(predict_l1(2,rho1qb(r1,r2,r3)))"
   ]
  },
  {
   "cell_type": "markdown",
   "metadata": {},
   "source": [
    "## $l_{1}$-norm quantum correlation\n",
    "\\begin{equation}\n",
    "Q_{l_{1}}(\\rho_{AB}) = \\sum_{j\\ne k}\\left(\\sqrt{\\rho^{A}_{jj}\\rho^{A}_{kk}}-|\\rho^{A}_{jk}|\\right)=2\\sum_{j< k}\\left(\\sqrt{\\rho^{A}_{jj}\\rho^{A}_{kk}}-|\\rho^{A}_{jk}|\\right),\n",
    "\\end{equation}\n",
    "with $\\rho^{A}=Tr_{B}(\\rho_{AB})$"
   ]
  },
  {
   "cell_type": "code",
   "execution_count": 30,
   "metadata": {},
   "outputs": [],
   "source": [
    "def qcorr_l1(da,db,rhoAB):\n",
    "    rhoA = ptraceB(da, db, rhoAB)\n",
    "    qc = 0\n",
    "    for j in range(0,da-1):\n",
    "        for k in range(j+1,da):\n",
    "            qc += sqrt(rhoA[j,j]*rhoA[k,k]) - abs(rhoA[j,k])\n",
    "    return 2*qc"
   ]
  },
  {
   "cell_type": "code",
   "execution_count": 31,
   "metadata": {},
   "outputs": [
    {
     "data": {
      "image/png": "[encoded data removed]",
      "text/latex": [
       "$$- \\sqrt{x} \\sqrt{w^{2} \\sqrt{- x + 1} \\overline{\\sqrt{- x + 1}} + w x \\sqrt{- w + 1} \\overline{\\sqrt{- w + 1}} - w \\sqrt{- w + 1} \\overline{\\sqrt{- w + 1}} \\overline{\\sqrt{- x + 1}}^{2} - w \\sqrt{- w + 1} \\overline{\\sqrt{- w + 1}} - w \\sqrt{- x + 1} \\overline{\\sqrt{- w + 1}}^{2} \\overline{\\sqrt{- x + 1}} + 2 w \\sqrt{- x + 1} \\overline{\\sqrt{- x + 1}} + x \\sqrt{- w + 1} \\overline{\\sqrt{- w + 1}} - \\sqrt{- w + 1} \\overline{\\sqrt{- w + 1}} \\overline{\\sqrt{- x + 1}}^{2} - \\sqrt{- w + 1} \\overline{\\sqrt{- w + 1}} + \\sqrt{- x + 1} \\overline{\\sqrt{- w + 1}}^{2} \\overline{\\sqrt{- x + 1}} + \\sqrt{- x + 1} \\overline{\\sqrt{- x + 1}}} + \\sqrt{\\left(x \\left(w + 1\\right) + \\sqrt{- w + 1} \\sqrt{- x + 1} \\overline{\\sqrt{- w + 1}} \\overline{\\sqrt{- x + 1}}\\right) \\left(x \\sqrt{- w + 1} \\overline{\\sqrt{- w + 1}} + \\left(w + 1\\right) \\sqrt{- x + 1} \\overline{\\sqrt{- x + 1}}\\right)}$$"
      ],
      "text/plain": [
       "          ____________________________________________________________________\n",
       "         ╱                                                                    \n",
       "        ╱                __________                  __________               \n",
       "       ╱    2   ________   ________         ________   ________       ________\n",
       "- √x⋅╲╱    w ⋅╲╱ -x + 1 ⋅╲╱ -x + 1  + w⋅x⋅╲╱ -w + 1 ⋅╲╱ -w + 1  - w⋅╲╱ -w + 1 \n",
       "\n",
       "______________________________________________________________________________\n",
       "                      2                                                    2  \n",
       " __________ __________                 __________                __________  _\n",
       "   ________   ________        ________   ________       ________   ________   \n",
       "⋅╲╱ -w + 1 ⋅╲╱ -x + 1   - w⋅╲╱ -w + 1 ⋅╲╱ -w + 1  - w⋅╲╱ -x + 1 ⋅╲╱ -w + 1  ⋅╲\n",
       "\n",
       "______________________________________________________________________________\n",
       "                                                                              \n",
       "_________                  __________                __________              _\n",
       " ________         ________   ________       ________   ________     ________  \n",
       "╱ -x + 1  + 2⋅w⋅╲╱ -x + 1 ⋅╲╱ -x + 1  + x⋅╲╱ -w + 1 ⋅╲╱ -w + 1  - ╲╱ -w + 1 ⋅╲\n",
       "\n",
       "______________________________________________________________________________\n",
       "                    2                                                2        \n",
       "_________ __________               __________              __________  _______\n",
       " ________   ________      ________   ________     ________   ________    _____\n",
       "╱ -w + 1 ⋅╲╱ -x + 1   - ╲╱ -w + 1 ⋅╲╱ -w + 1  + ╲╱ -x + 1 ⋅╲╱ -w + 1  ⋅╲╱ -x +\n",
       "\n",
       "____________________________                                                  \n",
       "                                   ___________________________________________\n",
       "___              __________       ╱ ⎛                                  _______\n",
       "___     ________   ________      ╱  ⎜              ________   ________   _____\n",
       " 1  + ╲╱ -x + 1 ⋅╲╱ -x + 1   + ╲╱   ⎝x⋅(w + 1) + ╲╱ -w + 1 ⋅╲╱ -x + 1 ⋅╲╱ -w +\n",
       "\n",
       "                                                                          \n",
       "__________________________________________________________________________\n",
       "___ __________⎞ ⎛             __________                      __________⎞ \n",
       "___   ________⎟ ⎜    ________   ________             ________   ________⎟ \n",
       " 1 ⋅╲╱ -x + 1 ⎠⋅⎝x⋅╲╱ -w + 1 ⋅╲╱ -w + 1  + (w + 1)⋅╲╱ -x + 1 ⋅╲╱ -x + 1 ⎠ "
      ]
     },
     "execution_count": 31,
     "metadata": {},
     "output_type": "execute_result"
    }
   ],
   "source": [
    "simplify(qcorr_l1(2,2,rhoAB_xw))"
   ]
  },
  {
   "cell_type": "markdown",
   "metadata": {},
   "source": [
    "# Hilbert-Schmidt complementarity\n",
    "## Hilbert-Schmidt coherence\n",
    "\\begin{equation}\n",
    "C_{hs}(\\rho) = \\sum_{j\\ne k}|\\rho_{j,k}|^{2} = 2\\sum_{j<k}|\\rho_{j,k}|^{2}\n",
    "\\end{equation}"
   ]
  },
  {
   "cell_type": "code",
   "execution_count": 21,
   "metadata": {},
   "outputs": [],
   "source": [
    "def coh_hs(d,rho):\n",
    "    C = 0\n",
    "    for j in range(0,d-1):\n",
    "        for k in range(j+1,d):\n",
    "            C += (abs(rho[j,k]))**2\n",
    "    return 2*C"
   ]
  },
  {
   "cell_type": "code",
   "execution_count": 22,
   "metadata": {},
   "outputs": [
    {
     "data": {
      "image/png": "[encoded data removed]",
      "text/latex": [
       "$$0.5 \\left|{r_{1} - i r_{2}}\\right|^{2}$$"
      ],
      "text/plain": [
       "                     2\n",
       "0.5⋅│r_{1} - ⅈ⋅r_{2}│ "
      ]
     },
     "execution_count": 22,
     "metadata": {},
     "output_type": "execute_result"
    }
   ],
   "source": [
    "#r1,r2,r3 = symbols('r_{1} r_{2} r_{3}'); simplify(coh_hs(2,rho1qb(r1,r2,r3)))"
   ]
  },
  {
   "cell_type": "markdown",
   "metadata": {},
   "source": [
    "## Hilbert-Schmidt-linear predictability\n",
    "\\begin{equation}\n",
    "P_{hs}^{l}(\\rho) = \\frac{d-1}{d}-2\\sum_{j<k}\\rho_{j,j}\\rho_{k,k}\n",
    "\\end{equation}"
   ]
  },
  {
   "cell_type": "code",
   "execution_count": 29,
   "metadata": {},
   "outputs": [],
   "source": [
    "def predict_hs_l(d,rho):\n",
    "    P = 0\n",
    "    for j in range(0,d-1):\n",
    "        for k in range(j+1,d):\n",
    "            P += abs(rho[j,j])*abs(rho[k,k])\n",
    "    return (d-1)/d-2*P"
   ]
  },
  {
   "cell_type": "code",
   "execution_count": 30,
   "metadata": {},
   "outputs": [
    {
     "data": {
      "image/png": "[encoded data removed]",
      "text/latex": [
       "$$0.5 r_{3}^{2}$$"
      ],
      "text/plain": [
       "         2\n",
       "0.5⋅r_{3} "
      ]
     },
     "execution_count": 30,
     "metadata": {},
     "output_type": "execute_result"
    }
   ],
   "source": [
    "#r1,r2,r3 = symbols('r_{1} r_{2} r_{3}'); simplify(predict_hs_l(2,rho1qb(r1,r2,r3)))"
   ]
  },
  {
   "cell_type": "markdown",
   "metadata": {},
   "source": [
    "## Hilbert-Schmidt-linear quantum correlation\n"
   ]
  },
  {
   "cell_type": "markdown",
   "metadata": {},
   "source": [
    "## Hilbert-Schmidt-von Neumann predictability\n",
    "\\begin{equation}\n",
    "P_{hs}^{vn}(\\rho) = \\ln(d)+\\sum_{j=1}^{d}\\rho_{j,j}\\ln(\\rho_{j,j})\n",
    "\\end{equation}"
   ]
  },
  {
   "cell_type": "code",
   "execution_count": 23,
   "metadata": {},
   "outputs": [],
   "source": [
    "def predict_hs_vn(d,rho):\n",
    "    P = 0\n",
    "    for j in range(0,d):\n",
    "        P += abs(rho[j,j])*ln(abs(rho[j,j]))\n",
    "    return ln(d)+P"
   ]
  },
  {
   "cell_type": "code",
   "execution_count": 9,
   "metadata": {},
   "outputs": [
    {
     "data": {
      "image/png": "[encoded data removed]",
      "text/latex": [
       "$$0.5 \\left(\\log{\\left (\\left|{r_{3} + 1}\\right| \\right )} - 0.693147180559945\\right) \\left|{r_{3} + 1}\\right| + \\log{\\left (2 \\right )}$$"
      ],
      "text/plain": [
       "0.5⋅(log(│r_{3} + 1│) - 0.693147180559945)⋅│r_{3} + 1│ + log(2)"
      ]
     },
     "execution_count": 9,
     "metadata": {},
     "output_type": "execute_result"
    }
   ],
   "source": [
    "#r1,r2,r3 = symbols('r_{1} r_{2} r_{3}'); simplify(predict_hs_vn(2,rho1qb(r1,r2,r3)))"
   ]
  },
  {
   "cell_type": "markdown",
   "metadata": {},
   "source": [
    "## Hilbert-Schmidt-von Neumann quantum correlation"
   ]
  },
  {
   "cell_type": "markdown",
   "metadata": {},
   "source": [
    "# Wigner-Yanase complementarity\n",
    "## Wigner-Yanase coherence\n",
    "\\begin{equation}\n",
    "C_{wy}(\\rho) = \\sum_{j\\ne k}|(\\sqrt{\\rho})_{j,k}|^{2} = 2\\sum_{j<k}|(\\sqrt{\\rho})_{j,k}|^{2}\n",
    "\\end{equation}"
   ]
  },
  {
   "cell_type": "code",
   "execution_count": 19,
   "metadata": {},
   "outputs": [],
   "source": [
    "def coh_wy(d,rho):\n",
    "    rho_sqrt = mat_sqrt(d,rho)\n",
    "    C = 0\n",
    "    for j in range(0,d-1):\n",
    "        for k in range(j+1,d):\n",
    "            C += abs(rho_sqrt[j,k])**2\n",
    "    return 2*C"
   ]
  },
  {
   "cell_type": "code",
   "execution_count": 22,
   "metadata": {},
   "outputs": [
    {
     "data": {
      "image/png": "[encoded data removed]",
      "text/latex": [
       "$$1.0 \\left(r_{1}^{2} + r_{2}^{2}\\right) \\left|{\\frac{\\left(r_{3} - \\left(r_{1}^{2} + r_{2}^{2} + r_{3}^{2}\\right)^{0.5}\\right) \\left(\\left(r_{1} - i r_{2}\\right) \\left(r_{1} + i r_{2}\\right) + \\left(r_{3} + \\left(r_{1}^{2} + r_{2}^{2} + r_{3}^{2}\\right)^{0.5}\\right)^{2}\\right) \\sqrt{\\left(r_{1}^{2} + r_{2}^{2} + r_{3}^{2}\\right)^{0.5} + 1} + \\left(r_{3} + \\left(r_{1}^{2} + r_{2}^{2} + r_{3}^{2}\\right)^{0.5}\\right) \\left(\\left(r_{1} - i r_{2}\\right) \\left(r_{1} + i r_{2}\\right) + \\left(r_{3} - \\left(r_{1}^{2} + r_{2}^{2} + r_{3}^{2}\\right)^{0.5}\\right)^{2}\\right) \\sqrt{- \\left(r_{1}^{2} + r_{2}^{2} + r_{3}^{2}\\right)^{0.5} + 1}}{\\left(\\left(r_{1} - i r_{2}\\right) \\left(r_{1} + i r_{2}\\right) + \\left(r_{3} - \\left(r_{1}^{2} + r_{2}^{2} + r_{3}^{2}\\right)^{0.5}\\right)^{2}\\right) \\left(\\left(r_{1} - i r_{2}\\right) \\left(r_{1} + i r_{2}\\right) + \\left(r_{3} + \\left(r_{1}^{2} + r_{2}^{2} + r_{3}^{2}\\right)^{0.5}\\right)^{2}\\right)}}\\right|^{2}$$"
      ],
      "text/plain": [
       "                                                                              \n",
       "                      │                                        ⎛              \n",
       "                      │⎛                                  0.5⎞ ⎜              \n",
       "                      │⎜        ⎛     2        2        2⎞   ⎟ ⎜              \n",
       "    ⎛     2        2⎞ │⎝r_{3} - ⎝r_{1}  + r_{2}  + r_{3} ⎠   ⎠⋅⎝(r_{1} - ⅈ⋅r_{\n",
       "1.0⋅⎝r_{1}  + r_{2} ⎠⋅│───────────────────────────────────────────────────────\n",
       "                      │                                                       \n",
       "                      │                                                       \n",
       "                      │                                                       \n",
       "                      │                                                       \n",
       "\n",
       "                                                                              \n",
       "                                                               2⎞     ________\n",
       "                        ⎛                                  0.5⎞ ⎟    ╱        \n",
       "                        ⎜        ⎛     2        2        2⎞   ⎟ ⎟   ╱  ⎛     2\n",
       "2})⋅(r_{1} + ⅈ⋅r_{2}) + ⎝r_{3} + ⎝r_{1}  + r_{2}  + r_{3} ⎠   ⎠ ⎠⋅╲╱   ⎝r_{1} \n",
       "──────────────────────────────────────────────────────────────────────────────\n",
       "                           ⎛                                                  \n",
       "                           ⎜                                      ⎛           \n",
       "                           ⎜                                      ⎜        ⎛  \n",
       "                           ⎝(r_{1} - ⅈ⋅r_{2})⋅(r_{1} + ⅈ⋅r_{2}) + ⎝r_{3} - ⎝r_\n",
       "\n",
       "                                                                              \n",
       "___________________________                                           ⎛       \n",
       "                   0.5        ⎛                                  0.5⎞ ⎜       \n",
       "        2        2⎞           ⎜        ⎛     2        2        2⎞   ⎟ ⎜       \n",
       " + r_{2}  + r_{3} ⎠    + 1  + ⎝r_{3} + ⎝r_{1}  + r_{2}  + r_{3} ⎠   ⎠⋅⎝(r_{1} \n",
       "──────────────────────────────────────────────────────────────────────────────\n",
       "                           2⎞ ⎛                                               \n",
       "                       0.5⎞ ⎟ ⎜                                      ⎛        \n",
       "   2        2        2⎞   ⎟ ⎟ ⎜                                      ⎜        \n",
       "{1}  + r_{2}  + r_{3} ⎠   ⎠ ⎠⋅⎝(r_{1} - ⅈ⋅r_{2})⋅(r_{1} + ⅈ⋅r_{2}) + ⎝r_{3} + \n",
       "\n",
       "                                                                              \n",
       "                                                                      2⎞     _\n",
       "                               ⎛                                  0.5⎞ ⎟    ╱ \n",
       "                               ⎜        ⎛     2        2        2⎞   ⎟ ⎟   ╱  \n",
       "- ⅈ⋅r_{2})⋅(r_{1} + ⅈ⋅r_{2}) + ⎝r_{3} - ⎝r_{1}  + r_{2}  + r_{3} ⎠   ⎠ ⎠⋅╲╱   \n",
       "──────────────────────────────────────────────────────────────────────────────\n",
       "                              2⎞                                              \n",
       "                          0.5⎞ ⎟                                              \n",
       "⎛     2        2        2⎞   ⎟ ⎟                                              \n",
       "⎝r_{1}  + r_{2}  + r_{3} ⎠   ⎠ ⎠                                              \n",
       "\n",
       "                                     2\n",
       "____________________________________│ \n",
       "                            0.5     │ \n",
       "  ⎛     2        2        2⎞        │ \n",
       "- ⎝r_{1}  + r_{2}  + r_{3} ⎠    + 1 │ \n",
       "────────────────────────────────────│ \n",
       "                                    │ \n",
       "                                    │ \n",
       "                                    │ \n",
       "                                    │ "
      ]
     },
     "execution_count": 22,
     "metadata": {},
     "output_type": "execute_result"
    }
   ],
   "source": [
    "#r1,r2,r3 = symbols('r_{1} r_{2} r_{3}'); simplify(coh_wy(2,rho1qb(r1,r2,r3)))"
   ]
  },
  {
   "cell_type": "markdown",
   "metadata": {},
   "source": [
    "## Wigner-Yanase predictability"
   ]
  },
  {
   "cell_type": "markdown",
   "metadata": {},
   "source": [
    "## Wigner-Yanase quantum correlation"
   ]
  },
  {
   "cell_type": "markdown",
   "metadata": {},
   "source": [
    "# Relative entropy complementarity\n",
    "## Relative entropy coherence\n",
    "\\begin{equation}\n",
    "C_{re}(\\rho) = S(\\rho_{diag})-S(\\rho),\n",
    "\\end{equation}\n",
    "with $\\rho_{diag}=diag(\\rho_{1,1},\\rho_{2,2},\\cdots,\\rho_{d,d})$."
   ]
  },
  {
   "cell_type": "code",
   "execution_count": 22,
   "metadata": {},
   "outputs": [],
   "source": [
    "def coh_re(d,rho):\n",
    "    for j in range(0,d):\n",
    "        pv[j] = rho[j,j]\n",
    "    return shannon(d,pv) - von_neumann(d,rho)"
   ]
  },
  {
   "cell_type": "code",
   "execution_count": 25,
   "metadata": {},
   "outputs": [],
   "source": [
    "#r1,r2,r3 = symbols('r_{1} r_{2} r_{3}'); float(coh_re(2,rho1qb(1,0,0)))"
   ]
  },
  {
   "cell_type": "markdown",
   "metadata": {},
   "source": [
    "## Relative entropy predictability\n",
    "It is equal to the Hilbert-Schmidt-von Neumann predictability."
   ]
  },
  {
   "cell_type": "markdown",
   "metadata": {},
   "source": [
    "## Relative entropy quantum correlation"
   ]
  },
  {
   "cell_type": "code",
   "execution_count": null,
   "metadata": {},
   "outputs": [],
   "source": []
  }
 ],
 "metadata": {
  "kernelspec": {
   "display_name": "Python 3",
   "language": "python",
   "name": "python3"
  },
  "language_info": {
   "codemirror_mode": {
    "name": "ipython",
    "version": 3
   },
   "file_extension": ".py",
   "mimetype": "text/x-python",
   "name": "python",
   "nbconvert_exporter": "python",
   "pygments_lexer": "ipython3",
   "version": "3.6.4"
  }
 },
 "nbformat": 4,
 "nbformat_minor": 2
}
