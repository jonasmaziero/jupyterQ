{
 "cells": [
  {
   "cell_type": "code",
   "execution_count": 16,
   "metadata": {},
   "outputs": [],
   "source": [
    "%run init.ipynb\n",
    "%run gates.ipynb\n",
    "%run states.ipynb"
   ]
  },
  {
   "cell_type": "markdown",
   "metadata": {},
   "source": [
    "### $l_{1}$-norm coherence\n",
    "\\begin{equation}\n",
    "C_{l_{1}}(\\rho) = \\sum_{j\\ne k}|\\rho_{j,j}| = 2\\sum_{j< k}|\\rho_{j,j}|\n",
    "\\end{equation}"
   ]
  },
  {
   "cell_type": "code",
   "execution_count": 17,
   "metadata": {},
   "outputs": [],
   "source": [
    "def coh_l1(d,rho):\n",
    "    Cl1 = 0\n",
    "    for j in range(0,d-1):\n",
    "        for k in range(j+1,d):\n",
    "            Cl1 += abs(rho[j,k])\n",
    "    return 2*Cl1"
   ]
  },
  {
   "cell_type": "code",
   "execution_count": 18,
   "metadata": {},
   "outputs": [
    {
     "data": {
      "image/png": "[encoded data removed]",
      "text/latex": [
       "$$\\left|{r_{1} - i r_{2}}\\right|$$"
      ],
      "text/plain": [
       "│r_{1} - ⅈ⋅r_{2}│"
      ]
     },
     "execution_count": 18,
     "metadata": {},
     "output_type": "execute_result"
    }
   ],
   "source": [
    "#r1,r2,r3 = symbols('r_{1} r_{2} r_{3}')\n",
    "#simplify(coh_l1(2,rho1qb(r1,r2,r3)))"
   ]
  },
  {
   "cell_type": "markdown",
   "metadata": {},
   "source": [
    "### $l_{1}$-norm predictability\n",
    "\\begin{equation}\n",
    "P_{l_{1}}(\\rho) = d-1-\\sum_{j\\ne k}\\sqrt{\\rho_{j,j}\\rho_{k,k}}= d-1-2\\sum_{j< k}\\sqrt{\\rho_{j,j}\\rho_{k,k}}\n",
    "\\end{equation}"
   ]
  },
  {
   "cell_type": "code",
   "execution_count": 19,
   "metadata": {},
   "outputs": [],
   "source": [
    "def predict_l1(d,rho):\n",
    "    Pl1 = 0\n",
    "    for j in range(0,d-1):\n",
    "        for k in range(j+1,d):\n",
    "            Pl1 += sqrt(rho[j,j]*rho[k,k])\n",
    "    return d-1-2*Pl1"
   ]
  },
  {
   "cell_type": "code",
   "execution_count": 20,
   "metadata": {},
   "outputs": [
    {
     "data": {
      "image/png": "[encoded data removed]",
      "text/latex": [
       "$$- 1.0 \\sqrt{- r_{3}^{2} + 1} + 1.0$$"
      ],
      "text/plain": [
       "         ______________      \n",
       "        ╱        2           \n",
       "- 1.0⋅╲╱  - r_{3}  + 1  + 1.0"
      ]
     },
     "execution_count": 20,
     "metadata": {},
     "output_type": "execute_result"
    }
   ],
   "source": [
    "#simplify(predict_l1(2,rho1qb(r1,r2,r3)))"
   ]
  },
  {
   "cell_type": "markdown",
   "metadata": {},
   "source": [
    "### Hilbert-Schmidt coherence\n",
    "\\begin{equation}\n",
    "C_{hs}(\\rho) = \\sum_{j\\ne k}|\\rho_{j,k}|^{2} = 2\\sum_{j<k}|\\rho_{j,k}|^{2}\n",
    "\\end{equation}"
   ]
  },
  {
   "cell_type": "code",
   "execution_count": 21,
   "metadata": {},
   "outputs": [],
   "source": [
    "def coh_hs(d,rho):\n",
    "    Chs = 0\n",
    "    for j in range(0,d-1):\n",
    "        for k in range(j+1,d):\n",
    "            Chs += (abs(rho[j,k]))**2\n",
    "    return 2*Chs"
   ]
  },
  {
   "cell_type": "code",
   "execution_count": 22,
   "metadata": {},
   "outputs": [
    {
     "data": {
      "image/png": "[encoded data removed]",
      "text/latex": [
       "$$0.5 \\left|{r_{1} - i r_{2}}\\right|^{2}$$"
      ],
      "text/plain": [
       "                     2\n",
       "0.5⋅│r_{1} - ⅈ⋅r_{2}│ "
      ]
     },
     "execution_count": 22,
     "metadata": {},
     "output_type": "execute_result"
    }
   ],
   "source": [
    "#simplify(coh_hs(2,rho1qb(r1,r2,r3)))"
   ]
  },
  {
   "cell_type": "markdown",
   "metadata": {},
   "source": [
    "### Hilbert-Schmidt-linear predictability\n",
    "\\begin{equation}\n",
    "P_{hs}^{l}(\\rho) = \\frac{d-1}{d}-2\\sum_{j<k}\\rho_{j,j}\\rho_{k,k}\n",
    "\\end{equation}"
   ]
  },
  {
   "cell_type": "code",
   "execution_count": 29,
   "metadata": {},
   "outputs": [],
   "source": [
    "def predict_hs_l(d,rho):\n",
    "    P = 0\n",
    "    for j in range(0,d-1):\n",
    "        for k in range(j+1,d):\n",
    "            P += rho[j,j]*rho[k,k]\n",
    "    return (d-1)/d-2*P"
   ]
  },
  {
   "cell_type": "code",
   "execution_count": 30,
   "metadata": {},
   "outputs": [
    {
     "data": {
      "image/png": "[encoded data removed]",
      "text/latex": [
       "$$0.5 r_{3}^{2}$$"
      ],
      "text/plain": [
       "         2\n",
       "0.5⋅r_{3} "
      ]
     },
     "execution_count": 30,
     "metadata": {},
     "output_type": "execute_result"
    }
   ],
   "source": [
    "#simplify(predict_hs_l(2,rho1qb(r1,r2,r3)))"
   ]
  },
  {
   "cell_type": "markdown",
   "metadata": {},
   "source": [
    "### Hilbert-Schmidt-von Neumann predictability\n",
    "\\begin{equation}\n",
    "P_{hs}^{vn}(\\rho) = \\ln(d)+\\sum_{j=1}^{d}\\rho_{j,j}\\ln(\\rho_{j,j})\n",
    "\\end{equation}"
   ]
  },
  {
   "cell_type": "code",
   "execution_count": 31,
   "metadata": {},
   "outputs": [],
   "source": [
    "def predict_hs_vn(d,rho):\n",
    "    P = 0\n",
    "    for j in range(0,d-1):\n",
    "        for k in range(j+1,d):\n",
    "            P += rho[j,j]*ln(rho[j,j])\n",
    "    return ln(d)+P"
   ]
  },
  {
   "cell_type": "code",
   "execution_count": 32,
   "metadata": {},
   "outputs": [
    {
     "data": {
      "image/png": "[encoded data removed]",
      "text/latex": [
       "$$0.5 \\left(r_{3} + 1\\right) \\left(\\log{\\left (r_{3} + 1 \\right )} - 0.693147180559945\\right) + \\log{\\left (2 \\right )}$$"
      ],
      "text/plain": [
       "0.5⋅(r_{3} + 1)⋅(log(r_{3} + 1) - 0.693147180559945) + log(2)"
      ]
     },
     "execution_count": 32,
     "metadata": {},
     "output_type": "execute_result"
    }
   ],
   "source": [
    "#simplify(predict_hs_vn(2,rho1qb(r1,r2,r3)))"
   ]
  },
  {
   "cell_type": "markdown",
   "metadata": {},
   "source": [
    "### Wigner-Yanase coherence\n",
    "\\begin{equation}\n",
    "\n",
    "\\end{equation}"
   ]
  },
  {
   "cell_type": "markdown",
   "metadata": {},
   "source": [
    "### Relative entropy of coherence\n",
    "\\begin{equation}\n",
    "C_{re}(\\rho) = S(\\rho_{diag})-S(\\rho),\n",
    "\\end{equation}\n",
    "with $\\rho_{diag}=diag(\\rho_{1,1},\\rho_{2,2},\\cdots,\\rho_{d,d})$."
   ]
  },
  {
   "cell_type": "code",
   "execution_count": 22,
   "metadata": {},
   "outputs": [],
   "source": [
    "def coh_re(d,rho):\n",
    "    for j in range(0,d):\n",
    "        pv[j] = rho[j,j]\n",
    "    return shannon(d,pv) - von_neumann(d,rho)"
   ]
  },
  {
   "cell_type": "code",
   "execution_count": 25,
   "metadata": {},
   "outputs": [],
   "source": [
    "#float(coh_re(2,rho1qb(1,0,0)))"
   ]
  },
  {
   "cell_type": "markdown",
   "metadata": {},
   "source": [
    "### Bipartite nonlocal coherence\n",
    "\\begin{equation}\n",
    "C_{nl}(\\rho_{ab})=C(\\rho_{a})+C(\\rho_{b})-C(\\rho_{ab})\n",
    "\\end{equation}"
   ]
  },
  {
   "cell_type": "code",
   "execution_count": 20,
   "metadata": {},
   "outputs": [],
   "source": [
    "def cohl1_nl(da,db,rho):\n",
    "    rhoa = ptraceA(da, db, rho)\n",
    "    rhob = ptraceB(da, db, rho)\n",
    "    return coh_l1(da*db,rho)-coh_l1(da,rhoa)-coh_l1(db,rhob)"
   ]
  },
  {
   "cell_type": "code",
   "execution_count": 28,
   "metadata": {},
   "outputs": [],
   "source": [
    "#coh_nl(2,2,werner(1))"
   ]
  },
  {
   "cell_type": "code",
   "execution_count": null,
   "metadata": {},
   "outputs": [],
   "source": []
  }
 ],
 "metadata": {
  "kernelspec": {
   "display_name": "Python 3",
   "language": "python",
   "name": "python3"
  },
  "language_info": {
   "codemirror_mode": {
    "name": "ipython",
    "version": 3
   },
   "file_extension": ".py",
   "mimetype": "text/x-python",
   "name": "python",
   "nbconvert_exporter": "python",
   "pygments_lexer": "ipython3",
   "version": "3.6.4"
  }
 },
 "nbformat": 4,
 "nbformat_minor": 2
}
