{
 "cells": [
  {
   "cell_type": "code",
   "execution_count": 28,
   "metadata": {},
   "outputs": [],
   "source": [
    "%run gates.ipynb\n",
    "%run states.ipynb\n",
    "%run ptr.ipynb\n",
    "%run jupyterQ.ipynb\n",
    "%run entropy.ipynb"
   ]
  },
  {
   "cell_type": "markdown",
   "metadata": {},
   "source": [
    "# Complementarity relation\n",
    "For a given coherence measures $C$, it is possible to find one or more predictability measure $P$ such that\n",
    "\\begin{equation}\n",
    "C(\\rho_{A})+P(\\rho_{A}) \\le u(d_{A}),\n",
    "\\end{equation}\n",
    "with $u(d_{A})$ beind a function only of the system dimension $d_{A}$. In principle, for pure states $|\\psi\\rangle_{AB}$, it is possible to find a quantum correlation measure $A$ that completes the above CR such that\n",
    "\\begin{equation}\n",
    "C(\\rho_{A})+P(\\rho_{A})+Q(|\\psi\\rangle_{AB}) = u(d_{A}).\n",
    "\\end{equation}"
   ]
  },
  {
   "cell_type": "markdown",
   "metadata": {},
   "source": [
    "## Werner-like one qubit state\n",
    "We begin with a one-qubit state\n",
    "\\begin{equation}\n",
    "\\rho_{w,x} = w|\\psi\\rangle\\langle\\psi|+(1-w)\\mathbb{I}_{2}/2,\n",
    "\\end{equation}\n",
    "with $|\\psi\\rangle=\\sqrt{x}|0\\rangle+\\sqrt{1-x}|1\\rangle$."
   ]
  },
  {
   "cell_type": "code",
   "execution_count": 29,
   "metadata": {},
   "outputs": [
    {
     "data": {
      "image/png": "[encoded data removed]",
      "text/latex": [
       "$$\\left ( \\left[\\begin{matrix}\\sqrt{x}\\\\\\sqrt{- x + 1}\\end{matrix}\\right], \\quad \\left[\\begin{matrix}w x - \\frac{w}{2} + \\frac{1}{2} & w \\sqrt{x} \\overline{\\sqrt{- x + 1}}\\\\w \\sqrt{x} \\sqrt{- x + 1} & w \\sqrt{- x + 1} \\overline{\\sqrt{- x + 1}} - \\frac{w}{2} + \\frac{1}{2}\\end{matrix}\\right]\\right )$$"
      ],
      "text/plain": [
       "⎛              ⎡                              __________        ⎤⎞\n",
       "⎜              ⎢        w   1                   ________        ⎥⎟\n",
       "⎜⎡    √x    ⎤  ⎢  w⋅x - ─ + ─            w⋅√x⋅╲╱ -x + 1         ⎥⎟\n",
       "⎜⎢          ⎥  ⎢        2   2                                   ⎥⎟\n",
       "⎜⎢  ________⎥, ⎢                                                ⎥⎟\n",
       "⎜⎣╲╱ -x + 1 ⎦  ⎢                              __________        ⎥⎟\n",
       "⎜              ⎢       ________      ________   ________   w   1⎥⎟\n",
       "⎜              ⎢w⋅√x⋅╲╱ -x + 1   w⋅╲╱ -x + 1 ⋅╲╱ -x + 1  - ─ + ─⎥⎟\n",
       "⎝              ⎣                                           2   2⎦⎠"
      ]
     },
     "execution_count": 29,
     "metadata": {},
     "output_type": "execute_result"
    }
   ],
   "source": [
    "x,w=symbols('x w', positive=True, real=True)\n",
    "psi = sqrt(x)*cb(2,0) + sqrt(1-x)*cb(2,1); rho_wx = w*proj(psi)+(1-w)*id(2)/2\n",
    "psi,rho_wx"
   ]
  },
  {
   "cell_type": "markdown",
   "metadata": {},
   "source": [
    "Purification\n",
    "\\begin{equation}\n",
    "|\\psi\\rangle_{AB} = (-\\sqrt{1-x}|0\\rangle_{A} + \\sqrt{x}|1\\rangle_{A})\\otimes\\sqrt{\\frac{1-w}{2}}|0\\rangle_{B}+ (\\sqrt{x}|0\\rangle_{A} + \\sqrt{1-x}|1\\rangle_{A})\\otimes\\sqrt{\\frac{1+w}{2}}|1\\rangle_{B}.\n",
    "\\end{equation}"
   ]
  },
  {
   "cell_type": "code",
   "execution_count": 30,
   "metadata": {},
   "outputs": [],
   "source": [
    "psiAB_xw = tp((-sqrt(1-x)*cb(2,0)+sqrt(x)*cb(2,1)),(sqrt((1-w)/2)*cb(2,0))) \\\n",
    "        + tp((sqrt(x)*cb(2,0)+sqrt(1-x)*cb(2,1)),(sqrt((1+w)/2)*cb(2,1))) \n",
    "#simplify(psiAB_xw)"
   ]
  },
  {
   "cell_type": "code",
   "execution_count": 31,
   "metadata": {},
   "outputs": [],
   "source": [
    "rhoAB_xw = proj(psiAB_xw)#; simplify(rhoAB_xw)"
   ]
  },
  {
   "cell_type": "code",
   "execution_count": 32,
   "metadata": {},
   "outputs": [
    {
     "data": {
      "image/png": "[encoded data removed]",
      "text/latex": [
       "$$\\left[\\begin{matrix}\\frac{x}{2} \\left(w + 1\\right) + \\frac{1}{2} \\sqrt{- w + 1} \\sqrt{- x + 1} \\overline{\\sqrt{- w + 1}} \\overline{\\sqrt{- x + 1}} & \\frac{\\sqrt{x}}{2} \\left(- \\sqrt{- w + 1} \\sqrt{- x + 1} \\overline{\\sqrt{- w + 1}} + \\left(w + 1\\right) \\overline{\\sqrt{- x + 1}}\\right)\\\\\\frac{\\sqrt{x}}{2} \\left(- \\sqrt{- w + 1} \\overline{\\sqrt{- w + 1}} \\overline{\\sqrt{- x + 1}} + \\left(w + 1\\right) \\sqrt{- x + 1}\\right) & \\frac{x}{2} \\sqrt{- w + 1} \\overline{\\sqrt{- w + 1}} + \\frac{1}{2} \\left(w + 1\\right) \\sqrt{- x + 1} \\overline{\\sqrt{- x + 1}}\\end{matrix}\\right]$$"
      ],
      "text/plain": [
       "⎡                                    __________ __________        ⎛           \n",
       "⎢                ________   ________   ________   ________        ⎜    _______\n",
       "⎢  x⋅(w + 1)   ╲╱ -w + 1 ⋅╲╱ -x + 1 ⋅╲╱ -w + 1 ⋅╲╱ -x + 1      √x⋅⎝- ╲╱ -w + 1\n",
       "⎢  ───────── + ───────────────────────────────────────────     ───────────────\n",
       "⎢      2                            2                                         \n",
       "⎢                                                                             \n",
       "⎢   ⎛             __________ __________                     ⎞                 \n",
       "⎢   ⎜    ________   ________   ________             ________⎟        ________ \n",
       "⎢√x⋅⎝- ╲╱ -w + 1 ⋅╲╱ -w + 1 ⋅╲╱ -x + 1  + (w + 1)⋅╲╱ -x + 1 ⎠    x⋅╲╱ -w + 1 ⋅\n",
       "⎢────────────────────────────────────────────────────────────    ─────────────\n",
       "⎣                             2                                             2 \n",
       "\n",
       "             __________           __________⎞⎤\n",
       "_   ________   ________             ________⎟⎥\n",
       " ⋅╲╱ -x + 1 ⋅╲╱ -w + 1  + (w + 1)⋅╲╱ -x + 1 ⎠⎥\n",
       "─────────────────────────────────────────────⎥\n",
       "              2                              ⎥\n",
       "                                             ⎥\n",
       "__________                      __________   ⎥\n",
       "  ________             ________   ________   ⎥\n",
       "╲╱ -w + 1    (w + 1)⋅╲╱ -x + 1 ⋅╲╱ -x + 1    ⎥\n",
       "────────── + ─────────────────────────────   ⎥\n",
       "                           2                 ⎦"
      ]
     },
     "execution_count": 32,
     "metadata": {},
     "output_type": "execute_result"
    }
   ],
   "source": [
    "rhoA_xw = ptraceB(2,2,rhoAB_xw)\n",
    "simplify(rhoA_xw)"
   ]
  },
  {
   "cell_type": "markdown",
   "metadata": {},
   "source": [
    "# $l_{1}$-norm complementarity\n",
    "\\begin{equation}\n",
    "C_{l_{1}}(\\rho_{A})+P_{l_{1}}(\\rho_{A})+Q_{l_{1}}(\\rho_{A})=d_{A}-1\n",
    "\\end{equation}\n",
    "with $\\rho_{A}=Tr_{B}(|\\psi\\rangle_{AB}\\langle\\psi|$)\n",
    "## $l_{1}$-norm coherence\n",
    "\\begin{equation}\n",
    "C_{l_{1}}(\\rho_{A}) = \\sum_{j\\ne k}|\\rho^{A}_{j,j}| = 2\\sum_{j<k}|\\rho^{A}_{j,j}|\n",
    "\\end{equation}"
   ]
  },
  {
   "cell_type": "code",
   "execution_count": 42,
   "metadata": {},
   "outputs": [],
   "source": [
    "def coh_l1(rho):\n",
    "    d=rho.shape[0]; C = 0\n",
    "    for j in range(0,d-1):\n",
    "        for k in range(j+1,d):\n",
    "            C += abs(rho[j,k])\n",
    "    return 2*C"
   ]
  },
  {
   "cell_type": "code",
   "execution_count": 44,
   "metadata": {},
   "outputs": [
    {
     "data": {
      "image/png": "[encoded data removed]",
      "text/latex": [
       "$$\\left|{r_{1} - i r_{2}}\\right|$$"
      ],
      "text/plain": [
       "│r_{1} - ⅈ⋅r_{2}│"
      ]
     },
     "execution_count": 44,
     "metadata": {},
     "output_type": "execute_result"
    }
   ],
   "source": [
    "r1,r2,r3 = symbols('r_{1} r_{2} r_{3}')#; rho1qb(r1,r2,r3)\n",
    "simplify(coh_l1(rho1qb(r1,r2,r3)))"
   ]
  },
  {
   "cell_type": "code",
   "execution_count": 45,
   "metadata": {},
   "outputs": [
    {
     "data": {
      "image/png": "[encoded data removed]",
      "text/latex": [
       "$$2 w \\sqrt{x} \\left|{\\sqrt{- x + 1}}\\right|$$"
      ],
      "text/plain": [
       "       │  ________│\n",
       "2⋅w⋅√x⋅│╲╱ -x + 1 │"
      ]
     },
     "execution_count": 45,
     "metadata": {},
     "output_type": "execute_result"
    }
   ],
   "source": [
    "simplify(coh_l1(rho_wx))"
   ]
  },
  {
   "cell_type": "markdown",
   "metadata": {},
   "source": [
    "## $l_{1}$-norm predictability\n",
    "\\begin{equation}\n",
    "P_{l_{1}}(\\rho_{A}) = d-1-\\sum_{j\\ne k}\\sqrt{\\rho^{A}_{j,j}\\rho^{A}_{k,k}}= d-1-2\\sum_{j<k}\\sqrt{\\rho^{A}_{j,j}\\rho_{k,k}}\n",
    "\\end{equation}"
   ]
  },
  {
   "cell_type": "code",
   "execution_count": 46,
   "metadata": {},
   "outputs": [],
   "source": [
    "def predict_l1(rho):\n",
    "    d=rho.shape[0]; P = 0\n",
    "    for j in range(0,d-1):\n",
    "        for k in range(j+1,d):\n",
    "            P += sqrt(rho[j,j]*rho[k,k])\n",
    "    return d-1-2*P"
   ]
  },
  {
   "cell_type": "code",
   "execution_count": 49,
   "metadata": {},
   "outputs": [
    {
     "data": {
      "image/png": "[encoded data removed]",
      "text/latex": [
       "$$- 1.0 \\sqrt{- r_{3}^{2} + 1} + 1.0$$"
      ],
      "text/plain": [
       "         ______________      \n",
       "        ╱        2           \n",
       "- 1.0⋅╲╱  - r_{3}  + 1  + 1.0"
      ]
     },
     "execution_count": 49,
     "metadata": {},
     "output_type": "execute_result"
    }
   ],
   "source": [
    "r1,r2,r3 = symbols('r_{1} r_{2} r_{3}'); simplify(predict_l1(rho1qb(r1,r2,r3)))"
   ]
  },
  {
   "cell_type": "code",
   "execution_count": 50,
   "metadata": {},
   "outputs": [
    {
     "data": {
      "image/png": "[encoded data removed]",
      "text/latex": [
       "$$- \\sqrt{\\left(2 w x - w + 1\\right) \\left(2 w \\sqrt{- x + 1} \\overline{\\sqrt{- x + 1}} - w + 1\\right)} + 1$$"
      ],
      "text/plain": [
       "      _____________________________________________________    \n",
       "     ╱                 ⎛               __________        ⎞     \n",
       "    ╱                  ⎜      ________   ________        ⎟     \n",
       "- ╲╱   (2⋅w⋅x - w + 1)⋅⎝2⋅w⋅╲╱ -x + 1 ⋅╲╱ -x + 1  - w + 1⎠  + 1"
      ]
     },
     "execution_count": 50,
     "metadata": {},
     "output_type": "execute_result"
    }
   ],
   "source": [
    "simplify(predict_l1(rho_wx))"
   ]
  },
  {
   "cell_type": "markdown",
   "metadata": {},
   "source": [
    "## $l_{1}$-norm quantum correlation\n",
    "\\begin{equation}\n",
    "Q_{l_{1}}(\\rho_{AB}) = \\sum_{j\\ne k}\\left(\\sqrt{\\rho^{A}_{jj}\\rho^{A}_{kk}}-|\\rho^{A}_{jk}|\\right)=2\\sum_{j< k}\\left(\\sqrt{\\rho^{A}_{jj}\\rho^{A}_{kk}}-|\\rho^{A}_{jk}|\\right),\n",
    "\\end{equation}\n",
    "with $\\rho^{A}=Tr_{B}(\\rho_{AB})$"
   ]
  },
  {
   "cell_type": "code",
   "execution_count": 30,
   "metadata": {},
   "outputs": [],
   "source": [
    "def qcorr_l1(da,db,rhoAB):\n",
    "    rhoA = ptraceB(da, db, rhoAB)\n",
    "    qc = 0\n",
    "    for j in range(0,da-1):\n",
    "        for k in range(j+1,da):\n",
    "            qc += sqrt(rhoA[j,j]*rhoA[k,k]) - abs(rhoA[j,k])\n",
    "    return 2*qc"
   ]
  },
  {
   "cell_type": "code",
   "execution_count": 31,
   "metadata": {},
   "outputs": [
    {
     "data": {
      "image/png": "[encoded data removed]",
      "text/latex": [
       "$$- \\sqrt{x} \\sqrt{w^{2} \\sqrt{- x + 1} \\overline{\\sqrt{- x + 1}} + w x \\sqrt{- w + 1} \\overline{\\sqrt{- w + 1}} - w \\sqrt{- w + 1} \\overline{\\sqrt{- w + 1}} \\overline{\\sqrt{- x + 1}}^{2} - w \\sqrt{- w + 1} \\overline{\\sqrt{- w + 1}} - w \\sqrt{- x + 1} \\overline{\\sqrt{- w + 1}}^{2} \\overline{\\sqrt{- x + 1}} + 2 w \\sqrt{- x + 1} \\overline{\\sqrt{- x + 1}} + x \\sqrt{- w + 1} \\overline{\\sqrt{- w + 1}} - \\sqrt{- w + 1} \\overline{\\sqrt{- w + 1}} \\overline{\\sqrt{- x + 1}}^{2} - \\sqrt{- w + 1} \\overline{\\sqrt{- w + 1}} + \\sqrt{- x + 1} \\overline{\\sqrt{- w + 1}}^{2} \\overline{\\sqrt{- x + 1}} + \\sqrt{- x + 1} \\overline{\\sqrt{- x + 1}}} + \\sqrt{\\left(x \\left(w + 1\\right) + \\sqrt{- w + 1} \\sqrt{- x + 1} \\overline{\\sqrt{- w + 1}} \\overline{\\sqrt{- x + 1}}\\right) \\left(x \\sqrt{- w + 1} \\overline{\\sqrt{- w + 1}} + \\left(w + 1\\right) \\sqrt{- x + 1} \\overline{\\sqrt{- x + 1}}\\right)}$$"
      ],
      "text/plain": [
       "          ____________________________________________________________________\n",
       "         ╱                                                                    \n",
       "        ╱                __________                  __________               \n",
       "       ╱    2   ________   ________         ________   ________       ________\n",
       "- √x⋅╲╱    w ⋅╲╱ -x + 1 ⋅╲╱ -x + 1  + w⋅x⋅╲╱ -w + 1 ⋅╲╱ -w + 1  - w⋅╲╱ -w + 1 \n",
       "\n",
       "______________________________________________________________________________\n",
       "                      2                                                    2  \n",
       " __________ __________                 __________                __________  _\n",
       "   ________   ________        ________   ________       ________   ________   \n",
       "⋅╲╱ -w + 1 ⋅╲╱ -x + 1   - w⋅╲╱ -w + 1 ⋅╲╱ -w + 1  - w⋅╲╱ -x + 1 ⋅╲╱ -w + 1  ⋅╲\n",
       "\n",
       "______________________________________________________________________________\n",
       "                                                                              \n",
       "_________                  __________                __________              _\n",
       " ________         ________   ________       ________   ________     ________  \n",
       "╱ -x + 1  + 2⋅w⋅╲╱ -x + 1 ⋅╲╱ -x + 1  + x⋅╲╱ -w + 1 ⋅╲╱ -w + 1  - ╲╱ -w + 1 ⋅╲\n",
       "\n",
       "______________________________________________________________________________\n",
       "                    2                                                2        \n",
       "_________ __________               __________              __________  _______\n",
       " ________   ________      ________   ________     ________   ________    _____\n",
       "╱ -w + 1 ⋅╲╱ -x + 1   - ╲╱ -w + 1 ⋅╲╱ -w + 1  + ╲╱ -x + 1 ⋅╲╱ -w + 1  ⋅╲╱ -x +\n",
       "\n",
       "____________________________                                                  \n",
       "                                   ___________________________________________\n",
       "___              __________       ╱ ⎛                                  _______\n",
       "___     ________   ________      ╱  ⎜              ________   ________   _____\n",
       " 1  + ╲╱ -x + 1 ⋅╲╱ -x + 1   + ╲╱   ⎝x⋅(w + 1) + ╲╱ -w + 1 ⋅╲╱ -x + 1 ⋅╲╱ -w +\n",
       "\n",
       "                                                                          \n",
       "__________________________________________________________________________\n",
       "___ __________⎞ ⎛             __________                      __________⎞ \n",
       "___   ________⎟ ⎜    ________   ________             ________   ________⎟ \n",
       " 1 ⋅╲╱ -x + 1 ⎠⋅⎝x⋅╲╱ -w + 1 ⋅╲╱ -w + 1  + (w + 1)⋅╲╱ -x + 1 ⋅╲╱ -x + 1 ⎠ "
      ]
     },
     "execution_count": 31,
     "metadata": {},
     "output_type": "execute_result"
    }
   ],
   "source": [
    "simplify(qcorr_l1(2,2,rhoAB_xw))"
   ]
  },
  {
   "cell_type": "markdown",
   "metadata": {},
   "source": [
    "# Hilbert-Schmidt complementarity\n",
    "## Hilbert-Schmidt coherence\n",
    "\\begin{equation}\n",
    "C_{hs}(\\rho) = \\sum_{j\\ne k}|\\rho_{j,k}|^{2} = 2\\sum_{j<k}|\\rho_{j,k}|^{2}\n",
    "\\end{equation}"
   ]
  },
  {
   "cell_type": "code",
   "execution_count": 40,
   "metadata": {},
   "outputs": [],
   "source": [
    "def coh_hs(rho):\n",
    "    d=rho.shape[0]; C = 0\n",
    "    for j in range(0,d-1):\n",
    "        for k in range(j+1,d):\n",
    "            C += (abs(rho[j,k]))**2\n",
    "    return 2*C"
   ]
  },
  {
   "cell_type": "code",
   "execution_count": 41,
   "metadata": {},
   "outputs": [
    {
     "data": {
      "image/png": "[encoded data removed]",
      "text/latex": [
       "$$0.5 \\left|{r_{1} - i r_{2}}\\right|^{2}$$"
      ],
      "text/plain": [
       "                     2\n",
       "0.5⋅│r_{1} - ⅈ⋅r_{2}│ "
      ]
     },
     "execution_count": 41,
     "metadata": {},
     "output_type": "execute_result"
    }
   ],
   "source": [
    "r1,r2,r3 = symbols('r_{1} r_{2} r_{3}'); simplify(coh_hs(rho1qb(r1,r2,r3)))"
   ]
  },
  {
   "cell_type": "markdown",
   "metadata": {},
   "source": [
    "## Hilbert-Schmidt-linear predictability\n",
    "\\begin{equation}\n",
    "P_{hs}^{l}(\\rho) = \\frac{d-1}{d}-2\\sum_{j<k}\\rho_{j,j}\\rho_{k,k}\n",
    "\\end{equation}"
   ]
  },
  {
   "cell_type": "code",
   "execution_count": 37,
   "metadata": {},
   "outputs": [],
   "source": [
    "def predict_hs_l(rho):\n",
    "    d=rho.shape[0]; P = 0\n",
    "    for j in range(0,d-1):\n",
    "        for k in range(j+1,d):\n",
    "            P += abs(rho[j,j])*abs(rho[k,k])\n",
    "    return (d-1)/d-2*P"
   ]
  },
  {
   "cell_type": "code",
   "execution_count": 39,
   "metadata": {},
   "outputs": [
    {
     "data": {
      "image/png": "[encoded data removed]",
      "text/latex": [
       "$$- 0.5 \\left|{r_{3} - 1}\\right| \\left|{r_{3} + 1}\\right| + 0.5$$"
      ],
      "text/plain": [
       "-0.5⋅│r_{3} - 1│⋅│r_{3} + 1│ + 0.5"
      ]
     },
     "execution_count": 39,
     "metadata": {},
     "output_type": "execute_result"
    }
   ],
   "source": [
    "r1,r2,r3 = symbols('r_{1} r_{2} r_{3}'); simplify(predict_hs_l(rho1qb(r1,r2,r3)))"
   ]
  },
  {
   "cell_type": "markdown",
   "metadata": {},
   "source": [
    "## Hilbert-Schmidt-linear quantum correlation\n",
    "\\begin{equation}\n",
    "Q_{hs}(\\rho_{AB}) = S_{l}(\\rho_{A}) = 1-Tr(\\rho_{A}^{2}).\n",
    "\\end{equation}"
   ]
  },
  {
   "cell_type": "code",
   "execution_count": 59,
   "metadata": {},
   "outputs": [],
   "source": [
    "def qcorr_hs(da,db,rhoAB):\n",
    "    rhoA = ptraceB(da,db,rhoAB)\n",
    "    return 1-tr(rhoA*rhoA)"
   ]
  },
  {
   "cell_type": "code",
   "execution_count": 60,
   "metadata": {},
   "outputs": [
    {
     "data": {
      "image/png": "[encoded data removed]",
      "text/latex": [
       "$$- \\frac{x}{2} \\left(\\sqrt{- w + 1} \\sqrt{- x + 1} \\overline{\\sqrt{- w + 1}} - \\left(w + 1\\right) \\overline{\\sqrt{- x + 1}}\\right) \\left(\\sqrt{- w + 1} \\overline{\\sqrt{- w + 1}} \\overline{\\sqrt{- x + 1}} - \\left(w + 1\\right) \\sqrt{- x + 1}\\right) - \\frac{1}{4} \\left(x \\left(w + 1\\right) + \\sqrt{- w + 1} \\sqrt{- x + 1} \\overline{\\sqrt{- w + 1}} \\overline{\\sqrt{- x + 1}}\\right)^{2} - \\frac{1}{4} \\left(x \\sqrt{- w + 1} \\overline{\\sqrt{- w + 1}} + \\left(w + 1\\right) \\sqrt{- x + 1} \\overline{\\sqrt{- x + 1}}\\right)^{2} + 1$$"
      ],
      "text/plain": [
       "                                                                              \n",
       "    ⎛                      __________           __________⎞ ⎛           ______\n",
       "    ⎜  ________   ________   ________             ________⎟ ⎜  ________   ____\n",
       "  x⋅⎝╲╱ -w + 1 ⋅╲╱ -x + 1 ⋅╲╱ -w + 1  - (w + 1)⋅╲╱ -x + 1 ⎠⋅⎝╲╱ -w + 1 ⋅╲╱ -w \n",
       "- ────────────────────────────────────────────────────────────────────────────\n",
       "                                                          2                   \n",
       "\n",
       "                                                                              \n",
       "____ __________                     ⎞   ⎛                                  ___\n",
       "____   ________             ________⎟   ⎜              ________   ________   _\n",
       "+ 1 ⋅╲╱ -x + 1  - (w + 1)⋅╲╱ -x + 1 ⎠   ⎝x⋅(w + 1) + ╲╱ -w + 1 ⋅╲╱ -x + 1 ⋅╲╱ \n",
       "───────────────────────────────────── - ──────────────────────────────────────\n",
       "                                                                    4         \n",
       "\n",
       "                   2                                                          \n",
       "_______ __________⎞    ⎛             __________                      _________\n",
       "_______   ________⎟    ⎜    ________   ________             ________   _______\n",
       "-w + 1 ⋅╲╱ -x + 1 ⎠    ⎝x⋅╲╱ -w + 1 ⋅╲╱ -w + 1  + (w + 1)⋅╲╱ -x + 1 ⋅╲╱ -x + 1\n",
       "──────────────────── - ───────────────────────────────────────────────────────\n",
       "                                                   4                          \n",
       "\n",
       "  2    \n",
       "_⎞     \n",
       "_⎟     \n",
       " ⎠     \n",
       "─── + 1\n",
       "       "
      ]
     },
     "execution_count": 60,
     "metadata": {},
     "output_type": "execute_result"
    }
   ],
   "source": [
    "simplify(qcorr_hs(2,2,rhoAB_xw))"
   ]
  },
  {
   "cell_type": "markdown",
   "metadata": {},
   "source": [
    "# Wigner-Yanase complementarity\n",
    "## Wigner-Yanase coherence\n",
    "\\begin{equation}\n",
    "C_{wy}(\\rho) = \\sum_{j\\ne k}|(\\sqrt{\\rho})_{j,k}|^{2} = 2\\sum_{j<k}|(\\sqrt{\\rho})_{j,k}|^{2}\n",
    "\\end{equation}"
   ]
  },
  {
   "cell_type": "code",
   "execution_count": 55,
   "metadata": {},
   "outputs": [],
   "source": [
    "def coh_wy(rho):\n",
    "    d=rho.shape[0]; rho_sqrt = mat_sqrt(d,rho)\n",
    "    C = 0\n",
    "    for j in range(0,d-1):\n",
    "        for k in range(j+1,d):\n",
    "            C += abs(rho_sqrt[j,k])**2\n",
    "    return 2*C"
   ]
  },
  {
   "cell_type": "code",
   "execution_count": 68,
   "metadata": {},
   "outputs": [],
   "source": [
    "#r1,r2,r3 = symbols('r_{1} r_{2} r_{3}'); simplify(coh_wy(rho1qb(r1,r2,r3)))"
   ]
  },
  {
   "cell_type": "markdown",
   "metadata": {},
   "source": [
    "## Wigner-Yanase predictability\n",
    "It is the same as $P_{hs}$."
   ]
  },
  {
   "cell_type": "markdown",
   "metadata": {},
   "source": [
    "## Wigner-Yanase quantum correlation\n",
    "\\begin{equation}\n",
    "Q_{wy}(\\rho_{AB}) = \\sum_{j=1}^{d_{A}}\\left(\\langle j|\\sqrt{\\rho_{A}}|j\\rangle^{2} - \\langle j|\\rho_{A}|j\\rangle^{2}\\right)\n",
    "\\end{equation}"
   ]
  },
  {
   "cell_type": "code",
   "execution_count": 61,
   "metadata": {},
   "outputs": [],
   "source": [
    "def qcorr_wy(da,db,rhoAB):\n",
    "    rhoA = ptraceB(da,db,rhoAB); rhoA_sqrt = mat_sqrt(da,rhoA)\n",
    "    qc=0\n",
    "    for j in range(0,da):\n",
    "        qc += (rhoA_sqrt[j,j]**2 - rhoA[j,j]**2)\n",
    "    return qc"
   ]
  },
  {
   "cell_type": "code",
   "execution_count": 63,
   "metadata": {},
   "outputs": [],
   "source": [
    "#simplify(qcorr_wy(2,2,rhoAB_xw))"
   ]
  },
  {
   "cell_type": "markdown",
   "metadata": {},
   "source": [
    "# Relative entropy complementarity\n",
    "\\begin{equation}\n",
    "C_{re}(\\rho_{A})+P_{re}(\\rho_{A})+Q_{re}(|\\psi\\rangle_{AB}) = \\ln(d_{A})\n",
    "\\end{equation}\n",
    "with $\\rho_{A}=Tr_{B}(|\\psi\\rangle_{AB}\\langle\\psi|)$\n",
    "## Relative entropy coherence\n",
    "\\begin{equation}\n",
    "C_{re}(\\rho_{A}) = S(\\rho^{A}_{diag})-S(\\rho_{A}),\n",
    "\\end{equation}\n",
    "with $\\rho^{A}_{diag}=diag(\\rho^{A}_{1,1},\\rho^{A}_{2,2},\\cdots,\\rho^{A}_{d,d})$."
   ]
  },
  {
   "cell_type": "code",
   "execution_count": 56,
   "metadata": {},
   "outputs": [],
   "source": [
    "def coh_re(da,rhoA):\n",
    "    pv = zeros(da,1)\n",
    "    for j in range(0,da):\n",
    "        pv[j] = rho[j,j]\n",
    "    return shannon(da,pv) - von_neumann(da,rhoA)"
   ]
  },
  {
   "cell_type": "code",
   "execution_count": 55,
   "metadata": {},
   "outputs": [
    {
     "data": {
      "image/png": "[encoded data removed]",
      "text/latex": [
       "$$- \\frac{1}{\\log{\\left (2 \\right )}} \\left(w x - \\frac{w}{2} + \\frac{1}{2}\\right) \\log{\\left (w x - \\frac{w}{2} + \\frac{1}{2} \\right )} - \\frac{1}{\\log{\\left (2 \\right )}} \\left(w \\sqrt{- x + 1} \\overline{\\sqrt{- x + 1}} - \\frac{w}{2} + \\frac{1}{2}\\right) \\log{\\left (w \\sqrt{- x + 1} \\overline{\\sqrt{- x + 1}} - \\frac{w}{2} + \\frac{1}{2} \\right )} - \\frac{0.0314790659471667}{\\log{\\left (2 \\right )}}$$"
      ],
      "text/plain": [
       "                                   ⎛             __________        ⎞    ⎛     \n",
       "  ⎛      w   1⎞    ⎛      w   1⎞   ⎜    ________   ________   w   1⎟    ⎜    _\n",
       "  ⎜w⋅x - ─ + ─⎟⋅log⎜w⋅x - ─ + ─⎟   ⎜w⋅╲╱ -x + 1 ⋅╲╱ -x + 1  - ─ + ─⎟⋅log⎜w⋅╲╱ \n",
       "  ⎝      2   2⎠    ⎝      2   2⎠   ⎝                          2   2⎠    ⎝     \n",
       "- ────────────────────────────── - ───────────────────────────────────────────\n",
       "              log(2)                                               log(2)     \n",
       "\n",
       "        __________        ⎞                     \n",
       "_______   ________   w   1⎟                     \n",
       "-x + 1 ⋅╲╱ -x + 1  - ─ + ─⎟                     \n",
       "                     2   2⎠   0.0314790659471667\n",
       "─────────────────────────── - ──────────────────\n",
       "                                    log(2)      "
      ]
     },
     "execution_count": 55,
     "metadata": {},
     "output_type": "execute_result"
    }
   ],
   "source": [
    "coh_re(2,rho1qb(0,0,0.99))"
   ]
  },
  {
   "cell_type": "markdown",
   "metadata": {},
   "source": [
    "## Relative entropy predictability\n",
    "\\begin{equation}\n",
    "P_{re}(\\rho) = \\ln(d)+\\sum_{j=1}^{d}\\rho_{jj}\\ln(\\rho_{jj})\n",
    "\\end{equation}"
   ]
  },
  {
   "cell_type": "code",
   "execution_count": 65,
   "metadata": {},
   "outputs": [],
   "source": [
    "def predict_vn(rho):\n",
    "    d=rho.shape[0]; P = 0\n",
    "    for j in range(0,d):\n",
    "        P += abs(rho[j,j])*ln(abs(rho[j,j]))\n",
    "    return ln(d)+P"
   ]
  },
  {
   "cell_type": "code",
   "execution_count": 66,
   "metadata": {},
   "outputs": [
    {
     "data": {
      "image/png": "[encoded data removed]",
      "text/latex": [
       "$$0.5 \\left(\\log{\\left (\\left|{r_{3} - 1}\\right| \\right )} - 0.693147180559945\\right) \\left|{r_{3} - 1}\\right| + 0.5 \\left(\\log{\\left (\\left|{r_{3} + 1}\\right| \\right )} - 0.693147180559945\\right) \\left|{r_{3} + 1}\\right| + \\log{\\left (2 \\right )}$$"
      ],
      "text/plain": [
       "0.5⋅(log(│r_{3} - 1│) - 0.693147180559945)⋅│r_{3} - 1│ + 0.5⋅(log(│r_{3} + 1│)\n",
       " - 0.693147180559945)⋅│r_{3} + 1│ + log(2)"
      ]
     },
     "execution_count": 66,
     "metadata": {},
     "output_type": "execute_result"
    }
   ],
   "source": [
    "r1,r2,r3 = symbols('r_{1} r_{2} r_{3}'); simplify(predict_vn(rho1qb(r1,r2,r3)))"
   ]
  },
  {
   "cell_type": "markdown",
   "metadata": {},
   "source": [
    "## Relative entropy quantum correlation\n",
    "\\begin{equation}\n",
    "Q_{re}(|\\psi\\rangle_{AB}) = S_{vn}(\\rho_{A})\n",
    "\\end{equation}"
   ]
  },
  {
   "cell_type": "code",
   "execution_count": 67,
   "metadata": {},
   "outputs": [],
   "source": [
    "def qcorr_re(da,db,rhoAB):\n",
    "    rhoA = ptraceB(da, db, rhoAB)\n",
    "    return von_neumann(da,rhoA)"
   ]
  },
  {
   "cell_type": "code",
   "execution_count": null,
   "metadata": {},
   "outputs": [],
   "source": []
  }
 ],
 "metadata": {
  "kernelspec": {
   "display_name": "Python 3",
   "language": "python",
   "name": "python3"
  },
  "language_info": {
   "codemirror_mode": {
    "name": "ipython",
    "version": 3
   },
   "file_extension": ".py",
   "mimetype": "text/x-python",
   "name": "python",
   "nbconvert_exporter": "python",
   "pygments_lexer": "ipython3",
   "version": "3.6.4"
  }
 },
 "nbformat": 4,
 "nbformat_minor": 2
}
