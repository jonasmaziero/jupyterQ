{
 "cells": [
  {
   "cell_type": "code",
   "execution_count": 1,
   "metadata": {},
   "outputs": [],
   "source": [
    "%run jupyterQ.ipynb\n",
    "%run init.ipynb"
   ]
  },
  {
   "cell_type": "markdown",
   "metadata": {},
   "source": [
    "# Asymmetry"
   ]
  },
  {
   "cell_type": "markdown",
   "metadata": {},
   "source": [
    "## Wigner-Yanase asymmetry\n",
    "\\begin{equation}\n",
    "A_{wy}(\\rho,G) = -\\frac{1}{2}Tr\\left([\\sqrt{\\rho},G]^{2}\\right)=Tr(\\rho G^{2})-Tr((\\sqrt{\\rho}G)^{2}).\n",
    "\\end{equation}\n",
    "For pures states we get $A_{wy}(|\\psi\\rangle,G)=Var(G)_{\\psi}=\\langle\\psi|G^{2}|\\psi\\rangle-\\langle\\psi|G|\\psi\\rangle^{2}$."
   ]
  },
  {
   "cell_type": "code",
   "execution_count": 67,
   "metadata": {},
   "outputs": [],
   "source": [
    "def asy_wy(rho,G):\n",
    "    rho_sqrt = scipy.linalg.sqrtm(rho); M = np.dot(rho_sqrt,G)\n",
    "    return tr(np.dot(rho,np.dot(G,G)))-tr(np.dot(M,M))"
   ]
  },
  {
   "cell_type": "code",
   "execution_count": 68,
   "metadata": {},
   "outputs": [
    {
     "name": "stdout",
     "output_type": "stream",
     "text": [
      "1.0\n"
     ]
    }
   ],
   "source": [
    "G = np.array([[0,1],[1,0]]); rho = np.array([[1,0],[0,0]]); A=asy_wy(rho,G); print(A)"
   ]
  },
  {
   "cell_type": "code",
   "execution_count": null,
   "metadata": {},
   "outputs": [],
   "source": []
  }
 ],
 "metadata": {
  "kernelspec": {
   "display_name": "Python 3",
   "language": "python",
   "name": "python3"
  },
  "language_info": {
   "codemirror_mode": {
    "name": "ipython",
    "version": 3
   },
   "file_extension": ".py",
   "mimetype": "text/x-python",
   "name": "python",
   "nbconvert_exporter": "python",
   "pygments_lexer": "ipython3",
   "version": "3.8.3"
  }
 },
 "nbformat": 4,
 "nbformat_minor": 4
}
