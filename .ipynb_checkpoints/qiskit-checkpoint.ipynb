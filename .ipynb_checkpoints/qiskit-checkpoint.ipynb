{
 "cells": [
  {
   "cell_type": "code",
   "execution_count": 12,
   "id": "03e1d09a",
   "metadata": {},
   "outputs": [],
   "source": [
    "import qiskit"
   ]
  },
  {
   "cell_type": "code",
   "execution_count": 13,
   "id": "3e29f09a",
   "metadata": {},
   "outputs": [
    {
     "data": {
      "text/plain": [
       "{'qiskit-terra': '0.17.4', 'qiskit-aer': '0.8.2', 'qiskit-ignis': '0.6.0', 'qiskit-ibmq-provider': '0.14.0', 'qiskit-aqua': '0.9.2', 'qiskit': '0.27.0', 'qiskit-nature': None, 'qiskit-finance': None, 'qiskit-optimization': None, 'qiskit-machine-learning': None}"
      ]
     },
     "execution_count": 13,
     "metadata": {},
     "output_type": "execute_result"
    }
   ],
   "source": [
    "qiskit.__qiskit_version__"
   ]
  },
  {
   "cell_type": "code",
   "execution_count": 14,
   "id": "d4377c01",
   "metadata": {},
   "outputs": [],
   "source": [
    "from qiskit import IBMQ"
   ]
  },
  {
   "cell_type": "code",
   "execution_count": 20,
   "id": "1f6f7da4",
   "metadata": {},
   "outputs": [
    {
     "name": "stdout",
     "output_type": "stream",
     "text": [
      "'9119522e167fa0ea60038678fcb29d875a8d3903681c165fa3901ea9a814b386e0cd0909caa6d1455dbb754ed4404a7d0e34db7c5c83fd5521ad5216852ea4f4'\n"
     ]
    }
   ],
   "source": [
    "token_file = open(\"/Users/jonasmaziero/Dropbox/Research/IBMQ/ibmqe_token.txt\")\n",
    "token = token_file.read(); print(token)\n",
    "IBMQ.save_account('9119522e167fa0ea60038678fcb29d875a8d3903681c165fa3901ea9a814b386e0cd0909caa6d1455dbb754ed4404a7d0e34db7c5c83fd5521ad5216852ea4f4',overwrite=True)"
   ]
  },
  {
   "cell_type": "code",
   "execution_count": 21,
   "id": "4300f1e3",
   "metadata": {},
   "outputs": [],
   "source": [
    "IBMQ.load_account();"
   ]
  },
  {
   "cell_type": "code",
   "execution_count": null,
   "id": "bdc61b15",
   "metadata": {},
   "outputs": [],
   "source": []
  }
 ],
 "metadata": {
  "kernelspec": {
   "display_name": "Python 3",
   "language": "python",
   "name": "python3"
  },
  "language_info": {
   "codemirror_mode": {
    "name": "ipython",
    "version": 3
   },
   "file_extension": ".py",
   "mimetype": "text/x-python",
   "name": "python",
   "nbconvert_exporter": "python",
   "pygments_lexer": "ipython3",
   "version": "3.8.8"
  }
 },
 "nbformat": 4,
 "nbformat_minor": 5
}
