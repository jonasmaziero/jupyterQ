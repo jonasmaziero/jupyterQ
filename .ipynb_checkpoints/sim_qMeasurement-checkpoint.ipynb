{
 "cells": [
  {
   "cell_type": "code",
   "execution_count": 32,
   "metadata": {},
   "outputs": [],
   "source": [
    "%run init.ipynb"
   ]
  },
  {
   "cell_type": "markdown",
   "metadata": {},
   "source": [
    "# Simulating non-selective von Neuman measurements\n",
    "\n",
    "## Quantum channel-based algorithm\n",
    "Let's consider and observable $O$. If, for a system prepared in the state $\\rho$, we measure $O$ non-selectively, or in a non-revealing form, the post-measurement state is\n",
    "$$\\Phi_{O}(\\rho)=\\sum_{j}|o_{j}\\rangle\\langle o_{j}|\\rho|o_{j}\\rangle\\langle o_{j}|,$$\n",
    "which is quivalent to the quantum operations described above if we set the Kraus' operator to $$E_{j}=|o_{j}\\rangle\\langle o_{j}|.$$ \n",
    "It's worth observing that these Kraus' operators must satisfy the restrictions $E_{j}E_{k}=E_{j}\\delta_{j,k}\\ \\forall j,k$ and $\\sum_{j=0}^{d_{S}}E_{j}=\\mathbb{I}_{S}.$\n",
    "\n",
    "### One qubit systems\n",
    "In what follows, let's consider the measurent of a general observable $\\hat{n}\\cdot\\vec{\\sigma}$ of a qubit. The eigenvectors are\n",
    "\\begin{align}\n",
    "& |o_{0}\\rangle = |n_{+}\\rangle = \\cos(\\theta/2)|0\\rangle + e^{i\\phi}\\sin(\\theta/2)|1\\rangle, \\\\\n",
    "& |o_{1}\\rangle = |n_{-}\\rangle = \\sin(\\theta/2)|0\\rangle - e^{i\\phi}\\cos(\\theta/2)|1\\rangle.\n",
    "\\end{align}\n",
    "The associated projectors are\n",
    "\\begin{align}\n",
    "E_{0} &= |o_{0}\\rangle\\langle o_{0}| = \\big(\\cos(\\theta/2)|0\\rangle + e^{i\\phi}\\sin(\\theta/2)|1\\rangle\\big)\\big(\\cos(\\theta/2)\\langle 0| + e^{-i\\phi}\\sin(\\theta/2)\\langle 1|\\big) \\\\\n",
    "& = \\cos^{2}(\\theta/2)|0\\rangle\\langle 0| + e^{-i\\phi}\\sin(\\theta/2)\\cos(\\theta/2)|0\\rangle\\langle 1| + e^{i\\phi}\\sin(\\theta/2)\\cos(\\theta/2)|1\\rangle\\langle 0| + \\sin^{2}(\\theta/2)|1\\rangle\\langle 1| \\\\\n",
    "& \\doteq \\begin{bmatrix} \\cos^{2}(\\theta/2) & e^{-i\\phi}\\sin(\\theta/2)\\cos(\\theta/2) \\\\ e^{i\\phi}\\sin(\\theta/2)\\cos(\\theta/2) & \\sin^{2}(\\theta/2) \\end{bmatrix}, \\\\\n",
    "E_{1} &= |o_{1}\\rangle\\langle o_{1}| = \\big(\\sin(\\theta/2)|0\\rangle - e^{i\\phi}\\cos(\\theta/2)|1\\rangle\\big)\\big(\\sin(\\theta/2)\\langle 0| - e^{-i\\phi}\\cos(\\theta/2)\\langle 1|\\big) \\\\\n",
    "& = \\sin^{2}(\\theta/2)|0\\rangle\\langle 0| - e^{-i\\phi}\\sin(\\theta/2)\\cos(\\theta/2)|0\\rangle\\langle 1| - e^{i\\phi}\\sin(\\theta/2)\\cos(\\theta/2)|1\\rangle\\langle 0| + \\cos^{2}(\\theta/2)|1\\rangle\\langle 1| \\\\\n",
    "& \\doteq \\begin{bmatrix} \\sin^{2}(\\theta/2) & -e^{-i\\phi}\\sin(\\theta/2)\\cos(\\theta/2) \\\\ -e^{i\\phi}\\sin(\\theta/2)\\cos(\\theta/2) & \\cos^{2}(\\theta/2) \\end{bmatrix}.\n",
    "\\end{align}"
   ]
  },
  {
   "cell_type": "code",
   "execution_count": null,
   "metadata": {},
   "outputs": [],
   "source": [
    "th, ph = symbols('theta phi', real=True) \n",
    "E0 = Matrix([[cos(th/2)**2, (cos(ph)-1j*sin(ph))*sin(th/2)*cos(th/2)], \n",
    "             [(cos(ph)+1j*sin(ph))*sin(th/2)*cos(th/2),sin(th/2)**2]])\n",
    "E0"
   ]
  },
  {
   "cell_type": "code",
   "execution_count": null,
   "metadata": {},
   "outputs": [],
   "source": [
    "# coefficients for E0\n",
    "c0 = trace((id(2)/sqrt(2))*E0); c1 = trace((pauli(1)/sqrt(2))*E0)\n",
    "c2 = trace((pauli(2)/sqrt(2))*E0); c3 = trace((pauli(3)/sqrt(2))*E0)\n",
    "simplify(c0), factor(c1), factor(c2), simplify(c3)"
   ]
  },
  {
   "cell_type": "markdown",
   "metadata": {},
   "source": [
    "So\n",
    "\\begin{align}\n",
    "E_{0} & = \\frac{1}{2}\\sigma_{0} + \\frac{\\sin\\theta\\cos\\phi}{2}\\sigma_{1} + \\frac{\\sin\\theta\\sin\\phi}{2}\\sigma_{2} +  \\frac{\\cos\\theta}{2}\\sigma_{1} \\\\\n",
    "& = W_{0,0}^{A}V_{0,0}^{A}\\sigma_{0} + W_{0,1}^{A}V_{1,0}^{A}\\sigma_{1} + W_{0,2}^{A}V_{2,0}^{A}\\sigma_{2}+ W_{0,3}^{A}V_{3,0}^{A}\\sigma_{3}.\n",
    "\\end{align}"
   ]
  },
  {
   "cell_type": "code",
   "execution_count": null,
   "metadata": {},
   "outputs": [],
   "source": [
    "E1 = Matrix([[sin(th/2)**2, -(cos(ph)-1j*sin(ph))*sin(th/2)*cos(th/2)], \n",
    "             [-(cos(ph)+1j*sin(ph))*sin(th/2)*cos(th/2),cos(th/2)**2]])\n",
    "E1"
   ]
  },
  {
   "cell_type": "code",
   "execution_count": null,
   "metadata": {},
   "outputs": [],
   "source": [
    "# coefficients for E1\n",
    "c0 = trace((id(2)/sqrt(2))*E1); c1 = trace((pauli(1)/sqrt(2))*E1)\n",
    "c2 = trace((pauli(2)/sqrt(2))*E1); c3 = trace((pauli(3)/sqrt(2))*E1)\n",
    "simplify(c0), factor(c1), factor(c2), simplify(c3)"
   ]
  },
  {
   "cell_type": "markdown",
   "metadata": {},
   "source": [
    "So\n",
    "\\begin{align}\n",
    "E_{1} &= \\frac{1}{2}\\sigma_{0} - \\frac{\\sin\\theta\\cos\\phi}{2}\\sigma_{1} - \\frac{\\sin\\theta\\sin\\phi}{2}\\sigma_{2} -  \\frac{\\cos\\theta}{2}\\sigma_{1} \\\\\n",
    "& = W_{1,0}^{A}V_{0,0}^{A}\\sigma_{0} + W_{1,1}^{A}V_{1,0}^{A}\\sigma_{1} + W_{1,2}^{A}V_{2,0}^{A}\\sigma_{2}+ W_{1,3}^{A}V_{3,0}^{A}\\sigma_{3}\n",
    "\\end{align}"
   ]
  },
  {
   "cell_type": "code",
   "execution_count": null,
   "metadata": {},
   "outputs": [],
   "source": [
    "# tests for the properties of the Kraus' operators\n",
    "simplify(E0*E0), simplify(E1*E1), simplify(E0*E1), simplify(E1*E0), simplify(E0+E1) # ok!"
   ]
  },
  {
   "cell_type": "markdown",
   "metadata": {},
   "source": [
    "Solving the system of nonlinear equations with Sympy\n",
    "\\begin{equation}\n",
    "\\begin{cases}\n",
    "|V_{0,0}^{A}|^{2}+|V_{1,0}^{A}|^{2}+|V_{2,0}^{A}|^{2}+|V_{3,0}^{A}|^{2}=1, \\\\\n",
    "|W_{0,0}^{A}|^{2}+|W_{0,1}^{A}|^{2}+|W_{0,2}^{A}|^{2}+|W_{0,3}^{A}|^{2}=1, \\\\\n",
    "|W_{1,0}^{A}|^{2}+|W_{1,1}^{A}|^{2}+|W_{1,2}^{A}|^{2}+|W_{1,3}^{A}|^{2}=1, \\\\\n",
    "(W_{1,0}^{A})^{*}W_{0,0}^{A}+(W_{1,1}^{A})^{*}W_{0,1}^{A}+(W_{1,2}^{A})^{*}W_{0,2}^{A}+(W_{1,3}^{A})^{*}W_{0,3}^{A}=0, \\\\\n",
    "W_{0,0}^{A}V_{0,0}^{A} =\\frac{1}{2}, \\ W_{0,1}^{A}V_{1,0}^{A} = \\frac{\\sin\\theta\\cos\\phi}{2}, \\ W_{0,2}^{A}V_{2,0}^{A} = \\frac{\\sin\\theta\\sin\\phi}{2}, \\ W_{0,3}^{A}V_{3,0}^{A} = \\frac{\\cos\\theta}{2}, \\\\\n",
    "W_{1,0}^{A}V_{0,0}^{A} = \\frac{1}{2}, \\ W_{1,1}^{A}V_{1,0}^{A} = -\\frac{\\sin\\theta\\cos\\phi}{2}, \\ W_{1,2}^{A}V_{2,0}^{A} = -\\frac{\\sin\\theta\\sin\\phi}{2}, \\ W_{1,3}^{A}V_{3,0}^{A} = -\\frac{\\cos\\theta}{2}.\n",
    "\\end{cases}\n",
    "\\end{equation}"
   ]
  },
  {
   "cell_type": "code",
   "execution_count": null,
   "metadata": {},
   "outputs": [],
   "source": [
    "#V00 = 1/sqrt(2); W00 = 1/sqrt(2); W10 = 1/sqrt(2) \n",
    "#nonlinsolve([V00**2+V10**2+V20**2+V30**2-1, W00**2+W01**2+W02**2+W03**2-1, \n",
    "#             W10**2+W11**2+W12**2+W13**2-1, W10*W00+W11*W01+W12*W02+W13*W03,\n",
    "#             W00*V00-1/2, W01*V10-sin(th)*cos(ph)/2, W02*V20-sin(th)*sin(ph)/2, W03*V30-cos(th)/2, \n",
    "#             W10*V00-1/2, W11*V10+sin(th)*cos(ph)/2, W12*V20+sin(th)*sin(ph)/2, W13*V30+cos(th)/2],\n",
    "#            [V00,V10,V20,V30,W00,W01,W02,W03,W10,W11,W12,W13])"
   ]
  },
  {
   "cell_type": "markdown",
   "metadata": {},
   "source": [
    "## Controll-NOT-based algorithm qubits\n",
    "Let's consider two qubits prepared in the state $|\\Psi_{0}\\rangle=|\\psi\\rangle\\otimes|0\\rangle$ and apply a $CNOT=|0\\rangle\\langle 0|\\otimes\\sigma_{0}+|1\\rangle\\langle 1|\\otimes\\sigma_{1}$:\n",
    "\\begin{align}\n",
    "|\\Psi\\rangle &= CNOT|\\Psi_{0}\\rangle = |0\\rangle\\langle 0||\\psi\\rangle\\otimes\\sigma_{0}|0\\rangle + |1\\rangle\\langle 1||\\psi\\rangle\\otimes\\sigma_{1}|0\\rangle \\\\\n",
    "& = \\langle 0|\\psi\\rangle|0\\rangle\\otimes|0\\rangle + \\langle 1|\\psi\\rangle|1\\rangle\\otimes|1\\rangle.\n",
    "\\end{align}\n",
    "Tracing out the 2nd system:\n",
    "\\begin{align}\n",
    "Tr_{p}(\\Psi) &= |\\langle 0|\\psi\\rangle|^{2}|0\\rangle\\langle 0| + |\\langle 1|\\psi\\rangle|^{2}|1\\rangle\\langle 1| \\\\\n",
    "&  = \\langle 0|\\psi\\rangle\\langle\\psi|0\\rangle|0\\rangle\\langle 0| + \\langle 1|\\psi\\rangle\\langle\\psi|1\\rangle|1\\rangle\\langle 1|  = |0\\rangle\\langle 0|\\psi\\rangle\\langle\\psi|0\\rangle\\langle 0| + |1\\rangle\\langle 1|\\psi\\rangle\\langle\\psi|1\\rangle\\langle 1| \\\\\n",
    "&= P_{0}|\\psi\\rangle\\langle\\psi|P_{0} + P_{1}|\\psi\\rangle\\langle\\psi|P_{1} =: \\Pi_{0,1}(\\psi).\n",
    "\\end{align}\n",
    "So, the control-NOT can be used to perform a non-selective measurement in the computational basis.\n",
    "\n",
    "Following, let's consider a general basis\n",
    "\\begin{align}\n",
    "|n_{0}\\rangle = \\cos(\\theta/2)|0\\rangle + e^{i\\phi}\\sin(\\theta/2)|1\\rangle = U|0\\rangle, \\\\\n",
    "|n_{1}\\rangle = -\\sin(\\theta/2)|0\\rangle + e^{i\\phi}\\cos(\\theta/2)|1\\rangle = U|1\\rangle,\n",
    "\\end{align}\n",
    "with\n",
    "\\begin{equation}\n",
    "U_{c\\rightarrow g} = \\begin{bmatrix} \\cos(\\theta/2) & -\\sin(\\theta/2) \\\\ e^{i\\phi}\\sin(\\theta/2) & e^{i\\phi}\\cos(\\theta/2) \\end{bmatrix} \\ \\therefore\\  U_{c\\rightarrow g}^{\\dagger} = \\begin{bmatrix} \\cos(\\theta/2) & e^{-i\\phi}\\sin(\\theta/2) \\\\ -\\sin(\\theta/2) & e^{-i\\phi}\\cos(\\theta/2) \\end{bmatrix}.\n",
    "\\end{equation}"
   ]
  },
  {
   "cell_type": "markdown",
   "metadata": {},
   "source": [
    "Non-selective measure of the general observable $\\hat{n}\\cdot\\vec{\\sigma}$:\n",
    "\\begin{align}\n",
    "\\Pi_{n_{0},n_{1}}(\\psi) &= P_{n_{0}}|\\psi\\rangle\\langle\\psi|P_{n_{0}}  + P_{n_{1}}|\\psi\\rangle\\langle\\psi|P_{n_{1}} \\\\ \n",
    "&= |n_{0}\\rangle\\langle n_{0}||\\psi\\rangle\\langle\\psi||n_{0}\\rangle\\langle n_{0}|  + |n_{1}\\rangle\\langle n_{1}||\\psi\\rangle\\langle\\psi||n_{1}\\rangle\\langle n_{1}| \\\\\n",
    "&= U|0\\rangle\\langle 0|U^{\\dagger}|\\psi\\rangle\\langle\\psi|U|0\\rangle\\langle 0|U^{\\dagger}  + U|1\\rangle\\langle 1|U^{\\dagger}|\\psi\\rangle\\langle\\psi|U|1\\rangle\\langle 1|U^{\\dagger} \\\\\n",
    "&= U\\big(|0\\rangle\\langle 0||\\psi'\\rangle\\langle\\psi'||0\\rangle\\langle 0|  + |1\\rangle\\langle 1||\\psi'\\rangle\\langle\\psi'||1\\rangle\\langle 1|\\big)U^{\\dagger} \\\\\n",
    "&= U\\Pi_{0,1}(\\psi')U^{\\dagger},\n",
    "\\end{align}\n",
    "where we defined $$|\\psi'\\rangle:=U^{\\dagger}|\\psi\\rangle.$$ So, a non-selective measurement of an arbitrary one-qubit observable may be implemented using the quantum circuit below\n",
    "<img src='fig_measure_sim.png' width='400'>\n",
    "\n",
    "IBMQE gates: $U(\\theta,\\phi,\\lambda)=\\begin{bmatrix}\\cos(\\theta/2) & -e^{i\\lambda}\\sin(\\theta/2) \\\\ e^{i\\phi}\\sin(\\theta/2) & e^{i(\\phi+\\lambda)}\\cos(\\theta/2) \\end{bmatrix}$. We shall also need $U^{\\dagger}(\\theta,\\phi,\\lambda)=\\begin{bmatrix}\\cos(\\theta/2) & e^{-i\\phi}\\sin(\\theta/2) \\\\ -e^{-i\\lambda}\\sin(\\theta/2) & e^{-i(\\phi+\\lambda)}\\cos(\\theta/2) \\end{bmatrix} = U(\\theta,\\pi-\\lambda,-\\pi-\\phi)$"
   ]
  },
  {
   "cell_type": "code",
   "execution_count": null,
   "metadata": {},
   "outputs": [],
   "source": [
    "def U(th,ph,lb):\n",
    "    return Matrix([[cos(th/2),-exp(1j*ph)*sin(th/2)],\n",
    "                   [exp(1j*ph)*sin(th/2),exp(1j*(ph+lb))*cos(th/2)]])\n",
    "th,ph,lb = symbols('theta phi lambda', real=True)\n",
    "U(th,ph,lb), simplify(U(th,pi-lb,-pi-ph)) # ok!"
   ]
  },
  {
   "cell_type": "code",
   "execution_count": null,
   "metadata": {},
   "outputs": [],
   "source": [
    "U(th,ph,0), U(th,pi-0,-pi-ph) # ok!"
   ]
  },
  {
   "cell_type": "markdown",
   "metadata": {},
   "source": [
    "# Implementation on IBMQ\n",
    "## Representation of a qubit state $\\rho$ in a basis $\\{|n_{0}\\rangle,|n_{1}\\rangle\\}$"
   ]
  },
  {
   "cell_type": "code",
   "execution_count": 33,
   "metadata": {},
   "outputs": [],
   "source": [
    "def n_basis(th, ph, typ): # general one-qubit basis\n",
    "    if typ == 's': # for symbols\n",
    "        ket_n0 = Matrix([[cos(th/2)],[(cos(ph)+1j*sin(ph))*sin(th/2)]])\n",
    "        bra_n0 = Matrix([[cos(th/2),(cos(ph)-1j*sin(ph))*sin(th/2)]])\n",
    "        ket_n1 = Matrix([[-sin(th/2)],[(cos(ph)+1j*sin(ph))*cos(th/2)]])\n",
    "        bra_n1 = Matrix([[-sin(th/2),(cos(ph)-1j*sin(ph))*cos(th/2)]])\n",
    "    elif typ == 'n': # for numbers\n",
    "        ket_n0 = np.array([[math.cos(th/2)],[(math.cos(ph)+1j*math.sin(ph))*math.sin(th/2)]])\n",
    "        bra_n0 = np.array([[math.cos(th/2),(math.cos(ph)-1j*math.sin(ph))*math.sin(th/2)]])\n",
    "        ket_n1 = np.array([[-math.sin(th/2)],[(math.cos(ph)+1j*math.sin(ph))*math.cos(th/2)]])\n",
    "        bra_n1 = np.array([[-math.sin(th/2),(math.cos(ph)-1j*math.sin(ph))*math.cos(th/2)]])\n",
    "    return ket_n0, bra_n0, ket_n1, bra_n1"
   ]
  },
  {
   "cell_type": "code",
   "execution_count": 34,
   "metadata": {},
   "outputs": [
    {
     "data": {
      "text/latex": [
       "$\\displaystyle \\left( \\left[\\begin{matrix}\\cos{\\left(\\frac{\\theta}{2} \\right)}\\\\\\left(1.0 i \\sin{\\left(\\phi \\right)} + \\cos{\\left(\\phi \\right)}\\right) \\sin{\\left(\\frac{\\theta}{2} \\right)}\\end{matrix}\\right], \\  \\left[\\begin{matrix}\\cos{\\left(\\frac{\\theta}{2} \\right)} & \\left(- 1.0 i \\sin{\\left(\\phi \\right)} + \\cos{\\left(\\phi \\right)}\\right) \\sin{\\left(\\frac{\\theta}{2} \\right)}\\end{matrix}\\right], \\  \\left[\\begin{matrix}- \\sin{\\left(\\frac{\\theta}{2} \\right)}\\\\\\left(1.0 i \\sin{\\left(\\phi \\right)} + \\cos{\\left(\\phi \\right)}\\right) \\cos{\\left(\\frac{\\theta}{2} \\right)}\\end{matrix}\\right], \\  \\left[\\begin{matrix}- \\sin{\\left(\\frac{\\theta}{2} \\right)} & \\left(- 1.0 i \\sin{\\left(\\phi \\right)} + \\cos{\\left(\\phi \\right)}\\right) \\cos{\\left(\\frac{\\theta}{2} \\right)}\\end{matrix}\\right]\\right)$"
      ],
      "text/plain": [
       "⎛⎡               ⎛θ⎞            ⎤                                         ⎡   \n",
       "⎜⎢            cos⎜─⎟            ⎥                                         ⎢   \n",
       "⎜⎢               ⎝2⎠            ⎥  ⎡   ⎛θ⎞                          ⎛θ⎞⎤  ⎢   \n",
       "⎜⎢                              ⎥, ⎢cos⎜─⎟  (-ⅈ⋅sin(φ) + cos(φ))⋅sin⎜─⎟⎥, ⎢   \n",
       "⎜⎢                           ⎛θ⎞⎥  ⎣   ⎝2⎠                          ⎝2⎠⎦  ⎢   \n",
       "⎜⎢(1.0⋅ⅈ⋅sin(φ) + cos(φ))⋅sin⎜─⎟⎥                                         ⎢(1.\n",
       "⎝⎣                           ⎝2⎠⎦                                         ⎣   \n",
       "\n",
       "            ⎛θ⎞            ⎤                                        ⎞\n",
       "        -sin⎜─⎟            ⎥                                        ⎟\n",
       "            ⎝2⎠            ⎥  ⎡    ⎛θ⎞                          ⎛θ⎞⎤⎟\n",
       "                           ⎥, ⎢-sin⎜─⎟  (-ⅈ⋅sin(φ) + cos(φ))⋅cos⎜─⎟⎥⎟\n",
       "                        ⎛θ⎞⎥  ⎣    ⎝2⎠                          ⎝2⎠⎦⎟\n",
       "0⋅ⅈ⋅sin(φ) + cos(φ))⋅cos⎜─⎟⎥                                        ⎟\n",
       "                        ⎝2⎠⎦                                        ⎠"
      ]
     },
     "execution_count": 34,
     "metadata": {},
     "output_type": "execute_result"
    }
   ],
   "source": [
    "typ = 's' # choose to use symbols (s) or numbers (any other symbol)\n",
    "if typ == 's':\n",
    "    th, ph = symbols('theta phi'); ket_n0, bra_n0, ket_n1, bra_n1 = n_basis(th, ph, typ)\n",
    "elif typ == 'n':\n",
    "    th = math.pi/4; ph = 0; ket_n0, bra_n0, ket_n1, bra_n1 = n_basis(th, ph, typ)\n",
    "ket_n0, bra_n0, ket_n1, bra_n1"
   ]
  },
  {
   "cell_type": "code",
   "execution_count": 35,
   "metadata": {},
   "outputs": [],
   "source": [
    "def rho_basis_n(th, ph, rho, typ): # representation of rho in a given basis\n",
    "    ket_n0, bra_n0, ket_n1, bra_n1 = n_basis(th, ph, typ)\n",
    "    if typ == 's':\n",
    "        rhon = Matrix([[bra_n0*rho*ket_n0, bra_n0*rho*ket_n1],[bra_n1*rho*ket_n0, bra_n1*rho*ket_n1]])\n",
    "    elif typ == 'n':\n",
    "        rho00 = bra_n0.dot(rho.dot(ket_n0)); rho01 = bra_n0.dot(rho.dot(ket_n1))\n",
    "        rho10 = bra_n1.dot(rho.dot(ket_n0)); rho11 = bra_n1.dot(rho.dot(ket_n1))\n",
    "        rhon = np.array([[rho00.item(), rho01.item()],[rho10.item(), rho11.item()]])\n",
    "    return rhon"
   ]
  },
  {
   "cell_type": "code",
   "execution_count": 37,
   "metadata": {},
   "outputs": [
    {
     "data": {
      "text/plain": [
       "array([[0.5+0.j, 0.5+0.j],\n",
       "       [0.5+0.j, 0.5+0.j]])"
      ]
     },
     "execution_count": 37,
     "metadata": {},
     "output_type": "execute_result"
    }
   ],
   "source": [
    "typ = 'n'\n",
    "if typ == 's':\n",
    "    th, ph = symbols('theta phi'); rho00,rho01,rho10,rho11 = symbols('r_{00} r_{01} r_{10} r_{11}') \n",
    "    rho = Matrix([[rho00,rho01],[rho10,rho11]]); rhon = rho_basis_n(th, ph, rho, typ)\n",
    "elif typ == 'n':\n",
    "    th = -math.pi/2; ph = 0; rho00,rho01,rho10,rho11 = 1,0,0,0\n",
    "    rho = np.array([[rho00,rho01],[rho10,rho11]]); rhon = rho_basis_n(th, ph, rho, typ)\n",
    "rhon"
   ]
  },
  {
   "cell_type": "markdown",
   "metadata": {},
   "source": [
    "## Functions\n",
    "von Neumann predictability in relation to the observable $X$: \n",
    "$$P_{vn}^{X}(\\rho) = \\log_{2}(d)-S_{vn}(\\Phi_{X}(\\rho)).$$ \n",
    "We have the equality \n",
    "$$P_{vn}^{X}(\\rho) = C_{re}^{Y}(\\Phi_{X}(\\rho)),$$ \n",
    "where\n",
    "$$C_{re}^{Y}(\\Phi_{X}(\\rho)) = S_{vn}(\\Phi_{X}(\\rho)_{diag})-S_{vn}(\\Phi_{X}(\\rho)).$$"
   ]
  },
  {
   "cell_type": "code",
   "execution_count": 40,
   "metadata": {},
   "outputs": [],
   "source": [
    "%run entropy.ipynb"
   ]
  },
  {
   "cell_type": "markdown",
   "metadata": {},
   "source": [
    "### Predictability"
   ]
  },
  {
   "cell_type": "code",
   "execution_count": 41,
   "metadata": {},
   "outputs": [],
   "source": [
    "def predictability_vn(rho, th, ph): # th,ph defines the reference basis\n",
    "    d = rho.shape[0]; \n",
    "    # matrix rep. of rho in the basis def. by (th,ph)\n",
    "    rhon = rho_basis_n(th, ph, rho, 'n');# print('rhon = ',rhon)\n",
    "    pv = np.zeros(d); \n",
    "    for j in range(0,d):\n",
    "        pv[j] = rhon[j,j].real\n",
    "    return log(d, 2) - shannon_num(pv)"
   ]
  },
  {
   "cell_type": "code",
   "execution_count": 42,
   "metadata": {},
   "outputs": [
    {
     "data": {
      "image/png": "[encoded data removed]",
      "text/latex": [
       "$\\displaystyle 0$"
      ],
      "text/plain": [
       "0"
      ]
     },
     "execution_count": 42,
     "metadata": {},
     "output_type": "execute_result"
    }
   ],
   "source": [
    "rho = np.array([[1/2,0],[0,1/2]]); predictability_vn(rho, 0, 0)"
   ]
  },
  {
   "cell_type": "markdown",
   "metadata": {},
   "source": [
    "### Coherence"
   ]
  },
  {
   "cell_type": "code",
   "execution_count": 43,
   "metadata": {},
   "outputs": [],
   "source": [
    "def coherence_re(rho, th, ph): # th,ph defines the reference basis\n",
    "    d = rho.shape[0]; pv = np.zeros(d)\n",
    "    # to deal with numerical issues in computing eigenvalues of rho for Svn\n",
    "    for j in range(0, d):\n",
    "        if abs(1 - rho[j,j].real) < 10**-15:\n",
    "            rho[j,j] = 1-10**-15\n",
    "            if j < d-1:\n",
    "                rho[j+1,j+1] = 1+10**-15\n",
    "        elif abs(rho[j,j].real) < 10**-15:\n",
    "            rho[j,j] = 10**-15\n",
    "    # matrix rep. of rho in the basis def. by (th,ph)\n",
    "    rhon = rho_basis_n(th, ph, rho, 'n'); #print(rhon)\n",
    "    # to deal with numerical issues in computing eigenvalues of rho for Svn\n",
    "    for j in range(0, d):\n",
    "        if abs(1 - rhon[j,j].real) < 10**-15:\n",
    "            rhon[j,j] = 1-10**-15\n",
    "            if j < d-1:\n",
    "                rhon[j+1,j+1] = 1+10**-15\n",
    "        elif abs(rhon[j,j].real) < 10**-15:\n",
    "            rhon[j,j] = 10**-15\n",
    "    for j in range(0,d):\n",
    "        pv[j] = rhon[j,j].real\n",
    "    # we use the same state to compute S_vn because of its basis invariance\n",
    "    #print(shannon_num(pv),von_neumann_num(rho))\n",
    "    return shannon_num(pv) - von_neumann_num(rho)"
   ]
  },
  {
   "cell_type": "code",
   "execution_count": 44,
   "metadata": {},
   "outputs": [
    {
     "data": {
      "image/png": "[encoded data removed]",
      "text/latex": [
       "$\\displaystyle \\frac{1.11022302462517 \\cdot 10^{-16}}{\\log{\\left(2 \\right)}}$"
      ],
      "text/plain": [
       "1.11022302462517e-16\n",
       "────────────────────\n",
       "       log(2)       "
      ]
     },
     "execution_count": 44,
     "metadata": {},
     "output_type": "execute_result"
    }
   ],
   "source": [
    "rho = np.array([[0.99999999999999999,0],[0,1-0.99999999999999999]]); coherence_re(rho, 0, 0)"
   ]
  },
  {
   "cell_type": "markdown",
   "metadata": {},
   "source": [
    "### Purity"
   ]
  },
  {
   "cell_type": "code",
   "execution_count": 45,
   "metadata": {},
   "outputs": [],
   "source": [
    "def purity(rho):\n",
    "    return np.trace(rho.dot(rho))"
   ]
  },
  {
   "cell_type": "code",
   "execution_count": 46,
   "metadata": {},
   "outputs": [
    {
     "name": "stdout",
     "output_type": "stream",
     "text": [
      "rho =  [[9.9999e-01 0.0000e+00]\n",
      " [0.0000e+00 1.0000e-05]]\n",
      "P =  0.9999800002000001\n",
      "P_vn =  0.9998194767169818\n",
      "C_re =  0.9998194767169818\n"
     ]
    }
   ],
   "source": [
    "rho = np.array([[0.99999,0],[0,0.00001]]); print('rho = ',rho); # ok for some examples\n",
    "print('P = ', purity(rho))\n",
    "th = -0*math.pi/2; ph = 0\n",
    "print('P_vn = ', float(predictability_vn(rho, th, ph)))\n",
    "th = -1*math.pi/2; ph = 0\n",
    "print('C_re = ', float(coherence_re(rho, th, ph)))"
   ]
  },
  {
   "cell_type": "markdown",
   "metadata": {},
   "source": [
    "## Implementation"
   ]
  },
  {
   "cell_type": "code",
   "execution_count": 57,
   "metadata": {},
   "outputs": [],
   "source": [
    "from qiskit import *\n",
    "import math\n",
    "import time\n",
    "import qiskit.quantum_info as qi\n",
    "from qiskit.ignis.verification.tomography import state_tomography_circuits, StateTomographyFitter\n",
    "import matplotlib"
   ]
  },
  {
   "cell_type": "code",
   "execution_count": 54,
   "metadata": {},
   "outputs": [],
   "source": [
    "# to enable my IBMQ account \n",
    "#%run /Users/jonasmaziero/Dropbox/Research/IBMQ/qiskit/00_load_account.ipynb\n",
    "%run ptr.ipynb # for partial trace functions"
   ]
  },
  {
   "cell_type": "code",
   "execution_count": 59,
   "metadata": {},
   "outputs": [
    {
     "data": {
      "text/html": [
       "<pre style=\"word-wrap: normal;white-space: pre;background: #fff0;line-height: 1.1;font-family: &quot;Courier New&quot;,Courier,monospace\">      ┌──────────┐\n",
       "q4_0: ┤ U(π,π,0) ├\n",
       "      └──────────┘\n",
       "q4_1: ────────────\n",
       "                  </pre>"
      ],
      "text/plain": [
       "      ┌──────────┐\n",
       "q4_0: ┤ U(π,π,0) ├\n",
       "      └──────────┘\n",
       "q4_1: ────────────\n",
       "                  "
      ]
     },
     "execution_count": 59,
     "metadata": {},
     "output_type": "execute_result"
    }
   ],
   "source": [
    "qr = QuantumRegister(2); qc = qiskit.QuantumCircuit(qr); shots = 8192\n",
    "\n",
    "# State preparation\n",
    "th1, ph1, lb1 = math.pi, math.pi, 0; qc.u(th1, ph1, lb1, qr[0]); #print('prep = ',th1, ph1, lb1)\n",
    "# qstate tomography for rho\n",
    "qst_qc = state_tomography_circuits(qc, [qr[0],qr[1]]) # defines the qcircuit to make qst\n",
    "job = qiskit.execute(qst_qc, Aer.get_backend('qasm_simulator'), shots=shots) # executes the qst\n",
    "qstf_qc = StateTomographyFitter(job.result(), qst_qc) # fits the data to extract rho\n",
    "rho10_prep = qstf_qc.fit(method='lstsq'); \n",
    "rho0_prep = pTraceL_num(2, 2, rho10_prep); #print('rho = ', rho0_prep)\n",
    "qc.draw()"
   ]
  },
  {
   "cell_type": "code",
   "execution_count": 61,
   "metadata": {},
   "outputs": [
    {
     "data": {
      "text/html": [
       "<pre style=\"word-wrap: normal;white-space: pre;background: #fff0;line-height: 1.1;font-family: &quot;Courier New&quot;,Courier,monospace\">      ┌──────────┐┌──────────────┐     ┌────────────┐\n",
       "q4_0: ┤ U(π,π,0) ├┤ U(π,π,-3π/2) ├──■──┤ U(π,π/2,0) ├\n",
       "      └──────────┘└──────────────┘┌─┴─┐└────────────┘\n",
       "q4_1: ────────────────────────────┤ X ├──────────────\n",
       "                                  └───┘              </pre>"
      ],
      "text/plain": [
       "      ┌──────────┐┌──────────────┐     ┌────────────┐\n",
       "q4_0: ┤ U(π,π,0) ├┤ U(π,π,-3π/2) ├──■──┤ U(π,π/2,0) ├\n",
       "      └──────────┘└──────────────┘┌─┴─┐└────────────┘\n",
       "q4_1: ────────────────────────────┤ X ├──────────────\n",
       "                                  └───┘              "
      ]
     },
     "execution_count": 61,
     "metadata": {},
     "output_type": "execute_result"
    }
   ],
   "source": [
    "qc.barrier()\n",
    "# Non-revealing measurement\n",
    "th2 = math.pi; ph2 = math.pi/2; lb2 = 0\n",
    "th3 = th2; ph3 = math.pi-lb2; lb3 = -math.pi-ph2; qc.u(th3, ph3, lb3, qr[0]); # Uˆdagger\n",
    "qc.cx(qr[0], qr[1]); #print('meas = ',th2, ph2, lb2)\n",
    "qc.u(th2, ph2, lb2, qr[0]);\n",
    "# qstate tomography for Pi(rho)\n",
    "qst_qc = state_tomography_circuits(qc, [qr[0],qr[1]]) # defines the qcircuit to make qst\n",
    "job = qiskit.execute(qst_qc, Aer.get_backend('qasm_simulator'), shots=shots) # executes the qst\n",
    "qstf_qc = StateTomographyFitter(job.result(), qst_qc) # fits the data to extract rho\n",
    "rho10_meas = qstf_qc.fit(method='lstsq'); \n",
    "rho0_meas = pTraceL_num(2, 2, rho10_meas); #print('Pi(rho) = ', rho0_meas)\n",
    "qc.draw()"
   ]
  },
  {
   "cell_type": "markdown",
   "metadata": {},
   "source": [
    "### IBMQ-related stuff"
   ]
  },
  {
   "cell_type": "code",
   "execution_count": 62,
   "metadata": {},
   "outputs": [],
   "source": [
    "from qiskit import IBMQ"
   ]
  },
  {
   "cell_type": "code",
   "execution_count": 63,
   "metadata": {},
   "outputs": [],
   "source": [
    "IBMQ.save_account('', \n",
    "                  overwrite = True)"
   ]
  },
  {
   "cell_type": "code",
   "execution_count": 64,
   "metadata": {},
   "outputs": [
    {
     "data": {
      "text/plain": [
       "<AccountProvider for IBMQ(hub='ibm-q', group='open', project='main')>"
      ]
     },
     "execution_count": 64,
     "metadata": {},
     "output_type": "execute_result"
    }
   ],
   "source": [
    "IBMQ.load_account()"
   ]
  },
  {
   "cell_type": "code",
   "execution_count": 65,
   "metadata": {},
   "outputs": [],
   "source": [
    "provider = IBMQ.get_provider(hub = 'ibm-q-research-2', group = 'federal-uni-sant-1', project = 'main')"
   ]
  },
  {
   "cell_type": "code",
   "execution_count": 89,
   "metadata": {},
   "outputs": [],
   "source": [
    "device = provider.get_backend('ibmq_belem')\n",
    "simulator = Aer.get_backend('qasm_simulator')\n",
    "from qiskit.tools.monitor import job_monitor\n",
    "nshots = 8192"
   ]
  },
  {
   "cell_type": "code",
   "execution_count": 74,
   "metadata": {},
   "outputs": [],
   "source": [
    "#qiskit.providers.models.BackendProperties(device, '1.0.14', [0,1,2])"
   ]
  },
  {
   "cell_type": "markdown",
   "metadata": {},
   "source": [
    "### 1st app:\n",
    "\n",
    "$$|\\psi\\rangle = \\cos(\\theta/2)|0\\rangle+\\sin(\\theta/2)|1\\rangle \\text{ for } \\theta\\in[0,\\pi/2]$$"
   ]
  },
  {
   "cell_type": "code",
   "execution_count": 90,
   "metadata": {},
   "outputs": [
    {
     "name": "stdout",
     "output_type": "stream",
     "text": [
      "/home/jonasmaziero/Dropbox/Research/predictability/data_psi/round1/\n"
     ]
    }
   ],
   "source": [
    "import platform\n",
    "if platform.system() == 'Linux':\n",
    "    path = '/home/jonasmaziero/Dropbox/Research/predictability/data_psi/round1/'\n",
    "else:\n",
    "    path = '/Users/jonasmaziero/Dropbox/Research/predictability/data_psi/round1/'\n",
    "print(path) # ok!"
   ]
  },
  {
   "cell_type": "code",
   "execution_count": 91,
   "metadata": {},
   "outputs": [],
   "source": [
    "th_min = 0; th_max = math.pi/2; N = 10; dth = (th_max-th_min)/N; th = -dth + 10**-1; thv = np.zeros(N+1)\n",
    "for j in range(0, N+1):\n",
    "    qr = QuantumRegister(2); qc = qiskit.QuantumCircuit(qr)\n",
    "    th += dth; thv[j] = th \n",
    "    \n",
    "    # State preparation\n",
    "    th1 = th; ph1 = 0; lb1 = 0 # angles for the state preparation\n",
    "    qc.u(th1, ph1, lb1, qr[0]) #print('prep = ',th1, ph1, lb1)\n",
    "    # qstate tomography for rho\n",
    "    qst_qc = state_tomography_circuits(qc, [qr[0]]) # defines the qcircuit to make qst\n",
    "    # simulator\n",
    "    job = qiskit.execute(qst_qc, backend = simulator, shots = nshots) # executes the qst\n",
    "    qstf_qc = StateTomographyFitter(job.result(), qst_qc) # fits the data to extract rho\n",
    "    rho0_prep = qstf_qc.fit(method = 'lstsq')\n",
    "    file = open(path+str(j)+'prep'+'sim', \"wb\"); np.save(file, rho0_prep); file.close\n",
    "    # device\n",
    "    job = qiskit.execute(qst_qc, backend = device, shots = nshots) # executes the qst\n",
    "    qstf_qc = StateTomographyFitter(job.result(), qst_qc) # fits the data to extract rho\n",
    "    rho0_prepE = qstf_qc.fit(method = 'lstsq')\n",
    "    file = open(path+str(j)+'prep'+'dev', \"wb\"); np.save(file, rho0_prepE); file.close\n",
    "    \n",
    "    # Non-revealing measurement\n",
    "    th3 = th2; ph3 = math.pi-lb2; lb3 = -math.pi-ph2; # angles for Uˆdagger\n",
    "    qc.u(th3, ph3, lb3, qr[0]) # Uˆdagger\n",
    "    qc.cx(qr[0], qr[1]) # CNOT\n",
    "    qc.u(th2, ph2, lb2, qr[0]) # Final U\n",
    "    # qstate tomography for Pi(rho)\n",
    "    qst_qc = state_tomography_circuits(qc, [qr[0]]) # defines the qcircuit to make qst\n",
    "    # simulator\n",
    "    job = qiskit.execute(qst_qc, backend = simulator, shots = nshots) # executes the qst\n",
    "    qstf_qc = StateTomographyFitter(job.result(), qst_qc) # fits the data to extract rho\n",
    "    rho0_meas = qstf_qc.fit(method='lstsq') \n",
    "    file = open(path+str(j)+'meas'+'sim', \"wb\"); np.save(file, rho0_meas); file.close\n",
    "    # device\n",
    "    job = qiskit.execute(qst_qc, backend = device, shots = nshots) # executes the qst\n",
    "    qstf_qc = StateTomographyFitter(job.result(), qst_qc) # fits the data to extract rho\n",
    "    rho0_measE = qstf_qc.fit(method='lstsq') \n",
    "    file = open(path+str(j)+'meas'+'dev', \"wb\"); np.save(file, rho0_measE); file.close"
   ]
  },
  {
   "cell_type": "code",
   "execution_count": 92,
   "metadata": {},
   "outputs": [
    {
     "name": "stdout",
     "output_type": "stream",
     "text": [
      "\r",
      "Job Status: job has successfully run\n"
     ]
    }
   ],
   "source": [
    "job_monitor(job)"
   ]
  },
  {
   "cell_type": "code",
   "execution_count": 93,
   "metadata": {},
   "outputs": [
    {
     "name": "stdout",
     "output_type": "stream",
     "text": [
      "th =  0.1 , P =  0.9731946852526889 , C =  0.9784408880152994 , S =  0.0002599954605091437 , PE =  0.9021718949493143 , CE =  0.8913686845033462 , SE =  -2.220446049250313e-16\n",
      "th =  0.25707963267948963 , P =  0.8652560010661017 , C =  0.8746663758118112 , S =  -2.220446049250313e-16 , PE =  0.830440814555092 , CE =  0.8116626764474815 , SE =  0.0\n",
      "th =  0.4141592653589793 , P =  0.7431659556415402 , C =  0.7559840866692327 , S =  0.007439583539962991 , PE =  0.7057631035509262 , CE =  0.702765150865797 , SE =  0.0\n",
      "th =  0.571238898038469 , P =  0.6110158806831536 , C =  0.6071995751862327 , S =  0.001097351312637107 , PE =  0.5610797256138276 , CE =  0.5820181910233337 , SE =  0.0\n",
      "th =  0.7283185307179586 , P =  0.4479291886890584 , C =  0.45177003636587254 , S =  0.005328357219696267 , PE =  0.4520417867526365 , CE =  0.44793352261692715 , SE =  0.0\n",
      "th =  0.8853981633974483 , P =  0.30533970426586277 , C =  0.31749544057555007 , S =  0.0018118321895606027 , PE =  0.30356417780619327 , CE =  0.3103926839740821 , SE =  0.0\n",
      "th =  1.042477796076938 , P =  0.19085706602527575 , C =  0.18957251950524037 , S =  0.004178673028946034 , PE =  0.20192942841944428 , CE =  0.20171549770525096 , SE =  1.1102230246251565e-16\n",
      "th =  1.1995574287564277 , P =  0.09384233055451308 , C =  0.10371380725047413 , S =  -4.440892098500626e-16 , PE =  0.1227582633342732 , CE =  0.12692873709621322 , SE =  0.0\n",
      "th =  1.3566370614359173 , P =  0.03508886058629068 , C =  0.03190908807804514 , S =  2.220446049250313e-16 , PE =  0.054461055654960955 , CE =  0.052755757490665134 , SE =  2.220446049250313e-16\n",
      "th =  1.513716694115407 , P =  0.0013780628603803358 , C =  0.002507971817096205 , S =  0.0002047121524736406 , PE =  0.010184974234026978 , CE =  0.009392061571921104 , SE =  0.0\n",
      "th =  1.6707963267948966 , P =  0.010394064429271488 , C =  0.008010181700110646 , S =  0.0 , PE =  1.3930639558012992e-05 , CE =  0.0037047732319369316 , SE =  0.007689327001572321\n"
     ]
    }
   ],
   "source": [
    "Pv = np.zeros(N+1); Cv = np.zeros(N+1); Sv = np.zeros(N+1)\n",
    "PvE = np.zeros(N+1); CvE = np.zeros(N+1); SvE = np.zeros(N+1)\n",
    "for j in range(0, N+1):\n",
    "    file = open(path+str(j)+'prep'+'sim', \"rb\"); rho0_prep = np.load(file)\n",
    "    th2, ph2, lb2 = 0, 0, 0 # P in relation to sigma_z, & we measure in this basis\n",
    "    Pv[j] = predictability_vn(rho0_prep, th2, ph2)\n",
    "    Sv[j] = linear_entropy(rho0_prep)\n",
    "    file = open(path+str(j)+'prep'+'dev', \"rb\"); rho0_prepE = np.load(file)\n",
    "    th2, ph2, lb2 = 0, 0, 0 # P in relation to sigma_z, & we measure in this basis\n",
    "    PvE[j] = predictability_vn(rho0_prepE, th2, ph2)\n",
    "    SvE[j] = linear_entropy(rho0_prepE)\n",
    "    file = open(path+str(j)+'meas'+'sim', \"rb\"); rho0_meas = np.load(file)\n",
    "    Cv[j] = coherence_re(rho0_meas, -math.pi/2, 0) # C with reference to sigma_x\n",
    "    file = open(path+str(j)+'meas'+'dev', \"rb\"); rho0_measE = np.load(file)\n",
    "    CvE[j] = coherence_re(rho0_measE, -math.pi/2, 0) # C with reference to sigma_x\n",
    "    print('th = ', thv[j], ', P = ', Pv[j], ', C = ', Cv[j], ', S = ', Sv[j],\n",
    "          ', PE = ', PvE[j], ', CE = ', CvE[j], ', SE = ', SvE[j])"
   ]
  },
  {
   "cell_type": "code",
   "execution_count": 94,
   "metadata": {},
   "outputs": [
    {
     "data": {
      "image/png": "[encoded data removed]",
      "text/plain": [
       "<Figure size 500x400 with 1 Axes>"
      ]
     },
     "metadata": {
      "needs_background": "light"
     },
     "output_type": "display_data"
    }
   ],
   "source": [
    "import matplotlib\n",
    "matplotlib.rcParams.update({'font.size':12}); plt.figure(figsize = (5,4), dpi = 100)\n",
    "plt.plot(thv, Pv, label = r'$P_{vn}^{\\sigma_{z}}(\\rho_{sim})$')\n",
    "plt.plot(thv, Cv, 'o', label = r'$C_{re}^{\\sigma_{x}}(\\Phi_{\\sigma_{z}}(\\rho)_{sim})$') \n",
    "plt.plot(thv, Sv, label = r'$S_{L}(\\rho_{sim})$')\n",
    "plt.plot(thv, PvE, label = r'$P_{vn}^{\\sigma_{z}}(\\rho_{exp})$')\n",
    "plt.plot(thv, CvE, '*', label = r'$C_{re}^{\\sigma_{x}}(\\Phi_{\\sigma_{z}}(\\rho)_{exp})$') \n",
    "plt.plot(thv, SvE, 'D', label = r'$S_{L}(\\rho_{exp})$')\n",
    "plt.xlabel(r'$\\theta$'); \n",
    "#plt.legend(loc = 'center right', bbox_to_anchor=(th_max-0.05, 0.5))\n",
    "plt.legend(loc = 'upper right')\n",
    "plt.savefig(path+'psi_plot1.png', format = 'png', dpi = 200)\n",
    "plt.show()"
   ]
  },
  {
   "cell_type": "markdown",
   "metadata": {},
   "source": [
    "### 2nd app: \n",
    "$$|\\psi\\rangle = \\cos(\\theta/2)|00\\rangle+\\sin(\\theta/2)|11\\rangle$ for $\\theta\\in[0,\\pi/2]$$\n",
    "\n",
    "Nesse caso, o estado reduzido é $$\\rho =  \\cos^{2}(\\theta/2)|0\\rangle\\langle 0| + \\sin^{2}(\\theta/2)|1\\rangle\\langle 1|$$"
   ]
  },
  {
   "cell_type": "code",
   "execution_count": 78,
   "metadata": {},
   "outputs": [],
   "source": [
    "import platform\n",
    "if platform.system() == 'Linux':\n",
    "    path = '/home/jonasmaziero/Dropbox/Research/predictability/data_rho/round1/'\n",
    "else:\n",
    "    path = '/Users/jonasmaziero/Dropbox/Research/predictability/data_rho/round1/'\n",
    "print(path) # ok!"
   ]
  },
  {
   "cell_type": "code",
   "execution_count": 79,
   "metadata": {},
   "outputs": [],
   "source": [
    "shots = 8192\n",
    "th_min = 0; th_max = math.pi/2; N = 10; dth = (th_max-th_min)/N; th = -dth + 10**-1; thv = np.zeros(N+1)\n",
    "for j in range(0, N+1):\n",
    "    qr = QuantumRegister(3); qc = qiskit.QuantumCircuit(qr)\n",
    "    th += dth; thv[j] = th; #print(thv[j]); \n",
    "    \n",
    "    # State preparation\n",
    "    th1 = th; ph1 = 0; lb1 = 0 # angles for the two-qubit state preparation\n",
    "    qc.u(th1, ph1, lb1, qr[0])\n",
    "    qc.cx(qr[0], qr[1])\n",
    "    # qstate tomography for rho\n",
    "    qst_qc = state_tomography_circuits(qc, [qr[1]]) # defines the qcircuit to make qst\n",
    "    # simulator\n",
    "    job = qiskit.execute(qst_qc, backend = simulator, shots = nshots) # executes the qst\n",
    "    qstf_qc = StateTomographyFitter(job.result(), qst_qc) # fits the data to extract rho\n",
    "    rho0_prep = qstf_qc.fit(method = 'lstsq')\n",
    "    file = open(path+str(j)+'prep'+'sim', \"wb\"); np.save(file, rho0_prep); file.close\n",
    "    # device\n",
    "    job = qiskit.execute(qst_qc, backend = device, shots = nshots) # executes the qst\n",
    "    qstf_qc = StateTomographyFitter(job.result(), qst_qc) # fits the data to extract rho\n",
    "    rho0_prepE = qstf_qc.fit(method = 'lstsq')\n",
    "    file = open(path+str(j)+'prep'+'dev', \"wb\"); np.save(file, rho0_prepE); file.close\n",
    "    \n",
    "    # Non-revealing measurement\n",
    "    th3 = th2; ph3 = math.pi-lb2; lb3 = -math.pi-ph2; # angles for U^dagger\n",
    "    qc.u(th3, ph3, lb3, qr[1]); # Uˆdagger\n",
    "    qc.cx(qr[1], qr[2]); # CNOT\n",
    "    qc.u(th2, ph2, lb2, qr[1]); # the last U\n",
    "    # qstate tomography for Pi(rho)\n",
    "    qst_qc = state_tomography_circuits(qc, [qr[1]]) # defines the qcircuit to make qst\n",
    "    # simulator\n",
    "    job = qiskit.execute(qst_qc, backend = simulator, shots = nshots) # executes the qst\n",
    "    qstf_qc = StateTomographyFitter(job.result(), qst_qc) # fits the data to extract rho\n",
    "    rho0_meas = qstf_qc.fit(method='lstsq') \n",
    "    file = open(path+str(j)+'meas'+'sim', \"wb\"); np.save(file, rho0_meas); file.close\n",
    "    # device\n",
    "    job = qiskit.execute(qst_qc, backend = device, shots = nshots) # executes the qst\n",
    "    qstf_qc = StateTomographyFitter(job.result(), qst_qc) # fits the data to extract rho\n",
    "    rho0_measE = qstf_qc.fit(method='lstsq') \n",
    "    file = open(path+str(j)+'meas'+'dev', \"wb\"); np.save(file, rho0_measE); file.close"
   ]
  },
  {
   "cell_type": "code",
   "execution_count": 80,
   "metadata": {},
   "outputs": [
    {
     "name": "stdout",
     "output_type": "stream",
     "text": [
      "\r",
      "Job Status: job has successfully run\n"
     ]
    }
   ],
   "source": [
    "job_monitor(job)"
   ]
  },
  {
   "cell_type": "code",
   "execution_count": 82,
   "metadata": {},
   "outputs": [
    {
     "name": "stdout",
     "output_type": "stream",
     "text": [
      "th =  0.1 , P =  0.9763587926611335 , C =  0.9651140581686878 , S =  0.004533112049102561 , PE =  0.7514076254138233 , CE =  0.5797833959219881 , SE =  0.07449975609779402\n",
      "th =  0.25707963267948963 , P =  0.8868148164620783 , C =  0.8797941344841596 , S =  0.02977296710014321 , PE =  0.6885192690938824 , CE =  0.5425106052880965 , SE =  0.10252657532691867\n",
      "th =  0.4141592653589793 , P =  0.7642835945489004 , C =  0.7444061788481758 , S =  0.0740714073181159 , PE =  0.5839349086365273 , CE =  0.4817028472280118 , SE =  0.14860293269157387\n",
      "th =  0.571238898038469 , P =  0.5945431698787081 , C =  0.6076804323124576 , S =  0.148688465356827 , PE =  0.4745253775289242 , CE =  0.3902125162517966 , SE =  0.20472806692123435\n",
      "th =  0.7283185307179586 , P =  0.4475914534573774 , C =  0.45613573929711426 , S =  0.22341474890708946 , PE =  0.37741714060514486 , CE =  0.3036224359677458 , SE =  0.2567662298679352\n",
      "th =  0.8853981633974483 , P =  0.3102879477694489 , C =  0.306713594724637 , S =  0.30083197355270364 , PE =  0.25141932815899426 , CE =  0.23165077001284715 , SE =  0.3333402276039126\n",
      "th =  1.042477796076938 , P =  0.2057889365881278 , C =  0.1904017171957188 , S =  0.3640630841255189 , PE =  0.16740161568000755 , CE =  0.14396283185589737 , SE =  0.38577815890312184\n",
      "th =  1.1995574287564277 , P =  0.09687607808564735 , C =  0.10303892112991753 , S =  0.4343327879905702 , PE =  0.0843717600086189 , CE =  0.07897352625259312 , SE =  0.44056567549705494\n",
      "th =  1.3566370614359173 , P =  0.027555701348791373 , C =  0.036724278757682326 , S =  0.4809506833553314 , PE =  0.03211256602646362 , CE =  0.031001095730401645 , SE =  0.47621360421180703\n",
      "th =  1.513716694115407 , P =  0.002255911634244878 , C =  0.00319568746633999 , S =  0.4983787238597869 , PE =  0.00548671325853789 , CE =  0.004208304406800285 , SE =  0.4948422312736509\n",
      "th =  1.6707963267948966 , P =  0.007597781902998202 , C =  0.006331826316653229 , S =  0.4944828450679779 , PE =  0.004189426574454869 , CE =  0.0026169375709316255 , SE =  0.49545201659202576\n"
     ]
    }
   ],
   "source": [
    "Pv = np.zeros(N+1); Cv = np.zeros(N+1); Sv = np.zeros(N+1)\n",
    "PvE = np.zeros(N+1); CvE = np.zeros(N+1); SvE = np.zeros(N+1)\n",
    "for j in range(0, N+1):\n",
    "    file = open(path+str(j)+'prep'+'sim', \"rb\"); rho0_prep = np.load(file)\n",
    "    th2, ph2, lb2 = 0, 0, 0 # P in relation to sigma_z, & we measure in this basis\n",
    "    Pv[j] = predictability_vn(rho0_prep, th2, ph2)\n",
    "    Sv[j] = linear_entropy(rho0_prep)\n",
    "    file = open(path+str(j)+'prep'+'dev', \"rb\"); rho0_prepE = np.load(file)\n",
    "    th2, ph2, lb2 = 0, 0, 0 # P in relation to sigma_z, & we measure in this basis\n",
    "    PvE[j] = predictability_vn(rho0_prepE, th2, ph2)\n",
    "    SvE[j] = linear_entropy(rho0_prepE)\n",
    "    file = open(path+str(j)+'meas'+'sim', \"rb\"); rho0_meas = np.load(file)\n",
    "    Cv[j] = coherence_re(rho0_meas, -math.pi/2, 0) # C with reference to sigma_x\n",
    "    file = open(path+str(j)+'meas'+'dev', \"rb\"); rho0_measE = np.load(file)\n",
    "    CvE[j] = coherence_re(rho0_measE, -math.pi/2, 0) # C with reference to sigma_x\n",
    "    print('th = ', thv[j], ', P = ', Pv[j], ', C = ', Cv[j], ', S = ', Sv[j],\n",
    "          ', PE = ', PvE[j], ', CE = ', CvE[j], ', SE = ', SvE[j])"
   ]
  },
  {
   "cell_type": "code",
   "execution_count": 88,
   "metadata": {},
   "outputs": [
    {
     "data": {
      "image/png": "[encoded data removed]",
      "text/plain": [
       "<Figure size 500x400 with 1 Axes>"
      ]
     },
     "metadata": {
      "needs_background": "light"
     },
     "output_type": "display_data"
    }
   ],
   "source": [
    "matplotlib.rcParams.update({'font.size':12}); plt.figure(figsize = (5,4), dpi = 100)\n",
    "plt.plot(thv, Pv, label = r'$P_{vn}^{\\sigma_{z}}(\\rho_{sim})$')\n",
    "plt.plot(thv, Cv, 'o', label = r'$C_{re}^{\\sigma_{x}}(\\Phi_{\\sigma_{z}}(\\rho)_{sim})$') \n",
    "plt.plot(thv, Sv, label = r'$S_{L}(\\rho_{sim})$')\n",
    "plt.plot(thv, PvE, label = r'$P_{vn}^{\\sigma_{z}}(\\rho_{exp})$')\n",
    "plt.plot(thv, CvE, '*', label = r'$C_{re}^{\\sigma_{x}}(\\Phi_{\\sigma_{z}}(\\rho)_{exp})$') \n",
    "plt.plot(thv, SvE, 'D', label = r'$S_{L}(\\rho_{exp})$')\n",
    "plt.xlabel(r'$\\theta$'); \n",
    "#plt.legend(loc = 'center right', bbox_to_anchor=(th_max-0.05, 0.5))\n",
    "#plt.legend(loc = 'upper right')\n",
    "plt.savefig(path+'rho1.eps', format = 'eps', dpi = 200)\n",
    "plt.show()"
   ]
  },
  {
   "cell_type": "markdown",
   "metadata": {},
   "source": [
    "### 3rd app: \n",
    "Random states"
   ]
  },
  {
   "cell_type": "code",
   "execution_count": null,
   "metadata": {},
   "outputs": [],
   "source": [
    "from qiskit.circuit.random import random_circuit\n",
    "#nq = 2 # number of qubits\n",
    "#de = 3 # depth = layers of operations \n",
    "#circ = random_circuit(nq, de, measure=False)\n",
    "#circ.draw(output = 'mpl')"
   ]
  },
  {
   "cell_type": "code",
   "execution_count": null,
   "metadata": {},
   "outputs": [],
   "source": [
    "shots = 8192; N = 100; Pv = np.zeros(N+1); Cv = np.zeros(N+1)\n",
    "for j in range(0, N+1):\n",
    "    qr = QuantumRegister(3)\n",
    "    qc = qiskit.QuantumCircuit(qr)\n",
    "    \n",
    "    # State preparation\n",
    "    rcirc = random_circuit(2, 2, measure=False)\n",
    "    qc.append(rcirc, [qr[0], qr[1]])\n",
    "    # qstate tomography for rho\n",
    "    qst_qc = state_tomography_circuits(qc, [qr[1]]) # defines the qcircuit to make qst\n",
    "    job = qiskit.execute(qst_qc, Aer.get_backend('qasm_simulator'), shots=shots) # executes the qst\n",
    "    qstf_qc = StateTomographyFitter(job.result(), qst_qc) # fits the data to extract rho\n",
    "    rho1_prep = qstf_qc.fit(method = 'lstsq')#; print('rho = ', rho1_prep)\n",
    "    th2, ph2 = 0, 0 # P with reference to sigma_z\n",
    "    Pv[j] = predictability_vn(rho1_prep, th2, ph2)\n",
    "    \n",
    "    # Non-revealing measurement\n",
    "    th3 = th2; ph3 = math.pi-lb2; lb3 = -math.pi-ph2; # angles for U^dagger\n",
    "    qc.u(th3, ph3, lb3, qr[1]); # Uˆdagger\n",
    "    qc.cx(qr[1], qr[2]); # CNOT\n",
    "    qc.u(th2, ph2, lb2, qr[1]); # the last U\n",
    "    # qstate tomography for Pi(rho)\n",
    "    qst_qc = state_tomography_circuits(qc, [qr[1]]) # defines the qcircuit to make qst\n",
    "    job = qiskit.execute(qst_qc, Aer.get_backend('qasm_simulator'), shots=shots) # executes the qst\n",
    "    qstf_qc = StateTomographyFitter(job.result(), qst_qc) # fits the data to extract rho\n",
    "    rho1_meas = qstf_qc.fit(method='lstsq'); #print('Phi(rho) = ', rho1_meas)\n",
    "    thc, phc = -math.pi/2, 0; # C with reference to sigma_x\n",
    "    Cv[j] = coherence_re(rho1_meas, thc, phc) \n",
    "    \n",
    "    print('P = ', Pv[j], ', C = ', Cv[j])"
   ]
  },
  {
   "cell_type": "code",
   "execution_count": null,
   "metadata": {},
   "outputs": [],
   "source": [
    "matplotlib.rcParams.update({'font.size':13}); plt.figure(figsize = (5,4), dpi = 100)\n",
    "plt.plot(Pv, Cv, '.', label = r'$P_{vn}^{\\sigma_{z}}(\\rho_{sim})$')\n",
    "plt.xlabel(r'$P_{vn}^{\\sigma_{z}}(\\rho_{sim})$');\n",
    "plt.ylabel(r'$C_{re}^{\\sigma_{x}}(\\Phi_{\\sigma_{z}}(\\rho)_{sim})$')\n",
    "plt.show()"
   ]
  },
  {
   "cell_type": "markdown",
   "metadata": {},
   "source": [
    "# qudits"
   ]
  },
  {
   "cell_type": "code",
   "execution_count": null,
   "metadata": {},
   "outputs": [],
   "source": []
  }
 ],
 "metadata": {
  "kernelspec": {
   "display_name": "Python 3",
   "language": "python",
   "name": "python3"
  },
  "language_info": {
   "codemirror_mode": {
    "name": "ipython",
    "version": 3
   },
   "file_extension": ".py",
   "mimetype": "text/x-python",
   "name": "python",
   "nbconvert_exporter": "python",
   "pygments_lexer": "ipython3",
   "version": "3.8.8"
  }
 },
 "nbformat": 4,
 "nbformat_minor": 4
}
