{
 "cells": [
  {
   "cell_type": "code",
   "execution_count": 3,
   "metadata": {},
   "outputs": [],
   "source": [
    "%run jupyterQ.ipynb"
   ]
  },
  {
   "cell_type": "markdown",
   "metadata": {},
   "source": [
    "# Entanglement distribution with discord\n",
    "Two parties, Alice and Bob, want to share pairs of entangled quantons. We can separate the protocols they can use to do that in two main categories: direct communication and indirect communication.\n",
    "\n",
    "## Direct entanglement communication\n",
    "In this case, Alice prepares two quantons A and B in an (maximally) entangled state $|\\psi\\rangle_{AB}$ and sends the quanton B to Bob. This quanton suffers the influence of the noisy communication channel $\\Lambda.$ At the end of the protocol, they will have shared a quantum state $$\\rho_{AB}=id_{A}\\otimes\\Lambda_{B}(|\\psi\\rangle_{AB}\\langle\\psi|).$$\n",
    "\n",
    "consider dephasing channel and compare Bell states and Werner states"
   ]
  },
  {
   "cell_type": "markdown",
   "metadata": {},
   "source": [
    "## Indirect entanglement communication\n",
    "In this kind of protocol, Alice prepares two quantons A and C in a quantum state $\\rho_{AC}$, via an encoding quantum operation. Alice sends the quanton C to Bob, who applies a decoding quantum operation $\\Delta$. At the end of the protocol, after discarding C, Alice and Bob share the state $$\\rho_{AB}=Tr_{C}\\big(id_{A}\\otimes\\Delta_{CB}(id_{A}\\otimes\\Lambda_{C}\\otimes id_{B}(\\rho_{AC}\\otimes\\rho_{B}))\\big).$$"
   ]
  },
  {
   "cell_type": "code",
   "execution_count": null,
   "metadata": {},
   "outputs": [],
   "source": []
  }
 ],
 "metadata": {
  "kernelspec": {
   "display_name": "Python 3",
   "language": "python",
   "name": "python3"
  },
  "language_info": {
   "codemirror_mode": {
    "name": "ipython",
    "version": 3
   },
   "file_extension": ".py",
   "mimetype": "text/x-python",
   "name": "python",
   "nbconvert_exporter": "python",
   "pygments_lexer": "ipython3",
   "version": "3.8.3"
  }
 },
 "nbformat": 4,
 "nbformat_minor": 4
}
