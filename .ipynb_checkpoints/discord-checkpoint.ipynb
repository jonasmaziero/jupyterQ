{
 "cells": [
  {
   "cell_type": "code",
   "execution_count": 2,
   "metadata": {},
   "outputs": [],
   "source": [
    "import platform\n",
    "if platform.system() == 'Linux':\n",
    "    %run '/home/jonasmaziero/Dropbox/GitHub/jupyterQ/jupyterQ.ipynb'\n",
    "    %run '/home/jonasmaziero/Dropbox/GitHub/jupyterQ/gellmann.ipynb'\n",
    "    %run '/home/jonasmaziero/Dropbox/GitHub/jupyterQ/ptr.ipynb'\n",
    "    %run '/home/jonasmaziero/Dropbox/GitHub/jupyterQ/states.ipynb'\n",
    "else:\n",
    "    %run '/Users/jonasmaziero/Dropbox/GitHub/jupyterQ/jupyterQ.ipynb'\n",
    "    %run '/Users/jonasmaziero/Dropbox/GitHub/jupyterQ/gellmann.ipynb'\n",
    "    %run '/Users/jonasmaziero/Dropbox/GitHub/jupyterQ/ptr.ipynb'\n",
    "    %run '/Users/jonasmaziero/Dropbox/GitHub/jupyterQ/states.ipynb'"
   ]
  },
  {
   "cell_type": "markdown",
   "metadata": {},
   "source": [
    "### Hellinger discord\n",
    "For a qubit-qudit system with ($d_{a}=2$), for $Tr(\\gamma_{j}\\gamma_{k})=d\\delta_{j,k}$, and for\n",
    "\\begin{equation}\n",
    "\\sqrt{\\rho} = \\frac{1}{\\sqrt{d_{a}d_{b}}}\\left(t_{0}\\mathbb{I}_{a}\\otimes\\mathbb{I}_{b}+\\vec{x}\\cdot\\vec{\\sigma}\\otimes\\mathbb{I}_{b}+\\mathbb{I}_{a}\\otimes\\vec{y}\\cdot\\vec{\\gamma}+\\sum_{j=1}^{d_{a}^{2}-1}\\sum_{k=1}^{d_{b}^{2}-1}T_{j,k}\\sigma_{j}\\otimes\\Gamma_{k}\\right)\n",
    "\\end{equation}\n",
    "we have\n",
    "\\begin{equation}\n",
    "D_{he}(\\rho)=2-2\\sqrt{t_{0}^{2}+||\\vec{y}||^{2}+k_{\\max}},\n",
    "\\end{equation}\n",
    "with $k_{\\max}$ being the largest eigenvalue of $K=\\vec{x}\\vec{x}^{T}+TT^{T}$. To get $D_{he}(\\rho)\\in[0,1]$ we divide the expression above by its maximum value $2-2\\sqrt{d_{a}}$."
   ]
  },
  {
   "cell_type": "code",
   "execution_count": 48,
   "metadata": {},
   "outputs": [],
   "source": [
    "def hellinger(da,db,rho): # arXiv:1510.06995\n",
    "    M = mat_sqrt(da*db,rho)\n",
    "    A = ptraceB(da,db,M)\n",
    "    bva = bloch_vector(da,A)/sqrt(2*db)\n",
    "    B = ptraceA(da,db,M)\n",
    "    bvb = bloch_vector(db,B)/2\n",
    "    cm = corr_mat(da,db,M)/2\n",
    "    ev = eVals(da**2-1, bva*bva.T+cm*cm.T)\n",
    "    return (1-sqrt((trace(da,A)/sqrt(2*db))**2+(bvb.norm())**2+max(ev)))/(1-1/sqrt(da)) # normalized to [0,1]"
   ]
  },
  {
   "cell_type": "code",
   "execution_count": 50,
   "metadata": {},
   "outputs": [],
   "source": [
    "#hellinger(2,2,werner(1))"
   ]
  },
  {
   "cell_type": "markdown",
   "metadata": {},
   "source": [
    "### Mutual information\n",
    "Is a quatifier for the total correlations in a quantum states defined as:\n",
    "\\begin{equation}\n",
    "I(\\rho_{ab}) = S(\\rho_{a}) + S(\\rho_{b}) - S(\\rho_{ab}).\n",
    "\\end{equation}"
   ]
  },
  {
   "cell_type": "code",
   "execution_count": 64,
   "metadata": {},
   "outputs": [],
   "source": [
    "def mutual_info(da,db,rho):\n",
    "    rhoa = ptraceB(da, db, rho)\n",
    "    Sa = von_neumann(da,rhoa)\n",
    "    rhob = ptraceA(da, db, rho)\n",
    "    Sb = von_neumann(db,rhob)\n",
    "    S = von_neumann(da*db,rho) \n",
    "    return Sa+Sb-S"
   ]
  },
  {
   "cell_type": "markdown",
   "metadata": {},
   "source": [
    "### von Neumann entropy\n",
    "\\begin{equation}\n",
    "S(\\rho) = -Tr(\\rho\\log_{2}(\\rho))\n",
    "\\end{equation}"
   ]
  },
  {
   "cell_type": "code",
   "execution_count": 65,
   "metadata": {},
   "outputs": [],
   "source": [
    "def von_neumann(d,rho):\n",
    "    evals = zeros(d,1)\n",
    "    ev = eVals(d,rho)\n",
    "    return shannon(d,ev)"
   ]
  },
  {
   "cell_type": "markdown",
   "metadata": {},
   "source": [
    "### Shannon entropy\n",
    "For a probability vector $\\vec{p}=[p_{1},\\cdots,p_{d}]^{T}$,\n",
    "\\begin{equation}\n",
    "H(\\vec{p}) = -\\sum_{j=1}^{d}p_{j}\\log_{2}(p_{j})\n",
    "\\end{equation}"
   ]
  },
  {
   "cell_type": "code",
   "execution_count": 66,
   "metadata": {},
   "outputs": [],
   "source": [
    "def shannon(d, pv):\n",
    "    H = 0\n",
    "    for j in range(0,d):\n",
    "        if pv[j] > 1.e-15 and pv[j] < (1.0-1.e-15):\n",
    "            H -= pv[j]*log(pv[j],2)\n",
    "    return H"
   ]
  },
  {
   "cell_type": "code",
   "execution_count": 28,
   "metadata": {},
   "outputs": [],
   "source": [
    "#float(shannon(2,Matrix([[1/2],[1/2]])))\n",
    "#evals = zeros(2,1)\n",
    "#float(von_neumann(2,Matrix([[1/2,0],[0,1/2]])))"
   ]
  },
  {
   "cell_type": "markdown",
   "metadata": {},
   "source": [
    "## Zurek's discord for 2 qubits\n"
   ]
  },
  {
   "cell_type": "code",
   "execution_count": 5,
   "metadata": {},
   "outputs": [
    {
     "data": {
      "image/png": "[encoded data removed]",
      "text/latex": [
       "$$\\left[\\begin{matrix}\\sin{\\left (\\frac{\\theta}{2} \\right )}\\\\- e^{1.0 i \\phi} \\cos{\\left (\\frac{\\theta}{2} \\right )}\\end{matrix}\\right]$$"
      ],
      "text/plain": [
       "⎡        ⎛θ⎞     ⎤\n",
       "⎢     sin⎜─⎟     ⎥\n",
       "⎢        ⎝2⎠     ⎥\n",
       "⎢                ⎥\n",
       "⎢  1.0⋅ⅈ⋅φ    ⎛θ⎞⎥\n",
       "⎢-ℯ       ⋅cos⎜─⎟⎥\n",
       "⎣             ⎝2⎠⎦"
      ]
     },
     "execution_count": 5,
     "metadata": {},
     "output_type": "execute_result"
    }
   ],
   "source": [
    "th, ph = symbols(\"theta phi\")\n",
    "psi1 = Matrix([[cos(th/2)],[exp(1j*ph)*sin(th/2)]])\n",
    "psi2 = Matrix([[sin(th/2)],[-exp(1j*ph)*cos(th/2)]])\n",
    "psi2"
   ]
  },
  {
   "cell_type": "code",
   "execution_count": 14,
   "metadata": {},
   "outputs": [
    {
     "data": {
      "image/png": "[encoded data removed]",
      "text/latex": [
       "$$\\left[\\begin{matrix}0 & 0\\\\0 & 0\\end{matrix}\\right]$$"
      ],
      "text/plain": [
       "⎡0  0⎤\n",
       "⎢    ⎥\n",
       "⎣0  0⎦"
      ]
     },
     "execution_count": 14,
     "metadata": {},
     "output_type": "execute_result"
    }
   ],
   "source": [
    "P1 = Matrix([[cos(th/2)**2,exp(-1j*ph)*sin(th/2)*cos(th/2)],[exp(1j*ph)*sin(th/2)*cos(th/2),sin(th/2)**2]])\n",
    "P2 = Matrix([[sin(th/2)**2,-exp(-1j*ph)*sin(th/2)*cos(th/2)],[-exp(1j*ph)*sin(th/2)*cos(th/2),cos(th/2)**2]])\n",
    "simplify(P1*P2)"
   ]
  },
  {
   "cell_type": "code",
   "execution_count": 16,
   "metadata": {},
   "outputs": [
    {
     "data": {
      "image/png": "[encoded data removed]",
      "text/latex": [
       "$$\\left[\\begin{matrix}r_{11} & r_{12} & r_{13} & r_{14}\\\\r_{21} & r_{22} & r_{23} & r_{24}\\\\r_{31} & r_{32} & r_{33} & r_{34}\\\\r_{41} & r_{42} & r_{43} & r_{44}\\end{matrix}\\right]$$"
      ],
      "text/plain": [
       "⎡r₁₁  r₁₂  r₁₃  r₁₄⎤\n",
       "⎢                  ⎥\n",
       "⎢r₂₁  r₂₂  r₂₃  r₂₄⎥\n",
       "⎢                  ⎥\n",
       "⎢r₃₁  r₃₂  r₃₃  r₃₄⎥\n",
       "⎢                  ⎥\n",
       "⎣r₄₁  r₄₂  r₄₃  r₄₄⎦"
      ]
     },
     "execution_count": 16,
     "metadata": {},
     "output_type": "execute_result"
    }
   ],
   "source": [
    "r11,r12,r13,r14,r21,r22,r23,r24,r31,r32,r33,r34,r41,r42,r43,r44 = symbols(\"r11 r12 r13 r14 r21 r22 r23 r24 r31 r32 r33 r34 r41 r42 r43 r44\")\n",
    "rho = Matrix([[r11,r12,r13,r14],[r21,r22,r23,r24],[r31,r32,r33,r34],[r41,r42,r43,r44]])\n",
    "rho"
   ]
  },
  {
   "cell_type": "code",
   "execution_count": 19,
   "metadata": {},
   "outputs": [
    {
     "data": {
      "image/png": "[encoded data removed]",
      "text/latex": [
       "$$\\left[\\begin{matrix}\\frac{r_{11}}{4} \\cos{\\left (2 \\theta \\right )} + \\frac{3 r_{11}}{4} + \\frac{r_{12}}{4} e^{1.0 i \\phi} \\sin{\\left (2 \\theta \\right )} + \\frac{r_{21}}{4} e^{- 1.0 i \\phi} \\sin{\\left (2 \\theta \\right )} - \\frac{r_{22}}{4} \\cos{\\left (2 \\theta \\right )} + \\frac{r_{22}}{4} & \\frac{r_{11}}{4} e^{- 1.0 i \\phi} \\sin{\\left (2 \\theta \\right )} - \\frac{r_{12}}{4} \\cos{\\left (2 \\theta \\right )} + \\frac{r_{12}}{4} - \\frac{r_{21}}{4} e^{- 2.0 i \\phi} \\cos{\\left (2 \\theta \\right )} + \\frac{r_{21}}{4} e^{- 2.0 i \\phi} - \\frac{r_{22}}{4} e^{- 1.0 i \\phi} \\sin{\\left (2 \\theta \\right )} & \\frac{r_{13}}{4} \\cos{\\left (2 \\theta \\right )} + \\frac{3 r_{13}}{4} + \\frac{r_{14}}{4} e^{1.0 i \\phi} \\sin{\\left (2 \\theta \\right )} + \\frac{r_{23}}{4} e^{- 1.0 i \\phi} \\sin{\\left (2 \\theta \\right )} - \\frac{r_{24}}{4} \\cos{\\left (2 \\theta \\right )} + \\frac{r_{24}}{4} & \\frac{r_{13}}{4} e^{- 1.0 i \\phi} \\sin{\\left (2 \\theta \\right )} - \\frac{r_{14}}{4} \\cos{\\left (2 \\theta \\right )} + \\frac{r_{14}}{4} - \\frac{r_{23}}{4} e^{- 2.0 i \\phi} \\cos{\\left (2 \\theta \\right )} + \\frac{r_{23}}{4} e^{- 2.0 i \\phi} - \\frac{r_{24}}{4} e^{- 1.0 i \\phi} \\sin{\\left (2 \\theta \\right )}\\\\\\frac{r_{11}}{4} e^{1.0 i \\phi} \\sin{\\left (2 \\theta \\right )} - \\frac{r_{12}}{4} e^{2.0 i \\phi} \\cos{\\left (2 \\theta \\right )} + \\frac{r_{12}}{4} e^{2.0 i \\phi} - \\frac{r_{21}}{4} \\cos{\\left (2 \\theta \\right )} + \\frac{r_{21}}{4} - \\frac{r_{22}}{4} e^{1.0 i \\phi} \\sin{\\left (2 \\theta \\right )} & - \\frac{r_{11}}{4} \\cos{\\left (2 \\theta \\right )} + \\frac{r_{11}}{4} + r_{12} e^{1.0 i \\phi} \\sin^{3}{\\left (\\frac{\\theta}{2} \\right )} \\cos{\\left (\\frac{\\theta}{2} \\right )} - r_{12} e^{1.0 i \\phi} \\sin{\\left (\\frac{\\theta}{2} \\right )} \\cos^{3}{\\left (\\frac{\\theta}{2} \\right )} + r_{21} e^{- 1.0 i \\phi} \\sin^{3}{\\left (\\frac{\\theta}{2} \\right )} \\cos{\\left (\\frac{\\theta}{2} \\right )} - r_{21} e^{- 1.0 i \\phi} \\sin{\\left (\\frac{\\theta}{2} \\right )} \\cos^{3}{\\left (\\frac{\\theta}{2} \\right )} + r_{22} \\sin^{4}{\\left (\\frac{\\theta}{2} \\right )} + r_{22} \\cos^{4}{\\left (\\frac{\\theta}{2} \\right )} & \\frac{r_{13}}{4} e^{1.0 i \\phi} \\sin{\\left (2 \\theta \\right )} - \\frac{r_{14}}{4} e^{2.0 i \\phi} \\cos{\\left (2 \\theta \\right )} + \\frac{r_{14}}{4} e^{2.0 i \\phi} - \\frac{r_{23}}{4} \\cos{\\left (2 \\theta \\right )} + \\frac{r_{23}}{4} - \\frac{r_{24}}{4} e^{1.0 i \\phi} \\sin{\\left (2 \\theta \\right )} & - \\frac{r_{13}}{4} \\cos{\\left (2 \\theta \\right )} + \\frac{r_{13}}{4} + r_{14} e^{1.0 i \\phi} \\sin^{3}{\\left (\\frac{\\theta}{2} \\right )} \\cos{\\left (\\frac{\\theta}{2} \\right )} - r_{14} e^{1.0 i \\phi} \\sin{\\left (\\frac{\\theta}{2} \\right )} \\cos^{3}{\\left (\\frac{\\theta}{2} \\right )} + r_{23} e^{- 1.0 i \\phi} \\sin^{3}{\\left (\\frac{\\theta}{2} \\right )} \\cos{\\left (\\frac{\\theta}{2} \\right )} - r_{23} e^{- 1.0 i \\phi} \\sin{\\left (\\frac{\\theta}{2} \\right )} \\cos^{3}{\\left (\\frac{\\theta}{2} \\right )} + r_{24} \\sin^{4}{\\left (\\frac{\\theta}{2} \\right )} + r_{24} \\cos^{4}{\\left (\\frac{\\theta}{2} \\right )}\\\\\\frac{r_{31}}{4} \\cos{\\left (2 \\theta \\right )} + \\frac{3 r_{31}}{4} + \\frac{r_{32}}{4} e^{1.0 i \\phi} \\sin{\\left (2 \\theta \\right )} + \\frac{r_{41}}{4} e^{- 1.0 i \\phi} \\sin{\\left (2 \\theta \\right )} - \\frac{r_{42}}{4} \\cos{\\left (2 \\theta \\right )} + \\frac{r_{42}}{4} & \\frac{r_{31}}{4} e^{- 1.0 i \\phi} \\sin{\\left (2 \\theta \\right )} - \\frac{r_{32}}{4} \\cos{\\left (2 \\theta \\right )} + \\frac{r_{32}}{4} - \\frac{r_{41}}{4} e^{- 2.0 i \\phi} \\cos{\\left (2 \\theta \\right )} + \\frac{r_{41}}{4} e^{- 2.0 i \\phi} - \\frac{r_{42}}{4} e^{- 1.0 i \\phi} \\sin{\\left (2 \\theta \\right )} & \\frac{r_{33}}{4} \\cos{\\left (2 \\theta \\right )} + \\frac{3 r_{33}}{4} + \\frac{r_{34}}{4} e^{1.0 i \\phi} \\sin{\\left (2 \\theta \\right )} + \\frac{r_{43}}{4} e^{- 1.0 i \\phi} \\sin{\\left (2 \\theta \\right )} - \\frac{r_{44}}{4} \\cos{\\left (2 \\theta \\right )} + \\frac{r_{44}}{4} & \\frac{r_{33}}{4} e^{- 1.0 i \\phi} \\sin{\\left (2 \\theta \\right )} - \\frac{r_{34}}{4} \\cos{\\left (2 \\theta \\right )} + \\frac{r_{34}}{4} - \\frac{r_{43}}{4} e^{- 2.0 i \\phi} \\cos{\\left (2 \\theta \\right )} + \\frac{r_{43}}{4} e^{- 2.0 i \\phi} - \\frac{r_{44}}{4} e^{- 1.0 i \\phi} \\sin{\\left (2 \\theta \\right )}\\\\\\frac{r_{31}}{4} e^{1.0 i \\phi} \\sin{\\left (2 \\theta \\right )} - \\frac{r_{32}}{4} e^{2.0 i \\phi} \\cos{\\left (2 \\theta \\right )} + \\frac{r_{32}}{4} e^{2.0 i \\phi} - \\frac{r_{41}}{4} \\cos{\\left (2 \\theta \\right )} + \\frac{r_{41}}{4} - \\frac{r_{42}}{4} e^{1.0 i \\phi} \\sin{\\left (2 \\theta \\right )} & - \\frac{r_{31}}{4} \\cos{\\left (2 \\theta \\right )} + \\frac{r_{31}}{4} + r_{32} e^{1.0 i \\phi} \\sin^{3}{\\left (\\frac{\\theta}{2} \\right )} \\cos{\\left (\\frac{\\theta}{2} \\right )} - r_{32} e^{1.0 i \\phi} \\sin{\\left (\\frac{\\theta}{2} \\right )} \\cos^{3}{\\left (\\frac{\\theta}{2} \\right )} + r_{41} e^{- 1.0 i \\phi} \\sin^{3}{\\left (\\frac{\\theta}{2} \\right )} \\cos{\\left (\\frac{\\theta}{2} \\right )} - r_{41} e^{- 1.0 i \\phi} \\sin{\\left (\\frac{\\theta}{2} \\right )} \\cos^{3}{\\left (\\frac{\\theta}{2} \\right )} + r_{42} \\sin^{4}{\\left (\\frac{\\theta}{2} \\right )} + r_{42} \\cos^{4}{\\left (\\frac{\\theta}{2} \\right )} & \\frac{r_{33}}{4} e^{1.0 i \\phi} \\sin{\\left (2 \\theta \\right )} - \\frac{r_{34}}{4} e^{2.0 i \\phi} \\cos{\\left (2 \\theta \\right )} + \\frac{r_{34}}{4} e^{2.0 i \\phi} - \\frac{r_{43}}{4} \\cos{\\left (2 \\theta \\right )} + \\frac{r_{43}}{4} - \\frac{r_{44}}{4} e^{1.0 i \\phi} \\sin{\\left (2 \\theta \\right )} & - \\frac{r_{33}}{4} \\cos{\\left (2 \\theta \\right )} + \\frac{r_{33}}{4} + r_{34} e^{1.0 i \\phi} \\sin^{3}{\\left (\\frac{\\theta}{2} \\right )} \\cos{\\left (\\frac{\\theta}{2} \\right )} - r_{34} e^{1.0 i \\phi} \\sin{\\left (\\frac{\\theta}{2} \\right )} \\cos^{3}{\\left (\\frac{\\theta}{2} \\right )} + r_{43} e^{- 1.0 i \\phi} \\sin^{3}{\\left (\\frac{\\theta}{2} \\right )} \\cos{\\left (\\frac{\\theta}{2} \\right )} - r_{43} e^{- 1.0 i \\phi} \\sin{\\left (\\frac{\\theta}{2} \\right )} \\cos^{3}{\\left (\\frac{\\theta}{2} \\right )} + r_{44} \\sin^{4}{\\left (\\frac{\\theta}{2} \\right )} + r_{44} \\cos^{4}{\\left (\\frac{\\theta}{2} \\right )}\\end{matrix}\\right]$$"
      ],
      "text/plain": [
       "⎡                                   1.0⋅ⅈ⋅φ                 -1.0⋅ⅈ⋅φ          \n",
       "⎢       r₁₁⋅cos(2⋅θ)   3⋅r₁₁   r₁₂⋅ℯ       ⋅sin(2⋅θ)   r₂₁⋅ℯ        ⋅sin(2⋅θ) \n",
       "⎢       ──────────── + ───── + ───────────────────── + ────────────────────── \n",
       "⎢            4           4               4                       4            \n",
       "⎢                                                                             \n",
       "⎢     1.0⋅ⅈ⋅φ                 2.0⋅ⅈ⋅φ                 2.0⋅ⅈ⋅φ                 \n",
       "⎢r₁₁⋅ℯ       ⋅sin(2⋅θ)   r₁₂⋅ℯ       ⋅cos(2⋅θ)   r₁₂⋅ℯ          r₂₁⋅cos(2⋅θ)  \n",
       "⎢───────────────────── - ───────────────────── + ──────────── - ──────────── +\n",
       "⎢          4                       4                  4              4        \n",
       "⎢                                                                             \n",
       "⎢                                   1.0⋅ⅈ⋅φ                 -1.0⋅ⅈ⋅φ          \n",
       "⎢       r₃₁⋅cos(2⋅θ)   3⋅r₃₁   r₃₂⋅ℯ       ⋅sin(2⋅θ)   r₄₁⋅ℯ        ⋅sin(2⋅θ) \n",
       "⎢       ──────────── + ───── + ───────────────────── + ────────────────────── \n",
       "⎢            4           4               4                       4            \n",
       "⎢                                                                             \n",
       "⎢     1.0⋅ⅈ⋅φ                 2.0⋅ⅈ⋅φ                 2.0⋅ⅈ⋅φ                 \n",
       "⎢r₃₁⋅ℯ       ⋅sin(2⋅θ)   r₃₂⋅ℯ       ⋅cos(2⋅θ)   r₃₂⋅ℯ          r₄₁⋅cos(2⋅θ)  \n",
       "⎢───────────────────── - ───────────────────── + ──────────── - ──────────── +\n",
       "⎣          4                       4                  4              4        \n",
       "\n",
       "                                                                 -1.0⋅ⅈ⋅φ     \n",
       "  r₂₂⋅cos(2⋅θ)   r₂₂                                        r₁₁⋅ℯ        ⋅sin(\n",
       "- ──────────── + ───                                        ──────────────────\n",
       "       4          4                                                   4       \n",
       "                                                                              \n",
       "            1.0⋅ⅈ⋅φ                                                           \n",
       " r₂₁   r₂₂⋅ℯ       ⋅sin(2⋅θ)    r₁₁⋅cos(2⋅θ)   r₁₁        1.0⋅ⅈ⋅φ    3⎛θ⎞    ⎛\n",
       " ─── - ─────────────────────  - ──────────── + ─── + r₁₂⋅ℯ       ⋅sin ⎜─⎟⋅cos⎜\n",
       "  4              4                   4          4                     ⎝2⎠    ⎝\n",
       "                                                                              \n",
       "                                                                 -1.0⋅ⅈ⋅φ     \n",
       "  r₄₂⋅cos(2⋅θ)   r₄₂                                        r₃₁⋅ℯ        ⋅sin(\n",
       "- ──────────── + ───                                        ──────────────────\n",
       "       4          4                                                   4       \n",
       "                                                                              \n",
       "            1.0⋅ⅈ⋅φ                                                           \n",
       " r₄₁   r₄₂⋅ℯ       ⋅sin(2⋅θ)    r₃₁⋅cos(2⋅θ)   r₃₁        1.0⋅ⅈ⋅φ    3⎛θ⎞    ⎛\n",
       " ─── - ─────────────────────  - ──────────── + ─── + r₃₂⋅ℯ       ⋅sin ⎜─⎟⋅cos⎜\n",
       "  4              4                   4          4                     ⎝2⎠    ⎝\n",
       "\n",
       "                                 -2.0⋅ⅈ⋅φ                 -2.0⋅ⅈ⋅φ        -1.0\n",
       "2⋅θ)   r₁₂⋅cos(2⋅θ)   r₁₂   r₂₁⋅ℯ        ⋅cos(2⋅θ)   r₂₁⋅ℯ           r₂₂⋅ℯ    \n",
       "──── - ──────────── + ─── - ────────────────────── + ───────────── - ─────────\n",
       "            4          4              4                    4                  \n",
       "                                                                              \n",
       "                                                                              \n",
       "θ⎞        1.0⋅ⅈ⋅φ    ⎛θ⎞    3⎛θ⎞        -1.0⋅ⅈ⋅φ    3⎛θ⎞    ⎛θ⎞        -1.0⋅ⅈ⋅\n",
       "─⎟ - r₁₂⋅ℯ       ⋅sin⎜─⎟⋅cos ⎜─⎟ + r₂₁⋅ℯ        ⋅sin ⎜─⎟⋅cos⎜─⎟ - r₂₁⋅ℯ       \n",
       "2⎠                   ⎝2⎠     ⎝2⎠                     ⎝2⎠    ⎝2⎠               \n",
       "                                                                              \n",
       "                                 -2.0⋅ⅈ⋅φ                 -2.0⋅ⅈ⋅φ        -1.0\n",
       "2⋅θ)   r₃₂⋅cos(2⋅θ)   r₃₂   r₄₁⋅ℯ        ⋅cos(2⋅θ)   r₄₁⋅ℯ           r₄₂⋅ℯ    \n",
       "──── - ──────────── + ─── - ────────────────────── + ───────────── - ─────────\n",
       "            4          4              4                    4                  \n",
       "                                                                              \n",
       "                                                                              \n",
       "θ⎞        1.0⋅ⅈ⋅φ    ⎛θ⎞    3⎛θ⎞        -1.0⋅ⅈ⋅φ    3⎛θ⎞    ⎛θ⎞        -1.0⋅ⅈ⋅\n",
       "─⎟ - r₃₂⋅ℯ       ⋅sin⎜─⎟⋅cos ⎜─⎟ + r₄₁⋅ℯ        ⋅sin ⎜─⎟⋅cos⎜─⎟ - r₄₁⋅ℯ       \n",
       "2⎠                   ⎝2⎠     ⎝2⎠                     ⎝2⎠    ⎝2⎠               \n",
       "\n",
       "⋅ⅈ⋅φ                                                                          \n",
       "    ⋅sin(2⋅θ)                                        r₁₃⋅cos(2⋅θ)   3⋅r₁₃   r₁\n",
       "─────────────                                        ──────────── + ───── + ──\n",
       " 4                                                        4           4       \n",
       "                                                                              \n",
       "                                                   1.0⋅ⅈ⋅φ                 2.0\n",
       "φ    ⎛θ⎞    3⎛θ⎞          4⎛θ⎞          4⎛θ⎞  r₁₃⋅ℯ       ⋅sin(2⋅θ)   r₁₄⋅ℯ   \n",
       " ⋅sin⎜─⎟⋅cos ⎜─⎟ + r₂₂⋅sin ⎜─⎟ + r₂₂⋅cos ⎜─⎟  ───────────────────── - ────────\n",
       "     ⎝2⎠     ⎝2⎠           ⎝2⎠           ⎝2⎠            4                     \n",
       "                                                                              \n",
       "⋅ⅈ⋅φ                                                                          \n",
       "    ⋅sin(2⋅θ)                                        r₃₃⋅cos(2⋅θ)   3⋅r₃₃   r₃\n",
       "─────────────                                        ──────────── + ───── + ──\n",
       " 4                                                        4           4       \n",
       "                                                                              \n",
       "                                                   1.0⋅ⅈ⋅φ                 2.0\n",
       "φ    ⎛θ⎞    3⎛θ⎞          4⎛θ⎞          4⎛θ⎞  r₃₃⋅ℯ       ⋅sin(2⋅θ)   r₃₄⋅ℯ   \n",
       " ⋅sin⎜─⎟⋅cos ⎜─⎟ + r₄₂⋅sin ⎜─⎟ + r₄₂⋅cos ⎜─⎟  ───────────────────── - ────────\n",
       "     ⎝2⎠     ⎝2⎠           ⎝2⎠           ⎝2⎠            4                     \n",
       "\n",
       "   1.0⋅ⅈ⋅φ                 -1.0⋅ⅈ⋅φ                                           \n",
       "₄⋅ℯ       ⋅sin(2⋅θ)   r₂₃⋅ℯ        ⋅sin(2⋅θ)   r₂₄⋅cos(2⋅θ)   r₂₄             \n",
       "─────────────────── + ────────────────────── - ──────────── + ───             \n",
       "        4                       4                   4          4              \n",
       "                                                                              \n",
       "⋅ⅈ⋅φ                 2.0⋅ⅈ⋅φ                             1.0⋅ⅈ⋅φ              \n",
       "    ⋅cos(2⋅θ)   r₁₄⋅ℯ          r₂₃⋅cos(2⋅θ)   r₂₃   r₂₄⋅ℯ       ⋅sin(2⋅θ)    r\n",
       "───────────── + ──────────── - ──────────── + ─── - ─────────────────────  - ─\n",
       "  4                  4              4          4              4               \n",
       "                                                                              \n",
       "   1.0⋅ⅈ⋅φ                 -1.0⋅ⅈ⋅φ                                           \n",
       "₄⋅ℯ       ⋅sin(2⋅θ)   r₄₃⋅ℯ        ⋅sin(2⋅θ)   r₄₄⋅cos(2⋅θ)   r₄₄             \n",
       "─────────────────── + ────────────────────── - ──────────── + ───             \n",
       "        4                       4                   4          4              \n",
       "                                                                              \n",
       "⋅ⅈ⋅φ                 2.0⋅ⅈ⋅φ                             1.0⋅ⅈ⋅φ              \n",
       "    ⋅cos(2⋅θ)   r₃₄⋅ℯ          r₄₃⋅cos(2⋅θ)   r₄₃   r₄₄⋅ℯ       ⋅sin(2⋅θ)    r\n",
       "───────────── + ──────────── - ──────────── + ─── - ─────────────────────  - ─\n",
       "  4                  4              4          4              4               \n",
       "\n",
       "                                -1.0⋅ⅈ⋅φ                                      \n",
       "                           r₁₃⋅ℯ        ⋅sin(2⋅θ)   r₁₄⋅cos(2⋅θ)   r₁₄   r₂₃⋅ℯ\n",
       "                           ────────────────────── - ──────────── + ─── - ─────\n",
       "                                     4                   4          4         \n",
       "                                                                              \n",
       "                                                                              \n",
       "₁₃⋅cos(2⋅θ)   r₁₃        1.0⋅ⅈ⋅φ    3⎛θ⎞    ⎛θ⎞        1.0⋅ⅈ⋅φ    ⎛θ⎞    3⎛θ⎞ \n",
       "─────────── + ─── + r₁₄⋅ℯ       ⋅sin ⎜─⎟⋅cos⎜─⎟ - r₁₄⋅ℯ       ⋅sin⎜─⎟⋅cos ⎜─⎟ \n",
       "    4          4                     ⎝2⎠    ⎝2⎠                   ⎝2⎠     ⎝2⎠ \n",
       "                                                                              \n",
       "                                -1.0⋅ⅈ⋅φ                                      \n",
       "                           r₃₃⋅ℯ        ⋅sin(2⋅θ)   r₃₄⋅cos(2⋅θ)   r₃₄   r₄₃⋅ℯ\n",
       "                           ────────────────────── - ──────────── + ─── - ─────\n",
       "                                     4                   4          4         \n",
       "                                                                              \n",
       "                                                                              \n",
       "₃₃⋅cos(2⋅θ)   r₃₃        1.0⋅ⅈ⋅φ    3⎛θ⎞    ⎛θ⎞        1.0⋅ⅈ⋅φ    ⎛θ⎞    3⎛θ⎞ \n",
       "─────────── + ─── + r₃₄⋅ℯ       ⋅sin ⎜─⎟⋅cos⎜─⎟ - r₃₄⋅ℯ       ⋅sin⎜─⎟⋅cos ⎜─⎟ \n",
       "    4          4                     ⎝2⎠    ⎝2⎠                   ⎝2⎠     ⎝2⎠ \n",
       "\n",
       "-2.0⋅ⅈ⋅φ                 -2.0⋅ⅈ⋅φ        -1.0⋅ⅈ⋅φ                             \n",
       "        ⋅cos(2⋅θ)   r₂₃⋅ℯ           r₂₄⋅ℯ        ⋅sin(2⋅θ)                    \n",
       "───────────────── + ───────────── - ──────────────────────                    \n",
       "     4                    4                   4                               \n",
       "                                                                              \n",
       "                                                                              \n",
       "       -1.0⋅ⅈ⋅φ    3⎛θ⎞    ⎛θ⎞        -1.0⋅ⅈ⋅φ    ⎛θ⎞    3⎛θ⎞          4⎛θ⎞   \n",
       "+ r₂₃⋅ℯ        ⋅sin ⎜─⎟⋅cos⎜─⎟ - r₂₃⋅ℯ        ⋅sin⎜─⎟⋅cos ⎜─⎟ + r₂₄⋅sin ⎜─⎟ + \n",
       "                    ⎝2⎠    ⎝2⎠                    ⎝2⎠     ⎝2⎠           ⎝2⎠   \n",
       "                                                                              \n",
       "-2.0⋅ⅈ⋅φ                 -2.0⋅ⅈ⋅φ        -1.0⋅ⅈ⋅φ                             \n",
       "        ⋅cos(2⋅θ)   r₄₃⋅ℯ           r₄₄⋅ℯ        ⋅sin(2⋅θ)                    \n",
       "───────────────── + ───────────── - ──────────────────────                    \n",
       "     4                    4                   4                               \n",
       "                                                                              \n",
       "                                                                              \n",
       "       -1.0⋅ⅈ⋅φ    3⎛θ⎞    ⎛θ⎞        -1.0⋅ⅈ⋅φ    ⎛θ⎞    3⎛θ⎞          4⎛θ⎞   \n",
       "+ r₄₃⋅ℯ        ⋅sin ⎜─⎟⋅cos⎜─⎟ - r₄₃⋅ℯ        ⋅sin⎜─⎟⋅cos ⎜─⎟ + r₄₄⋅sin ⎜─⎟ + \n",
       "                    ⎝2⎠    ⎝2⎠                    ⎝2⎠     ⎝2⎠           ⎝2⎠   \n",
       "\n",
       "           ⎤\n",
       "           ⎥\n",
       "           ⎥\n",
       "           ⎥\n",
       "           ⎥\n",
       "           ⎥\n",
       "       4⎛θ⎞⎥\n",
       "r₂₄⋅cos ⎜─⎟⎥\n",
       "        ⎝2⎠⎥\n",
       "           ⎥\n",
       "           ⎥\n",
       "           ⎥\n",
       "           ⎥\n",
       "           ⎥\n",
       "           ⎥\n",
       "           ⎥\n",
       "       4⎛θ⎞⎥\n",
       "r₄₄⋅cos ⎜─⎟⎥\n",
       "        ⎝2⎠⎦"
      ]
     },
     "execution_count": 19,
     "metadata": {},
     "output_type": "execute_result"
    }
   ],
   "source": [
    "rhoMb = tp(Pauli(0),P1)*rho*tp(Pauli(0),P1) + tp(Pauli(0),P2)*rho*tp(Pauli(0),P2)\n",
    "simplify(rhoMb)"
   ]
  },
  {
   "cell_type": "code",
   "execution_count": null,
   "metadata": {},
   "outputs": [],
   "source": []
  }
 ],
 "metadata": {
  "kernelspec": {
   "display_name": "Python 3",
   "language": "python",
   "name": "python3"
  },
  "language_info": {
   "codemirror_mode": {
    "name": "ipython",
    "version": 3
   },
   "file_extension": ".py",
   "mimetype": "text/x-python",
   "name": "python",
   "nbconvert_exporter": "python",
   "pygments_lexer": "ipython3",
   "version": "3.6.4"
  }
 },
 "nbformat": 4,
 "nbformat_minor": 2
}
