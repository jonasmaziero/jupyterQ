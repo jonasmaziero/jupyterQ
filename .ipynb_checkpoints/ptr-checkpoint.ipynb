{
 "cells": [
  {
   "cell_type": "markdown",
   "metadata": {},
   "source": [
    "### Trace\n",
    "\\begin{equation}\n",
    "\\mathrm{Tr}(A) = \\sum_{j=1}^{d}A_{j,j}.\n",
    "\\end{equation}"
   ]
  },
  {
   "cell_type": "code",
   "execution_count": 1,
   "metadata": {},
   "outputs": [],
   "source": [
    "def trace(d,A):\n",
    "    tr = 0\n",
    "    for j in range(0,d):\n",
    "        tr += A[j,j]\n",
    "    return tr"
   ]
  },
  {
   "cell_type": "markdown",
   "metadata": {},
   "source": [
    "### Partial trace\n",
    "\\begin{align}\n",
    "\\rho_{b}[j,k] & = \\sum_{l=0}^{d_{a}-1}\\rho[(l-1)d_{b}+j,(l-1)d_{b}+k], \\\\\n",
    "\\rho_{a}[j,k] & = \\sum_{l=0}^{d_{b}-1}\\rho[(j-1)d_{b}+l,(k-1)d_{b}+l].\n",
    "\\end{align}"
   ]
  },
  {
   "cell_type": "code",
   "execution_count": 2,
   "metadata": {},
   "outputs": [],
   "source": [
    "# Outside these functions, initialize: rhos = zeros(ds,ds), s=A,B\n",
    "def ptraceA(da, db, rho):\n",
    "    rhoB = zeros(db,db)\n",
    "    for j in range(0, db):\n",
    "        for k in range(0, db):\n",
    "            for l in range(0, da):\n",
    "                rhoB[j,k] += rho[l*db+j,l*db+k]\n",
    "    return rhoB\n",
    "def ptraceB(da, db, rho):\n",
    "    rhoA = zeros(da,da)\n",
    "    for j in range(0, da):\n",
    "        for k in range(0, da):\n",
    "            for l in range(0, db):\n",
    "                rhoA[j,k] += rho[j*db+l,k*db+l]\n",
    "    return rhoA"
   ]
  },
  {
   "cell_type": "markdown",
   "metadata": {},
   "source": [
    "### Partial transpose\n",
    "\\begin{align}\n",
    "\\langle j_{a}j_{b}|T_{a}(\\rho)|k_{a}k_{b}\\rangle & = \\langle k_{a}j_{b}|\\rho|j_{a}k_{b}\\rangle, \\\\\n",
    "\\langle j_{a}j_{b}|T_{b}(\\rho)|k_{a}k_{b}\\rangle & = \\langle j_{a}k_{b}|\\rho|k_{a}j_{b}\\rangle,\n",
    "\\end{align}\n",
    "and $|j\\otimes k\\rangle = |jd_{b}+k\\rangle$."
   ]
  },
  {
   "cell_type": "code",
   "execution_count": 3,
   "metadata": {},
   "outputs": [],
   "source": [
    "# Outside these functions, initialize: rhoTs = zeros(da,db)\n",
    "def pTransposeB(da, db, rho):\n",
    "    for ja in range(0,da):\n",
    "        for ka in range(0,da):\n",
    "            for jb in range(0,db):\n",
    "                for kb in range(0,db):\n",
    "                    rhoTb[ja*db+kb,ka*db+jb] = rho[ja*db+jb,ka*db+kb]\n",
    "    return rhoTb\n",
    "def pTransposeA(da, db, rho):\n",
    "    for ja in range(0,da):\n",
    "        for ka in range(0,da):\n",
    "            for jb in range(0,db):\n",
    "                for kb in range(0,db):\n",
    "                    rhoTa[ka*db+jb,ja*db+kb] = rho[ja*db+jb,ka*db+kb]\n",
    "    return rhoTa"
   ]
  }
 ],
 "metadata": {
  "kernelspec": {
   "display_name": "Python 3",
   "language": "python",
   "name": "python3"
  },
  "language_info": {
   "codemirror_mode": {
    "name": "ipython",
    "version": 3
   },
   "file_extension": ".py",
   "mimetype": "text/x-python",
   "name": "python",
   "nbconvert_exporter": "python",
   "pygments_lexer": "ipython3",
   "version": "3.6.4"
  }
 },
 "nbformat": 4,
 "nbformat_minor": 2
}
