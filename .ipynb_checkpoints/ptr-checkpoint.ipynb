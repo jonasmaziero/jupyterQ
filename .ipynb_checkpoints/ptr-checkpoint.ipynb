{
 "cells": [
  {
   "cell_type": "code",
   "execution_count": 1,
   "metadata": {},
   "outputs": [],
   "source": [
    "%run jupyterQ.ipynb"
   ]
  },
  {
   "cell_type": "markdown",
   "metadata": {},
   "source": [
    "### Trace\n",
    "\\begin{equation}\n",
    "\\mathrm{Tr}(A) = \\sum_{j=1}^{d}A_{j,j}.\n",
    "\\end{equation}"
   ]
  },
  {
   "cell_type": "code",
   "execution_count": 1,
   "metadata": {},
   "outputs": [],
   "source": [
    "def trace(d,A):\n",
    "    tr = 0\n",
    "    for j in range(0,d):\n",
    "        tr += A[j,j]\n",
    "    return tr"
   ]
  },
  {
   "cell_type": "markdown",
   "metadata": {},
   "source": [
    "# Partial trace\n",
    "\\begin{align}\n",
    "\\rho_{b}[j,k] & = \\sum_{l=0}^{d_{a}-1}\\rho[(l-1)d_{b}+j,(l-1)d_{b}+k], \\\\\n",
    "\\rho_{a}[j,k] & = \\sum_{l=0}^{d_{b}-1}\\rho[(j-1)d_{b}+l,(k-1)d_{b}+l].\n",
    "\\end{align}"
   ]
  },
  {
   "cell_type": "code",
   "execution_count": 2,
   "metadata": {},
   "outputs": [],
   "source": [
    "# Outside these functions, initialize: rhos = zeros(ds,ds), s=A,B\n",
    "def ptraceA(da, db, rho):\n",
    "    rhoB = zeros(db,db)\n",
    "    for j in range(0, db):\n",
    "        for k in range(0, db):\n",
    "            for l in range(0, da):\n",
    "                rhoB[j,k] += rho[l*db+j,l*db+k]\n",
    "    return rhoB\n",
    "def ptraceB(da, db, rho):\n",
    "    rhoA = zeros(da,da)\n",
    "    for j in range(0, da):\n",
    "        for k in range(0, da):\n",
    "            for l in range(0, db):\n",
    "                rhoA[j,k] += rho[j*db+l,k*db+l]\n",
    "    return rhoA"
   ]
  },
  {
   "cell_type": "markdown",
   "metadata": {},
   "source": [
    "# Transposta parcial\n",
    "Por definição, os elementos da representação matricial de um operador linear $A$ em uma base ortonormal $\\{|\\alpha_{j}\\rangle\\}$ e a matriz transposta associada são relacionados por\n",
    "\\begin{equation}\n",
    "\\langle\\alpha_{j}|A^{T}|\\alpha_{k}\\rangle = \\langle\\alpha_{k}|A|\\alpha_{j}\\rangle.\n",
    "\\end{equation}\n",
    "Para $c_{j,k}$ escalares, podemos obter essa mesma relação definindo a transposta via o seguinte mapa linear [arXiv:1609.00323]:\n",
    "\\begin{equation}\n",
    "T\\left(\\sum_{j,k}c_{j,k}|\\alpha_{j}\\rangle\\langle\\alpha_{k}|\\right):=\\sum_{j,k}c_{j,k}T(|\\alpha_{j}\\rangle\\langle\\alpha_{k}|):=\\sum_{j,k}c_{j,k}|\\alpha_{k}\\rangle\\langle\\alpha_{j}|.\n",
    "\\end{equation}\n",
    "Para verificar essa afirmação, consideramos a representação produto externo $A=\\sum_{j,k}\\langle\\alpha_{j}|A|\\alpha_{k}\\rangle|\\alpha_{j}\\rangle\\langle\\alpha_{k}|$ e atuamos essa função:\n",
    "\\begin{align}\n",
    "T(A) & = T\\left(\\sum_{j,k}\\langle\\alpha_{j}|A|\\alpha_{k}\\rangle|\\alpha_{j}\\rangle\\langle\\alpha_{k}|\\right) = \\sum_{j,k}\\langle\\alpha_{j}|A|\\alpha_{k}\\rangle T(|\\alpha_{j}\\rangle\\langle\\alpha_{k}|)  \\\\\n",
    "& = \\sum_{j,k}\\langle\\alpha_{j}|A|\\alpha_{k}\\rangle |\\alpha_{k}\\rangle\\langle\\alpha_{j}|.\n",
    "\\end{align}\n",
    "Assim,\n",
    "\\begin{align}\n",
    "\\langle\\alpha_{p}|T(A)|\\alpha_{q}\\rangle & = \\sum_{j,k}\\langle\\alpha_{j}|A|\\alpha_{k}\\rangle \\langle\\alpha_{p}|\\alpha_{k}\\rangle\\langle\\alpha_{j}|\\alpha_{q}\\rangle = \\sum_{j,k}\\langle\\alpha_{j}|A|\\alpha_{k}\\rangle \\delta_{p,k}\\delta_{j,q} \\\\\n",
    "& = \\langle\\alpha_{q}|A|\\alpha_{p}\\rangle.\n",
    "\\end{align}\n",
    "\n",
    "_OBS:_ Vimos que os autovalores da transposta são iguais aos autovalores da matriz original. Então, pelo motivo da transposta levar matrizes positivas em matrizes positivas, dizemos que ela é uma __mapa positivo__ (semidefinido). Ou seja,\n",
    "\\begin{equation}\n",
    "T(A)\\ge\\mathbb{0}_{\\mathcal{H}}\\text{ }\\forall A\\ge\\mathbb{0}_{\\mathcal{H}}.\n",
    "\\end{equation}"
   ]
  },
  {
   "cell_type": "markdown",
   "metadata": {},
   "source": [
    "Quando aplicamos a um sistema composto, a função matricial __transposta parcial__ é definida, quando aplicada ao espaço da \"esquerda\", como\n",
    "\\begin{align}\n",
    "T_{e}(C) & := T\\otimes id(C) \\\\\n",
    "& = \\sum_{j,p=1}^{n}\\sum_{k,q=1}^{m}C_{jk,pq}T(|\\alpha_{j}\\rangle\\langle\\alpha_{p}|)\\otimes id(|\\beta_{k}\\rangle\\langle\\beta_{q}|) \\\\\n",
    "& := \\sum_{j,p=1}^{n}\\sum_{k,q=1}^{m}C_{jk,pq}|\\alpha_{p}\\rangle\\langle\\alpha_{j}|)\\otimes |\\beta_{k}\\rangle\\langle\\beta_{q}|.\n",
    "\\end{align}\n",
    "E assim (__exercício__)\n",
    "\\begin{equation}\n",
    "C_{jk,pq}=(T_{e}(C))_{pk,jq}\\therefore(\\langle\\alpha_{p}|\\otimes\\langle\\beta_{k}|)T_{e}(C)(|\\alpha_{j}\\rangle\\otimes|\\beta_{q}\\rangle) = (\\langle\\alpha_{j}|\\otimes\\langle\\beta_{k}|)C(|\\alpha_{p}\\rangle\\otimes|\\beta_{q}\\rangle).\n",
    "\\end{equation}"
   ]
  },
  {
   "cell_type": "markdown",
   "metadata": {},
   "source": [
    "Dizemos que um mapa positivo $M$ é __completamente positivo__ se\n",
    "\\begin{equation}\n",
    "M\\otimes id(C)\\ge\\mathbb{0}\\text{ }\\forall C\\ge\\mathbb{0}$.\n",
    "\\end{equation}\n",
    "Uma propriedade importante da transposta é que esta função _não_ é um mapa completamente positivo. Para verificar essa afirmação, consideremos\n",
    "\\begin{align}\n",
    "T_{e}(P_{\\Psi}) & = 2^{-1}[T(|e_{1}\\rangle\\langle e_{1}|)\\otimes id(|e_{2}\\rangle\\langle e_{2}|) - T(|e_{1}\\rangle\\langle e_{2}|)\\otimes id(|e_{2}\\rangle\\langle e_{1}|)  \\\\ \n",
    "& \\hspace{1cm} - T(|e_{2}\\rangle\\langle e_{1}|)\\otimes id(|e_{1}\\rangle\\langle e_{2}|) + T(|e_{2}\\rangle\\langle e_{2}|)\\otimes id(|e_{1}\\rangle\\langle e_{1}|)] \\\\\n",
    "& = 2^{-1}[|e_{1}\\rangle\\langle e_{1}|\\otimes|e_{2}\\rangle\\langle e_{2}| - |e_{2}\\rangle\\langle e_{1}|\\otimes|e_{2}\\rangle\\langle e_{1}|  - |e_{1}\\rangle\\langle e_{2}|)\\otimes|e_{1}\\rangle\\langle e_{2}| + |e_{2}\\rangle\\langle e_{2}|\\otimes|e_{1}\\rangle\\langle e_{1}|] \\\\\n",
    "& = \\begin{bmatrix} 0&0&0&-1/2 \\\\ 0&1/2&0&0 \\\\ 0&0&1/2&0 \\\\ -1/2&0&0&0 \\end{bmatrix},\n",
    "\\end{align}\n",
    "com a representação matricial feita usando a base $\\{|e_{1}\\rangle\\otimes|e_{1}\\rangle,|e_{1}\\rangle\\otimes|e_{2}\\rangle,|e_{2}\\rangle\\otimes|e_{1}\\rangle,|e_{2}\\rangle\\otimes|e_{2}\\rangle\\}$. Para exemplificar o cálculo dos elementos de matriz, usemos $(A\\otimes B)(C\\otimes D)=AC\\otimes BD$ e consideremos explicitamente\n",
    "\\begin{align}\n",
    "(\\langle e_{1}|\\otimes\\langle e_{1}|)T_{e}(P_{\\Psi})(|e_{1}\\rangle\\otimes|e_{1}\\rangle) =\n",
    "& (\\langle e_{1}|\\otimes\\langle e_{1}|)(|e_{1}\\rangle\\langle e_{1}|\\otimes|e_{2}\\rangle\\langle e_{2}|)(|e_{1}\\rangle\\otimes|e_{1}\\rangle) \n",
    " - (\\langle e_{1}|\\otimes\\langle e_{1}|)(|e_{2}\\rangle\\langle e_{1}|\\otimes|e_{2}\\rangle\\langle e_{1}|)(|e_{1}\\rangle\\otimes|e_{1}\\rangle) \\\\\n",
    "& - (\\langle e_{1}|\\otimes\\langle e_{1}|)(|e_{1}\\rangle\\langle e_{2}|)\\otimes|e_{1}\\rangle\\langle e_{2}|)(|e_{1}\\rangle\\otimes|e_{1}\\rangle) \n",
    " + (\\langle e_{1}|\\otimes\\langle e_{1}|)(|e_{2}\\rangle\\langle e_{2}|\\otimes|e_{1}\\rangle\\langle e_{1}|)(|e_{1}\\rangle\\otimes|e_{1}\\rangle) \\\\\n",
    " = & \\langle e_{1}|e_{1}\\rangle\\langle e_{1}|e_{1}\\rangle\\otimes\\langle e_{1}|e_{2}\\rangle\\langle e_{2}|e_{1}\\rangle \n",
    " - \\langle e_{1}|e_{2}\\rangle\\langle e_{1}|e_{1}\\rangle\\otimes\\langle e_{1}|e_{2}\\rangle\\langle e_{1}||e_{1}\\rangle \\\\\n",
    "& - \\langle e_{1}|e_{1}\\rangle\\langle e_{2}|e_{1}\\rangle\\otimes\\langle e_{1}|e_{1}\\rangle\\langle e_{2}|e_{1}\\rangle \n",
    " + \\langle e_{1}|e_{2}\\rangle\\langle e_{2}|e_{1}\\rangle\\otimes\\langle e_{1}|e_{1}\\rangle\\langle e_{1}|e_{1}\\rangle \\\\\n",
    " &= 0.\n",
    "\\end{align}\n",
    "\n",
    "Como verificado usando o código abaixo, $T_{e}(P_{\\Psi})$ possui um autovalor negativo equanto que os autovalores de $P_{\\Psi}$ são todos positivos ou nulos.\n",
    "\n",
    "__Exercício:__ Obtenha $P_{\\Phi}$ e $T_{d}(P_{\\Phi})$ e calcule seus autovalores."
   ]
  },
  {
   "cell_type": "code",
   "execution_count": 5,
   "metadata": {},
   "outputs": [],
   "source": [
    "def ptranspose(da,db,rho,ssys):\n",
    "    ptp = zeros(da*db,da*db)\n",
    "    if ssys == 'b':\n",
    "        for ja in range(0,da):\n",
    "            for ka in range(0,da):\n",
    "                for jb in range(0,db):\n",
    "                    for kb in range(0,db):\n",
    "                        ptp[ja*db+kb,ka*db+jb] = rho[ja*db+jb,ka*db+kb]\n",
    "    elif ssys == 'a':\n",
    "        for ja in range(0,da):\n",
    "            for ka in range(0,da):\n",
    "                for jb in range(0,db):\n",
    "                    for kb in range(0,db):\n",
    "                        ptp[ka*db+jb,ja*db+kb] = rho[ja*db+jb,ka*db+kb]\n",
    "    return ptp"
   ]
  },
  {
   "cell_type": "code",
   "execution_count": 6,
   "metadata": {},
   "outputs": [
    {
     "data": {
      "image/png": "[encoded data removed]",
      "text/latex": [
       "$$\\left [ \\left ( 0, \\quad 3, \\quad \\left [ \\left[\\begin{matrix}1\\\\0\\\\0\\\\0\\end{matrix}\\right], \\quad \\left[\\begin{matrix}0\\\\1\\\\1\\\\0\\end{matrix}\\right], \\quad \\left[\\begin{matrix}0\\\\0\\\\0\\\\1\\end{matrix}\\right]\\right ]\\right ), \\quad \\left ( 1, \\quad 1, \\quad \\left [ \\left[\\begin{matrix}0\\\\-1\\\\1\\\\0\\end{matrix}\\right]\\right ]\\right )\\right ]$$"
      ],
      "text/plain": [
       "⎡⎛      ⎡⎡1⎤  ⎡0⎤  ⎡0⎤⎤⎞  ⎛      ⎡⎡0 ⎤⎤⎞⎤\n",
       "⎢⎜      ⎢⎢ ⎥  ⎢ ⎥  ⎢ ⎥⎥⎟  ⎜      ⎢⎢  ⎥⎥⎟⎥\n",
       "⎢⎜      ⎢⎢0⎥  ⎢1⎥  ⎢0⎥⎥⎟  ⎜      ⎢⎢-1⎥⎥⎟⎥\n",
       "⎢⎜0, 3, ⎢⎢ ⎥, ⎢ ⎥, ⎢ ⎥⎥⎟, ⎜1, 1, ⎢⎢  ⎥⎥⎟⎥\n",
       "⎢⎜      ⎢⎢0⎥  ⎢1⎥  ⎢0⎥⎥⎟  ⎜      ⎢⎢1 ⎥⎥⎟⎥\n",
       "⎢⎜      ⎢⎢ ⎥  ⎢ ⎥  ⎢ ⎥⎥⎟  ⎜      ⎢⎢  ⎥⎥⎟⎥\n",
       "⎣⎝      ⎣⎣0⎦  ⎣0⎦  ⎣1⎦⎦⎠  ⎝      ⎣⎣0 ⎦⎦⎠⎦"
      ]
     },
     "execution_count": 6,
     "metadata": {},
     "output_type": "execute_result"
    }
   ],
   "source": [
    "# para a matriz P_{Psi}\n",
    "Psi = Matrix([[0],[1/sqrt(2)],[-1/sqrt(2)],[0]])\n",
    "P_Psi = proj(Psi)\n",
    "P_Psi\n",
    "P_Psi.eigenvects()"
   ]
  },
  {
   "cell_type": "code",
   "execution_count": 7,
   "metadata": {},
   "outputs": [
    {
     "data": {
      "image/png": "[encoded data removed]",
      "text/latex": [
       "$$\\left [ \\left ( - \\frac{1}{2}, \\quad 1, \\quad \\left [ \\left[\\begin{matrix}1\\\\0\\\\0\\\\1\\end{matrix}\\right]\\right ]\\right ), \\quad \\left ( \\frac{1}{2}, \\quad 3, \\quad \\left [ \\left[\\begin{matrix}0\\\\1\\\\0\\\\0\\end{matrix}\\right], \\quad \\left[\\begin{matrix}0\\\\0\\\\1\\\\0\\end{matrix}\\right], \\quad \\left[\\begin{matrix}-1\\\\0\\\\0\\\\1\\end{matrix}\\right]\\right ]\\right )\\right ]$$"
      ],
      "text/plain": [
       "⎡⎛         ⎡⎡1⎤⎤⎞  ⎛        ⎡⎡0⎤  ⎡0⎤  ⎡-1⎤⎤⎞⎤\n",
       "⎢⎜         ⎢⎢ ⎥⎥⎟  ⎜        ⎢⎢ ⎥  ⎢ ⎥  ⎢  ⎥⎥⎟⎥\n",
       "⎢⎜         ⎢⎢0⎥⎥⎟  ⎜        ⎢⎢1⎥  ⎢0⎥  ⎢0 ⎥⎥⎟⎥\n",
       "⎢⎜-1/2, 1, ⎢⎢ ⎥⎥⎟, ⎜1/2, 3, ⎢⎢ ⎥, ⎢ ⎥, ⎢  ⎥⎥⎟⎥\n",
       "⎢⎜         ⎢⎢0⎥⎥⎟  ⎜        ⎢⎢0⎥  ⎢1⎥  ⎢0 ⎥⎥⎟⎥\n",
       "⎢⎜         ⎢⎢ ⎥⎥⎟  ⎜        ⎢⎢ ⎥  ⎢ ⎥  ⎢  ⎥⎥⎟⎥\n",
       "⎣⎝         ⎣⎣1⎦⎦⎠  ⎝        ⎣⎣0⎦  ⎣0⎦  ⎣1 ⎦⎦⎠⎦"
      ]
     },
     "execution_count": 7,
     "metadata": {},
     "output_type": "execute_result"
    }
   ],
   "source": [
    "# para a transposta parcial\n",
    "P_Psi_ptp = ptranspose(2,2,P_Psi,'a')\n",
    "P_Psi_ptp\n",
    "P_Psi_ptp.eigenvects()"
   ]
  },
  {
   "cell_type": "code",
   "execution_count": null,
   "metadata": {},
   "outputs": [],
   "source": []
  }
 ],
 "metadata": {
  "kernelspec": {
   "display_name": "Python 3",
   "language": "python",
   "name": "python3"
  },
  "language_info": {
   "codemirror_mode": {
    "name": "ipython",
    "version": 3
   },
   "file_extension": ".py",
   "mimetype": "text/x-python",
   "name": "python",
   "nbconvert_exporter": "python",
   "pygments_lexer": "ipython3",
   "version": "3.6.4"
  }
 },
 "nbformat": 4,
 "nbformat_minor": 2
}
