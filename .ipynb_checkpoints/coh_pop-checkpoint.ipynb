{
 "cells": [
  {
   "cell_type": "code",
   "execution_count": 5,
   "metadata": {},
   "outputs": [],
   "source": [
    "%run jupyterQ.ipynb"
   ]
  },
  {
   "cell_type": "code",
   "execution_count": 13,
   "metadata": {},
   "outputs": [
    {
     "data": {
      "image/png": "[encoded data removed]",
      "text/latex": [
       "$$\\left[\\begin{matrix}0.5 & r_{12}\\\\\\overline{r_{12}} & 0.5\\end{matrix}\\right]$$"
      ],
      "text/plain": [
       "⎡0.5  r₁₂⎤\n",
       "⎢        ⎥\n",
       "⎢___     ⎥\n",
       "⎣r₁₂  0.5⎦"
      ]
     },
     "execution_count": 13,
     "metadata": {},
     "output_type": "execute_result"
    }
   ],
   "source": [
    "#x,y = symbols('x y', Real = True)\n",
    "r12 = symbols('r12')\n",
    "A = Matrix([[1/2,r12],[conjugate(r12),1/2]])\n",
    "A"
   ]
  },
  {
   "cell_type": "code",
   "execution_count": 14,
   "metadata": {},
   "outputs": [
    {
     "data": {
      "image/png": "[encoded data removed]",
      "text/latex": [
       "$$\\left [ \\left ( - \\left(r_{12} \\overline{r_{12}}\\right)^{0.5} + 0.5, \\quad 1, \\quad \\left [ \\left[\\begin{matrix}- \\frac{r_{12}}{\\left(r_{12} \\overline{r_{12}}\\right)^{0.5}}\\\\1.0\\end{matrix}\\right]\\right ]\\right ), \\quad \\left ( \\left(r_{12} \\overline{r_{12}}\\right)^{0.5} + 0.5, \\quad 1, \\quad \\left [ \\left[\\begin{matrix}\\frac{r_{12}}{\\left(r_{12} \\overline{r_{12}}\\right)^{0.5}}\\\\1.0\\end{matrix}\\right]\\right ]\\right )\\right ]$$"
      ],
      "text/plain": [
       "⎡⎛           0.5           ⎡⎡              -0.5⎤⎤⎞  ⎛         0.5           ⎡⎡\n",
       "⎢⎜  ⎛    ___⎞              ⎢⎢     ⎛    ___⎞    ⎥⎥⎟  ⎜⎛    ___⎞              ⎢⎢\n",
       "⎢⎜- ⎝r₁₂⋅r₁₂⎠    + 0.5, 1, ⎢⎢-r₁₂⋅⎝r₁₂⋅r₁₂⎠    ⎥⎥⎟, ⎜⎝r₁₂⋅r₁₂⎠    + 0.5, 1, ⎢⎢\n",
       "⎢⎜                         ⎢⎢                  ⎥⎥⎟  ⎜                       ⎢⎢\n",
       "⎣⎝                         ⎣⎣       1.0        ⎦⎦⎠  ⎝                       ⎣⎣\n",
       "\n",
       "             -0.5⎤⎤⎞⎤\n",
       "    ⎛    ___⎞    ⎥⎥⎟⎥\n",
       "r₁₂⋅⎝r₁₂⋅r₁₂⎠    ⎥⎥⎟⎥\n",
       "                 ⎥⎥⎟⎥\n",
       "       1.0       ⎦⎦⎠⎦"
      ]
     },
     "execution_count": 14,
     "metadata": {},
     "output_type": "execute_result"
    }
   ],
   "source": [
    "A.eigenvects()"
   ]
  },
  {
   "cell_type": "code",
   "execution_count": 16,
   "metadata": {},
   "outputs": [
    {
     "data": {
      "image/png": "[encoded data removed]",
      "text/latex": [
       "$$\\left[\\begin{matrix}\\frac{r_{12} \\left(\\sqrt{- \\left(r_{12} \\overline{r_{12}}\\right)^{0.5} + 0.5} + \\sqrt{\\left(r_{12} \\overline{r_{12}}\\right)^{0.5} + 0.5}\\right) \\overline{r_{12}} \\overline{\\left(r_{12} \\overline{r_{12}}\\right)^{-0.5}}}{r_{12} \\overline{r_{12}} \\overline{\\left(r_{12} \\overline{r_{12}}\\right)^{-0.5}} + 1.0 \\left(r_{12} \\overline{r_{12}}\\right)^{0.5}} & \\frac{1.0 r_{12} \\left(- \\sqrt{- \\left(r_{12} \\overline{r_{12}}\\right)^{0.5} + 0.5} + \\sqrt{\\left(r_{12} \\overline{r_{12}}\\right)^{0.5} + 0.5}\\right)}{r_{12} \\overline{r_{12}} \\overline{\\left(r_{12} \\overline{r_{12}}\\right)^{-0.5}} + \\left(r_{12} \\overline{r_{12}}\\right)^{0.5}}\\\\\\frac{1.0 \\left(r_{12} \\overline{r_{12}}\\right)^{0.5} \\overline{r_{12}} \\overline{\\left(r_{12} \\overline{r_{12}}\\right)^{-0.5}}}{r_{12} \\overline{r_{12}} \\overline{\\left(r_{12} \\overline{r_{12}}\\right)^{-0.5}} + \\left(r_{12} \\overline{r_{12}}\\right)^{0.5}} \\left(- \\sqrt{- \\left(r_{12} \\overline{r_{12}}\\right)^{0.5} + 0.5} + \\sqrt{\\left(r_{12} \\overline{r_{12}}\\right)^{0.5} + 0.5}\\right) & \\frac{1.0 \\left(r_{12} \\overline{r_{12}}\\right)^{0.5} \\left(\\sqrt{- \\left(r_{12} \\overline{r_{12}}\\right)^{0.5} + 0.5} + \\sqrt{\\left(r_{12} \\overline{r_{12}}\\right)^{0.5} + 0.5}\\right)}{r_{12} \\overline{r_{12}} \\overline{\\left(r_{12} \\overline{r_{12}}\\right)^{-0.5}} + \\left(r_{12} \\overline{r_{12}}\\right)^{0.5}}\\end{matrix}\\right]$$"
      ],
      "text/plain": [
       "⎡           ⎛    ______________________       ____________________⎞     ______\n",
       "⎢           ⎜   ╱            0.5             ╱          0.5       ⎟           \n",
       "⎢           ⎜  ╱    ⎛    ___⎞               ╱  ⎛    ___⎞          ⎟ ___ ⎛    _\n",
       "⎢       r₁₂⋅⎝╲╱   - ⎝r₁₂⋅r₁₂⎠    + 0.5  + ╲╱   ⎝r₁₂⋅r₁₂⎠    + 0.5 ⎠⋅r₁₂⋅⎝r₁₂⋅r\n",
       "⎢       ──────────────────────────────────────────────────────────────────────\n",
       "⎢                                  _____________                              \n",
       "⎢                                           -0.5                0.5           \n",
       "⎢                              ___ ⎛    ___⎞           ⎛    ___⎞              \n",
       "⎢                          r₁₂⋅r₁₂⋅⎝r₁₂⋅r₁₂⎠     + 1.0⋅⎝r₁₂⋅r₁₂⎠              \n",
       "⎢                                                                             \n",
       "⎢                 ⎛      ______________________       ____________________⎞   \n",
       "⎢             0.5 ⎜     ╱            0.5             ╱          0.5       ⎟   \n",
       "⎢    ⎛    ___⎞    ⎜    ╱    ⎛    ___⎞               ╱  ⎛    ___⎞          ⎟ __\n",
       "⎢1.0⋅⎝r₁₂⋅r₁₂⎠   ⋅⎝- ╲╱   - ⎝r₁₂⋅r₁₂⎠    + 0.5  + ╲╱   ⎝r₁₂⋅r₁₂⎠    + 0.5 ⎠⋅r₁\n",
       "⎢─────────────────────────────────────────────────────────────────────────────\n",
       "⎢                                    _____________                            \n",
       "⎢                                             -0.5            0.5             \n",
       "⎢                                ___ ⎛    ___⎞       ⎛    ___⎞                \n",
       "⎣                            r₁₂⋅r₁₂⋅⎝r₁₂⋅r₁₂⎠     + ⎝r₁₂⋅r₁₂⎠                \n",
       "\n",
       "_______                     ⎛      ______________________       ______________\n",
       "   -0.5                     ⎜     ╱            0.5             ╱          0.5 \n",
       "__⎞                         ⎜    ╱    ⎛    ___⎞               ╱  ⎛    ___⎞    \n",
       "₁₂⎠                 1.0⋅r₁₂⋅⎝- ╲╱   - ⎝r₁₂⋅r₁₂⎠    + 0.5  + ╲╱   ⎝r₁₂⋅r₁₂⎠    \n",
       "───────             ──────────────────────────────────────────────────────────\n",
       "                                           _____________                      \n",
       "                                                    -0.5            0.5       \n",
       "                                       ___ ⎛    ___⎞       ⎛    ___⎞          \n",
       "                                   r₁₂⋅r₁₂⋅⎝r₁₂⋅r₁₂⎠     + ⎝r₁₂⋅r₁₂⎠          \n",
       "                                                                              \n",
       "  _____________                   ⎛    ______________________       __________\n",
       "           -0.5               0.5 ⎜   ╱            0.5             ╱          \n",
       "_ ⎛    ___⎞          ⎛    ___⎞    ⎜  ╱    ⎛    ___⎞               ╱  ⎛    ___⎞\n",
       "₂⋅⎝r₁₂⋅r₁₂⎠      1.0⋅⎝r₁₂⋅r₁₂⎠   ⋅⎝╲╱   - ⎝r₁₂⋅r₁₂⎠    + 0.5  + ╲╱   ⎝r₁₂⋅r₁₂⎠\n",
       "───────────────  ─────────────────────────────────────────────────────────────\n",
       "                                           _____________                      \n",
       "                                                    -0.5            0.5       \n",
       "                                       ___ ⎛    ___⎞       ⎛    ___⎞          \n",
       "                                   r₁₂⋅r₁₂⋅⎝r₁₂⋅r₁₂⎠     + ⎝r₁₂⋅r₁₂⎠          \n",
       "\n",
       "______⎞    ⎤\n",
       "      ⎟    ⎥\n",
       "      ⎟    ⎥\n",
       "+ 0.5 ⎠    ⎥\n",
       "───────    ⎥\n",
       "           ⎥\n",
       "           ⎥\n",
       "           ⎥\n",
       "           ⎥\n",
       "           ⎥\n",
       "__________⎞⎥\n",
       "0.5       ⎟⎥\n",
       "          ⎟⎥\n",
       "    + 0.5 ⎠⎥\n",
       "───────────⎥\n",
       "           ⎥\n",
       "           ⎥\n",
       "           ⎥\n",
       "           ⎦"
      ]
     },
     "execution_count": 16,
     "metadata": {},
     "output_type": "execute_result"
    }
   ],
   "source": [
    "B = mat_sqrt(2,A)\n",
    "simplify(B)"
   ]
  },
  {
   "cell_type": "code",
   "execution_count": 17,
   "metadata": {},
   "outputs": [
    {
     "data": {
      "image/png": "[encoded data removed]",
      "text/latex": [
       "$$\\left[\\begin{matrix}\\frac{r_{12} \\overline{r_{12}} \\overline{\\left(r_{12} \\overline{r_{12}}\\right)^{-0.5}}}{\\left(r_{12} \\overline{r_{12}} \\overline{\\left(r_{12} \\overline{r_{12}}\\right)^{-0.5}} + 1.0 \\left(r_{12} \\overline{r_{12}}\\right)^{0.5}\\right)^{2}} \\left(r_{12} \\left(\\sqrt{- \\left(r_{12} \\overline{r_{12}}\\right)^{0.5} + 0.5} + \\sqrt{\\left(r_{12} \\overline{r_{12}}\\right)^{0.5} + 0.5}\\right)^{2} \\overline{r_{12}} \\overline{\\left(r_{12} \\overline{r_{12}}\\right)^{-0.5}} + 1.0 \\left(r_{12} \\overline{r_{12}}\\right)^{0.5} \\left(\\sqrt{- \\left(r_{12} \\overline{r_{12}}\\right)^{0.5} + 0.5} - \\sqrt{\\left(r_{12} \\overline{r_{12}}\\right)^{0.5} + 0.5}\\right)^{2}\\right) & \\frac{2.0 r_{12} \\left(r_{12} \\left(r_{12} \\overline{r_{12}}\\right)^{0.5} \\overline{r_{12}} \\overline{\\left(r_{12} \\overline{r_{12}}\\right)^{-0.5}} + \\left(r_{12} \\overline{r_{12}}\\right)^{1.0}\\right)}{1.0 r_{12}^{2} \\overline{r_{12}}^{2} \\overline{\\left(r_{12} \\overline{r_{12}}\\right)^{-0.5}}^{2} + 2.0 r_{12} \\left(r_{12} \\overline{r_{12}}\\right)^{0.5} \\overline{r_{12}} \\overline{\\left(r_{12} \\overline{r_{12}}\\right)^{-0.5}} + 1.0 \\left(r_{12} \\overline{r_{12}}\\right)^{1.0}}\\\\\\frac{2.0 \\left(r_{12} \\left(r_{12} \\overline{r_{12}}\\right)^{1.0} \\overline{r_{12}} \\overline{\\left(r_{12} \\overline{r_{12}}\\right)^{-0.5}} + \\left(r_{12} \\overline{r_{12}}\\right)^{1.5}\\right) \\overline{r_{12}} \\overline{\\left(r_{12} \\overline{r_{12}}\\right)^{-0.5}}}{1.0 r_{12}^{2} \\overline{r_{12}}^{2} \\overline{\\left(r_{12} \\overline{r_{12}}\\right)^{-0.5}}^{2} + 2.0 r_{12} \\left(r_{12} \\overline{r_{12}}\\right)^{0.5} \\overline{r_{12}} \\overline{\\left(r_{12} \\overline{r_{12}}\\right)^{-0.5}} + 1.0 \\left(r_{12} \\overline{r_{12}}\\right)^{1.0}} & \\frac{1.0}{\\left(r_{12} \\overline{r_{12}} \\overline{\\left(r_{12} \\overline{r_{12}}\\right)^{-0.5}} + 1.0 \\left(r_{12} \\overline{r_{12}}\\right)^{0.5}\\right)^{2}} \\left(r_{12} \\left(r_{12} \\overline{r_{12}}\\right)^{0.5} \\left(\\sqrt{- \\left(r_{12} \\overline{r_{12}}\\right)^{0.5} + 0.5} - \\sqrt{\\left(r_{12} \\overline{r_{12}}\\right)^{0.5} + 0.5}\\right)^{2} \\overline{r_{12}} \\overline{\\left(r_{12} \\overline{r_{12}}\\right)^{-0.5}} + \\left(r_{12} \\overline{r_{12}}\\right)^{1.0} \\left(\\sqrt{- \\left(r_{12} \\overline{r_{12}}\\right)^{0.5} + 0.5} + \\sqrt{\\left(r_{12} \\overline{r_{12}}\\right)^{0.5} + 0.5}\\right)^{2}\\right)\\end{matrix}\\right]$$"
      ],
      "text/plain": [
       "⎡    ⎛                                                           2            \n",
       "⎢    ⎜    ⎛    ______________________       ____________________⎞      _______\n",
       "⎢    ⎜    ⎜   ╱            0.5             ╱          0.5       ⎟             \n",
       "⎢    ⎜    ⎜  ╱    ⎛    ___⎞               ╱  ⎛    ___⎞          ⎟  ___ ⎛    __\n",
       "⎢r₁₂⋅⎝r₁₂⋅⎝╲╱   - ⎝r₁₂⋅r₁₂⎠    + 0.5  + ╲╱   ⎝r₁₂⋅r₁₂⎠    + 0.5 ⎠ ⋅r₁₂⋅⎝r₁₂⋅r₁\n",
       "⎢─────────────────────────────────────────────────────────────────────────────\n",
       "⎢                                                                             \n",
       "⎢                                                                   ⎛        _\n",
       "⎢                                                                   ⎜         \n",
       "⎢                                                                   ⎜    ___ ⎛\n",
       "⎢                                                                   ⎝r₁₂⋅r₁₂⋅⎝\n",
       "⎢                                                                             \n",
       "⎢                                                                             \n",
       "⎢                                                        ⎛                    \n",
       "⎢                                                        ⎜             1.0    \n",
       "⎢                                                        ⎜    ⎛    ___⎞    ___\n",
       "⎢                                                    2.0⋅⎝r₁₂⋅⎝r₁₂⋅r₁₂⎠   ⋅r₁₂\n",
       "⎢                                             ────────────────────────────────\n",
       "⎢                                                                        2    \n",
       "⎢                                                           _____________     \n",
       "⎢                                                         2          -0.5     \n",
       "⎢                                                    2 ___  ⎛    ___⎞         \n",
       "⎣                                             1.0⋅r₁₂ ⋅r₁₂ ⋅⎝r₁₂⋅r₁₂⎠      + 2\n",
       "\n",
       "                                                                              \n",
       "______                    ⎛    ______________________       __________________\n",
       "  -0.5                0.5 ⎜   ╱            0.5             ╱          0.5     \n",
       "_⎞           ⎛    ___⎞    ⎜  ╱    ⎛    ___⎞               ╱  ⎛    ___⎞        \n",
       "₂⎠     + 1.0⋅⎝r₁₂⋅r₁₂⎠   ⋅⎝╲╱   - ⎝r₁₂⋅r₁₂⎠    + 0.5  - ╲╱   ⎝r₁₂⋅r₁₂⎠    + 0.\n",
       "──────────────────────────────────────────────────────────────────────────────\n",
       "                                2                                             \n",
       "____________                   ⎞                                              \n",
       "        -0.5                0.5⎟                                              \n",
       "    ___⎞           ⎛    ___⎞   ⎟                                              \n",
       "r₁₂⋅r₁₂⎠     + 1.0⋅⎝r₁₂⋅r₁₂⎠   ⎠                                              \n",
       "                                                                              \n",
       "                                                                              \n",
       " _____________               ⎞     _____________                              \n",
       "          -0.5            1.5⎟              -0.5                              \n",
       " ⎛    ___⎞       ⎛    ___⎞   ⎟ ___ ⎛    ___⎞                                  \n",
       "⋅⎝r₁₂⋅r₁₂⎠     + ⎝r₁₂⋅r₁₂⎠   ⎠⋅r₁₂⋅⎝r₁₂⋅r₁₂⎠                                  \n",
       "────────────────────────────────────────────────────────                      \n",
       "                                                                              \n",
       "                        _____________                                         \n",
       "                0.5              -0.5                1.0                      \n",
       "       ⎛    ___⎞    ___ ⎛    ___⎞           ⎛    ___⎞                         \n",
       ".0⋅r₁₂⋅⎝r₁₂⋅r₁₂⎠   ⋅r₁₂⋅⎝r₁₂⋅r₁₂⎠     + 1.0⋅⎝r₁₂⋅r₁₂⎠                         \n",
       "\n",
       "   2⎞                                                                         \n",
       "__⎞ ⎟     _____________                                                       \n",
       "  ⎟ ⎟              -0.5                                                       \n",
       "  ⎟ ⎟ ___ ⎛    ___⎞                                                           \n",
       "5 ⎠ ⎠⋅r₁₂⋅⎝r₁₂⋅r₁₂⎠                                                           \n",
       "───────────────────────                                          ─────────────\n",
       "                                                                              \n",
       "                                                                              \n",
       "                                                                             2\n",
       "                                                                        2 ___ \n",
       "                                                                 1.0⋅r₁₂ ⋅r₁₂ \n",
       "                                                                              \n",
       "                             ⎛                                                \n",
       "                             ⎜                 ⎛    ______________________    \n",
       "                             ⎜             0.5 ⎜   ╱            0.5           \n",
       "                             ⎜    ⎛    ___⎞    ⎜  ╱    ⎛    ___⎞              \n",
       "                         1.0⋅⎝r₁₂⋅⎝r₁₂⋅r₁₂⎠   ⋅⎝╲╱   - ⎝r₁₂⋅r₁₂⎠    + 0.5  - ╲\n",
       "                         ─────────────────────────────────────────────────────\n",
       "                                                                              \n",
       "                                                                              \n",
       "                                                                              \n",
       "                                                                              \n",
       "                                                                              \n",
       "\n",
       "                                                                              \n",
       "         ⎛                     _____________               ⎞                  \n",
       "         ⎜             0.5              -0.5            1.0⎟                  \n",
       "         ⎜    ⎛    ___⎞    ___ ⎛    ___⎞       ⎛    ___⎞   ⎟                  \n",
       " 2.0⋅r₁₂⋅⎝r₁₂⋅⎝r₁₂⋅r₁₂⎠   ⋅r₁₂⋅⎝r₁₂⋅r₁₂⎠     + ⎝r₁₂⋅r₁₂⎠   ⎠                  \n",
       "───────────────────────────────────────────────────────────────────────────   \n",
       "              2                                                               \n",
       " _____________                             _____________                      \n",
       "          -0.5                     0.5              -0.5                1.0   \n",
       " ⎛    ___⎞                ⎛    ___⎞    ___ ⎛    ___⎞           ⎛    ___⎞      \n",
       "⋅⎝r₁₂⋅r₁₂⎠      + 2.0⋅r₁₂⋅⎝r₁₂⋅r₁₂⎠   ⋅r₁₂⋅⎝r₁₂⋅r₁₂⎠     + 1.0⋅⎝r₁₂⋅r₁₂⎠      \n",
       "                                                                              \n",
       "                        2                                                     \n",
       "   ____________________⎞      _____________                ⎛    ______________\n",
       "  ╱          0.5       ⎟               -0.5            1.0 ⎜   ╱            0.\n",
       " ╱  ⎛    ___⎞          ⎟  ___ ⎛    ___⎞       ⎛    ___⎞    ⎜  ╱    ⎛    ___⎞  \n",
       "╱   ⎝r₁₂⋅r₁₂⎠    + 0.5 ⎠ ⋅r₁₂⋅⎝r₁₂⋅r₁₂⎠     + ⎝r₁₂⋅r₁₂⎠   ⋅⎝╲╱   - ⎝r₁₂⋅r₁₂⎠  \n",
       "──────────────────────────────────────────────────────────────────────────────\n",
       "                                                    2                         \n",
       "          ⎛        _____________                   ⎞                          \n",
       "          ⎜                 -0.5                0.5⎟                          \n",
       "          ⎜    ___ ⎛    ___⎞           ⎛    ___⎞   ⎟                          \n",
       "          ⎝r₁₂⋅r₁₂⋅⎝r₁₂⋅r₁₂⎠     + 1.0⋅⎝r₁₂⋅r₁₂⎠   ⎠                          \n",
       "\n",
       "                                      ⎤\n",
       "                                      ⎥\n",
       "                                      ⎥\n",
       "                                      ⎥\n",
       "                                      ⎥\n",
       "                                      ⎥\n",
       "                                      ⎥\n",
       "                                      ⎥\n",
       "                                      ⎥\n",
       "                                      ⎥\n",
       "                                      ⎥\n",
       "                                      ⎥\n",
       "                                    2⎞⎥\n",
       "________       ____________________⎞ ⎟⎥\n",
       "5             ╱          0.5       ⎟ ⎟⎥\n",
       "             ╱  ⎛    ___⎞          ⎟ ⎟⎥\n",
       "  + 0.5  + ╲╱   ⎝r₁₂⋅r₁₂⎠    + 0.5 ⎠ ⎠⎥\n",
       "──────────────────────────────────────⎥\n",
       "                                      ⎥\n",
       "                                      ⎥\n",
       "                                      ⎥\n",
       "                                      ⎥\n",
       "                                      ⎦"
      ]
     },
     "execution_count": 17,
     "metadata": {},
     "output_type": "execute_result"
    }
   ],
   "source": [
    "simplify(B*B)"
   ]
  },
  {
   "cell_type": "code",
   "execution_count": 18,
   "metadata": {},
   "outputs": [],
   "source": [
    "def f(x,y):\n",
    "    return (1+log(sqrt(x)))/sqrt(x) - (1+log(sqrt(y)))/sqrt(y)"
   ]
  },
  {
   "cell_type": "code",
   "execution_count": 25,
   "metadata": {},
   "outputs": [],
   "source": [
    "x,y = symbols('x y')\n",
    "x = 0\n",
    "delt = 0.01\n",
    "while x < 0.99:\n",
    "    x += delt\n",
    "    y = 0\n",
    "    while y < x:\n",
    "        y += delt\n",
    "        if f(x,y) < 0:\n",
    "        #if x > y:\n",
    "            print(f(x,y))"
   ]
  },
  {
   "cell_type": "code",
   "execution_count": null,
   "metadata": {},
   "outputs": [],
   "source": []
  }
 ],
 "metadata": {
  "kernelspec": {
   "display_name": "Python 3",
   "language": "python",
   "name": "python3"
  },
  "language_info": {
   "codemirror_mode": {
    "name": "ipython",
    "version": 3
   },
   "file_extension": ".py",
   "mimetype": "text/x-python",
   "name": "python",
   "nbconvert_exporter": "python",
   "pygments_lexer": "ipython3",
   "version": "3.6.4"
  }
 },
 "nbformat": 4,
 "nbformat_minor": 2
}
