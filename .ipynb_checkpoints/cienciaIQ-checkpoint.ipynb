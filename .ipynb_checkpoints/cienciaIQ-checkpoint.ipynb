{
 "cells": [
  {
   "cell_type": "markdown",
   "metadata": {
    "slideshow": {
     "slide_type": "slide"
    }
   },
   "source": [
    "# Ciência da Informação Quântica\n",
    "\n",
    "## Jonas Maziero\n",
    "https://sites.google.com/site/jonasmaziero/\n",
    "\n",
    "jonas.maziero@ufsm.br\n",
    "\n",
    "Sala 2040 - INPE/UFSM"
   ]
  },
  {
   "cell_type": "markdown",
   "metadata": {
    "slideshow": {
     "slide_type": "subslide"
    }
   },
   "source": [
    "### Educação e Trabalho (http://lattes.cnpq.br/1270437648097538)\n",
    "* Até 2002: Ensino Infantil, Fundamental e Médio - Faxinal do Soturno/RS\n",
    "* Mar. 2002 - Dez. 2002: Técnico em Eletrotécnica - CTISM/UFSM\n",
    "* Mar. 2003 - Set. 2007: Bacharelado em Física - UFSM\n",
    "* Out. 2007- Ago. 2009: Mestrado em Física - UFABC\n",
    "* Set. 2009 - Fev. 2012: Doutorado em Física - UFABC\n",
    "* Mar. 2012 - Set. 2012: Pós Doutorado em Física - UFSM\n",
    "* Out. 2012 - Set. 2013: Professor Adjunto de Física - Unipampa\n",
    "* Ago. 2015 - Jul. 2016: Pós Doutorado em Física - Udelar/Uruguai\n",
    "* Out. 2013 - Set. 2020: Professor Adjunto de Física - UFSM\n",
    "* Out. 2020 - hoje: Professor Associado de Física - UFSM"
   ]
  },
  {
   "cell_type": "markdown",
   "metadata": {
    "slideshow": {
     "slide_type": "subslide"
    }
   },
   "source": [
    "### Prêmios e Honrarias\n",
    "* 2018 Publons Peer Review Awards\n",
    "* 2017 Outstanding Reviewer, Journal of Physics A: Math. Theor.\n",
    "* 2017 Publons Peer Review Awards\n",
    "* 2016 Publons Sentinel of Science Award\n",
    "* 2014 Outstanding Reviewing Contribution from Annals of Physics\n",
    "* Grande Prêmio CAPES para a melhor Tese de Doutorado Brasileira de 2012.\n",
    "* Prêmio CAPES de melhor tese de doutorado de 2012 em Atronomia/Física.\n",
    "* Menção honorífica no Prêmio Prof. José Leite Lopes de Melhor Tese de Doutorado de 2012 da SBF."
   ]
  },
  {
   "cell_type": "markdown",
   "metadata": {
    "slideshow": {
     "slide_type": "subslide"
    }
   },
   "source": [
    "### Material de pesquisa, de ensino, códigos, etc\n",
    "* https://arxiv.org/search/?searchtype=author&query=Maziero%2C+J\n",
    "* https://github.com/jonasmaziero"
   ]
  },
  {
   "cell_type": "markdown",
   "metadata": {
    "slideshow": {
     "slide_type": "slide"
    }
   },
   "source": [
    "# Grupo de Informação Quântica e <br> Fenômenos Emergentes\n",
    "\n",
    "https://sites.google.com/site/qiepufsm\n",
    "\n",
    "Sala 2045 - INPE/UFSM"
   ]
  },
  {
   "cell_type": "markdown",
   "metadata": {
    "slideshow": {
     "slide_type": "subslide"
    }
   },
   "source": [
    "## Temas de pesquisa\n",
    "- __Fundamentos de Mecânica Quântica__ (Complementaridade; MQ de Broglie-Bohm; Relações de incerteza; ...).\n",
    "- __Computação e Comunicação Quânticas__ (recursos quânticos: coerência, emaranhamento, ...; Experimentos no IBMQE; Internet Quântica; ...).\n",
    "- __Sistemas Quânticos Abertos__ (Formalismo; Decoerência; Embaralhamento; ...).\n",
    "- __MQ & Relatividade__ (Teoria Unificada; Efeitos da gravidade em MQ; ...).\n",
    "- __Redes neurais artificiais__ (Aspectos fundamentais; App em previsão do tempo; Implementação em CQ; ...).\n",
    "- __Fenômenos Emergentes__ (Transições de fase; Teorias de campo médio melhoradas; Método de Monte Carlo; Computação Paralela; ...)."
   ]
  },
  {
   "cell_type": "markdown",
   "metadata": {
    "slideshow": {
     "slide_type": "subslide"
    }
   },
   "source": [
    "### Pessoas\n",
    "<img src='qiep_pessoas.png' width='700'>"
   ]
  },
  {
   "cell_type": "markdown",
   "metadata": {
    "slideshow": {
     "slide_type": "slide"
    }
   },
   "source": [
    "# Mecânica Quântica"
   ]
  },
  {
   "cell_type": "code",
   "execution_count": null,
   "metadata": {},
   "outputs": [],
   "source": []
  }
 ],
 "metadata": {
  "celltoolbar": "Slideshow",
  "kernelspec": {
   "display_name": "Python 3",
   "language": "python",
   "name": "python3"
  },
  "language_info": {
   "codemirror_mode": {
    "name": "ipython",
    "version": 3
   },
   "file_extension": ".py",
   "mimetype": "text/x-python",
   "name": "python",
   "nbconvert_exporter": "python",
   "pygments_lexer": "ipython3",
   "version": "3.8.3"
  }
 },
 "nbformat": 4,
 "nbformat_minor": 4
}
