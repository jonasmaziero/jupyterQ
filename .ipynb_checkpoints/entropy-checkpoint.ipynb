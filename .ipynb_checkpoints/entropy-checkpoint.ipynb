{
 "cells": [
  {
   "cell_type": "code",
   "execution_count": 3,
   "metadata": {},
   "outputs": [],
   "source": [
    "%run init.ipynb\n",
    "%run jupyterQ.ipynb"
   ]
  },
  {
   "cell_type": "markdown",
   "metadata": {},
   "source": [
    "## Linear entropy\n",
    "\\begin{align}\n",
    "S_{l}(\\rho)&=1-Tr(\\rho^{2})=1-\\sum_{j}(\\rho\\rho)_{j,j} = 1 - \\sum_{j,k}\\rho_{j,k}\\rho_{k,j}= 1 - \\sum_{j,k}\\rho_{j,k}\\rho_{j,k}^{*} \\\\\n",
    "&= 1 - \\sum_{j,k}|\\rho_{j,k}|^{2}\n",
    "\\end{align}"
   ]
  },
  {
   "cell_type": "code",
   "execution_count": 22,
   "metadata": {},
   "outputs": [],
   "source": [
    "def linear_entropy(rho):\n",
    "    d = rho.shape[0]; Sl=0\n",
    "    for j in range(0,d):\n",
    "        for k in range(0,d):\n",
    "            Sl += abs(rho[j,k])**2\n",
    "    return 1-Sl"
   ]
  },
  {
   "cell_type": "code",
   "execution_count": 24,
   "metadata": {},
   "outputs": [],
   "source": [
    "#%run states.ipynb\n",
    "#r1,r2,r3=symbols('r_{1} r_{2} r_{3}'); simplify(linear_entropy(rho1qb(r1,r2,r3)))"
   ]
  },
  {
   "cell_type": "markdown",
   "metadata": {},
   "source": [
    "### von Neumann entropy\n",
    "\\begin{equation}\n",
    "S(\\rho) = -Tr(\\rho\\log_{2}(\\rho))\n",
    "\\end{equation}"
   ]
  },
  {
   "cell_type": "code",
   "execution_count": 14,
   "metadata": {},
   "outputs": [],
   "source": [
    "def von_neumann(rho): # for symbolics\n",
    "    d = rho.shape[0]; evals = zeros(d,1); ev = eVals(d,rho)\n",
    "    return shannon(ev)"
   ]
  },
  {
   "cell_type": "code",
   "execution_count": 16,
   "metadata": {},
   "outputs": [],
   "source": [
    "#evals = zeros(2,1); float(von_neumann(Matrix([[1/2,0],[0,1/2]])))"
   ]
  },
  {
   "cell_type": "code",
   "execution_count": null,
   "metadata": {},
   "outputs": [],
   "source": [
    "import scipy.linalg.lapack as lapak\n",
    "def von_neumann_num(rho): # for numerics\n",
    "    d = rho.shape[0]\n",
    "    b = lapak.zheevd(rho)\n",
    "    VnE = shannon(b[0])\n",
    "    return VnE"
   ]
  },
  {
   "cell_type": "markdown",
   "metadata": {},
   "source": [
    "### Shannon entropy\n",
    "For a probability vector $\\vec{p}=[p_{1},\\cdots,p_{d}]^{T}$,\n",
    "\\begin{equation}\n",
    "H(\\vec{p}) = -\\sum_{j=1}^{d}p_{j}\\log_{2}(p_{j})\n",
    "\\end{equation}"
   ]
  },
  {
   "cell_type": "code",
   "execution_count": 20,
   "metadata": {},
   "outputs": [],
   "source": [
    "def shannon(pv): # for symbolics\n",
    "    d = pv.shape[0]; H = 0\n",
    "    for j in range(0,d):\n",
    "        #if pv[j] > 10**-15 and pv[j] < (1-10**-15):\n",
    "        H -= pv[j]*log(pv[j],2)\n",
    "    return H"
   ]
  },
  {
   "cell_type": "code",
   "execution_count": 31,
   "metadata": {},
   "outputs": [],
   "source": [
    "#a,b=symbols('a b'); shannon(Matrix([[a],[b]]))"
   ]
  },
  {
   "cell_type": "code",
   "execution_count": 34,
   "metadata": {},
   "outputs": [],
   "source": [
    "def shannon_num(pv): # for numerics\n",
    "    d = pv.shape[0]; SE = 0.0; j = -1\n",
    "    while (j < d-1):\n",
    "        j = j + 1\n",
    "        if pv[j] > 10**-15 and pv[j] < (1.0-10**-15):\n",
    "            SE -= pv[j]*math.log(pv[j], 2)\n",
    "    return SE"
   ]
  },
  {
   "cell_type": "code",
   "execution_count": 33,
   "metadata": {},
   "outputs": [
    {
     "data": {
      "image/png": "[encoded data removed]",
      "text/latex": [
       "$$0.9182958340544896$$"
      ],
      "text/plain": [
       "0.9182958340544896"
      ]
     },
     "execution_count": 33,
     "metadata": {},
     "output_type": "execute_result"
    }
   ],
   "source": [
    "float(shannon_num(np.array([1/3,2/3])))"
   ]
  },
  {
   "cell_type": "markdown",
   "metadata": {},
   "source": [
    "### Rényie entropy"
   ]
  },
  {
   "cell_type": "markdown",
   "metadata": {},
   "source": [
    "### Tsállis entropy"
   ]
  },
  {
   "cell_type": "code",
   "execution_count": null,
   "metadata": {},
   "outputs": [],
   "source": []
  }
 ],
 "metadata": {
  "kernelspec": {
   "display_name": "Python 3",
   "language": "python",
   "name": "python3"
  },
  "language_info": {
   "codemirror_mode": {
    "name": "ipython",
    "version": 3
   },
   "file_extension": ".py",
   "mimetype": "text/x-python",
   "name": "python",
   "nbconvert_exporter": "python",
   "pygments_lexer": "ipython3",
   "version": "3.6.4"
  }
 },
 "nbformat": 4,
 "nbformat_minor": 2
}
