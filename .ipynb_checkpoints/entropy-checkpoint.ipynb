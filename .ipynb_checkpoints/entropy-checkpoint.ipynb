{
 "cells": [
  {
   "cell_type": "code",
   "execution_count": 13,
   "metadata": {},
   "outputs": [],
   "source": [
    "%run init.ipynb\n",
    "%run jupyterQ.ipynb"
   ]
  },
  {
   "cell_type": "markdown",
   "metadata": {},
   "source": [
    "## Linear entropy\n",
    "\\begin{equation}\n",
    "S_{L}(\\rho)=1-Tr(\\rho^{2})\n",
    "\\end{equation}"
   ]
  },
  {
   "cell_type": "code",
   "execution_count": 25,
   "metadata": {},
   "outputs": [],
   "source": [
    "def linear_entropy(d,rho):\n",
    "    return 1-tr(rho*rho)"
   ]
  },
  {
   "cell_type": "code",
   "execution_count": 27,
   "metadata": {},
   "outputs": [],
   "source": [
    "#%run states.ipynb\n",
    "#r1,r2,r3=symbols('r_{1} r_{2} r_{3}'); simplify(linear_entropy(2,rho1qb(r1,r2,r3)))"
   ]
  },
  {
   "cell_type": "markdown",
   "metadata": {},
   "source": [
    "### von Neumann entropy\n",
    "\\begin{equation}\n",
    "S(\\rho) = -Tr(\\rho\\log_{2}(\\rho))\n",
    "\\end{equation}"
   ]
  },
  {
   "cell_type": "code",
   "execution_count": 21,
   "metadata": {},
   "outputs": [],
   "source": [
    "def von_neumann(d,rho):\n",
    "    evals = zeros(d,1)\n",
    "    ev = eVals(d,rho)\n",
    "    return shannon(d,ev)"
   ]
  },
  {
   "cell_type": "code",
   "execution_count": 22,
   "metadata": {},
   "outputs": [
    {
     "data": {
      "image/png": "[encoded data removed]",
      "text/latex": [
       "$$1.0$$"
      ],
      "text/plain": [
       "1.0"
      ]
     },
     "execution_count": 22,
     "metadata": {},
     "output_type": "execute_result"
    }
   ],
   "source": [
    "#evals = zeros(2,1); float(von_neumann(2,Matrix([[1/2,0],[0,1/2]])))"
   ]
  },
  {
   "cell_type": "markdown",
   "metadata": {},
   "source": [
    "### Shannon entropy\n",
    "For a probability vector $\\vec{p}=[p_{1},\\cdots,p_{d}]^{T}$,\n",
    "\\begin{equation}\n",
    "H(\\vec{p}) = -\\sum_{j=1}^{d}p_{j}\\log_{2}(p_{j})\n",
    "\\end{equation}"
   ]
  },
  {
   "cell_type": "code",
   "execution_count": 23,
   "metadata": {},
   "outputs": [],
   "source": [
    "def shannon(d, pv):\n",
    "    H = 0\n",
    "    for j in range(0,d):\n",
    "        if pv[j] > 10**-15 and pv[j] < (1-10**-15):\n",
    "            H -= pv[j]*log(pv[j],2)\n",
    "    return H"
   ]
  },
  {
   "cell_type": "code",
   "execution_count": 24,
   "metadata": {},
   "outputs": [
    {
     "data": {
      "image/png": "[encoded data removed]",
      "text/latex": [
       "$$1.0$$"
      ],
      "text/plain": [
       "1.0"
      ]
     },
     "execution_count": 24,
     "metadata": {},
     "output_type": "execute_result"
    }
   ],
   "source": [
    "#float(shannon(2,Matrix([[1/2],[1/2]])))"
   ]
  },
  {
   "cell_type": "markdown",
   "metadata": {},
   "source": [
    "### Rényie entropy"
   ]
  },
  {
   "cell_type": "markdown",
   "metadata": {},
   "source": [
    "### Tsállis entropy"
   ]
  },
  {
   "cell_type": "code",
   "execution_count": null,
   "metadata": {},
   "outputs": [],
   "source": []
  }
 ],
 "metadata": {
  "kernelspec": {
   "display_name": "Python 3",
   "language": "python",
   "name": "python3"
  },
  "language_info": {
   "codemirror_mode": {
    "name": "ipython",
    "version": 3
   },
   "file_extension": ".py",
   "mimetype": "text/x-python",
   "name": "python",
   "nbconvert_exporter": "python",
   "pygments_lexer": "ipython3",
   "version": "3.6.4"
  }
 },
 "nbformat": 4,
 "nbformat_minor": 2
}
