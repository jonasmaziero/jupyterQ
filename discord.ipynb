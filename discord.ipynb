{
 "cells": [
  {
   "cell_type": "code",
   "execution_count": 32,
   "metadata": {},
   "outputs": [],
   "source": [
    "import platform\n",
    "if platform.system() == 'Linux':\n",
    "    %run '/home/jonasmaziero/Dropbox/GitHub/jupyterQ/jupyterQ.ipynb'\n",
    "    %run '/home/jonasmaziero/Dropbox/GitHub/jupyterQ/gellmann.ipynb'\n",
    "    %run '/home/jonasmaziero/Dropbox/GitHub/jupyterQ/ptr.ipynb'\n",
    "    %run '/home/jonasmaziero/Dropbox/GitHub/jupyterQ/states.ipynb'\n",
    "else:\n",
    "    %run '/Users/jonasmaziero/Dropbox/GitHub/jupyterQ/jupyterQ.ipynb'\n",
    "    %run '/Users/jonasmaziero/Dropbox/GitHub/jupyterQ/gellmann.ipynb'\n",
    "    %run '/Users/jonasmaziero/Dropbox/GitHub/jupyterQ/ptr.ipynb'\n",
    "    %run '/Users/jonasmaziero/Dropbox/GitHub/jupyterQ/states.ipynb'"
   ]
  },
  {
   "cell_type": "markdown",
   "metadata": {},
   "source": [
    "### Hellinger discord\n",
    "For a qubit-qudit system with ($d_{a}=2$), for $Tr(\\gamma_{j}\\gamma_{k})=d\\delta_{j,k}$, and for\n",
    "\\begin{equation}\n",
    "\\sqrt{\\rho} = \\frac{1}{\\sqrt{d_{a}d_{b}}}\\left(t_{0}\\mathbb{I}_{a}\\otimes\\mathbb{I}_{b}+\\vec{x}\\cdot\\vec{\\sigma}\\otimes\\mathbb{I}_{b}+\\mathbb{I}_{a}\\otimes\\vec{y}\\cdot\\vec{\\gamma}+\\sum_{j=1}^{d_{a}^{2}-1}\\sum_{k=1}^{d_{b}^{2}-1}T_{j,k}\\sigma_{j}\\otimes\\Gamma_{k}\\right)\n",
    "\\end{equation}\n",
    "we have\n",
    "\\begin{equation}\n",
    "D_{he}(\\rho)=2-2\\sqrt{t_{0}^{2}+||\\vec{y}||^{2}+k_{\\max}},\n",
    "\\end{equation}\n",
    "with $k_{\\max}$ being the largest eigenvalue of $K=\\vec{x}\\vec{x}^{T}+TT^{T}$. To get $D_{he}(\\rho)\\in[0,1]$ we divide the expression above by its maximum value $2-2\\sqrt{d_{a}}$."
   ]
  },
  {
   "cell_type": "code",
   "execution_count": 48,
   "metadata": {},
   "outputs": [],
   "source": [
    "def hellinger(da,db,rho): # arXiv:1510.06995\n",
    "    M = mat_sqrt(da*db,rho)\n",
    "    A = ptraceB(da,db,M)\n",
    "    bva = bloch_vector(da,A)/sqrt(2*db)\n",
    "    B = ptraceA(da,db,M)\n",
    "    bvb = bloch_vector(db,B)/2\n",
    "    cm = corr_mat(da,db,M)/2\n",
    "    ev = eVals(da**2-1, bva*bva.T+cm*cm.T)\n",
    "    return (1-sqrt((trace(da,A)/sqrt(2*db))**2+(bvb.norm())**2+max(ev)))/(1-1/sqrt(da)) # normalized to [0,1]"
   ]
  },
  {
   "cell_type": "code",
   "execution_count": 50,
   "metadata": {},
   "outputs": [],
   "source": [
    "#hellinger(2,2,werner(1))"
   ]
  },
  {
   "cell_type": "markdown",
   "metadata": {},
   "source": [
    "### Mutual information\n",
    "Is a quatifier for the total correlations in a quantum states defined as:\n",
    "\\begin{equation}\n",
    "I(\\rho_{ab}) = S(\\rho_{a}) + S(\\rho_{b}) - S(\\rho_{ab}).\n",
    "\\end{equation}"
   ]
  },
  {
   "cell_type": "code",
   "execution_count": 64,
   "metadata": {},
   "outputs": [],
   "source": [
    "def mutual_info(da,db,rho):\n",
    "    rhoa = ptraceB(da, db, rho)\n",
    "    Sa = von_neumann(da,rhoa)\n",
    "    rhob = ptraceA(da, db, rho)\n",
    "    Sb = von_neumann(db,rhob)\n",
    "    S = von_neumann(da*db,rho) \n",
    "    return Sa+Sb-S"
   ]
  },
  {
   "cell_type": "markdown",
   "metadata": {},
   "source": [
    "### von Neumann entropy\n",
    "\\begin{equation}\n",
    "S(\\rho) = -Tr(\\rho\\log_{2}(\\rho))\n",
    "\\end{equation}"
   ]
  },
  {
   "cell_type": "code",
   "execution_count": 65,
   "metadata": {},
   "outputs": [],
   "source": [
    "def von_neumann(d,rho):\n",
    "    evals = zeros(d,1)\n",
    "    ev = eVals(d,rho)\n",
    "    return shannon(d,ev)"
   ]
  },
  {
   "cell_type": "markdown",
   "metadata": {},
   "source": [
    "### Shannon entropy\n",
    "For a probability vector $\\vec{p}=[p_{1},\\cdots,p_{d}]^{T}$,\n",
    "\\begin{equation}\n",
    "H(\\vec{p}) = -\\sum_{j=1}^{d}p_{j}\\log_{2}(p_{j})\n",
    "\\end{equation}"
   ]
  },
  {
   "cell_type": "code",
   "execution_count": 66,
   "metadata": {},
   "outputs": [],
   "source": [
    "def shannon(d, pv):\n",
    "    H = 0\n",
    "    for j in range(0,d):\n",
    "        if pv[j] > 1.e-15 and pv[j] < (1.0-1.e-15):\n",
    "            H -= pv[j]*log(pv[j],2)\n",
    "    return H"
   ]
  },
  {
   "cell_type": "code",
   "execution_count": 28,
   "metadata": {},
   "outputs": [],
   "source": [
    "#float(shannon(2,Matrix([[1/2],[1/2]])))\n",
    "#evals = zeros(2,1)\n",
    "#float(von_neumann(2,Matrix([[1/2,0],[0,1/2]])))"
   ]
  },
  {
   "cell_type": "code",
   "execution_count": null,
   "metadata": {},
   "outputs": [],
   "source": []
  }
 ],
 "metadata": {
  "kernelspec": {
   "display_name": "Python 3",
   "language": "python",
   "name": "python3"
  },
  "language_info": {
   "codemirror_mode": {
    "name": "ipython",
    "version": 3
   },
   "file_extension": ".py",
   "mimetype": "text/x-python",
   "name": "python",
   "nbconvert_exporter": "python",
   "pygments_lexer": "ipython3",
   "version": "3.6.4"
  }
 },
 "nbformat": 4,
 "nbformat_minor": 2
}
