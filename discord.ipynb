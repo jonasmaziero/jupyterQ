{
 "cells": [
  {
   "cell_type": "code",
   "execution_count": 15,
   "metadata": {},
   "outputs": [],
   "source": [
    "import platform\n",
    "if platform.system() == 'Linux':\n",
    "    %run '/home/jonasmaziero/Dropbox/GitHub/jupyterQ/jupyterQ.ipynb'\n",
    "    %run '/home/jonasmaziero/Dropbox/GitHub/jupyterQ/gellmann.ipynb'\n",
    "    %run '/home/jonasmaziero/Dropbox/GitHub/jupyterQ/ptr.ipynb'\n",
    "else:\n",
    "    %run '/Users/jonasmaziero/Dropbox/GitHub/jupyterQ/jupyterQ.ipynb'\n",
    "    %run '/Users/jonasmaziero/Dropbox/GitHub/jupyterQ/gellmann.ipynb'\n",
    "    %run '/Users/jonasmaziero/Dropbox/GitHub/jupyterQ/ptr.ipynb'"
   ]
  },
  {
   "cell_type": "code",
   "execution_count": 16,
   "metadata": {},
   "outputs": [],
   "source": [
    "def init_evals(d):\n",
    "    evals = zeros(d,1)\n",
    "    return"
   ]
  },
  {
   "cell_type": "code",
   "execution_count": 17,
   "metadata": {},
   "outputs": [],
   "source": [
    "def init_red(da,db):\n",
    "    rhoB = zeros(db,db)\n",
    "    rhoA = zeros(da,da)\n",
    "    return"
   ]
  },
  {
   "cell_type": "code",
   "execution_count": 18,
   "metadata": {},
   "outputs": [],
   "source": [
    "def hellinger(da,db,rho):\n",
    "    #init_red(da,db)\n",
    "    init_evals(da**2-1)\n",
    "    d = da*db\n",
    "    M = mat_sqrt(d,rho)\n",
    "    #A = zeros(2,2)\n",
    "    A = ptraceB(da,db,M)\n",
    "    bva = bloch_vector(da,A)/(sqrt(2*db))\n",
    "    #B = zeros(2,2)\n",
    "    B = ptraceA(da,db,M)\n",
    "    bvb = bloch_vector(db,B)/2\n",
    "    #cm = zeros(3,3)\n",
    "    cm = corr_mat(da,db,M)/(sqrt(2*db))\n",
    "    evals = zeros(da**2-1,1)\n",
    "    evals = eVals(da**2-1, bva*bva.T+cm*cm.T)\n",
    "    return 2*(1-sqrt((trace(da,A))**2+(bvb.norm())**2+max(evals)))"
   ]
  }
 ],
 "metadata": {
  "kernelspec": {
   "display_name": "Python 3",
   "language": "python",
   "name": "python3"
  },
  "language_info": {
   "codemirror_mode": {
    "name": "ipython",
    "version": 3
   },
   "file_extension": ".py",
   "mimetype": "text/x-python",
   "name": "python",
   "nbconvert_exporter": "python",
   "pygments_lexer": "ipython3",
   "version": "3.6.4"
  }
 },
 "nbformat": 4,
 "nbformat_minor": 2
}
